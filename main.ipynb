{
 "cells": [
  {
   "cell_type": "code",
   "execution_count": 1,
   "id": "215ced00",
   "metadata": {},
   "outputs": [],
   "source": [
    "# from community import community_louvain\n",
    "import gc\n",
    "import logging\n",
    "import os\n",
    "import matplotlib.pyplot as plt\n",
    "import networkx as nx\n",
    "import networkx.algorithms.community as nx_comm\n",
    "import numpy as np\n",
    "import random\n",
    "from scipy.optimize import differential_evolution, basinhopping\n",
    "import tensorflow as tf\n",
    "import tensorflow_constrained_optimization as tfco\n",
    "# from tensorflow import keras\n",
    "# from tensorflow.keras import layers\n",
    "import tensorflow_probability as tfp\n",
    "import warnings\n",
    "logger = tf.get_logger()\n",
    "\n",
    "os.environ['KMP_DUPLICATE_LIB_OK']='True'"
   ]
  },
  {
   "cell_type": "code",
   "execution_count": 2,
   "id": "6f0e26e3",
   "metadata": {},
   "outputs": [],
   "source": [
    "logging.basicConfig(encoding='utf-8', level=logging.INFO,\n",
    "                    force = True)"
   ]
  },
  {
   "cell_type": "code",
   "execution_count": 3,
   "id": "6aca6114",
   "metadata": {},
   "outputs": [],
   "source": [
    "seed = 0\n",
    "np.random.seed(seed)\n",
    "tf.random.set_seed(seed)"
   ]
  },
  {
   "cell_type": "code",
   "execution_count": 4,
   "id": "0a1a1bed",
   "metadata": {},
   "outputs": [],
   "source": [
    "class DnnResult():\n",
    "    def __init__(self, theta, stuck):\n",
    "        self.theta = theta\n",
    "        self.stuck = stuck"
   ]
  },
  {
   "cell_type": "code",
   "execution_count": 5,
   "id": "2b5b94a4",
   "metadata": {},
   "outputs": [],
   "source": [
    "class ValidationResult():\n",
    "    def __init__(self, valid, can_add_nodes, contains_extra_nodes):\n",
    "        self.valid = valid\n",
    "        self.can_add_nodes = can_add_nodes\n",
    "        self.contains_extra_nodes = contains_extra_nodes        "
   ]
  },
  {
   "cell_type": "code",
   "execution_count": 6,
   "id": "7fdba4d2",
   "metadata": {},
   "outputs": [],
   "source": [
    "def graph1_adjacency_matrix():\n",
    "    return np.array([\n",
    "        [0, 1, 1, 0, 0, 0, 1, 0, ],\n",
    "        [1, 0, 0, 1, 0, 0, 0, 1, ],\n",
    "        [1, 0, 0, 1, 1, 0, 0, 0, ],\n",
    "        [0, 1, 1, 0, 0, 1, 0, 0, ],\n",
    "        [0, 0, 1, 0, 0, 1, 1, 0, ],\n",
    "        [0, 0, 0, 1, 1, 0, 0, 1, ],\n",
    "        [1, 0, 0, 0, 1, 0, 0, 1, ],\n",
    "        [0, 1, 0, 0, 0, 1, 1, 0, ],\n",
    "    ])\n"
   ]
  },
  {
   "cell_type": "code",
   "execution_count": 7,
   "id": "fcfb1f4c",
   "metadata": {},
   "outputs": [],
   "source": [
    "def build_test_graph1():\n",
    "    adj_mat = graph1_adjacency_matrix()\n",
    "    N = len(adj_mat)\n",
    "\n",
    "    G = nx.Graph()\n",
    "    for i in range(N):\n",
    "        G.add_node(i)\n",
    "\n",
    "    for i in range(N):\n",
    "        for j in range(N):\n",
    "            if adj_mat[i][j] == 1:\n",
    "                G.add_edge(i, j)\n",
    "                G.add_edge(j, i)\n",
    "    return G"
   ]
  },
  {
   "cell_type": "code",
   "execution_count": 8,
   "id": "ccf5b387",
   "metadata": {},
   "outputs": [],
   "source": [
    "def clip(l,r,x):\n",
    "    return max(l,min(r,x))\n",
    "\n",
    "def calc_W(G, C):\n",
    "    n = len(G.nodes())\n",
    "    m = len(G.edges())\n",
    "    m_c = len(C.edges())\n",
    "    W = np.zeros((n,n+m+m_c),dtype= 'float32')\n",
    "    for i in range(n):\n",
    "        W[i][i] = 1\n",
    "    j = n\n",
    "    for edge in G.edges():\n",
    "        x = int(edge[0])\n",
    "        y = int(edge[1])\n",
    "        W[x][j] = 1\n",
    "        W[y][j] = 1\n",
    "        j+=1\n",
    "    for edge in C.edges():\n",
    "        x = int(edge[0])\n",
    "        y = int(edge[1])\n",
    "        W[x][j] = 1\n",
    "        W[y][j] = 1\n",
    "        j+=1\n",
    "    return W\n",
    "\n",
    "def calc_b(G, C):\n",
    "    n = len(G.nodes())\n",
    "    m = len(G.edges())\n",
    "    m_c = len(C.edges())\n",
    "    b = np.array([-1/2 for i in range(n)])\n",
    "    b_m = np.array([-1 for i in range(m+m_c)])\n",
    "    return np.concatenate((b,b_m))\n",
    "\n",
    "def calc_w(G, C):\n",
    "    n = len(G.nodes())\n",
    "    m = len(G.edges())\n",
    "    m_c = len(C.edges())\n",
    "    w = np.array([-1 for i in range(n)])\n",
    "    w_n = np.array([n for i in range(m)])\n",
    "    w_c = np.array([-1 for i in range(m_c)])\n",
    "    return np.concatenate((w,w_n,w_c))\n",
    "\n",
    "def build_theta(G):\n",
    "    n = len(G.nodes())\n",
    "    max_degree = max([G.degree(i) for i in range(n)])\n",
    "#     logging.debug(\"Max degree = {}\".format(max_degree))\n",
    "    if max_degree == 0:\n",
    "        return np.array([1 for i in range(n)])\n",
    "    return np.array([clip(0,1,1 - G.degree(i)/max_degree + random.random()/10) for i in range(n)])\n",
    "#     return np.array([random.random() for i in range(n)])\n",
    "\n",
    "def build_network(G):\n",
    "    logging.debug(\"Build network on graph G:{}.\".format(str(G)))\n",
    "    C = nx.complement(G)\n",
    "    W = calc_W(G, C)\n",
    "    b = calc_b(G, C)\n",
    "    w = calc_w(G, C)\n",
    "    theta = build_theta(G)\n",
    "#     logging.debug(\"Initial theta = {}\".format(theta))\n",
    "    return (W,b,w, theta, C)\n"
   ]
  },
  {
   "cell_type": "code",
   "execution_count": 9,
   "id": "e8bc84e6",
   "metadata": {},
   "outputs": [],
   "source": [
    "def get_result_nodes(theta, alpha = 0.5):\n",
    "    return set(np.argwhere(theta > alpha).reshape(-1))\n",
    "\n",
    "def not_connected_nodes_exist_in_G(G, result_nodes):\n",
    "    for v in G.nodes():\n",
    "        if v not in result_nodes:\n",
    "            node_not_connected_to_G = True\n",
    "            for edge in G.neighbors(v):\n",
    "                if edge in result_nodes:\n",
    "                    node_not_connected_to_G = False\n",
    "                    break\n",
    "            if node_not_connected_to_G:\n",
    "                return True\n",
    "    return False\n",
    "            \n",
    "def graph_has_no_edges(G, result_nodes):\n",
    "    for v in result_nodes:\n",
    "        for edge in G.neighbors(v):\n",
    "            if edge in result_nodes:\n",
    "                return False\n",
    "    return True\n",
    "\n",
    "def mis_is_valid(G, mis):\n",
    "    has_extra_nodes = not graph_has_no_edges(G, mis)\n",
    "    not_connected_nodes_exist = not_connected_nodes_exist_in_G(G, mis)\n",
    "    return ValidationResult(not has_extra_nodes and not not_connected_nodes_exist,\n",
    "                            not_connected_nodes_exist, has_extra_nodes)\n",
    "               \n",
    "def result_is_valid(G, theta):\n",
    "    result_nodes = get_result_nodes(theta)\n",
    "    return mis_is_valid(G, result_nodes).valid\n",
    "\n",
    "def network(theta,e_n,W_t,b,w_t):\n",
    "    h = tf.math.multiply(e_n,theta)\n",
    "    h = tf.linalg.matvec(W_t,h)\n",
    "    h = tf.add(h,b)\n",
    "    h = tf.nn.relu(h)\n",
    "    h = tf.tensordot(w_t,h, 1)\n",
    "    return h\n",
    "    \n",
    "def network_evol(theta,e_n,W_t,b,w_t):\n",
    "    return network(theta,e_n,W_t,b,w_t).numpy()\n",
    "\n",
    "def loss(theta,e_n,W_t,b,w_t,h_d):\n",
    "#     with tf.GradientTape() as tape:\n",
    "    h1 = tf.math.multiply(e_n,theta)\n",
    "    h2 = tf.linalg.matvec(W_t,h1)\n",
    "    h3 = tf.add(h2,b)\n",
    "    h4 = tf.nn.relu(h3)\n",
    "    h5 = tf.tensordot(w_t,h4, 1)\n",
    "    diff = (h5-h_d)**2   \n",
    "#     logging.debug(\"Gradient = {}\".format(tape.gradient(diff, theta)))\n",
    "#     logging.debug(\"Loss = {}\".format(diff))\n",
    "    return diff\n",
    "\n",
    "def loss_evol(theta,e_n,W_t,b,w_t,h_d):\n",
    "    h = network_evol(theta,e_n,W_t,b,w_t)\n",
    "    return (h-h_d)**2  \n",
    "\n",
    "def evolutionary_train(n,theta,e_n,W_t,b,w_t,h_d):\n",
    "    bounds = [(0,1) for i in range(n)]\n",
    "    theta = differential_evolution(loss_evol, bounds, x0 = theta, args = (e_n,W_t,b,w_t,h_d))\n",
    "    theta = theta.x\n",
    "    return DnnResult(theta, False)\n",
    "\n",
    "def vectors_are_close(a,b):\n",
    "    norm_diff = np.linalg.norm(a-b)\n",
    "    return norm_diff < 1e-6 \n",
    "\n",
    "class MinimizationProblem(tfco.ConstrainedMinimizationProblem):\n",
    "    def __init__(self, loss_fn, weights):\n",
    "        self._loss_fn = loss_fn\n",
    "        self._weights = weights\n",
    "    \n",
    "    @property\n",
    "    def num_constraints(self):\n",
    "        return len(self._weights.numpy()) * 2\n",
    "   \n",
    "    def objective(self):\n",
    "        return self._loss_fn()\n",
    "   \n",
    "    def constraints(self):\n",
    "        theta = self._weights\n",
    "        lt_or_eq_one = theta - 1\n",
    "        gt_or_eq_zero = -theta\n",
    "        constraints = tf.stack([lt_or_eq_one, gt_or_eq_zero])\n",
    "        return constraints\n",
    "\n",
    "def gradient_train(G, max_epochs, theta,e_n,W_t,b,w_t,h_d):\n",
    "    epoch = 0\n",
    "\n",
    "    def local_loss():\n",
    "        return loss(theta,e_n,W_t,b,w_t,h_d)\n",
    "    \n",
    "    problem = MinimizationProblem(local_loss, theta)\n",
    "    \n",
    "    optimizer=tf.optimizers.Adam(learning_rate=0.1,)\n",
    "    var_list = theta\n",
    "    \n",
    "#     optimizer = tfco.ProxyLagrangianOptimizerV2(\n",
    "#       optimizer=tf.optimizers.Adam(learning_rate=0.1,),\n",
    "# #       constraint_optimizer=tf.optimizers.Adam(learning_rate=0.1,),\n",
    "#       num_constraints=problem.num_constraints)\n",
    "    \n",
    "#     var_list = ([theta] + list(problem.trainable_variables) + optimizer.trainable_variables())\n",
    "    \n",
    "    solver_stuck = False\n",
    "    previous_theta = np.copy(theta.numpy())\n",
    "#     logging.debug(\"theta = {}\".format(theta))\n",
    "    while not result_is_valid(G, theta) and epoch < max_epochs and not solver_stuck:\n",
    "#     while not result_is_valid(G, theta):\n",
    "#         logging.debug(\"Epoch = {}\".format(epoch))\n",
    "#         optimizer.minimize(problem, var_list=var_list)\n",
    "        optimizer.minimize(local_loss, var_list=var_list)\n",
    "#         logging.debug(\"theta = {}\".format(theta))\n",
    "        previous_error = local_loss()\n",
    "    #         logging.debug(\"Loss = {}\".format(previous_error))\n",
    "        epoch+=1\n",
    "        if (previous_theta == theta.numpy()).all():\n",
    "            logging.debug(\"Solver stuck\")\n",
    "            solver_stuck = True\n",
    "#         if vectors_are_close(previous_theta,theta.numpy()):\n",
    "#             logging.debug(\"Solver approaches plateu.\")\n",
    "#             break\n",
    "        previous_theta = np.copy(theta.numpy())\n",
    "    if result_is_valid(G, theta):\n",
    "        logging.debug(\"Optimal solution found. Cardinality = {}\".format(len(get_result_nodes(theta))))\n",
    "        logging.debug(\"dNN solution is correct\")\n",
    "    else:\n",
    "        logging.debug(\"dNN solution is not correct\")\n",
    "        if not_connected_nodes_exist_in_G(G, get_result_nodes(theta)):\n",
    "            logging.debug(\"Can add more nodes to IS\")\n",
    "        else:\n",
    "            logging.debug(\"There are extra nodes in IS\")\n",
    "    if epoch == max_epochs:\n",
    "        logging.debug(\"Epochs exceeded maximum\")\n",
    "    logging.debug(\"Total epochs = {}\".format(epoch))\n",
    "    logging.debug(\"dNN solution lenghth = {}\".format(len(get_result_nodes(theta))))\n",
    "    return DnnResult(theta.numpy(), solver_stuck or epoch == max_epochs)\n",
    "\n",
    "def train_network(G, max_epochs, method=\"gradient\"):\n",
    "    (W,b,w, theta, C) = build_network(G)\n",
    "    n = len(G.nodes())\n",
    "    W_t = tf.constant(W.T, dtype = 'float32')\n",
    "    b = tf.constant(b, dtype = 'float32')\n",
    "    w_t = tf.constant(w.T, dtype = 'float32')\n",
    "    theta = tf.Variable(theta,\n",
    "                        trainable=True,\n",
    "                        constraint = lambda x: tf.clip_by_value(theta,0,1),\n",
    "                        dtype = 'float32')\n",
    "    e_n = tf.constant(np.ones((n)),dtype = 'float32')\n",
    "    h_d = tf.constant(-n*n/2,dtype = 'float32') \n",
    "\n",
    "    if method == \"evolutionary\":\n",
    "        result = evolutionary_train(n,theta, e_n,W_t,b,w_t,h_d)\n",
    "    elif method == \"gradient\":\n",
    "        result = gradient_train(G, max_epochs,theta, e_n,W_t,b,w_t,h_d)\n",
    "    elif method == \"mixed\":\n",
    "        result = gradient_train(G, max_epochs,theta, e_n,W_t,b,w_t,h_d)\n",
    "        if not result_is_valid(G, result.theta):\n",
    "            logging.debug(\"Gradient method did not find solution. Trying evolutionary method...\")\n",
    "            theta = tf.Variable(build_theta(G),\n",
    "                        trainable=True,\n",
    "                        dtype = 'float32')\n",
    "            result = evolutionary_train(n,theta, e_n,W_t,b,w_t,h_d)\n",
    "    return result"
   ]
  },
  {
   "cell_type": "code",
   "execution_count": 10,
   "id": "e513419f",
   "metadata": {},
   "outputs": [],
   "source": [
    "def graphSets(graph): # Determinative algorithm to use correctness of the solution. Works too long for graphs >= 30 nodes.\n",
    "    # Base Case - Given Graph \n",
    "    # has no nodes\n",
    "    if(len(graph) == 0):\n",
    "        return []\n",
    "     \n",
    "    # Base Case - Given Graph\n",
    "    # has 1 node\n",
    "    if(len(graph) == 1):\n",
    "        return [list(graph.keys())[0]]\n",
    "      \n",
    "    # Select a vertex from the graph\n",
    "    vCurrent = list(graph.keys())[0]\n",
    "      \n",
    "    # Case 1 - Proceed removing\n",
    "    # the selected vertex\n",
    "    # from the Maximal Set\n",
    "    graph2 = dict(graph)\n",
    "      \n",
    "    # Delete current vertex \n",
    "    # from the Graph\n",
    "    del graph2[vCurrent]\n",
    "      \n",
    "    # Recursive call - Gets \n",
    "    # Maximal Set,\n",
    "    # assuming current Vertex \n",
    "    # not selected\n",
    "    res1 = graphSets(graph2)\n",
    "      \n",
    "    # Case 2 - Proceed considering\n",
    "    # the selected vertex as part\n",
    "    # of the Maximal Set\n",
    "  \n",
    "    # Loop through its neighbours\n",
    "    for v in graph[vCurrent]:\n",
    "          \n",
    "        # Delete neighbor from \n",
    "        # the current subgraph\n",
    "        if(v in graph2):\n",
    "            del graph2[v]\n",
    "      \n",
    "    # This result set contains VFirst,\n",
    "    # and the result of recursive\n",
    "    # call assuming neighbors of vFirst\n",
    "    # are not selected\n",
    "    res2 = [vCurrent] + graphSets(graph2)\n",
    "      \n",
    "    # Our final result is the one \n",
    "    # which is bigger, return it\n",
    "    if(len(res1) > len(res2)):\n",
    "        return res1\n",
    "    return res2\n",
    "\n",
    "def calculate_recursive_broot_force_result(G, draw_graph = True):\n",
    "    dict_G = nx.to_dict_of_lists(G)\n",
    "    print(\"Recursive approach\")\n",
    "    MIS = graphSets(dict_G)\n",
    "    print(MIS)\n",
    "    print(\"Length = \"+str(len(MIS)))\n",
    "    if draw_graph:\n",
    "        color_map = ['red' if node in MIS else 'blue' for node in G]\n",
    "        graph = nx.draw(G, node_color=color_map) # node lables\n",
    "        plt.show()"
   ]
  },
  {
   "cell_type": "code",
   "execution_count": 11,
   "id": "a6d126b6",
   "metadata": {},
   "outputs": [],
   "source": [
    "def calculate_determenistic_result(G, draw_graph = True):\n",
    "    print(\"Deterministic built-in approach\")\n",
    "    MIS = nx.maximal_independent_set(G)\n",
    "    print(MIS)\n",
    "    print(\"Length = \"+str(len(MIS)))\n",
    "    if draw_graph:\n",
    "        color_map = ['yellow' if node in MIS else 'blue' for node in G]\n",
    "        graph = nx.draw(G, node_color=color_map,with_labels = True) # node lables\n",
    "        plt.show()"
   ]
  },
  {
   "cell_type": "code",
   "execution_count": 12,
   "id": "71ca9cc1",
   "metadata": {},
   "outputs": [],
   "source": [
    "def calculate_DNN_result(G, theta, threshold = 0.5, draw_graph = True):\n",
    "    print(\"DNN approach\")\n",
    "    result_nodes = get_result_nodes(theta)\n",
    "    print(result_nodes)\n",
    "    print(\"Length = \"+str(len(result_nodes)))\n",
    "    if draw_graph:\n",
    "        color_map = ['green' if node in result_nodes else 'blue' for node in G]        \n",
    "        graph = nx.draw(G, node_color=color_map,with_labels = True) # node lables\n",
    "        plt.show()\n",
    "        \n",
    "def calculate_DNN_result(G, MIS, draw_graph = True):\n",
    "    print(MIS)\n",
    "    print(\"Length = \"+str(len(MIS)))\n",
    "    if draw_graph:\n",
    "        color_map = ['green' if node in MIS else 'blue' for node in G]        \n",
    "        graph = nx.draw(G, node_color=color_map,with_labels = True) # node lables\n",
    "        plt.show()"
   ]
  },
  {
   "cell_type": "code",
   "execution_count": 13,
   "id": "605f6e1f",
   "metadata": {},
   "outputs": [],
   "source": [
    "def draw_DNN_result(G, max_epochs = 100,):\n",
    "    MIS = calculate_large_G(G)\n",
    "    calculate_DNN_result(G, MIS, draw_graph=True)"
   ]
  },
  {
   "cell_type": "code",
   "execution_count": 14,
   "id": "e4273bbf",
   "metadata": {},
   "outputs": [],
   "source": [
    "def read_G_from_file(filepath):\n",
    "    return nx.read_edgelist(filepath)"
   ]
  },
  {
   "cell_type": "code",
   "execution_count": 15,
   "id": "c6c5afa8",
   "metadata": {},
   "outputs": [],
   "source": [
    "# compareResults(nx.complete_graph(10), draw_graph=False) # Expected result = 1"
   ]
  },
  {
   "cell_type": "code",
   "execution_count": 16,
   "id": "0bfe563e",
   "metadata": {},
   "outputs": [],
   "source": [
    "# compareResults(nx.graph_atlas(1000),draw_graph=True)"
   ]
  },
  {
   "cell_type": "code",
   "execution_count": 17,
   "id": "ac5e095c",
   "metadata": {},
   "outputs": [],
   "source": [
    "# compareResults(nx.gnp_random_graph(20, 0.1), 200, True) #Expected result around 12-14"
   ]
  },
  {
   "cell_type": "code",
   "execution_count": 18,
   "id": "2cd035ab",
   "metadata": {},
   "outputs": [],
   "source": [
    "# compareResults(nx.gnp_random_graph(50, 0.075), max_epochs = 1000)"
   ]
  },
  {
   "cell_type": "code",
   "execution_count": 19,
   "id": "40d2e2f3",
   "metadata": {},
   "outputs": [],
   "source": [
    "# compareResults(nx.gnp_random_graph(100, 0.1), max_epochs = 1000, draw_graph=False)"
   ]
  },
  {
   "cell_type": "code",
   "execution_count": 20,
   "id": "4a3fad1e",
   "metadata": {},
   "outputs": [],
   "source": [
    "# wiki_vote_G = read_G_from_file('datasets/Wiki-Vote.txt') \n",
    "# print(wiki_vote_G)"
   ]
  },
  {
   "cell_type": "code",
   "execution_count": 21,
   "id": "563f8c0d",
   "metadata": {},
   "outputs": [],
   "source": [
    "def find_inter_cluster_edges(G, communities):\n",
    "    edges = dict()\n",
    "    for com in communities:\n",
    "        for node_i in communities[com]:\n",
    "            for neighbour_i in G.neighbors(node_i):\n",
    "                if neighbour_i not in communities[com]:\n",
    "                    if edges.get(node_i) is not None:\n",
    "                        edges[node_i].add(neighbour_i)\n",
    "                    else:\n",
    "                        edges[node_i] = {neighbour_i}\n",
    "                    if edges.get(neighbour_i) is not None:\n",
    "                        edges[neighbour_i].add(node_i)\n",
    "                    else:\n",
    "                        edges[neighbour_i] = {node_i}\n",
    "    return edges"
   ]
  },
  {
   "cell_type": "code",
   "execution_count": 22,
   "id": "8d8de4c4",
   "metadata": {},
   "outputs": [],
   "source": [
    "def find_forbidden_edges(G, R, independent_sets):\n",
    "#     logging.info(\"independent_sets={}\".format(independent_sets))\n",
    "    forbidden = []\n",
    "    for u, edges in R.items():\n",
    "        if u in independent_sets:\n",
    "            for v in edges:\n",
    "                if v in independent_sets:\n",
    "                    forbidden.append((u, v))\n",
    "#     logging.info(\"F={}\".format(forbidden))\n",
    "    return forbidden"
   ]
  },
  {
   "cell_type": "code",
   "execution_count": 23,
   "id": "154c88be",
   "metadata": {},
   "outputs": [],
   "source": [
    "def collect_list_by_dicts_key(partitions):\n",
    "    communities = {}\n",
    "    for key, val in partitions.items():\n",
    "        if communities.get(val) == None:\n",
    "            communities[val] = [key]\n",
    "        else:\n",
    "            communities[val].append(key)\n",
    "    return communities"
   ]
  },
  {
   "cell_type": "code",
   "execution_count": 24,
   "id": "40b8c11e",
   "metadata": {},
   "outputs": [],
   "source": [
    "def collect_communities_to_map(communities):\n",
    "    new_com = {}\n",
    "    index = 0\n",
    "    for com in communities:\n",
    "        new_com[index] = com\n",
    "        index+=1\n",
    "    return new_com"
   ]
  },
  {
   "cell_type": "code",
   "execution_count": 25,
   "id": "2e3cd5e9",
   "metadata": {},
   "outputs": [],
   "source": [
    "def build_G_from_nodes(G, nodes):\n",
    "    communities = {}\n",
    "    N = len(nodes)\n",
    "    new_G = nx.Graph()\n",
    "    index_map = dict()\n",
    "    node_map = dict()\n",
    "    index = 0\n",
    "    for node in nodes:\n",
    "        index_map[index] = node\n",
    "        node_map[node] = index\n",
    "        new_G.add_node(index)\n",
    "        index+=1\n",
    "    for i in nodes:\n",
    "        for j in nodes:\n",
    "            if G.has_edge(i,j):\n",
    "                new_G.add_edge(node_map[i], node_map[j])\n",
    "                new_G.add_edge(node_map[j], node_map[i])\n",
    "    return (new_G, index_map, node_map)"
   ]
  },
  {
   "cell_type": "code",
   "execution_count": 26,
   "id": "f6519066",
   "metadata": {},
   "outputs": [],
   "source": [
    "def node_is_new_candidate(G, node, mis):\n",
    "    neighbors = G.neighbors(node)\n",
    "    for w in neighbors:\n",
    "        neighbors_in_mis_count = 0\n",
    "        if w not in mis:\n",
    "            neighbors_w = G.neighbors(w)\n",
    "            for n_w in neighbors_w:\n",
    "                if n_w in mis:\n",
    "                    neighbors_in_mis_count += 1\n",
    "                    if neighbors_in_mis_count == 2:\n",
    "                        break\n",
    "            if neighbors_in_mis_count == 1:\n",
    "                return (True, w)\n",
    "    return (False, -1) "
   ]
  },
  {
   "cell_type": "code",
   "execution_count": 27,
   "id": "ef40dceb",
   "metadata": {},
   "outputs": [],
   "source": [
    "def get_node_with_most_occurences(F, q, v):\n",
    "    count_q = 0\n",
    "    count_v = 0\n",
    "    for x,y in F:\n",
    "        if x == q or y == q:\n",
    "            count_q+=1\n",
    "        if x == v or y == v:\n",
    "            count_v+=1\n",
    "    logging.debug(\"Count for node {} = {}\".format(q,count_q))\n",
    "    logging.debug(\"Count for node {} = {}\".format(v,count_v))\n",
    "    if count_q > count_v:\n",
    "        return q\n",
    "    else:\n",
    "        return v"
   ]
  },
  {
   "cell_type": "code",
   "execution_count": 28,
   "id": "4faf7da4",
   "metadata": {},
   "outputs": [],
   "source": [
    "def replace_node_if_possible(G,F,mis,node):\n",
    "    (can_be_replaced, new_node) = node_is_new_candidate(G,node,mis)\n",
    "    if can_be_replaced:\n",
    "        logging.debug(\"mis = {}\".format(mis))\n",
    "        logging.debug(\"Node {} can be replaced with {}\".format(node, new_node))\n",
    "        mis.remove(node)\n",
    "        mis.add(new_node)\n",
    "        return True\n",
    "    return False "
   ]
  },
  {
   "cell_type": "code",
   "execution_count": 29,
   "id": "fde280c8",
   "metadata": {},
   "outputs": [],
   "source": [
    "def replace_forbiden_nodes(G,R,F,mis):\n",
    "    logging.debug(\"Replacing forbiden nodes\")\n",
    "    while len(F) > 0:\n",
    "        logging.debug(\"F = {}\".format(F))\n",
    "        replaced = False\n",
    "        for node in F[0]:\n",
    "            replaced = replace_node_if_possible(G,F,mis,node)\n",
    "            if replaced:\n",
    "                break\n",
    "        if not replaced:\n",
    "            q,v = F[0]\n",
    "            logging.debug(\"Nodes {} and {} cannot be replaced.\".format(q,v))\n",
    "            node_to_be_removed = get_node_with_most_occurences(F,q,v)\n",
    "            logging.debug(\"Removing node {}.\".format(node_to_be_removed))\n",
    "            mis.remove(node_to_be_removed)\n",
    "        F = find_forbidden_edges(G, R, mis)\n",
    "    return mis"
   ]
  },
  {
   "cell_type": "code",
   "execution_count": 30,
   "id": "c2881cef",
   "metadata": {},
   "outputs": [],
   "source": [
    "def build_G_from_left_nodes(G, nodes):\n",
    "    mis_with_neighbours = set()\n",
    "    for node in nodes:\n",
    "        mis_with_neighbours.add(node)\n",
    "        for neighbour in G.neighbors(node):\n",
    "            mis_with_neighbours.add(neighbour)\n",
    "    nodes_left_to_process = set(G.nodes()).difference(mis_with_neighbours)\n",
    "    return build_G_from_nodes(G,nodes_left_to_process)"
   ]
  },
  {
   "cell_type": "code",
   "execution_count": 31,
   "id": "4b4d30f4",
   "metadata": {},
   "outputs": [],
   "source": [
    "def calculate_mis_with_left_nodes(G, mis_list, max_epochs,method):\n",
    "    (left_G, left_index_map, left_node_map)  = build_G_from_left_nodes(G, mis_list)\n",
    "    logging.debug(\"Left nodes = {}\".format([left_index_map[node] for node in left_G.nodes()]))\n",
    "    logging.debug(\"Left nodes length = {}\".format(len(left_G.nodes())))\n",
    "    if len(left_G.nodes()) > 100:\n",
    "        mis = calculate_large_G(left_G, max_epochs)\n",
    "    elif len(left_G.nodes()) > 0:\n",
    "        logging.debug(\"In left_G.nodes()) > 0\")\n",
    "        mis = validate_dnn_result(train_network(left_G, max_epochs,method),left_G)\n",
    "    else:\n",
    "        mis = {}\n",
    "    mis_correct = [left_index_map[node] for node in mis]\n",
    "    logging.debug(\"mis of left nodes = {}\".format(mis_correct))\n",
    "    mis_final = mis_list.union(mis_correct)\n",
    "    return mis_final"
   ]
  },
  {
   "cell_type": "code",
   "execution_count": 32,
   "id": "63d2262d",
   "metadata": {},
   "outputs": [],
   "source": [
    "def build_U_from_IS(_lambda, IS,G,):\n",
    "    if len(IS) == 0:\n",
    "        return []\n",
    "    degree_list_ascending = [(G.degree(node),node) for node in IS]\n",
    "    degree_list_ascending.sort(key=lambda pair: pair[0])\n",
    "    return [pair[1] for pair in degree_list_ascending[:min(_lambda, len(IS))]]"
   ]
  },
  {
   "cell_type": "code",
   "execution_count": 33,
   "id": "3e756a10",
   "metadata": {},
   "outputs": [],
   "source": [
    "def validate_dnn_result(dnn_result, G):\n",
    "#     if True:\n",
    "    if dnn_result.stuck:\n",
    "        if len(G.edges()) < 50:\n",
    "            logging.debug(\"Solver stuck. Using local search...\")\n",
    "            dict_G = nx.to_dict_of_lists(G)\n",
    "            mis = graphSets(dict_G)\n",
    "            logging.debug(\"Local search mis length = {}\".format(len(mis)))\n",
    "        else:\n",
    "            communities = collect_communities_to_map(nx_comm.louvain_communities(G, resolution = 1.3, seed=seed))\n",
    "            if len(communities) > 1:\n",
    "                logging.debug(\"Solver stuck. Too many edges to process for local search. Trying split graph to communities...\")\n",
    "                mis = calculate_large_G(G, resolution = 1.3)\n",
    "            else:\n",
    "                logging.warning(\"Solver stuck. Too many edges to process for local search in 1 community. Picking any IS...\")\n",
    "                mis = nx.maximal_independent_set(G)\n",
    "            logging.debug(\"validate_dnn_result:IS length = {}\".format(len(mis)))\n",
    "        dnn_result_nodes = get_result_nodes(dnn_result.theta)\n",
    "        if len(dnn_result_nodes) > len(mis) and result_is_valid(G, dnn_result.theta):\n",
    "            return dnn_result_nodes\n",
    "        else:\n",
    "            return mis\n",
    "    else:\n",
    "        theta_for_small_G = dnn_result.theta\n",
    "        return get_result_nodes(theta_for_small_G)"
   ]
  },
  {
   "cell_type": "code",
   "execution_count": 34,
   "id": "81b63a93",
   "metadata": {},
   "outputs": [],
   "source": [
    "def try_remove_nodes_with_small_degree(I, G, max_epochs, method):\n",
    "    _lambda = 5\n",
    "    I_star = I\n",
    "    logging.debug(\"In try_remove_nodes_with_small_degree. I = {}\".format(I))\n",
    "    index = 0\n",
    "#     graph = build_G_from_nodes(G,I_star)[0]\n",
    "#     logging.debug(\"graph_nodes = {}\".format(graph.nodes()))\n",
    "#     logging.debug(\"graph_edges = {}\".format(graph.edges()))\n",
    "#     nx.draw(graph,with_labels = True) # node lables\n",
    "#     plt.show()\n",
    "    while True:\n",
    "        U = build_U_from_IS(_lambda, I_star,G)\n",
    "        (reduced_G,index_map, node_map) = build_G_from_left_nodes(G, U)\n",
    "        if len(reduced_G.nodes()) < 20:\n",
    "            break\n",
    "        if index == 0:\n",
    "            logging.debug(\"Trying to calculate G removing nodes with small degress\")\n",
    "        index+=1\n",
    "        logging.debug(\"Removed nodes = {}\".format(U))\n",
    "        logging.debug(\"G_nodes={}\".format(G.nodes()))\n",
    "        logging.debug(\"new_small_G_nodes={}\".format({index_map[node] for node in reduced_G.nodes()}))\n",
    "        dnn_result = train_network(reduced_G, max_epochs,method)\n",
    "        mis_correct = {index_map[node] for node in validate_dnn_result(dnn_result, reduced_G)}\n",
    "        I = I.union(U)\n",
    "        if(len(I)>len(I_star)):\n",
    "            I_star = I\n",
    "        else:\n",
    "            I = I_star\n",
    "        _lambda+=1\n",
    "    logging.debug(\"Returning IS with length = {}\".format(len(I_star)))\n",
    "#     graph = build_G_from_nodes(G,I_star)[0]\n",
    "#     logging.debug(\"graph_nodes = {}\".format(graph.nodes()))\n",
    "#     logging.debug(\"graph_edges = {}\".format(graph.edges()))\n",
    "#     nx.draw(graph,with_labels = True) # node lables\n",
    "#     plt.show()\n",
    "    return I_star"
   ]
  },
  {
   "cell_type": "code",
   "execution_count": 35,
   "id": "76fb6937",
   "metadata": {},
   "outputs": [],
   "source": [
    "def log_error_if_mis_is_wrong(G,mis):\n",
    "    validation = mis_is_valid(G, mis)\n",
    "    if not validation.valid:\n",
    "        logger.error(\"Calculated mis is not correct!\")\n",
    "        logger.debug(\"mis = {}\".format(mis))\n",
    "        logger.debug(\"nodes = {}\".format(G.nodes()))\n",
    "        logger.debug(\"edges = {}\".format(G.edges()))\n",
    "        \n",
    "        if validation.can_add_nodes:\n",
    "            logger.error(\"Can add more nodes!\")\n",
    "        if validation.contains_extra_nodes:\n",
    "            logger.error(\"Has edges between nodes!\")\n",
    "    else:\n",
    "        logger.debug(\"Calculated mis is correct!\")"
   ]
  },
  {
   "cell_type": "code",
   "execution_count": 36,
   "id": "af816671",
   "metadata": {},
   "outputs": [],
   "source": [
    "#\"KaMIS/deploy/out.graph\"\n",
    "def write_G_to_file_in_metis_format(G, path):\n",
    "    fh = open(path, \"w\")\n",
    "    fh.write(str(len(G.nodes()))+\" \"+ str(len(G.edges())) + \"\\n\")\n",
    "    for node in G.nodes():\n",
    "        neighbors = \"\"\n",
    "        for n in G.neighbors(node):\n",
    "            neighbors += str(n+1) + \" \"\n",
    "        neighbors = neighbors[:-1]\n",
    "        fh.write(neighbors + \"\\n\")\n",
    "    fh.close()\n",
    "    \n",
    "def read_redumis_result(path):\n",
    "    fh = open(path, \"r\")\n",
    "    lines = fh.readlines()\n",
    "    nodes = []\n",
    "    index = 1\n",
    "    for line in lines:\n",
    "        if \"1\" in line:\n",
    "            nodes.append(index)\n",
    "        index+=1\n",
    "    fh.close()\n",
    "    return nodes"
   ]
  },
  {
   "cell_type": "code",
   "execution_count": 37,
   "id": "3c9ad2de",
   "metadata": {},
   "outputs": [],
   "source": [
    "def calculate_large_G(G, max_epochs = 1000, method='gradient', resolution = 0.8, file_suffix = \"graph\"):\n",
    "    logging.debug(\"Calculating G with nodes = {} edges = {}\".format(len(G.nodes()), len(G.edges())))\n",
    "    logging.debug(\"Density of G = {}\".format(nx.density(G)))\n",
    "    communities = collect_communities_to_map(nx_comm.louvain_communities(G, resolution, seed=seed))\n",
    "    logging.debug(\"Total communities {}\".format(len(communities)))\n",
    "    R = find_inter_cluster_edges(G, communities)\n",
    "#     logging.info(\"R={}\".format(R))\n",
    "    mis_list = set()\n",
    "    community_index = 1\n",
    "    write_G_to_file_in_metis_format(G,  \"KaMIS/deploy/\"+file_suffix)\n",
    "    for com in communities:\n",
    "        logging.debug(\"Community {} processing...\".format(community_index))\n",
    "        (small_G,index_map, node_map) = build_G_from_nodes(G, communities[com])\n",
    "        write_G_to_file_in_metis_format(small_G,  \"KaMIS/deploy/\"+file_suffix+\"community_\" + str(com) )\n",
    "        dnn_result = train_network(small_G, max_epochs,method)\n",
    "        mis = validate_dnn_result(dnn_result, small_G)\n",
    "        logging.debug(\"MIS length = {}\".format(len(mis)))\n",
    "        \n",
    "        mis = try_remove_nodes_with_small_degree(mis, small_G,max_epochs, method)\n",
    "        logging.debug(\"MIS after removing nodes with small degrees length = {}\".format(len(mis)))\n",
    "        logging.debug(\"MIS after removing nodes with small degrees = {}\".format(mis))\n",
    "        mis_correct = {index_map[node] for node in mis}\n",
    "        logging.debug(\"MIS in community = {}\".format(mis_correct))\n",
    "        log_error_if_mis_is_wrong(small_G, mis)\n",
    "        mis_list = mis_list.union(mis_correct)\n",
    "        community_index += 1\n",
    "    logging.debug(\"MIS after all communitites processed length = {}\".format(len(mis_list)))\n",
    "    F = find_forbidden_edges(G, R, mis_list)\n",
    "    replace_forbiden_nodes(G,R,F,mis_list)\n",
    "    logging.debug(\"MIS after forbidden nodes processed length = {}\".format(len(mis_list)))\n",
    "    logging.debug(\"MIS={}\".format(mis_list))\n",
    "    mis_list = calculate_mis_with_left_nodes(G, mis_list, max_epochs,method)\n",
    "    logging.debug(\"MIS after left nodes processed={}\".format(mis_list))\n",
    "    log_error_if_mis_is_wrong(G, mis_list)\n",
    "    return mis_list"
   ]
  },
  {
   "cell_type": "code",
   "execution_count": 38,
   "id": "43672086",
   "metadata": {},
   "outputs": [],
   "source": [
    "# wiki_vote_G_MIS = calculate_large_G(wiki_vote_G, 1000)"
   ]
  },
  {
   "cell_type": "code",
   "execution_count": 39,
   "id": "5f62801d",
   "metadata": {},
   "outputs": [],
   "source": [
    "def test_average_result_on_graph(G, graph_name, iterations = 5):\n",
    "    sum = 0\n",
    "    for i in range(iterations):\n",
    "        mis = calculate_large_G(G)\n",
    "        logging.info(\"MIS length = {}\".format(len(mis)))\n",
    "        sum+=len(mis)\n",
    "    print(\"dNN result on {} = {}\".format(graph_name,sum/iterations))"
   ]
  },
  {
   "cell_type": "code",
   "execution_count": 40,
   "id": "5c851977",
   "metadata": {},
   "outputs": [],
   "source": [
    "def test_network_on_graphs(graphs, method='gradient'):\n",
    "    sum = 0\n",
    "    edges = 0\n",
    "    n = len(graphs)\n",
    "    for i in range(n):\n",
    "        logging.info(\"Processing graph {}...\".format(str(i)))\n",
    "        mis = calculate_large_G(graphs[i],method=method,file_suffix=\"graph_\"+str(i)+\"_\" )\n",
    "        logging.info(\"Total MIS length found = {}\".format(len(mis)))\n",
    "        edges += len(graphs[i].edges())\n",
    "        sum+=len(mis)\n",
    "    print(\"Average edges count = {}\".format(edges/n))\n",
    "    print(\"Average dNN result = {}\".format(sum/n))"
   ]
  },
  {
   "cell_type": "code",
   "execution_count": 41,
   "id": "c1fd6301",
   "metadata": {},
   "outputs": [],
   "source": [
    "def build_n_graphs(n, graph_func):\n",
    "    return [graph_func() for i in range(n)]"
   ]
  },
  {
   "cell_type": "code",
   "execution_count": 42,
   "id": "903d29be",
   "metadata": {},
   "outputs": [
    {
     "name": "stdout",
     "output_type": "stream",
     "text": [
      "{1, 2, 5, 6}\n",
      "Length = 4\n"
     ]
    },
    {
     "data": {
      "image/png": "[encoded data removed]",
      "text/plain": [
       "<Figure size 640x480 with 1 Axes>"
      ]
     },
     "metadata": {},
     "output_type": "display_data"
    }
   ],
   "source": [
    "G = build_test_graph1()\n",
    "calculate_DNN_result(G, calculate_large_G(G), True)"
   ]
  },
  {
   "cell_type": "code",
   "execution_count": 43,
   "id": "30d4cc40",
   "metadata": {},
   "outputs": [],
   "source": [
    "networks = build_n_graphs(20, lambda: nx.erdos_renyi_graph(100,0.1), )"
   ]
  },
  {
   "cell_type": "code",
   "execution_count": 44,
   "id": "4cc74312",
   "metadata": {},
   "outputs": [
    {
     "name": "stderr",
     "output_type": "stream",
     "text": [
      "INFO:root:Processing graph 0...\n",
      "INFO:root:Total MIS length found = 29\n",
      "INFO:root:Processing graph 1...\n",
      "INFO:root:Total MIS length found = 29\n",
      "INFO:root:Processing graph 2...\n",
      "INFO:root:Total MIS length found = 29\n",
      "INFO:root:Processing graph 3...\n",
      "INFO:root:Total MIS length found = 27\n",
      "INFO:root:Processing graph 4...\n",
      "INFO:root:Total MIS length found = 30\n",
      "INFO:root:Processing graph 5...\n",
      "INFO:root:Total MIS length found = 25\n",
      "INFO:root:Processing graph 6...\n",
      "INFO:root:Total MIS length found = 32\n",
      "INFO:root:Processing graph 7...\n",
      "INFO:root:Total MIS length found = 31\n",
      "INFO:root:Processing graph 8...\n",
      "INFO:root:Total MIS length found = 26\n",
      "INFO:root:Processing graph 9...\n",
      "INFO:root:Total MIS length found = 25\n",
      "INFO:root:Processing graph 10...\n",
      "INFO:root:Total MIS length found = 25\n",
      "INFO:root:Processing graph 11...\n",
      "INFO:root:Total MIS length found = 27\n",
      "INFO:root:Processing graph 12...\n",
      "INFO:root:Total MIS length found = 30\n",
      "INFO:root:Processing graph 13...\n",
      "INFO:root:Total MIS length found = 26\n",
      "INFO:root:Processing graph 14...\n",
      "INFO:root:Total MIS length found = 27\n",
      "INFO:root:Processing graph 15...\n",
      "INFO:root:Total MIS length found = 28\n",
      "INFO:root:Processing graph 16...\n",
      "INFO:root:Total MIS length found = 29\n",
      "INFO:root:Processing graph 17...\n",
      "INFO:root:Total MIS length found = 25\n",
      "INFO:root:Processing graph 18...\n",
      "INFO:root:Total MIS length found = 29\n",
      "INFO:root:Processing graph 19...\n",
      "INFO:root:Total MIS length found = 24\n"
     ]
    },
    {
     "name": "stdout",
     "output_type": "stream",
     "text": [
      "Average edges count = 490.65\n",
      "Average dNN result = 27.65\n"
     ]
    }
   ],
   "source": [
    "test_network_on_graphs(networks)"
   ]
  },
  {
   "cell_type": "code",
   "execution_count": 45,
   "id": "0351ffa6",
   "metadata": {},
   "outputs": [],
   "source": [
    "networks = build_n_graphs(10, lambda: nx.erdos_renyi_graph(100,0.2), )"
   ]
  },
  {
   "cell_type": "code",
   "execution_count": 46,
   "id": "de3c9a0f",
   "metadata": {},
   "outputs": [
    {
     "name": "stderr",
     "output_type": "stream",
     "text": [
      "INFO:root:Processing graph 0...\n",
      "INFO:root:Total MIS length found = 15\n",
      "INFO:root:Processing graph 1...\n",
      "INFO:root:Total MIS length found = 16\n",
      "INFO:root:Processing graph 2...\n",
      "INFO:root:Total MIS length found = 16\n",
      "INFO:root:Processing graph 3...\n",
      "INFO:root:Total MIS length found = 18\n",
      "INFO:root:Processing graph 4...\n",
      "INFO:root:Total MIS length found = 19\n",
      "INFO:root:Processing graph 5...\n",
      "INFO:root:Total MIS length found = 16\n",
      "INFO:root:Processing graph 6...\n",
      "INFO:root:Total MIS length found = 17\n",
      "INFO:root:Processing graph 7...\n",
      "INFO:root:Total MIS length found = 17\n",
      "INFO:root:Processing graph 8...\n",
      "INFO:root:Total MIS length found = 18\n",
      "INFO:root:Processing graph 9...\n",
      "INFO:root:Total MIS length found = 16\n"
     ]
    },
    {
     "name": "stdout",
     "output_type": "stream",
     "text": [
      "Average edges count = 995.1\n",
      "Average dNN result = 16.8\n"
     ]
    }
   ],
   "source": [
    "test_network_on_graphs(networks)"
   ]
  },
  {
   "cell_type": "code",
   "execution_count": 47,
   "id": "b7a739de",
   "metadata": {},
   "outputs": [],
   "source": [
    "networks = build_n_graphs(10, lambda: nx.erdos_renyi_graph(200,0.1))"
   ]
  },
  {
   "cell_type": "code",
   "execution_count": 48,
   "id": "6003f814",
   "metadata": {},
   "outputs": [
    {
     "name": "stderr",
     "output_type": "stream",
     "text": [
      "INFO:root:Processing graph 0...\n",
      "INFO:root:Total MIS length found = 34\n",
      "INFO:root:Processing graph 1...\n",
      "INFO:root:Total MIS length found = 37\n",
      "INFO:root:Processing graph 2...\n",
      "INFO:root:Total MIS length found = 34\n",
      "INFO:root:Processing graph 3...\n",
      "INFO:root:Total MIS length found = 35\n",
      "INFO:root:Processing graph 4...\n",
      "INFO:root:Total MIS length found = 38\n",
      "INFO:root:Processing graph 5...\n",
      "INFO:root:Total MIS length found = 35\n",
      "INFO:root:Processing graph 6...\n",
      "INFO:root:Total MIS length found = 32\n",
      "INFO:root:Processing graph 7...\n",
      "INFO:root:Total MIS length found = 31\n",
      "INFO:root:Processing graph 8...\n",
      "INFO:root:Total MIS length found = 34\n",
      "INFO:root:Processing graph 9...\n",
      "INFO:root:Total MIS length found = 35\n"
     ]
    },
    {
     "name": "stdout",
     "output_type": "stream",
     "text": [
      "Average edges count = 1992.2\n",
      "Average dNN result = 34.5\n"
     ]
    }
   ],
   "source": [
    "test_network_on_graphs(networks)"
   ]
  },
  {
   "cell_type": "code",
   "execution_count": 49,
   "id": "e535f7fd",
   "metadata": {},
   "outputs": [],
   "source": [
    "networks = build_n_graphs(10, lambda: nx.erdos_renyi_graph(200,0.2))"
   ]
  },
  {
   "cell_type": "code",
   "execution_count": 50,
   "id": "7ada9d76",
   "metadata": {},
   "outputs": [
    {
     "name": "stderr",
     "output_type": "stream",
     "text": [
      "INFO:root:Processing graph 0...\n",
      "INFO:root:Total MIS length found = 21\n",
      "INFO:root:Processing graph 1...\n",
      "INFO:root:Total MIS length found = 20\n",
      "INFO:root:Processing graph 2...\n",
      "INFO:root:Total MIS length found = 20\n",
      "INFO:root:Processing graph 3...\n",
      "INFO:root:Total MIS length found = 18\n",
      "INFO:root:Processing graph 4...\n",
      "INFO:root:Total MIS length found = 21\n",
      "INFO:root:Processing graph 5...\n",
      "INFO:root:Total MIS length found = 17\n",
      "INFO:root:Processing graph 6...\n",
      "INFO:root:Total MIS length found = 19\n",
      "INFO:root:Processing graph 7...\n",
      "INFO:root:Total MIS length found = 17\n",
      "INFO:root:Processing graph 8...\n",
      "INFO:root:Total MIS length found = 20\n",
      "INFO:root:Processing graph 9...\n",
      "INFO:root:Total MIS length found = 19\n"
     ]
    },
    {
     "name": "stdout",
     "output_type": "stream",
     "text": [
      "Average edges count = 3982.8\n",
      "Average dNN result = 19.2\n"
     ]
    }
   ],
   "source": [
    "test_network_on_graphs(networks)"
   ]
  },
  {
   "cell_type": "code",
   "execution_count": null,
   "id": "9165fc20",
   "metadata": {},
   "outputs": [],
   "source": [
    "#!!!!! All SBM graphs in some reason differ in size with provided in preproof, so exact comparison is not correct. "
   ]
  },
  {
   "cell_type": "code",
   "execution_count": 51,
   "id": "b68476a7",
   "metadata": {},
   "outputs": [],
   "source": [
    "networks = build_n_graphs(10, lambda: nx.stochastic_block_model([250],[[0.1]]))"
   ]
  },
  {
   "cell_type": "code",
   "execution_count": 52,
   "id": "8095f9b6",
   "metadata": {},
   "outputs": [
    {
     "name": "stderr",
     "output_type": "stream",
     "text": [
      "INFO:root:Processing graph 0...\n",
      "INFO:root:Total MIS length found = 36\n",
      "INFO:root:Processing graph 1...\n",
      "INFO:root:Total MIS length found = 34\n",
      "INFO:root:Processing graph 2...\n",
      "INFO:root:Total MIS length found = 37\n",
      "INFO:root:Processing graph 3...\n",
      "INFO:root:Total MIS length found = 36\n",
      "INFO:root:Processing graph 4...\n",
      "INFO:root:Total MIS length found = 33\n",
      "INFO:root:Processing graph 5...\n",
      "INFO:root:Total MIS length found = 41\n",
      "INFO:root:Processing graph 6...\n",
      "INFO:root:Total MIS length found = 35\n",
      "INFO:root:Processing graph 7...\n",
      "INFO:root:Total MIS length found = 35\n",
      "INFO:root:Processing graph 8...\n",
      "INFO:root:Total MIS length found = 35\n",
      "INFO:root:Processing graph 9...\n",
      "INFO:root:Total MIS length found = 36\n"
     ]
    },
    {
     "name": "stdout",
     "output_type": "stream",
     "text": [
      "Average edges count = 3085.1\n",
      "Average dNN result = 35.8\n"
     ]
    }
   ],
   "source": [
    "test_network_on_graphs(networks)"
   ]
  },
  {
   "cell_type": "code",
   "execution_count": 53,
   "id": "2635f899",
   "metadata": {},
   "outputs": [],
   "source": [
    "networks = build_n_graphs(10, lambda: nx.stochastic_block_model([250],[[0.2]]))"
   ]
  },
  {
   "cell_type": "code",
   "execution_count": 54,
   "id": "1d33df23",
   "metadata": {},
   "outputs": [
    {
     "name": "stderr",
     "output_type": "stream",
     "text": [
      "INFO:root:Processing graph 0...\n",
      "INFO:root:Total MIS length found = 21\n",
      "INFO:root:Processing graph 1...\n",
      "INFO:root:Total MIS length found = 21\n",
      "INFO:root:Processing graph 2...\n",
      "INFO:root:Total MIS length found = 19\n",
      "INFO:root:Processing graph 3...\n",
      "INFO:root:Total MIS length found = 20\n",
      "INFO:root:Processing graph 4...\n",
      "INFO:root:Total MIS length found = 21\n",
      "INFO:root:Processing graph 5...\n",
      "INFO:root:Total MIS length found = 19\n",
      "INFO:root:Processing graph 6...\n",
      "INFO:root:Total MIS length found = 21\n",
      "INFO:root:Processing graph 7...\n",
      "INFO:root:Total MIS length found = 19\n",
      "INFO:root:Processing graph 8...\n",
      "INFO:root:Total MIS length found = 22\n",
      "INFO:root:Processing graph 9...\n",
      "INFO:root:Total MIS length found = 23\n"
     ]
    },
    {
     "name": "stdout",
     "output_type": "stream",
     "text": [
      "Average edges count = 6213.4\n",
      "Average dNN result = 20.6\n"
     ]
    }
   ],
   "source": [
    "test_network_on_graphs(networks)"
   ]
  },
  {
   "cell_type": "code",
   "execution_count": 55,
   "id": "8c883bad",
   "metadata": {},
   "outputs": [],
   "source": [
    "networks = build_n_graphs(10, lambda: nx.stochastic_block_model([350],[[0.1]]))"
   ]
  },
  {
   "cell_type": "code",
   "execution_count": 56,
   "id": "968b77c1",
   "metadata": {},
   "outputs": [
    {
     "name": "stderr",
     "output_type": "stream",
     "text": [
      "INFO:root:Processing graph 0...\n",
      "INFO:root:Total MIS length found = 37\n",
      "INFO:root:Processing graph 1...\n",
      "INFO:root:Total MIS length found = 40\n",
      "INFO:root:Processing graph 2...\n",
      "INFO:root:Total MIS length found = 41\n",
      "INFO:root:Processing graph 3...\n",
      "INFO:root:Total MIS length found = 37\n",
      "INFO:root:Processing graph 4...\n",
      "INFO:root:Total MIS length found = 39\n",
      "INFO:root:Processing graph 5...\n",
      "INFO:root:Total MIS length found = 38\n",
      "INFO:root:Processing graph 6...\n",
      "INFO:root:Total MIS length found = 40\n",
      "INFO:root:Processing graph 7...\n",
      "INFO:root:Total MIS length found = 38\n",
      "INFO:root:Processing graph 8...\n",
      "INFO:root:Total MIS length found = 41\n",
      "INFO:root:Processing graph 9...\n",
      "INFO:root:Total MIS length found = 40\n"
     ]
    },
    {
     "name": "stdout",
     "output_type": "stream",
     "text": [
      "Average edges count = 6102.0\n",
      "Average dNN result = 39.1\n"
     ]
    }
   ],
   "source": [
    "test_network_on_graphs(networks)"
   ]
  },
  {
   "cell_type": "code",
   "execution_count": 57,
   "id": "785af4dd",
   "metadata": {},
   "outputs": [],
   "source": [
    "networks = build_n_graphs(10, lambda: nx.stochastic_block_model([350],[[0.2]]))"
   ]
  },
  {
   "cell_type": "code",
   "execution_count": 58,
   "id": "6b7fce9e",
   "metadata": {},
   "outputs": [
    {
     "name": "stderr",
     "output_type": "stream",
     "text": [
      "INFO:root:Processing graph 0...\n",
      "INFO:root:Total MIS length found = 22\n",
      "INFO:root:Processing graph 1...\n",
      "INFO:root:Total MIS length found = 24\n",
      "INFO:root:Processing graph 2...\n",
      "INFO:root:Total MIS length found = 22\n",
      "INFO:root:Processing graph 3...\n",
      "INFO:root:Total MIS length found = 22\n",
      "INFO:root:Processing graph 4...\n",
      "INFO:root:Total MIS length found = 24\n",
      "INFO:root:Processing graph 5...\n",
      "INFO:root:Total MIS length found = 21\n",
      "INFO:root:Processing graph 6...\n",
      "INFO:root:Total MIS length found = 21\n",
      "INFO:root:Processing graph 7...\n",
      "INFO:root:Total MIS length found = 22\n",
      "INFO:root:Processing graph 8...\n",
      "INFO:root:Total MIS length found = 22\n",
      "INFO:root:Processing graph 9...\n",
      "INFO:root:Total MIS length found = 20\n"
     ]
    },
    {
     "name": "stdout",
     "output_type": "stream",
     "text": [
      "Average edges count = 12232.7\n",
      "Average dNN result = 22.0\n"
     ]
    }
   ],
   "source": [
    "test_network_on_graphs(networks)"
   ]
  },
  {
   "cell_type": "code",
   "execution_count": 60,
   "id": "92d43545",
   "metadata": {},
   "outputs": [
    {
     "name": "stderr",
     "output_type": "stream",
     "text": [
      "INFO:root:Processing graph 0...\n",
      "INFO:root:Total MIS length found = 45\n",
      "INFO:root:Processing graph 1...\n",
      "INFO:root:Total MIS length found = 45\n",
      "INFO:root:Processing graph 2...\n",
      "INFO:root:Total MIS length found = 45\n",
      "INFO:root:Processing graph 3...\n",
      "INFO:root:Total MIS length found = 45\n",
      "INFO:root:Processing graph 4...\n",
      "INFO:root:Total MIS length found = 45\n",
      "INFO:root:Processing graph 5...\n",
      "INFO:root:Total MIS length found = 45\n",
      "INFO:root:Processing graph 6...\n",
      "INFO:root:Total MIS length found = 45\n",
      "INFO:root:Processing graph 7...\n",
      "INFO:root:Total MIS length found = 45\n",
      "INFO:root:Processing graph 8...\n",
      "INFO:root:Total MIS length found = 45\n",
      "INFO:root:Processing graph 9...\n",
      "INFO:root:Total MIS length found = 45\n"
     ]
    },
    {
     "name": "stdout",
     "output_type": "stream",
     "text": [
      "Average edges count = 2475.0\n",
      "Average dNN result = 45.0\n"
     ]
    }
   ],
   "source": [
    "networks=build_n_graphs(10, lambda: nx.barabasi_albert_graph(100,45))\n",
    "test_network_on_graphs(networks)"
   ]
  },
  {
   "cell_type": "code",
   "execution_count": 61,
   "id": "55f172c2",
   "metadata": {},
   "outputs": [],
   "source": [
    "networks = build_n_graphs(10, lambda: nx.barabasi_albert_graph(200,100))\n",
    "networks += build_n_graphs(10, lambda: nx.barabasi_albert_graph(200,90))"
   ]
  },
  {
   "cell_type": "code",
   "execution_count": 62,
   "id": "f2c7de4b",
   "metadata": {},
   "outputs": [
    {
     "name": "stderr",
     "output_type": "stream",
     "text": [
      "INFO:root:Processing graph 0...\n",
      "INFO:root:Total MIS length found = 100\n",
      "INFO:root:Processing graph 1...\n",
      "INFO:root:Total MIS length found = 100\n",
      "INFO:root:Processing graph 2...\n",
      "INFO:root:Total MIS length found = 100\n",
      "INFO:root:Processing graph 3...\n",
      "INFO:root:Total MIS length found = 100\n",
      "INFO:root:Processing graph 4...\n",
      "INFO:root:Total MIS length found = 100\n",
      "INFO:root:Processing graph 5...\n",
      "INFO:root:Total MIS length found = 100\n",
      "INFO:root:Processing graph 6...\n",
      "INFO:root:Total MIS length found = 100\n",
      "INFO:root:Processing graph 7...\n",
      "INFO:root:Total MIS length found = 100\n",
      "INFO:root:Processing graph 8...\n",
      "INFO:root:Total MIS length found = 100\n",
      "INFO:root:Processing graph 9...\n",
      "INFO:root:Total MIS length found = 100\n",
      "INFO:root:Processing graph 10...\n",
      "INFO:root:Total MIS length found = 90\n",
      "INFO:root:Processing graph 11...\n",
      "INFO:root:Total MIS length found = 90\n",
      "INFO:root:Processing graph 12...\n",
      "INFO:root:Total MIS length found = 90\n",
      "INFO:root:Processing graph 13...\n",
      "INFO:root:Total MIS length found = 90\n",
      "INFO:root:Processing graph 14...\n",
      "INFO:root:Total MIS length found = 90\n",
      "INFO:root:Processing graph 15...\n",
      "INFO:root:Total MIS length found = 90\n",
      "INFO:root:Processing graph 16...\n",
      "INFO:root:Total MIS length found = 90\n",
      "INFO:root:Processing graph 17...\n",
      "INFO:root:Total MIS length found = 90\n",
      "INFO:root:Processing graph 18...\n",
      "INFO:root:Total MIS length found = 90\n",
      "INFO:root:Processing graph 19...\n",
      "INFO:root:Total MIS length found = 90\n"
     ]
    },
    {
     "name": "stdout",
     "output_type": "stream",
     "text": [
      "Average edges count = 9950.0\n",
      "Average dNN result = 95.0\n"
     ]
    }
   ],
   "source": [
    "test_network_on_graphs(networks)"
   ]
  },
  {
   "cell_type": "code",
   "execution_count": null,
   "id": "08d74ee1",
   "metadata": {},
   "outputs": [],
   "source": [
    "networks = build_n_graphs(10, lambda: nx.powerlaw_cluster_graph(100,30,0.5))"
   ]
  },
  {
   "cell_type": "code",
   "execution_count": null,
   "id": "03d44be4",
   "metadata": {},
   "outputs": [],
   "source": [
    "test_network_on_graphs(networks)"
   ]
  },
  {
   "cell_type": "code",
   "execution_count": null,
   "id": "2bb60118",
   "metadata": {},
   "outputs": [],
   "source": [
    "networks = build_n_graphs(10, lambda: nx.powerlaw_cluster_graph(200,60,0.5))"
   ]
  },
  {
   "cell_type": "code",
   "execution_count": null,
   "id": "d5e66cd8",
   "metadata": {},
   "outputs": [],
   "source": [
    "test_network_on_graphs(networks)"
   ]
  },
  {
   "cell_type": "code",
   "execution_count": null,
   "id": "ac626d47",
   "metadata": {},
   "outputs": [],
   "source": [
    "write_G_to_file_in_metis_format([])"
   ]
  },
  {
   "cell_type": "code",
   "execution_count": null,
   "id": "fbf1465e",
   "metadata": {},
   "outputs": [],
   "source": [
    "read_redumis_result(\"KaMIS/deploy/redumis_out.txt\")"
   ]
  },
  {
   "cell_type": "code",
   "execution_count": null,
   "id": "2852a7f9",
   "metadata": {},
   "outputs": [],
   "source": [
    "G = nx.Graph([(1, 2), (2, 4), (1, 4),(3,5),(1,3)])\n",
    "(res,index_map,nodes_map) = build_G_from_left_nodes(G, {1})\n",
    "print(res.nodes())\n",
    "print(res.edges())\n",
    "print(index_map)"
   ]
  },
  {
   "cell_type": "code",
   "execution_count": null,
   "id": "6cc31642",
   "metadata": {},
   "outputs": [],
   "source": []
  }
 ],
 "metadata": {
  "kernelspec": {
   "display_name": "Python 3 (ipykernel)",
   "language": "python",
   "name": "python3"
  },
  "language_info": {
   "codemirror_mode": {
    "name": "ipython",
    "version": 3
   },
   "file_extension": ".py",
   "mimetype": "text/x-python",
   "name": "python",
   "nbconvert_exporter": "python",
   "pygments_lexer": "ipython3",
   "version": "3.9.12"
  }
 },
 "nbformat": 4,
 "nbformat_minor": 5
}
