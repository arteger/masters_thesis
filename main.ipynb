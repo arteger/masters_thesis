{
 "cells": [
  {
   "cell_type": "code",
   "execution_count": 1,
   "id": "215ced00",
   "metadata": {},
   "outputs": [
    {
     "name": "stdout",
     "output_type": "stream",
     "text": [
      "1.9.3\n"
     ]
    }
   ],
   "source": [
    "# from community import community_louvain\n",
    "import gc\n",
    "import logging\n",
    "import os\n",
    "import matplotlib.pyplot as plt\n",
    "import networkx as nx\n",
    "import networkx.algorithms.community as nx_comm\n",
    "import numpy as np\n",
    "import random\n",
    "import scipy\n",
    "from scipy.optimize import differential_evolution, basinhopping, linprog\n",
    "import tensorflow as tf\n",
    "import tensorflow_constrained_optimization as tfco\n",
    "import warnings\n",
    "logger = tf.get_logger()\n",
    "print(scipy.__version__) # 1.9.3\n",
    "os.environ['KMP_DUPLICATE_LIB_OK']='True'"
   ]
  },
  {
   "cell_type": "code",
   "execution_count": 2,
   "id": "6f0e26e3",
   "metadata": {},
   "outputs": [],
   "source": [
    "logging.basicConfig(encoding='utf-8', level=logging.DEBUG,\n",
    "                    force = True)"
   ]
  },
  {
   "cell_type": "code",
   "execution_count": 3,
   "id": "6aca6114",
   "metadata": {},
   "outputs": [],
   "source": [
    "seed = 0\n",
    "np.random.seed(seed)\n",
    "tf.random.set_seed(seed)"
   ]
  },
  {
   "cell_type": "code",
   "execution_count": 4,
   "id": "0a1a1bed",
   "metadata": {},
   "outputs": [],
   "source": [
    "class DnnResult():\n",
    "    def __init__(self, theta, stuck):\n",
    "        self.theta = theta\n",
    "        self.stuck = stuck"
   ]
  },
  {
   "cell_type": "code",
   "execution_count": 5,
   "id": "2b5b94a4",
   "metadata": {},
   "outputs": [],
   "source": [
    "class ValidationResult():\n",
    "    def __init__(self, valid, can_add_nodes, contains_extra_nodes):\n",
    "        self.valid = valid\n",
    "        self.can_add_nodes = can_add_nodes\n",
    "        self.contains_extra_nodes = contains_extra_nodes        "
   ]
  },
  {
   "cell_type": "code",
   "execution_count": 154,
   "id": "7fdba4d2",
   "metadata": {},
   "outputs": [],
   "source": [
    "def graph1_adjacency_matrix():\n",
    "    return np.array([\n",
    "        [0, 1, 1, 0, 0, 0, 1, 0, ],\n",
    "        [1, 0, 0, 1, 0, 0, 0, 1, ],\n",
    "        [1, 0, 0, 1, 1, 0, 0, 0, ],\n",
    "        [0, 1, 1, 0, 0, 1, 0, 0, ],\n",
    "        [0, 0, 1, 0, 0, 1, 1, 0, ],\n",
    "        [0, 0, 0, 1, 1, 0, 0, 1, ],\n",
    "        [1, 0, 0, 0, 1, 0, 0, 1, ],\n",
    "        [0, 1, 0, 0, 0, 1, 1, 0, ],\n",
    "    ])\n"
   ]
  },
  {
   "cell_type": "code",
   "execution_count": 155,
   "id": "fcfb1f4c",
   "metadata": {},
   "outputs": [],
   "source": [
    "def build_test_graph1():\n",
    "    adj_mat = graph1_adjacency_matrix()\n",
    "    N = len(adj_mat)\n",
    "\n",
    "    G = nx.Graph()\n",
    "    for i in range(N):\n",
    "        G.add_node(i)\n",
    "\n",
    "    for i in range(N):\n",
    "        for j in range(N):\n",
    "            if adj_mat[i][j] == 1:\n",
    "                G.add_edge(i, j)\n",
    "                G.add_edge(j, i)\n",
    "    return G"
   ]
  },
  {
   "cell_type": "code",
   "execution_count": 156,
   "id": "ccf5b387",
   "metadata": {},
   "outputs": [],
   "source": [
    "def clip(l,r,x):\n",
    "    return max(l,min(r,x))\n",
    "\n",
    "def calc_W(G, C):\n",
    "    n = len(G.nodes())\n",
    "    m = len(G.edges())\n",
    "    W = np.zeros((n,n+m),dtype= 'float32')\n",
    "    for i in range(n):\n",
    "        W[i][i] = 1\n",
    "    j = n\n",
    "    for edge in G.edges():\n",
    "        x = int(edge[0])\n",
    "        y = int(edge[1])\n",
    "        W[x][j] = 1\n",
    "        W[y][j] = 1\n",
    "        j+=1\n",
    "    return W\n",
    "\n",
    "def calc_b(G, C):\n",
    "    n = len(G.nodes())\n",
    "    m = len(G.edges())\n",
    "    b = np.array([-1/2 for i in range(n)])\n",
    "    b_m = np.array([-1 for i in range(m)])\n",
    "    return np.concatenate((b,b_m))\n",
    "\n",
    "def calc_w(G, C):\n",
    "    n = len(G.nodes())\n",
    "    m = len(G.edges())\n",
    "    w = np.array([-1 for i in range(n)])\n",
    "    w_n = np.array([n for i in range(m)])\n",
    "    return np.concatenate((w,w_n))\n",
    "\n",
    "def build_theta(G):\n",
    "    n = len(G.nodes())\n",
    "    max_degree = max([G.degree(i) for i in range(n)])\n",
    "#     logging.debug(\"Max degree = {}\".format(max_degree))\n",
    "    if max_degree == 0:\n",
    "        return np.array([1 for i in range(n)])\n",
    "#     return np.array([1 for i in range(n)])\n",
    "    return np.array([clip(0,1,1 - G.degree(i)/max_degree + random.random()/10000) for i in range(n)])\n",
    "#     return np.array([random.random() for i in range(n)])\n",
    "\n",
    "def build_network(G):\n",
    "    logging.debug(\"Build network on graph G:{}.\".format(str(G)))\n",
    "    C = nx.complement(G)\n",
    "    W = calc_W(G, C)\n",
    "    b = calc_b(G, C)\n",
    "    w = calc_w(G, C)\n",
    "    theta = build_theta(G)\n",
    "#     logging.debug(\"Initial theta = {}\".format(theta))\n",
    "    return (W,b,w, theta, C)\n"
   ]
  },
  {
   "cell_type": "code",
   "execution_count": 157,
   "id": "e8bc84e6",
   "metadata": {},
   "outputs": [],
   "source": [
    "def get_result_nodes(theta, alpha = 0.5):\n",
    "    return set(np.argwhere(theta > alpha).reshape(-1))\n",
    "\n",
    "def not_connected_nodes_exist_in_G(G, result_nodes):\n",
    "    for v in G.nodes():\n",
    "        if v not in result_nodes:\n",
    "            node_not_connected_to_G = True\n",
    "            for edge in G.neighbors(v):\n",
    "                if edge in result_nodes:\n",
    "                    node_not_connected_to_G = False\n",
    "                    break\n",
    "            if node_not_connected_to_G:\n",
    "                return True\n",
    "    return False\n",
    "            \n",
    "def graph_has_no_edges(G, result_nodes):\n",
    "    for v in result_nodes:\n",
    "        for edge in G.neighbors(v):\n",
    "            if edge in result_nodes:\n",
    "                return False\n",
    "    return True\n",
    "\n",
    "def mis_is_valid(G, mis):\n",
    "    has_extra_nodes = not graph_has_no_edges(G, mis)\n",
    "    not_connected_nodes_exist = not_connected_nodes_exist_in_G(G, mis)\n",
    "    return ValidationResult(not has_extra_nodes and not not_connected_nodes_exist,\n",
    "                            not_connected_nodes_exist, has_extra_nodes)\n",
    "               \n",
    "def result_is_valid(G, theta):\n",
    "    result_nodes = get_result_nodes(theta)\n",
    "    return mis_is_valid(G, result_nodes).valid\n",
    "\n",
    "def network(theta,e_n,W_t,b,w_t):\n",
    "    h = tf.math.multiply(e_n,theta)\n",
    "    h = tf.linalg.matvec(W_t,h)\n",
    "    h = tf.add(h,b)\n",
    "    h = tf.nn.relu(h)\n",
    "    h = tf.tensordot(w_t,h, 1)\n",
    "    return h\n",
    "    \n",
    "def network_evol(theta,e_n,W_t,b,w_t):\n",
    "    return network(theta,e_n,W_t,b,w_t).numpy()\n",
    "\n",
    "def loss(theta,e_n,W_t,b,w_t,h_d):\n",
    "#     with tf.GradientTape() as tape:\n",
    "    h1 = tf.math.multiply(e_n,theta)\n",
    "    h2 = tf.linalg.matvec(W_t,h1)\n",
    "    h3 = tf.add(h2,b)\n",
    "    h4 = tf.nn.relu(h3)\n",
    "    h5 = tf.tensordot(w_t,h4, 1)\n",
    "    diff = (h5-h_d)**2   \n",
    "#     logging.debug(\"Gradient = {}\".format(tape.gradient(diff, theta)))\n",
    "#     logging.debug(\"Loss = {}\".format(diff))\n",
    "    return diff\n",
    "\n",
    "def loss_evol(theta,e_n,W_t,b,w_t,h_d):\n",
    "    h = network_evol(theta,e_n,W_t,b,w_t)\n",
    "    return (h-h_d)**2  \n",
    "\n",
    "def evolutionary_train(n,theta,e_n,W_t,b,w_t,h_d):\n",
    "    bounds = [(0,1) for i in range(n)]\n",
    "    theta = differential_evolution(loss_evol, bounds, x0 = theta, args = (e_n,W_t,b,w_t,h_d))\n",
    "    theta = theta.x\n",
    "    return DnnResult(theta, False)\n",
    "\n",
    "def vectors_are_close(a,b):\n",
    "    norm_diff = np.linalg.norm(a-b)\n",
    "    return norm_diff < 1e-6 \n",
    "\n",
    "class MinimizationProblem(tfco.ConstrainedMinimizationProblem):\n",
    "    def __init__(self, loss_fn, weights):\n",
    "        self._loss_fn = loss_fn\n",
    "        self._weights = weights\n",
    "    \n",
    "    @property\n",
    "    def num_constraints(self):\n",
    "        return len(self._weights.numpy()) * 2\n",
    "   \n",
    "    def objective(self):\n",
    "        return self._loss_fn()\n",
    "   \n",
    "    def constraints(self):\n",
    "        theta = self._weights\n",
    "        lt_or_eq_one = theta - 1\n",
    "        gt_or_eq_zero = -theta\n",
    "        constraints = tf.stack([lt_or_eq_one, gt_or_eq_zero])\n",
    "        return constraints\n",
    "\n",
    "def gradient_train(G, max_epochs, theta,e_n,W_t,b,w_t,h_d):\n",
    "    epoch = 0\n",
    "\n",
    "    def local_loss():\n",
    "        return loss(theta,e_n,W_t,b,w_t,h_d)\n",
    "    \n",
    "    \n",
    "    optimizer=tf.optimizers.Adam(learning_rate=0.1,)\n",
    "    var_list = theta\n",
    "#     problem = MinimizationProblem(local_loss, theta)\n",
    "    \n",
    "#     optimizer = tfco.ProxyLagrangianOptimizerV2(\n",
    "#       optimizer=tf.optimizers.Adam(learning_rate=0.1,),\n",
    "# #       constraint_optimizer=tf.optimizers.Adam(learning_rate=0.1,),\n",
    "#       num_constraints=problem.num_constraints)\n",
    "    \n",
    "#     var_list = ([theta] + list(problem.trainable_variables) + optimizer.trainable_variables())\n",
    "    \n",
    "    solver_stuck = False\n",
    "    previous_theta = np.copy(theta.numpy())\n",
    "#     logging.debug(\"theta = {}\".format(theta))\n",
    "    while not result_is_valid(G, theta) and epoch < max_epochs and not solver_stuck:\n",
    "#     while epoch < max_epochs and not solver_stuck:\n",
    "#     while not result_is_valid(G, theta):\n",
    "#         logging.debug(\"Epoch = {}\".format(epoch))\n",
    "#         optimizer.minimize(problem, var_list=var_list)\n",
    "        optimizer.minimize(local_loss, var_list=var_list)\n",
    "#         logging.debug(\"theta = {}\".format(theta))\n",
    "#         previous_error = local_loss()\n",
    "#         logging.debug(\"Loss = {}\".format(previous_error))\n",
    "        epoch+=1\n",
    "#         logging.debug(\"Theta={}\".format(theta.numpy()))\n",
    "#         logging.debug(\"Previous theta = {}\".format(previous_theta))\n",
    "        if np.allclose(previous_theta, theta.numpy()):\n",
    "            logging.debug(\"Solver stuck\")\n",
    "            solver_stuck = True\n",
    "#         if vectors_are_close(previous_theta,theta.numpy()):\n",
    "#             logging.debug(\"Solver approaches plateu.\")\n",
    "#             break\n",
    "        previous_theta = np.copy(theta.numpy())\n",
    "    if result_is_valid(G, theta):\n",
    "        logging.debug(\"Optimal solution found. Cardinality = {}\".format(len(get_result_nodes(theta))))\n",
    "        logging.debug(\"dNN solution is correct\")\n",
    "    else:\n",
    "        logging.debug(\"dNN solution is not correct\")\n",
    "        if not_connected_nodes_exist_in_G(G, get_result_nodes(theta)):\n",
    "            logging.debug(\"Can add more nodes to IS\")\n",
    "        else:\n",
    "            logging.debug(\"There are extra nodes in IS\")\n",
    "    if epoch == max_epochs:\n",
    "        logging.debug(\"Epochs exceeded maximum\")\n",
    "        \n",
    "    logging.debug(\"Total epochs = {}\".format(epoch))\n",
    "    logging.debug(\"dNN solution lenghth = {}\".format(len(get_result_nodes(theta))))\n",
    "    return DnnResult(theta.numpy(),solver_stuck or epoch == max_epochs)\n",
    "\n",
    "def train_network(G, max_epochs, method=\"gradient\"):\n",
    "    (W,b,w, theta, C) = build_network(G)\n",
    "    n = len(G.nodes())\n",
    "    W_t = tf.constant(W.T, dtype = 'float32')\n",
    "    b = tf.constant(b, dtype = 'float32')\n",
    "    w_t = tf.constant(w.T, dtype = 'float32')\n",
    "    theta = tf.Variable(theta,\n",
    "                        trainable=True,\n",
    "                        constraint = lambda x: tf.clip_by_value(theta,0,1),\n",
    "                        dtype = 'float32')\n",
    "    e_n = tf.constant(np.ones((n)),dtype = 'float32')\n",
    "    h_d = tf.constant(-n/2,dtype = 'float32') \n",
    "\n",
    "    if method == \"evolutionary\":\n",
    "        result = evolutionary_train(n,theta, e_n,W_t,b,w_t,h_d)\n",
    "    elif method == \"gradient\":\n",
    "        result = gradient_train(G, max_epochs,theta, e_n,W_t,b,w_t,h_d)\n",
    "    elif method == \"mixed\":\n",
    "        result = gradient_train(G, max_epochs,theta, e_n,W_t,b,w_t,h_d)\n",
    "        if not result_is_valid(G, result.theta):\n",
    "            logging.debug(\"Gradient method did not find solution. Trying evolutionary method...\")\n",
    "            theta = tf.Variable(build_theta(G),\n",
    "                        trainable=True,\n",
    "                        dtype = 'float32')\n",
    "            result = evolutionary_train(n,theta, e_n,W_t,b,w_t,h_d)\n",
    "    return result"
   ]
  },
  {
   "cell_type": "code",
   "execution_count": 158,
   "id": "e513419f",
   "metadata": {},
   "outputs": [],
   "source": [
    "def graphSets(graph): # Determinative algorithm to check correctness of the solution. Works too long for graphs >= 30 nodes.\n",
    "    # Base Case - Given Graph \n",
    "    # has no nodes\n",
    "    if(len(graph) == 0):\n",
    "        return []\n",
    "     \n",
    "    # Base Case - Given Graph\n",
    "    # has 1 node\n",
    "    if(len(graph) == 1):\n",
    "        return [list(graph.keys())[0]]\n",
    "      \n",
    "    # Select a vertex from the graph\n",
    "    vCurrent = list(graph.keys())[0]\n",
    "      \n",
    "    # Case 1 - Proceed removing\n",
    "    # the selected vertex\n",
    "    # from the Maximal Set\n",
    "    graph2 = dict(graph)\n",
    "      \n",
    "    # Delete current vertex \n",
    "    # from the Graph\n",
    "    del graph2[vCurrent]\n",
    "      \n",
    "    # Recursive call - Gets \n",
    "    # Maximal Set,\n",
    "    # assuming current Vertex \n",
    "    # not selected\n",
    "    res1 = graphSets(graph2)\n",
    "      \n",
    "    # Case 2 - Proceed considering\n",
    "    # the selected vertex as part\n",
    "    # of the Maximal Set\n",
    "  \n",
    "    # Loop through its neighbours\n",
    "    for v in graph[vCurrent]:\n",
    "          \n",
    "        # Delete neighbor from \n",
    "        # the current subgraph\n",
    "        if(v in graph2):\n",
    "            del graph2[v]\n",
    "      \n",
    "    # This result set contains VFirst,\n",
    "    # and the result of recursive\n",
    "    # call assuming neighbors of vFirst\n",
    "    # are not selected\n",
    "    res2 = [vCurrent] + graphSets(graph2)\n",
    "      \n",
    "    # Our final result is the one \n",
    "    # which is bigger, return it\n",
    "    if(len(res1) > len(res2)):\n",
    "        return res1\n",
    "    return res2\n",
    "\n",
    "def calculate_recursive_broot_force_result(G, draw_graph = True):\n",
    "    dict_G = nx.to_dict_of_lists(G)\n",
    "    print(\"Recursive approach\")\n",
    "    MIS = graphSets(dict_G)\n",
    "    print(MIS)\n",
    "    print(\"Length = \"+str(len(MIS)))\n",
    "    if draw_graph:\n",
    "        color_map = ['red' if node in MIS else 'blue' for node in G]\n",
    "        graph = nx.draw(G, node_color=color_map) # node lables\n",
    "        plt.show()"
   ]
  },
  {
   "cell_type": "code",
   "execution_count": 159,
   "id": "a6d126b6",
   "metadata": {},
   "outputs": [],
   "source": [
    "def calculate_determenistic_result(G, draw_graph = True):\n",
    "    print(\"Deterministic built-in approach\")\n",
    "    MIS = nx.maximal_independent_set(G)\n",
    "    print(MIS)\n",
    "    print(\"Length = \"+str(len(MIS)))\n",
    "    if draw_graph:\n",
    "        color_map = ['yellow' if node in MIS else 'blue' for node in G]\n",
    "        graph = nx.draw(G, node_color=color_map,with_labels = True) # node lables\n",
    "        plt.show()"
   ]
  },
  {
   "cell_type": "code",
   "execution_count": 160,
   "id": "71ca9cc1",
   "metadata": {},
   "outputs": [],
   "source": [
    "def calculate_DNN_result(G, theta, threshold = 0.5, draw_graph = True):\n",
    "    print(\"DNN approach\")\n",
    "    result_nodes = get_result_nodes(theta)\n",
    "    print(result_nodes)\n",
    "    print(\"Length = \"+str(len(result_nodes)))\n",
    "    if draw_graph:\n",
    "        color_map = ['green' if node in result_nodes else 'blue' for node in G]        \n",
    "        graph = nx.draw(G, node_color=color_map,with_labels = True) # node lables\n",
    "        plt.show()\n",
    "        \n",
    "def calculate_DNN_result(G, MIS, draw_graph = True):\n",
    "    print(MIS)\n",
    "    print(\"Length = \"+str(len(MIS)))\n",
    "    if draw_graph:\n",
    "        color_map = ['green' if node in MIS else 'blue' for node in G]        \n",
    "        graph = nx.draw(G, node_color=color_map,with_labels = True, font_color=\"white\") # node lables\n",
    "        plt.show()"
   ]
  },
  {
   "cell_type": "code",
   "execution_count": 161,
   "id": "605f6e1f",
   "metadata": {},
   "outputs": [],
   "source": [
    "def draw_DNN_result(G, max_epochs = 100,):\n",
    "    MIS = calculate_large_G(G)\n",
    "    calculate_DNN_result(G, MIS, draw_graph=True)"
   ]
  },
  {
   "cell_type": "code",
   "execution_count": 162,
   "id": "e4273bbf",
   "metadata": {},
   "outputs": [],
   "source": [
    "def read_G_from_file(filepath):\n",
    "    return nx.read_edgelist(filepath)"
   ]
  },
  {
   "cell_type": "code",
   "execution_count": 163,
   "id": "c6c5afa8",
   "metadata": {},
   "outputs": [],
   "source": [
    "# compareResults(nx.complete_graph(10), draw_graph=False) # Expected result = 1"
   ]
  },
  {
   "cell_type": "code",
   "execution_count": 164,
   "id": "0bfe563e",
   "metadata": {},
   "outputs": [],
   "source": [
    "# compareResults(nx.graph_atlas(1000),draw_graph=True)"
   ]
  },
  {
   "cell_type": "code",
   "execution_count": 165,
   "id": "ac5e095c",
   "metadata": {},
   "outputs": [],
   "source": [
    "# compareResults(nx.gnp_random_graph(20, 0.1), 200, True) #Expected result around 12-14"
   ]
  },
  {
   "cell_type": "code",
   "execution_count": 166,
   "id": "2cd035ab",
   "metadata": {},
   "outputs": [],
   "source": [
    "# compareResults(nx.gnp_random_graph(50, 0.075), max_epochs = 1000)"
   ]
  },
  {
   "cell_type": "code",
   "execution_count": 167,
   "id": "40d2e2f3",
   "metadata": {},
   "outputs": [],
   "source": [
    "# compareResults(nx.gnp_random_graph(100, 0.1), max_epochs = 1000, draw_graph=False)"
   ]
  },
  {
   "cell_type": "code",
   "execution_count": 168,
   "id": "563f8c0d",
   "metadata": {},
   "outputs": [],
   "source": [
    "def find_inter_cluster_edges(G, communities):\n",
    "    edges = dict()\n",
    "    for com in communities:\n",
    "        for node_i in communities[com]:\n",
    "            for neighbour_i in G.neighbors(node_i):\n",
    "                if neighbour_i not in communities[com]:\n",
    "                    if edges.get(node_i) is not None:\n",
    "                        edges[node_i].add(neighbour_i)\n",
    "                    else:\n",
    "                        edges[node_i] = {neighbour_i}\n",
    "                    if edges.get(neighbour_i) is not None:\n",
    "                        edges[neighbour_i].add(node_i)\n",
    "                    else:\n",
    "                        edges[neighbour_i] = {node_i}\n",
    "    return edges"
   ]
  },
  {
   "cell_type": "code",
   "execution_count": 169,
   "id": "8d8de4c4",
   "metadata": {},
   "outputs": [],
   "source": [
    "def find_forbidden_edges(G, R, independent_sets):\n",
    "#     logging.info(\"independent_sets={}\".format(independent_sets))\n",
    "    forbidden = []\n",
    "    for u, edges in R.items():\n",
    "        if u in independent_sets:\n",
    "            for v in edges:\n",
    "                if v in independent_sets:\n",
    "                    forbidden.append((u, v))\n",
    "#     logging.info(\"F={}\".format(forbidden))\n",
    "    return forbidden"
   ]
  },
  {
   "cell_type": "code",
   "execution_count": 170,
   "id": "154c88be",
   "metadata": {},
   "outputs": [],
   "source": [
    "def collect_list_by_dicts_key(partitions):\n",
    "    communities = {}\n",
    "    for key, val in partitions.items():\n",
    "        if communities.get(val) == None:\n",
    "            communities[val] = [key]\n",
    "        else:\n",
    "            communities[val].append(key)\n",
    "    return communities"
   ]
  },
  {
   "cell_type": "code",
   "execution_count": 171,
   "id": "40b8c11e",
   "metadata": {},
   "outputs": [],
   "source": [
    "def collect_communities_to_map(communities):\n",
    "    new_com = {}\n",
    "    index = 0\n",
    "    for com in communities:\n",
    "        new_com[index] = com\n",
    "        index+=1\n",
    "    return new_com"
   ]
  },
  {
   "cell_type": "code",
   "execution_count": 172,
   "id": "2e3cd5e9",
   "metadata": {},
   "outputs": [],
   "source": [
    "def build_G_from_nodes(G, nodes):\n",
    "    communities = {}\n",
    "    N = len(nodes)\n",
    "    new_G = nx.Graph()\n",
    "    index_map = dict()\n",
    "    node_map = dict()\n",
    "    index = 0\n",
    "    for node in nodes:\n",
    "        index_map[index] = node\n",
    "        node_map[node] = index\n",
    "        new_G.add_node(index)\n",
    "        index+=1\n",
    "    for i in nodes:\n",
    "        for j in nodes:\n",
    "            if G.has_edge(i,j):\n",
    "                new_G.add_edge(node_map[i], node_map[j])\n",
    "                new_G.add_edge(node_map[j], node_map[i])\n",
    "    return (new_G, index_map, node_map)"
   ]
  },
  {
   "cell_type": "code",
   "execution_count": 173,
   "id": "f6519066",
   "metadata": {},
   "outputs": [],
   "source": [
    "def node_is_new_candidate(G, node, mis):\n",
    "    for w in G.neighbors(node):\n",
    "        neighbors_in_mis_count = 0\n",
    "        if w not in mis:\n",
    "            for n_w in G.neighbors(w):\n",
    "                if n_w in mis:\n",
    "                    neighbors_in_mis_count += 1\n",
    "                    if neighbors_in_mis_count == 2:\n",
    "                        break\n",
    "            if neighbors_in_mis_count == 1:\n",
    "                return (True, w)\n",
    "    return (False, -1) "
   ]
  },
  {
   "cell_type": "code",
   "execution_count": 174,
   "id": "ef40dceb",
   "metadata": {},
   "outputs": [],
   "source": [
    "def get_node_with_most_occurences(F):\n",
    "    count_dict = dict()\n",
    "    for edge in F:\n",
    "        for node in edge:\n",
    "            if node in count_dict:\n",
    "                count_dict[node]+=1\n",
    "            else:\n",
    "                count_dict[node]=0\n",
    "    maximum = 0\n",
    "    max_node = None\n",
    "    for node in count_dict:\n",
    "        if count_dict[node] > maximum:\n",
    "            max_node = node\n",
    "    return node"
   ]
  },
  {
   "cell_type": "code",
   "execution_count": 175,
   "id": "4faf7da4",
   "metadata": {},
   "outputs": [],
   "source": [
    "def replace_node_if_possible(G,F,mis,node):\n",
    "    (can_be_replaced, new_node) = node_is_new_candidate(G,node,mis)\n",
    "    if can_be_replaced:\n",
    "        logging.debug(\"mis = {}\".format(mis))\n",
    "        logging.debug(\"Node {} can be replaced with {}\".format(node, new_node))\n",
    "        mis.remove(node)\n",
    "        mis.add(new_node)\n",
    "        return True\n",
    "    return False "
   ]
  },
  {
   "cell_type": "code",
   "execution_count": 176,
   "id": "fde280c8",
   "metadata": {},
   "outputs": [],
   "source": [
    "def replace_forbiden_nodes(G,R,F,mis):\n",
    "    logging.debug(\"Replacing forbiden nodes\")\n",
    "    while len(F) > 0:\n",
    "#         logging.debug(\"F = {}\".format(F))\n",
    "        replaced = False\n",
    "        for edge in F:\n",
    "            for node in edge:\n",
    "                replaced = replace_node_if_possible(G,F,mis,node)\n",
    "                if replaced:\n",
    "                    break\n",
    "            if replaced:\n",
    "                break\n",
    "        if not replaced:\n",
    "            node_to_be_removed = get_node_with_most_occurences(F)\n",
    "            logging.debug(\"Removing node {}.\".format(node_to_be_removed))\n",
    "            mis.remove(node_to_be_removed)\n",
    "        F = find_forbidden_edges(G, R, mis)\n",
    "    return mis"
   ]
  },
  {
   "cell_type": "code",
   "execution_count": 177,
   "id": "c2881cef",
   "metadata": {},
   "outputs": [],
   "source": [
    "def build_G_from_left_nodes(G, nodes):\n",
    "    mis_with_neighbours = set()\n",
    "    for node in nodes:\n",
    "        mis_with_neighbours.add(node)\n",
    "        for neighbour in G.neighbors(node):\n",
    "            mis_with_neighbours.add(neighbour)\n",
    "    nodes_left_to_process = set(G.nodes()).difference(mis_with_neighbours)\n",
    "    return build_G_from_nodes(G,nodes_left_to_process)"
   ]
  },
  {
   "cell_type": "code",
   "execution_count": 178,
   "id": "4b4d30f4",
   "metadata": {},
   "outputs": [],
   "source": [
    "def calculate_mis_with_left_nodes(G, mis_list, max_epochs,method):\n",
    "    (left_G, left_index_map, left_node_map)  = build_G_from_left_nodes(G, mis_list)\n",
    "    logging.debug(\"Left nodes = {}\".format([left_index_map[node] for node in left_G.nodes()]))\n",
    "    logging.debug(\"Left nodes length = {}\".format(len(left_G.nodes())))\n",
    "    if len(left_G.nodes()) > 100:\n",
    "        mis = calculate_large_G(left_G, max_epochs)\n",
    "    elif len(left_G.nodes()) > 0:\n",
    "        logging.debug(\"In left_G.nodes()) > 0\")\n",
    "        mis = validate_dnn_result(train_network(left_G, max_epochs,method),left_G)\n",
    "    else:\n",
    "        mis = {}\n",
    "    mis_correct = [left_index_map[node] for node in mis]\n",
    "    logging.debug(\"mis of left nodes = {}\".format(mis_correct))\n",
    "    mis_final = mis_list.union(mis_correct)\n",
    "    return mis_final"
   ]
  },
  {
   "cell_type": "code",
   "execution_count": 179,
   "id": "63d2262d",
   "metadata": {},
   "outputs": [],
   "source": [
    "def build_U_from_IS(_lambda, IS,G,):\n",
    "    if len(IS) == 0:\n",
    "        return []\n",
    "    degree_list_ascending = [(G.degree(node),node) for node in IS]\n",
    "    degree_list_ascending.sort(key=lambda pair: pair[0])\n",
    "    return [pair[1] for pair in degree_list_ascending[:min(_lambda, len(IS))]]"
   ]
  },
  {
   "cell_type": "code",
   "execution_count": 180,
   "id": "3e756a10",
   "metadata": {},
   "outputs": [],
   "source": [
    "def validate_dnn_result(dnn_result, G):\n",
    "#     if True:\n",
    "    theta_for_small_G = dnn_result.theta\n",
    "    return get_result_nodes(theta_for_small_G)\n",
    "    \n",
    "#     if dnn_result.stuck:\n",
    "#         if True:\n",
    "# #         if len(G.edges()) < 50:\n",
    "#             logging.debug(\"Solver stuck. Using local search...\")\n",
    "# #             dict_G = nx.to_dict_of_lists(G)\n",
    "# #             mis = graphSets(dict_G)\n",
    "#             mis = local_improvement(G,[0])\n",
    "# #             logging.debug(\"Local search mis length = {}\".format(len(mis)))\n",
    "#             logging.debug(\"Local search mis length = {}\".format(len(mis)))\n",
    "# #             \n",
    "#         else:\n",
    "#             communities = collect_communities_to_map(nx_comm.louvain_communities(G, resolution = 1.3, seed=seed))\n",
    "#             if len(communities) > 1:\n",
    "#                 logging.debug(\"Solver stuck. Too many edges to process for local search. Trying split graph to communities...\")\n",
    "#                 mis = calculate_large_G(G, resolution = 1.3)\n",
    "#             else:\n",
    "#                 logging.warning(\"Solver stuck. Too many edges to process for local search in 1 community. Picking any IS...\")\n",
    "#                 mis = nx.maximal_independent_set(G)\n",
    "#             logging.debug(\"validate_dnn_result:IS length = {}\".format(len(mis)))\n",
    "#         dnn_result_nodes = get_result_nodes(dnn_result.theta)\n",
    "#         if len(dnn_result_nodes) > len(mis) and result_is_valid(G, dnn_result.theta):\n",
    "#             return dnn_result_nodes\n",
    "#         else:\n",
    "#             return mis\n",
    "#     else:\n",
    "#         theta_for_small_G = dnn_result.theta\n",
    "#         return get_result_nodes(theta_for_small_G)"
   ]
  },
  {
   "cell_type": "code",
   "execution_count": 181,
   "id": "81b63a93",
   "metadata": {},
   "outputs": [],
   "source": [
    "def try_remove_nodes_with_small_degree(I, G, max_epochs, method):\n",
    "    _lambda = 5\n",
    "    I_star = I\n",
    "    logging.debug(\"In try_remove_nodes_with_small_degree. I = {}\".format(I))\n",
    "    index = 0\n",
    "#     graph = build_G_from_nodes(G,I_star)[0]\n",
    "#     logging.debug(\"graph_nodes = {}\".format(graph.nodes()))\n",
    "#     logging.debug(\"graph_edges = {}\".format(graph.edges()))\n",
    "#     nx.draw(graph,with_labels = True) # node lables\n",
    "#     plt.show()\n",
    "    while True:\n",
    "        U = build_U_from_IS(_lambda, I_star,G)\n",
    "        (reduced_G,index_map, node_map) = build_G_from_left_nodes(G, U)\n",
    "        if len(reduced_G.nodes()) < 20:\n",
    "            break\n",
    "        if index == 0:\n",
    "            logging.debug(\"Trying to calculate G removing nodes with small degress\")\n",
    "        index+=1\n",
    "        logging.debug(\"Removed nodes = {}\".format(U))\n",
    "        logging.debug(\"G_nodes={}\".format(G.nodes()))\n",
    "        logging.debug(\"new_small_G_nodes={}\".format({index_map[node] for node in reduced_G.nodes()}))\n",
    "        dnn_result = train_network(reduced_G, max_epochs,method)\n",
    "        mis_correct = {index_map[node] for node in validate_dnn_result(dnn_result, reduced_G)}\n",
    "        I = set(I).union(U)\n",
    "        if(len(I)>len(I_star)):\n",
    "            I_star = I\n",
    "        else:\n",
    "            I = I_star\n",
    "        _lambda+=1\n",
    "    logging.debug(\"Returning IS with length = {}\".format(len(I_star)))\n",
    "#     graph = build_G_from_nodes(G,I_star)[0]\n",
    "#     logging.debug(\"graph_nodes = {}\".format(graph.nodes()))\n",
    "#     logging.debug(\"graph_edges = {}\".format(graph.edges()))\n",
    "#     nx.draw(graph,with_labels = True) # node lables\n",
    "#     plt.show()\n",
    "    return I_star"
   ]
  },
  {
   "cell_type": "code",
   "execution_count": 182,
   "id": "76fb6937",
   "metadata": {},
   "outputs": [],
   "source": [
    "def log_error_if_mis_is_wrong(G,mis):\n",
    "    validation = mis_is_valid(G, mis)\n",
    "    if not validation.valid:\n",
    "        logger.error(\"Calculated mis is not correct!\")\n",
    "        logger.debug(\"mis = {}\".format(mis))\n",
    "        logger.debug(\"nodes = {}\".format(G.nodes()))\n",
    "        logger.debug(\"edges = {}\".format(G.edges()))\n",
    "        \n",
    "        if validation.can_add_nodes:\n",
    "            logger.error(\"Can add more nodes!\")\n",
    "        if validation.contains_extra_nodes:\n",
    "            logger.error(\"Has edges between nodes!\")\n",
    "    else:\n",
    "        logger.debug(\"Calculated mis is correct!\")"
   ]
  },
  {
   "cell_type": "code",
   "execution_count": 183,
   "id": "d1ef2ed8",
   "metadata": {},
   "outputs": [],
   "source": [
    "#\"KaMIS/deploy/out.graph\"\n",
    "def write_G_to_file_in_metis_format(G, path):\n",
    "    fh = open(path, \"w\")\n",
    "    fh.write(str(len(G.nodes()))+\" \"+ str(len(G.edges())) + \"\\n\")\n",
    "    for node in G.nodes():\n",
    "        neighbors = \"\"\n",
    "        for n in G.neighbors(node):\n",
    "            neighbors += str(n+1) + \" \"\n",
    "        neighbors = neighbors[:-1]\n",
    "        fh.write(neighbors + \"\\n\")\n",
    "    fh.close()\n",
    "    \n",
    "def read_redumis_result(path):\n",
    "    fh = open(path, \"r\")\n",
    "    lines = fh.readlines()\n",
    "    nodes = []\n",
    "    index = 1\n",
    "    for line in lines:\n",
    "        if \"1\" in line:\n",
    "            nodes.append(index)\n",
    "        index+=1\n",
    "    fh.close()\n",
    "    return nodes"
   ]
  },
  {
   "cell_type": "code",
   "execution_count": 184,
   "id": "6b25e43d",
   "metadata": {},
   "outputs": [],
   "source": [
    "def nodes_must_be_in_mis(G):\n",
    "    n = len(G.nodes())\n",
    "    m = len(G.edges())\n",
    "    v_0 = [0 for i in range(n)]\n",
    "    v_1_2 = [0.5 for i in range(n)]\n",
    "    v_1 = [1 for i in range(n)]\n",
    "    x_bound = [(0, 1) for i in range(n)]\n",
    "    c = [-1 for i in range(n)]\n",
    "    A = []\n",
    "    b=[]\n",
    "    for (u,v) in G.edges():\n",
    "        u = int(u)\n",
    "        v = int(v)\n",
    "        if u < v:\n",
    "            con = [0 for i in range(n)]\n",
    "            con[u] = 1\n",
    "            con[v] = 1\n",
    "            A.append(con)\n",
    "            b.append(1)\n",
    "    res = linprog(c, A_ub=A, b_ub=b, bounds=x_bound,method='highs',\n",
    "#                  integrality = [1 for i in range(n)]\n",
    "                 )\n",
    "    nodes_that_must_be_in_mis = set()\n",
    "    logging.debug(\"LP result = {}\".format(res.x))\n",
    "    for i in range(n):\n",
    "        if abs(res.x[i]-1)<0.001:\n",
    "            nodes_that_must_be_in_mis.add(i)\n",
    "    return nodes_that_must_be_in_mis"
   ]
  },
  {
   "cell_type": "code",
   "execution_count": 185,
   "id": "acf42595",
   "metadata": {},
   "outputs": [],
   "source": [
    "def nodes_that_are_clique(G):\n",
    "    cliques = set()\n",
    "    clique_neighbors = set()\n",
    "    for node in G.nodes():\n",
    "        if node not in clique_neighbors:\n",
    "            is_clique = True\n",
    "            neighbors = set(G.neighbors(node))\n",
    "            for n1 in neighbors:\n",
    "                for n2 in neighbors:\n",
    "                    if n1!=n2 and not G.has_edge(n1,n2):\n",
    "                        is_clique = False\n",
    "            if is_clique:\n",
    "                clique_neighbors.update(neighbors)\n",
    "                cliques.add(node)\n",
    "    return cliques"
   ]
  },
  {
   "cell_type": "code",
   "execution_count": 201,
   "id": "8cc93b4e",
   "metadata": {},
   "outputs": [],
   "source": [
    "def process_community(G, max_epochs, method, resolution, file_suffix):\n",
    "    dnn_result = train_network(G, max_epochs,method)\n",
    "    mis = validate_dnn_result(dnn_result, G)\n",
    "    logging.debug(\"MIS length = {}\".format(len(mis)))\n",
    "    log_error_if_mis_is_wrong(G, mis)\n",
    "#     mis = try_remove_nodes_with_small_degree(mis, G, max_epochs, method)\n",
    "#     logging.debug(\"MIS after removing nodes with small degrees length = {}\".format(len(mis)))\n",
    "#     logging.debug(\"MIS after removing nodes with small degrees in community = {}\".format(mis))\n",
    "    logging.debug(\"Checking community result is correct...\")\n",
    "    log_error_if_mis_is_wrong(G, mis)\n",
    "    return mis"
   ]
  },
  {
   "cell_type": "code",
   "execution_count": 202,
   "id": "5f274148",
   "metadata": {},
   "outputs": [],
   "source": [
    "def process_main_algo(G, max_epochs, method, resolution, file_suffix):\n",
    "    logging.debug(\"Trying find communities solution on graph with {} nodes and {} edges\".format(len(G.nodes()), len(G.edges())))\n",
    "    communities = collect_communities_to_map(nx_comm.louvain_communities(G, resolution, seed=seed))\n",
    "    logging.debug(\"Total communities {}\".format(len(communities)))\n",
    "    \n",
    "    mis_list = set()\n",
    "    community_index = 1\n",
    "    write_G_to_file_in_metis_format(G,  \"KaMIS/deploy/\"+file_suffix)\n",
    "    \n",
    "    for com in communities:\n",
    "        (G_com,index_map, node_map) = build_G_from_nodes(G, communities[com])\n",
    "        \n",
    "        logging.debug(\"Community {} processing...\".format(community_index))\n",
    "        write_G_to_file_in_metis_format(G_com,  \"KaMIS/deploy/\"+file_suffix+\"community_\" + str(com) )\n",
    "        mis_com = process_community(G_com, max_epochs, method, resolution, file_suffix)\n",
    "        mis_correct = {index_map[node] for node in mis_com}\n",
    "        logging.debug(\"MIS in community = {}\".format(mis_correct))\n",
    "        \n",
    "        mis_list = mis_list.union(mis_correct)        \n",
    "        community_index += 1\n",
    "        \n",
    "    logging.debug(\"MIS after all communitites processed length = {}\".format(len(mis_list)))\n",
    "    R = find_inter_cluster_edges(G, communities)\n",
    "#     logging.info(\"R={}\".format(R))\n",
    "    F = find_forbidden_edges(G, R, mis_list)\n",
    "    replace_forbiden_nodes(G,R,F,mis_list)\n",
    "    logging.debug(\"MIS after forbidden nodes processed length = {}\".format(len(mis_list)))\n",
    "    logging.debug(\"MIS={}\".format(mis_list))\n",
    "    mis_list = calculate_mis_with_left_nodes(G, mis_list, max_epochs,method)\n",
    "    logging.debug(\"MIS after left nodes processed={}\".format(mis_list))\n",
    "    logging.debug(\"MIS after left nodes processed length = {}\".format(len(mis_list)))\n",
    "    logging.debug(\"Checking main algo result is correct...\")\n",
    "    log_error_if_mis_is_wrong(G, mis_list)\n",
    "    return mis_list"
   ]
  },
  {
   "cell_type": "code",
   "execution_count": 203,
   "id": "16606f67",
   "metadata": {},
   "outputs": [],
   "source": [
    "def process_lp(G, max_epochs, method, resolution, file_suffix):\n",
    "    logging.debug(\"Trying find LP solution on graph with {} nodes and {} edges\".format(len(G.nodes()), len(G.edges())))\n",
    "    density = nx.density(G)\n",
    "    logging.debug(\"Density of G = {}\".format(density))\n",
    "    should_use_lp = density < 0.1\n",
    "    G_before_LP = G\n",
    "    if should_use_lp:\n",
    "        logging.debug(\"Removing nodes that must be in G according to LP solution\")\n",
    "        nodes_from_lp_solver = nodes_must_be_in_mis(G)\n",
    "        (G, index_map,_) = build_G_from_left_nodes(G, nodes_from_lp_solver)\n",
    "        logging.debug(\"Total nodes removed = {}\".format(len(nodes_from_lp_solver)))\n",
    "        if len(G.nodes()) == 0:\n",
    "            logging.debug(\"LP found MIS.\")\n",
    "            log_error_if_mis_is_wrong(G_before_LP, nodes_from_lp_solver)\n",
    "            logging.debug(\"Total nodes in MIS = {}\".format(len(nodes_from_lp_solver)))\n",
    "            return nodes_from_lp_solver\n",
    "    mis_list = process_main_algo(G, max_epochs, method, resolution, file_suffix)\n",
    "    if should_use_lp:\n",
    "        mis_list = {index_map[node] for node in mis_list}\n",
    "        mis_list = mis_list.union(nodes_from_lp_solver)\n",
    "    logging.debug(\"MIS after LP nodes processed={}\".format(mis_list))\n",
    "    logging.debug(\"Checking lp result is correct...\")\n",
    "    log_error_if_mis_is_wrong(G_before_LP, mis_list)\n",
    "    return mis_list"
   ]
  },
  {
   "cell_type": "code",
   "execution_count": 204,
   "id": "7746bc82",
   "metadata": {},
   "outputs": [],
   "source": [
    "def process_cliques(G, max_epochs, method, resolution, file_suffix):\n",
    "    logging.debug(\"Trying find cliques on graph with {} nodes and {} edges\".format(len(G.nodes()), len(G.edges())))\n",
    "    G_before_cliques = G\n",
    "    cliques = nodes_that_are_clique(G)\n",
    "    (G, cliques_index_map,_) = build_G_from_left_nodes(G, cliques)\n",
    "    logging.debug(\"Total cliques found = {}\".format(len(cliques)))\n",
    "    logging.debug(\"cliques = {}\".format(cliques))\n",
    "    if len(G.nodes()) == 0:\n",
    "        logging.debug(\"Cliques found MIS.\")\n",
    "        log_error_if_mis_is_wrong(initial_G, cliques)\n",
    "        logging.debug(\"Total nodes in MIS = {}\".format(len(cliques)))\n",
    "        return cliques\n",
    "    mis_list=process_lp(G, max_epochs, method, resolution, file_suffix)\n",
    "    mis_list = {cliques_index_map[node] for node in mis_list}\n",
    "    mis_list = mis_list.union(cliques)\n",
    "    logging.debug(\"MIS after cliques processed = {}\".format(mis_list))\n",
    "    logging.debug(\"Checking cliques result is correct...\")\n",
    "    log_error_if_mis_is_wrong(G_before_cliques, mis_list)\n",
    "    return mis_list"
   ]
  },
  {
   "cell_type": "code",
   "execution_count": 205,
   "id": "c6e83f1f",
   "metadata": {},
   "outputs": [],
   "source": [
    "def local_improvement(G, mis):\n",
    "    should_recalculate = True\n",
    "    mis_flags = [0 for node in G.nodes()]\n",
    "    for node in G.nodes():\n",
    "        if node in mis:\n",
    "            mis_flags[node] = 1\n",
    "    while should_recalculate:\n",
    "        L = [[] for i in range(len(mis_flags))]\n",
    "        for node in G.nodes():\n",
    "            if mis_flags[node] == 1:\n",
    "                for n in G.neighbors(node):\n",
    "                    tight = 0\n",
    "                    for k in G.neighbors(n):\n",
    "                        if mis_flags[k] == 1:\n",
    "                            tight+=1\n",
    "                    if tight == 1:\n",
    "                        L[node].append(n)\n",
    "                L[node].sort()\n",
    "#         logging.debug(\"L={}\".format(L))\n",
    "        \n",
    "        for x in range(len(mis_flags)):\n",
    "            if mis_flags[x] == 1:\n",
    "                replaced = False\n",
    "                if len(L[x]) > 1:\n",
    "                    for v in L[x]:\n",
    "                        for w in L[x]:\n",
    "                            if v < w and not G.has_edge(v,w):\n",
    "                                logging.debug(\"Replacing {} with {} and {}\".format(x,v,w))\n",
    "                                mis_flags[x] = 0\n",
    "                                mis_flags[v] = 1\n",
    "                                mis_flags[w] = 1\n",
    "                                replaced = True\n",
    "                                break\n",
    "                        if replaced:\n",
    "                            break\n",
    "                    if replaced:\n",
    "                            break\n",
    "        if not replaced:\n",
    "            for node in G.nodes():\n",
    "                if mis_flags[node] == 0:\n",
    "                    node_is_free = True\n",
    "                    for neigh in G.neighbors(node):\n",
    "                        if mis_flags[neigh] == 1:\n",
    "                            node_is_free = False\n",
    "                    if node_is_free:\n",
    "                        replaced = True\n",
    "                        logging.debug(\"Adding {}\".format(node))\n",
    "                        mis_flags[node] = 1\n",
    "                        break\n",
    "        should_recalculate = replaced\n",
    "    new_mis = set()\n",
    "    for i in range(len(mis_flags)):\n",
    "        if mis_flags[i]==1:\n",
    "            new_mis.add(i)\n",
    "    return new_mis"
   ]
  },
  {
   "cell_type": "code",
   "execution_count": 206,
   "id": "3c9ad2de",
   "metadata": {},
   "outputs": [],
   "source": [
    "def calculate_large_G(G, max_epochs = 1000, method='gradient', resolution = 0.8, file_suffix = \"graph\"):\n",
    "    logging.debug(\"Calculating G with nodes = {} edges = {}\".format(len(G.nodes()), len(G.edges())))\n",
    "    mis_list = process_community(G, max_epochs, method, resolution, file_suffix)\n",
    "    logging.debug(\"Total nodes in MIS={}\".format(mis_list))\n",
    "    log_error_if_mis_is_wrong(G, mis_list)\n",
    "    return mis_list"
   ]
  },
  {
   "cell_type": "code",
   "execution_count": 207,
   "id": "5f62801d",
   "metadata": {},
   "outputs": [],
   "source": [
    "def test_average_result_on_graph(G, graph_name, iterations = 5):\n",
    "    sum = 0\n",
    "    for i in range(iterations):\n",
    "        mis = calculate_large_G(G)\n",
    "        logging.info(\"MIS length = {}\".format(len(mis)))\n",
    "        sum+=len(mis)\n",
    "    print(\"dNN result on {} = {}\".format(graph_name,sum/iterations))"
   ]
  },
  {
   "cell_type": "code",
   "execution_count": 208,
   "id": "5c851977",
   "metadata": {},
   "outputs": [],
   "source": [
    "def test_network_on_graphs(graphs, method='gradient'):\n",
    "    sum = 0\n",
    "    edges = 0\n",
    "    n = len(graphs)\n",
    "    for i in range(n):\n",
    "        logging.info(\"Processing graph {}...\".format(str(i)))\n",
    "        mis = calculate_large_G(graphs[i],method=method,file_suffix=\"graph_\"+str(i)+\"_\" )\n",
    "        logging.info(\"Total MIS length found = {}\".format(len(mis)))\n",
    "        edges += len(graphs[i].edges())\n",
    "        sum+=len(mis)\n",
    "        logging.debug(\"\")\n",
    "    print(\"Average edges count = {}\".format(edges/n))\n",
    "    print(\"Average dNN result = {}\".format(sum/n))"
   ]
  },
  {
   "cell_type": "code",
   "execution_count": 209,
   "id": "c1fd6301",
   "metadata": {},
   "outputs": [],
   "source": [
    "def build_n_graphs(n, graph_func):\n",
    "    return [graph_func() for i in range(n)]"
   ]
  },
  {
   "cell_type": "code",
   "execution_count": 210,
   "id": "903d29be",
   "metadata": {},
   "outputs": [
    {
     "name": "stderr",
     "output_type": "stream",
     "text": [
      "DEBUG:root:Calculating G with nodes = 8 edges = 12\n",
      "DEBUG:root:Build network on graph G:Graph with 8 nodes and 12 edges.\n",
      "DEBUG:root:Solver stuck\n",
      "DEBUG:root:dNN solution is not correct\n",
      "DEBUG:root:Can add more nodes to IS\n",
      "DEBUG:root:Total epochs = 1\n",
      "DEBUG:root:dNN solution lenghth = 0\n",
      "DEBUG:root:MIS length = 0\n"
     ]
    },
    {
     "name": "stdout",
     "output_type": "stream",
     "text": [
      "ERROR:tensorflow:Calculated mis is not correct!\n"
     ]
    },
    {
     "name": "stderr",
     "output_type": "stream",
     "text": [
      "ERROR:tensorflow:Calculated mis is not correct!\n"
     ]
    },
    {
     "name": "stdout",
     "output_type": "stream",
     "text": [
      "ERROR:tensorflow:Can add more nodes!\n"
     ]
    },
    {
     "name": "stderr",
     "output_type": "stream",
     "text": [
      "ERROR:tensorflow:Can add more nodes!\n",
      "DEBUG:root:Checking community result is correct...\n"
     ]
    },
    {
     "name": "stdout",
     "output_type": "stream",
     "text": [
      "ERROR:tensorflow:Calculated mis is not correct!\n"
     ]
    },
    {
     "name": "stderr",
     "output_type": "stream",
     "text": [
      "ERROR:tensorflow:Calculated mis is not correct!\n"
     ]
    },
    {
     "name": "stdout",
     "output_type": "stream",
     "text": [
      "ERROR:tensorflow:Can add more nodes!\n"
     ]
    },
    {
     "name": "stderr",
     "output_type": "stream",
     "text": [
      "ERROR:tensorflow:Can add more nodes!\n",
      "DEBUG:root:Total nodes in MIS=set()\n"
     ]
    },
    {
     "name": "stdout",
     "output_type": "stream",
     "text": [
      "ERROR:tensorflow:Calculated mis is not correct!\n"
     ]
    },
    {
     "name": "stderr",
     "output_type": "stream",
     "text": [
      "ERROR:tensorflow:Calculated mis is not correct!\n"
     ]
    },
    {
     "name": "stdout",
     "output_type": "stream",
     "text": [
      "ERROR:tensorflow:Can add more nodes!\n"
     ]
    },
    {
     "name": "stderr",
     "output_type": "stream",
     "text": [
      "ERROR:tensorflow:Can add more nodes!\n",
      "DEBUG:matplotlib.axes._base:top of Axes not in the figure, so title not moved\n",
      "DEBUG:matplotlib.axes._base:top of Axes not in the figure, so title not moved\n",
      "DEBUG:matplotlib.axes._base:top of Axes not in the figure, so title not moved\n",
      "DEBUG:matplotlib.axes._base:top of Axes not in the figure, so title not moved\n"
     ]
    },
    {
     "name": "stdout",
     "output_type": "stream",
     "text": [
      "set()\n",
      "Length = 0\n"
     ]
    },
    {
     "data": {
      "image/png": "[encoded data removed]",
      "text/plain": [
       "<Figure size 432x288 with 1 Axes>"
      ]
     },
     "metadata": {},
     "output_type": "display_data"
    }
   ],
   "source": [
    "G = build_test_graph1()\n",
    "calculate_DNN_result(G, calculate_large_G(G), True)"
   ]
  },
  {
   "cell_type": "code",
   "execution_count": 199,
   "id": "30d4cc40",
   "metadata": {},
   "outputs": [],
   "source": [
    "networks = build_n_graphs(20, lambda: nx.erdos_renyi_graph(100,0.1), )"
   ]
  },
  {
   "cell_type": "code",
   "execution_count": 211,
   "id": "51ae2007",
   "metadata": {},
   "outputs": [
    {
     "name": "stderr",
     "output_type": "stream",
     "text": [
      "INFO:root:Processing graph 0...\n",
      "DEBUG:root:Calculating G with nodes = 100 edges = 485\n",
      "DEBUG:root:Build network on graph G:Graph with 100 nodes and 485 edges.\n",
      "DEBUG:root:Solver stuck\n",
      "DEBUG:root:dNN solution is not correct\n",
      "DEBUG:root:Can add more nodes to IS\n",
      "DEBUG:root:Total epochs = 129\n",
      "DEBUG:root:dNN solution lenghth = 0\n",
      "DEBUG:root:MIS length = 0\n"
     ]
    },
    {
     "name": "stdout",
     "output_type": "stream",
     "text": [
      "ERROR:tensorflow:Calculated mis is not correct!\n"
     ]
    },
    {
     "name": "stderr",
     "output_type": "stream",
     "text": [
      "ERROR:tensorflow:Calculated mis is not correct!\n"
     ]
    },
    {
     "name": "stdout",
     "output_type": "stream",
     "text": [
      "ERROR:tensorflow:Can add more nodes!\n"
     ]
    },
    {
     "name": "stderr",
     "output_type": "stream",
     "text": [
      "ERROR:tensorflow:Can add more nodes!\n",
      "DEBUG:root:Checking community result is correct...\n"
     ]
    },
    {
     "name": "stdout",
     "output_type": "stream",
     "text": [
      "ERROR:tensorflow:Calculated mis is not correct!\n"
     ]
    },
    {
     "name": "stderr",
     "output_type": "stream",
     "text": [
      "ERROR:tensorflow:Calculated mis is not correct!\n"
     ]
    },
    {
     "name": "stdout",
     "output_type": "stream",
     "text": [
      "ERROR:tensorflow:Can add more nodes!\n"
     ]
    },
    {
     "name": "stderr",
     "output_type": "stream",
     "text": [
      "ERROR:tensorflow:Can add more nodes!\n",
      "DEBUG:root:Total nodes in MIS=set()\n"
     ]
    },
    {
     "name": "stdout",
     "output_type": "stream",
     "text": [
      "ERROR:tensorflow:Calculated mis is not correct!\n"
     ]
    },
    {
     "name": "stderr",
     "output_type": "stream",
     "text": [
      "ERROR:tensorflow:Calculated mis is not correct!\n"
     ]
    },
    {
     "name": "stdout",
     "output_type": "stream",
     "text": [
      "ERROR:tensorflow:Can add more nodes!\n"
     ]
    },
    {
     "name": "stderr",
     "output_type": "stream",
     "text": [
      "ERROR:tensorflow:Can add more nodes!\n",
      "INFO:root:Total MIS length found = 0\n",
      "DEBUG:root:\n",
      "INFO:root:Processing graph 1...\n",
      "DEBUG:root:Calculating G with nodes = 100 edges = 510\n",
      "DEBUG:root:Build network on graph G:Graph with 100 nodes and 510 edges.\n",
      "DEBUG:root:Solver stuck\n",
      "DEBUG:root:dNN solution is not correct\n",
      "DEBUG:root:Can add more nodes to IS\n",
      "DEBUG:root:Total epochs = 157\n",
      "DEBUG:root:dNN solution lenghth = 0\n",
      "DEBUG:root:MIS length = 0\n"
     ]
    },
    {
     "name": "stdout",
     "output_type": "stream",
     "text": [
      "ERROR:tensorflow:Calculated mis is not correct!\n"
     ]
    },
    {
     "name": "stderr",
     "output_type": "stream",
     "text": [
      "ERROR:tensorflow:Calculated mis is not correct!\n"
     ]
    },
    {
     "name": "stdout",
     "output_type": "stream",
     "text": [
      "ERROR:tensorflow:Can add more nodes!\n"
     ]
    },
    {
     "name": "stderr",
     "output_type": "stream",
     "text": [
      "ERROR:tensorflow:Can add more nodes!\n",
      "DEBUG:root:Checking community result is correct...\n"
     ]
    },
    {
     "name": "stdout",
     "output_type": "stream",
     "text": [
      "ERROR:tensorflow:Calculated mis is not correct!\n"
     ]
    },
    {
     "name": "stderr",
     "output_type": "stream",
     "text": [
      "ERROR:tensorflow:Calculated mis is not correct!\n"
     ]
    },
    {
     "name": "stdout",
     "output_type": "stream",
     "text": [
      "ERROR:tensorflow:Can add more nodes!\n"
     ]
    },
    {
     "name": "stderr",
     "output_type": "stream",
     "text": [
      "ERROR:tensorflow:Can add more nodes!\n",
      "DEBUG:root:Total nodes in MIS=set()\n"
     ]
    },
    {
     "name": "stdout",
     "output_type": "stream",
     "text": [
      "ERROR:tensorflow:Calculated mis is not correct!\n"
     ]
    },
    {
     "name": "stderr",
     "output_type": "stream",
     "text": [
      "ERROR:tensorflow:Calculated mis is not correct!\n"
     ]
    },
    {
     "name": "stdout",
     "output_type": "stream",
     "text": [
      "ERROR:tensorflow:Can add more nodes!\n"
     ]
    },
    {
     "name": "stderr",
     "output_type": "stream",
     "text": [
      "ERROR:tensorflow:Can add more nodes!\n",
      "INFO:root:Total MIS length found = 0\n",
      "DEBUG:root:\n",
      "INFO:root:Processing graph 2...\n",
      "DEBUG:root:Calculating G with nodes = 100 edges = 498\n",
      "DEBUG:root:Build network on graph G:Graph with 100 nodes and 498 edges.\n",
      "DEBUG:root:Solver stuck\n",
      "DEBUG:root:dNN solution is not correct\n",
      "DEBUG:root:Can add more nodes to IS\n",
      "DEBUG:root:Total epochs = 133\n",
      "DEBUG:root:dNN solution lenghth = 0\n",
      "DEBUG:root:MIS length = 0\n"
     ]
    },
    {
     "name": "stdout",
     "output_type": "stream",
     "text": [
      "ERROR:tensorflow:Calculated mis is not correct!\n"
     ]
    },
    {
     "name": "stderr",
     "output_type": "stream",
     "text": [
      "ERROR:tensorflow:Calculated mis is not correct!\n"
     ]
    },
    {
     "name": "stdout",
     "output_type": "stream",
     "text": [
      "ERROR:tensorflow:Can add more nodes!\n"
     ]
    },
    {
     "name": "stderr",
     "output_type": "stream",
     "text": [
      "ERROR:tensorflow:Can add more nodes!\n",
      "DEBUG:root:Checking community result is correct...\n"
     ]
    },
    {
     "name": "stdout",
     "output_type": "stream",
     "text": [
      "ERROR:tensorflow:Calculated mis is not correct!\n"
     ]
    },
    {
     "name": "stderr",
     "output_type": "stream",
     "text": [
      "ERROR:tensorflow:Calculated mis is not correct!\n"
     ]
    },
    {
     "name": "stdout",
     "output_type": "stream",
     "text": [
      "ERROR:tensorflow:Can add more nodes!\n"
     ]
    },
    {
     "name": "stderr",
     "output_type": "stream",
     "text": [
      "ERROR:tensorflow:Can add more nodes!\n",
      "DEBUG:root:Total nodes in MIS=set()\n"
     ]
    },
    {
     "name": "stdout",
     "output_type": "stream",
     "text": [
      "ERROR:tensorflow:Calculated mis is not correct!\n"
     ]
    },
    {
     "name": "stderr",
     "output_type": "stream",
     "text": [
      "ERROR:tensorflow:Calculated mis is not correct!\n"
     ]
    },
    {
     "name": "stdout",
     "output_type": "stream",
     "text": [
      "ERROR:tensorflow:Can add more nodes!\n"
     ]
    },
    {
     "name": "stderr",
     "output_type": "stream",
     "text": [
      "ERROR:tensorflow:Can add more nodes!\n",
      "INFO:root:Total MIS length found = 0\n",
      "DEBUG:root:\n",
      "INFO:root:Processing graph 3...\n",
      "DEBUG:root:Calculating G with nodes = 100 edges = 503\n",
      "DEBUG:root:Build network on graph G:Graph with 100 nodes and 503 edges.\n",
      "DEBUG:root:Solver stuck\n",
      "DEBUG:root:dNN solution is not correct\n",
      "DEBUG:root:Can add more nodes to IS\n",
      "DEBUG:root:Total epochs = 149\n",
      "DEBUG:root:dNN solution lenghth = 0\n",
      "DEBUG:root:MIS length = 0\n"
     ]
    },
    {
     "name": "stdout",
     "output_type": "stream",
     "text": [
      "ERROR:tensorflow:Calculated mis is not correct!\n"
     ]
    },
    {
     "name": "stderr",
     "output_type": "stream",
     "text": [
      "ERROR:tensorflow:Calculated mis is not correct!\n"
     ]
    },
    {
     "name": "stdout",
     "output_type": "stream",
     "text": [
      "ERROR:tensorflow:Can add more nodes!\n"
     ]
    },
    {
     "name": "stderr",
     "output_type": "stream",
     "text": [
      "ERROR:tensorflow:Can add more nodes!\n",
      "DEBUG:root:Checking community result is correct...\n"
     ]
    },
    {
     "name": "stdout",
     "output_type": "stream",
     "text": [
      "ERROR:tensorflow:Calculated mis is not correct!\n"
     ]
    },
    {
     "name": "stderr",
     "output_type": "stream",
     "text": [
      "ERROR:tensorflow:Calculated mis is not correct!\n"
     ]
    },
    {
     "name": "stdout",
     "output_type": "stream",
     "text": [
      "ERROR:tensorflow:Can add more nodes!\n"
     ]
    },
    {
     "name": "stderr",
     "output_type": "stream",
     "text": [
      "ERROR:tensorflow:Can add more nodes!\n",
      "DEBUG:root:Total nodes in MIS=set()\n"
     ]
    },
    {
     "name": "stdout",
     "output_type": "stream",
     "text": [
      "ERROR:tensorflow:Calculated mis is not correct!\n"
     ]
    },
    {
     "name": "stderr",
     "output_type": "stream",
     "text": [
      "ERROR:tensorflow:Calculated mis is not correct!\n"
     ]
    },
    {
     "name": "stdout",
     "output_type": "stream",
     "text": [
      "ERROR:tensorflow:Can add more nodes!\n"
     ]
    },
    {
     "name": "stderr",
     "output_type": "stream",
     "text": [
      "ERROR:tensorflow:Can add more nodes!\n",
      "INFO:root:Total MIS length found = 0\n",
      "DEBUG:root:\n",
      "INFO:root:Processing graph 4...\n",
      "DEBUG:root:Calculating G with nodes = 100 edges = 486\n",
      "DEBUG:root:Build network on graph G:Graph with 100 nodes and 486 edges.\n",
      "DEBUG:root:Solver stuck\n",
      "DEBUG:root:dNN solution is not correct\n",
      "DEBUG:root:Can add more nodes to IS\n",
      "DEBUG:root:Total epochs = 125\n",
      "DEBUG:root:dNN solution lenghth = 0\n",
      "DEBUG:root:MIS length = 0\n"
     ]
    },
    {
     "name": "stdout",
     "output_type": "stream",
     "text": [
      "ERROR:tensorflow:Calculated mis is not correct!\n"
     ]
    },
    {
     "name": "stderr",
     "output_type": "stream",
     "text": [
      "ERROR:tensorflow:Calculated mis is not correct!\n"
     ]
    },
    {
     "name": "stdout",
     "output_type": "stream",
     "text": [
      "ERROR:tensorflow:Can add more nodes!\n"
     ]
    },
    {
     "name": "stderr",
     "output_type": "stream",
     "text": [
      "ERROR:tensorflow:Can add more nodes!\n",
      "DEBUG:root:Checking community result is correct...\n"
     ]
    },
    {
     "name": "stdout",
     "output_type": "stream",
     "text": [
      "ERROR:tensorflow:Calculated mis is not correct!\n"
     ]
    },
    {
     "name": "stderr",
     "output_type": "stream",
     "text": [
      "ERROR:tensorflow:Calculated mis is not correct!\n"
     ]
    },
    {
     "name": "stdout",
     "output_type": "stream",
     "text": [
      "ERROR:tensorflow:Can add more nodes!\n"
     ]
    },
    {
     "name": "stderr",
     "output_type": "stream",
     "text": [
      "ERROR:tensorflow:Can add more nodes!\n",
      "DEBUG:root:Total nodes in MIS=set()\n"
     ]
    },
    {
     "name": "stdout",
     "output_type": "stream",
     "text": [
      "ERROR:tensorflow:Calculated mis is not correct!\n"
     ]
    },
    {
     "name": "stderr",
     "output_type": "stream",
     "text": [
      "ERROR:tensorflow:Calculated mis is not correct!\n"
     ]
    },
    {
     "name": "stdout",
     "output_type": "stream",
     "text": [
      "ERROR:tensorflow:Can add more nodes!\n"
     ]
    },
    {
     "name": "stderr",
     "output_type": "stream",
     "text": [
      "ERROR:tensorflow:Can add more nodes!\n",
      "INFO:root:Total MIS length found = 0\n",
      "DEBUG:root:\n",
      "INFO:root:Processing graph 5...\n",
      "DEBUG:root:Calculating G with nodes = 100 edges = 497\n",
      "DEBUG:root:Build network on graph G:Graph with 100 nodes and 497 edges.\n",
      "DEBUG:root:Solver stuck\n",
      "DEBUG:root:dNN solution is not correct\n",
      "DEBUG:root:Can add more nodes to IS\n",
      "DEBUG:root:Total epochs = 135\n",
      "DEBUG:root:dNN solution lenghth = 0\n",
      "DEBUG:root:MIS length = 0\n"
     ]
    },
    {
     "name": "stdout",
     "output_type": "stream",
     "text": [
      "ERROR:tensorflow:Calculated mis is not correct!\n"
     ]
    },
    {
     "name": "stderr",
     "output_type": "stream",
     "text": [
      "ERROR:tensorflow:Calculated mis is not correct!\n"
     ]
    },
    {
     "name": "stdout",
     "output_type": "stream",
     "text": [
      "ERROR:tensorflow:Can add more nodes!\n"
     ]
    },
    {
     "name": "stderr",
     "output_type": "stream",
     "text": [
      "ERROR:tensorflow:Can add more nodes!\n",
      "DEBUG:root:Checking community result is correct...\n"
     ]
    },
    {
     "name": "stdout",
     "output_type": "stream",
     "text": [
      "ERROR:tensorflow:Calculated mis is not correct!\n"
     ]
    },
    {
     "name": "stderr",
     "output_type": "stream",
     "text": [
      "ERROR:tensorflow:Calculated mis is not correct!\n"
     ]
    },
    {
     "name": "stdout",
     "output_type": "stream",
     "text": [
      "ERROR:tensorflow:Can add more nodes!\n"
     ]
    },
    {
     "name": "stderr",
     "output_type": "stream",
     "text": [
      "ERROR:tensorflow:Can add more nodes!\n",
      "DEBUG:root:Total nodes in MIS=set()\n"
     ]
    },
    {
     "name": "stdout",
     "output_type": "stream",
     "text": [
      "ERROR:tensorflow:Calculated mis is not correct!\n"
     ]
    },
    {
     "name": "stderr",
     "output_type": "stream",
     "text": [
      "ERROR:tensorflow:Calculated mis is not correct!\n"
     ]
    },
    {
     "name": "stdout",
     "output_type": "stream",
     "text": [
      "ERROR:tensorflow:Can add more nodes!\n"
     ]
    },
    {
     "name": "stderr",
     "output_type": "stream",
     "text": [
      "ERROR:tensorflow:Can add more nodes!\n",
      "INFO:root:Total MIS length found = 0\n",
      "DEBUG:root:\n",
      "INFO:root:Processing graph 6...\n",
      "DEBUG:root:Calculating G with nodes = 100 edges = 500\n",
      "DEBUG:root:Build network on graph G:Graph with 100 nodes and 500 edges.\n",
      "DEBUG:root:Solver stuck\n",
      "DEBUG:root:dNN solution is not correct\n",
      "DEBUG:root:Can add more nodes to IS\n",
      "DEBUG:root:Total epochs = 129\n",
      "DEBUG:root:dNN solution lenghth = 0\n",
      "DEBUG:root:MIS length = 0\n"
     ]
    },
    {
     "name": "stdout",
     "output_type": "stream",
     "text": [
      "ERROR:tensorflow:Calculated mis is not correct!\n"
     ]
    },
    {
     "name": "stderr",
     "output_type": "stream",
     "text": [
      "ERROR:tensorflow:Calculated mis is not correct!\n"
     ]
    },
    {
     "name": "stdout",
     "output_type": "stream",
     "text": [
      "ERROR:tensorflow:Can add more nodes!\n"
     ]
    },
    {
     "name": "stderr",
     "output_type": "stream",
     "text": [
      "ERROR:tensorflow:Can add more nodes!\n",
      "DEBUG:root:Checking community result is correct...\n"
     ]
    },
    {
     "name": "stdout",
     "output_type": "stream",
     "text": [
      "ERROR:tensorflow:Calculated mis is not correct!\n"
     ]
    },
    {
     "name": "stderr",
     "output_type": "stream",
     "text": [
      "ERROR:tensorflow:Calculated mis is not correct!\n"
     ]
    },
    {
     "name": "stdout",
     "output_type": "stream",
     "text": [
      "ERROR:tensorflow:Can add more nodes!\n"
     ]
    },
    {
     "name": "stderr",
     "output_type": "stream",
     "text": [
      "ERROR:tensorflow:Can add more nodes!\n",
      "DEBUG:root:Total nodes in MIS=set()\n"
     ]
    },
    {
     "name": "stdout",
     "output_type": "stream",
     "text": [
      "ERROR:tensorflow:Calculated mis is not correct!\n"
     ]
    },
    {
     "name": "stderr",
     "output_type": "stream",
     "text": [
      "ERROR:tensorflow:Calculated mis is not correct!\n"
     ]
    },
    {
     "name": "stdout",
     "output_type": "stream",
     "text": [
      "ERROR:tensorflow:Can add more nodes!\n"
     ]
    },
    {
     "name": "stderr",
     "output_type": "stream",
     "text": [
      "ERROR:tensorflow:Can add more nodes!\n",
      "INFO:root:Total MIS length found = 0\n",
      "DEBUG:root:\n",
      "INFO:root:Processing graph 7...\n",
      "DEBUG:root:Calculating G with nodes = 100 edges = 517\n",
      "DEBUG:root:Build network on graph G:Graph with 100 nodes and 517 edges.\n",
      "DEBUG:root:Solver stuck\n",
      "DEBUG:root:dNN solution is not correct\n",
      "DEBUG:root:Can add more nodes to IS\n",
      "DEBUG:root:Total epochs = 146\n",
      "DEBUG:root:dNN solution lenghth = 0\n",
      "DEBUG:root:MIS length = 0\n"
     ]
    },
    {
     "name": "stdout",
     "output_type": "stream",
     "text": [
      "ERROR:tensorflow:Calculated mis is not correct!\n"
     ]
    },
    {
     "name": "stderr",
     "output_type": "stream",
     "text": [
      "ERROR:tensorflow:Calculated mis is not correct!\n"
     ]
    },
    {
     "name": "stdout",
     "output_type": "stream",
     "text": [
      "ERROR:tensorflow:Can add more nodes!\n"
     ]
    },
    {
     "name": "stderr",
     "output_type": "stream",
     "text": [
      "ERROR:tensorflow:Can add more nodes!\n",
      "DEBUG:root:Checking community result is correct...\n"
     ]
    },
    {
     "name": "stdout",
     "output_type": "stream",
     "text": [
      "ERROR:tensorflow:Calculated mis is not correct!\n"
     ]
    },
    {
     "name": "stderr",
     "output_type": "stream",
     "text": [
      "ERROR:tensorflow:Calculated mis is not correct!\n"
     ]
    },
    {
     "name": "stdout",
     "output_type": "stream",
     "text": [
      "ERROR:tensorflow:Can add more nodes!\n"
     ]
    },
    {
     "name": "stderr",
     "output_type": "stream",
     "text": [
      "ERROR:tensorflow:Can add more nodes!\n",
      "DEBUG:root:Total nodes in MIS=set()\n"
     ]
    },
    {
     "name": "stdout",
     "output_type": "stream",
     "text": [
      "ERROR:tensorflow:Calculated mis is not correct!\n"
     ]
    },
    {
     "name": "stderr",
     "output_type": "stream",
     "text": [
      "ERROR:tensorflow:Calculated mis is not correct!\n"
     ]
    },
    {
     "name": "stdout",
     "output_type": "stream",
     "text": [
      "ERROR:tensorflow:Can add more nodes!\n"
     ]
    },
    {
     "name": "stderr",
     "output_type": "stream",
     "text": [
      "ERROR:tensorflow:Can add more nodes!\n",
      "INFO:root:Total MIS length found = 0\n",
      "DEBUG:root:\n",
      "INFO:root:Processing graph 8...\n",
      "DEBUG:root:Calculating G with nodes = 100 edges = 508\n",
      "DEBUG:root:Build network on graph G:Graph with 100 nodes and 508 edges.\n",
      "DEBUG:root:Solver stuck\n",
      "DEBUG:root:dNN solution is not correct\n",
      "DEBUG:root:Can add more nodes to IS\n",
      "DEBUG:root:Total epochs = 133\n",
      "DEBUG:root:dNN solution lenghth = 0\n",
      "DEBUG:root:MIS length = 0\n"
     ]
    },
    {
     "name": "stdout",
     "output_type": "stream",
     "text": [
      "ERROR:tensorflow:Calculated mis is not correct!\n"
     ]
    },
    {
     "name": "stderr",
     "output_type": "stream",
     "text": [
      "ERROR:tensorflow:Calculated mis is not correct!\n"
     ]
    },
    {
     "name": "stdout",
     "output_type": "stream",
     "text": [
      "ERROR:tensorflow:Can add more nodes!\n"
     ]
    },
    {
     "name": "stderr",
     "output_type": "stream",
     "text": [
      "ERROR:tensorflow:Can add more nodes!\n",
      "DEBUG:root:Checking community result is correct...\n"
     ]
    },
    {
     "name": "stdout",
     "output_type": "stream",
     "text": [
      "ERROR:tensorflow:Calculated mis is not correct!\n"
     ]
    },
    {
     "name": "stderr",
     "output_type": "stream",
     "text": [
      "ERROR:tensorflow:Calculated mis is not correct!\n"
     ]
    },
    {
     "name": "stdout",
     "output_type": "stream",
     "text": [
      "ERROR:tensorflow:Can add more nodes!\n"
     ]
    },
    {
     "name": "stderr",
     "output_type": "stream",
     "text": [
      "ERROR:tensorflow:Can add more nodes!\n",
      "DEBUG:root:Total nodes in MIS=set()\n"
     ]
    },
    {
     "name": "stdout",
     "output_type": "stream",
     "text": [
      "ERROR:tensorflow:Calculated mis is not correct!\n"
     ]
    },
    {
     "name": "stderr",
     "output_type": "stream",
     "text": [
      "ERROR:tensorflow:Calculated mis is not correct!\n"
     ]
    },
    {
     "name": "stdout",
     "output_type": "stream",
     "text": [
      "ERROR:tensorflow:Can add more nodes!\n"
     ]
    },
    {
     "name": "stderr",
     "output_type": "stream",
     "text": [
      "ERROR:tensorflow:Can add more nodes!\n",
      "INFO:root:Total MIS length found = 0\n",
      "DEBUG:root:\n",
      "INFO:root:Processing graph 9...\n",
      "DEBUG:root:Calculating G with nodes = 100 edges = 489\n",
      "DEBUG:root:Build network on graph G:Graph with 100 nodes and 489 edges.\n",
      "DEBUG:root:Solver stuck\n",
      "DEBUG:root:dNN solution is not correct\n",
      "DEBUG:root:Can add more nodes to IS\n",
      "DEBUG:root:Total epochs = 133\n",
      "DEBUG:root:dNN solution lenghth = 0\n",
      "DEBUG:root:MIS length = 0\n"
     ]
    },
    {
     "name": "stdout",
     "output_type": "stream",
     "text": [
      "ERROR:tensorflow:Calculated mis is not correct!\n"
     ]
    },
    {
     "name": "stderr",
     "output_type": "stream",
     "text": [
      "ERROR:tensorflow:Calculated mis is not correct!\n"
     ]
    },
    {
     "name": "stdout",
     "output_type": "stream",
     "text": [
      "ERROR:tensorflow:Can add more nodes!\n"
     ]
    },
    {
     "name": "stderr",
     "output_type": "stream",
     "text": [
      "ERROR:tensorflow:Can add more nodes!\n",
      "DEBUG:root:Checking community result is correct...\n"
     ]
    },
    {
     "name": "stdout",
     "output_type": "stream",
     "text": [
      "ERROR:tensorflow:Calculated mis is not correct!\n"
     ]
    },
    {
     "name": "stderr",
     "output_type": "stream",
     "text": [
      "ERROR:tensorflow:Calculated mis is not correct!\n"
     ]
    },
    {
     "name": "stdout",
     "output_type": "stream",
     "text": [
      "ERROR:tensorflow:Can add more nodes!\n"
     ]
    },
    {
     "name": "stderr",
     "output_type": "stream",
     "text": [
      "ERROR:tensorflow:Can add more nodes!\n",
      "DEBUG:root:Total nodes in MIS=set()\n"
     ]
    },
    {
     "name": "stdout",
     "output_type": "stream",
     "text": [
      "ERROR:tensorflow:Calculated mis is not correct!\n"
     ]
    },
    {
     "name": "stderr",
     "output_type": "stream",
     "text": [
      "ERROR:tensorflow:Calculated mis is not correct!\n"
     ]
    },
    {
     "name": "stdout",
     "output_type": "stream",
     "text": [
      "ERROR:tensorflow:Can add more nodes!\n"
     ]
    },
    {
     "name": "stderr",
     "output_type": "stream",
     "text": [
      "ERROR:tensorflow:Can add more nodes!\n",
      "INFO:root:Total MIS length found = 0\n",
      "DEBUG:root:\n",
      "INFO:root:Processing graph 10...\n",
      "DEBUG:root:Calculating G with nodes = 100 edges = 521\n",
      "DEBUG:root:Build network on graph G:Graph with 100 nodes and 521 edges.\n",
      "DEBUG:root:Solver stuck\n",
      "DEBUG:root:dNN solution is not correct\n",
      "DEBUG:root:Can add more nodes to IS\n",
      "DEBUG:root:Total epochs = 134\n",
      "DEBUG:root:dNN solution lenghth = 0\n",
      "DEBUG:root:MIS length = 0\n"
     ]
    },
    {
     "name": "stdout",
     "output_type": "stream",
     "text": [
      "ERROR:tensorflow:Calculated mis is not correct!\n"
     ]
    },
    {
     "name": "stderr",
     "output_type": "stream",
     "text": [
      "ERROR:tensorflow:Calculated mis is not correct!\n"
     ]
    },
    {
     "name": "stdout",
     "output_type": "stream",
     "text": [
      "ERROR:tensorflow:Can add more nodes!\n"
     ]
    },
    {
     "name": "stderr",
     "output_type": "stream",
     "text": [
      "ERROR:tensorflow:Can add more nodes!\n",
      "DEBUG:root:Checking community result is correct...\n"
     ]
    },
    {
     "name": "stdout",
     "output_type": "stream",
     "text": [
      "ERROR:tensorflow:Calculated mis is not correct!\n"
     ]
    },
    {
     "name": "stderr",
     "output_type": "stream",
     "text": [
      "ERROR:tensorflow:Calculated mis is not correct!\n"
     ]
    },
    {
     "name": "stdout",
     "output_type": "stream",
     "text": [
      "ERROR:tensorflow:Can add more nodes!\n"
     ]
    },
    {
     "name": "stderr",
     "output_type": "stream",
     "text": [
      "ERROR:tensorflow:Can add more nodes!\n",
      "DEBUG:root:Total nodes in MIS=set()\n"
     ]
    },
    {
     "name": "stdout",
     "output_type": "stream",
     "text": [
      "ERROR:tensorflow:Calculated mis is not correct!\n"
     ]
    },
    {
     "name": "stderr",
     "output_type": "stream",
     "text": [
      "ERROR:tensorflow:Calculated mis is not correct!\n"
     ]
    },
    {
     "name": "stdout",
     "output_type": "stream",
     "text": [
      "ERROR:tensorflow:Can add more nodes!\n"
     ]
    },
    {
     "name": "stderr",
     "output_type": "stream",
     "text": [
      "ERROR:tensorflow:Can add more nodes!\n",
      "INFO:root:Total MIS length found = 0\n",
      "DEBUG:root:\n",
      "INFO:root:Processing graph 11...\n",
      "DEBUG:root:Calculating G with nodes = 100 edges = 492\n",
      "DEBUG:root:Build network on graph G:Graph with 100 nodes and 492 edges.\n",
      "DEBUG:root:Solver stuck\n",
      "DEBUG:root:dNN solution is not correct\n",
      "DEBUG:root:Can add more nodes to IS\n",
      "DEBUG:root:Total epochs = 133\n",
      "DEBUG:root:dNN solution lenghth = 0\n",
      "DEBUG:root:MIS length = 0\n"
     ]
    },
    {
     "name": "stdout",
     "output_type": "stream",
     "text": [
      "ERROR:tensorflow:Calculated mis is not correct!\n"
     ]
    },
    {
     "name": "stderr",
     "output_type": "stream",
     "text": [
      "ERROR:tensorflow:Calculated mis is not correct!\n"
     ]
    },
    {
     "name": "stdout",
     "output_type": "stream",
     "text": [
      "ERROR:tensorflow:Can add more nodes!\n"
     ]
    },
    {
     "name": "stderr",
     "output_type": "stream",
     "text": [
      "ERROR:tensorflow:Can add more nodes!\n",
      "DEBUG:root:Checking community result is correct...\n"
     ]
    },
    {
     "name": "stdout",
     "output_type": "stream",
     "text": [
      "ERROR:tensorflow:Calculated mis is not correct!\n"
     ]
    },
    {
     "name": "stderr",
     "output_type": "stream",
     "text": [
      "ERROR:tensorflow:Calculated mis is not correct!\n"
     ]
    },
    {
     "name": "stdout",
     "output_type": "stream",
     "text": [
      "ERROR:tensorflow:Can add more nodes!\n"
     ]
    },
    {
     "name": "stderr",
     "output_type": "stream",
     "text": [
      "ERROR:tensorflow:Can add more nodes!\n",
      "DEBUG:root:Total nodes in MIS=set()\n"
     ]
    },
    {
     "name": "stdout",
     "output_type": "stream",
     "text": [
      "ERROR:tensorflow:Calculated mis is not correct!\n"
     ]
    },
    {
     "name": "stderr",
     "output_type": "stream",
     "text": [
      "ERROR:tensorflow:Calculated mis is not correct!\n"
     ]
    },
    {
     "name": "stdout",
     "output_type": "stream",
     "text": [
      "ERROR:tensorflow:Can add more nodes!\n"
     ]
    },
    {
     "name": "stderr",
     "output_type": "stream",
     "text": [
      "ERROR:tensorflow:Can add more nodes!\n",
      "INFO:root:Total MIS length found = 0\n",
      "DEBUG:root:\n",
      "INFO:root:Processing graph 12...\n",
      "DEBUG:root:Calculating G with nodes = 100 edges = 517\n",
      "DEBUG:root:Build network on graph G:Graph with 100 nodes and 517 edges.\n",
      "DEBUG:root:Solver stuck\n",
      "DEBUG:root:dNN solution is not correct\n",
      "DEBUG:root:Can add more nodes to IS\n",
      "DEBUG:root:Total epochs = 152\n",
      "DEBUG:root:dNN solution lenghth = 0\n",
      "DEBUG:root:MIS length = 0\n"
     ]
    },
    {
     "name": "stdout",
     "output_type": "stream",
     "text": [
      "ERROR:tensorflow:Calculated mis is not correct!\n"
     ]
    },
    {
     "name": "stderr",
     "output_type": "stream",
     "text": [
      "ERROR:tensorflow:Calculated mis is not correct!\n"
     ]
    },
    {
     "name": "stdout",
     "output_type": "stream",
     "text": [
      "ERROR:tensorflow:Can add more nodes!\n"
     ]
    },
    {
     "name": "stderr",
     "output_type": "stream",
     "text": [
      "ERROR:tensorflow:Can add more nodes!\n",
      "DEBUG:root:Checking community result is correct...\n"
     ]
    },
    {
     "name": "stdout",
     "output_type": "stream",
     "text": [
      "ERROR:tensorflow:Calculated mis is not correct!\n"
     ]
    },
    {
     "name": "stderr",
     "output_type": "stream",
     "text": [
      "ERROR:tensorflow:Calculated mis is not correct!\n"
     ]
    },
    {
     "name": "stdout",
     "output_type": "stream",
     "text": [
      "ERROR:tensorflow:Can add more nodes!\n"
     ]
    },
    {
     "name": "stderr",
     "output_type": "stream",
     "text": [
      "ERROR:tensorflow:Can add more nodes!\n",
      "DEBUG:root:Total nodes in MIS=set()\n"
     ]
    },
    {
     "name": "stdout",
     "output_type": "stream",
     "text": [
      "ERROR:tensorflow:Calculated mis is not correct!\n"
     ]
    },
    {
     "name": "stderr",
     "output_type": "stream",
     "text": [
      "ERROR:tensorflow:Calculated mis is not correct!\n"
     ]
    },
    {
     "name": "stdout",
     "output_type": "stream",
     "text": [
      "ERROR:tensorflow:Can add more nodes!\n"
     ]
    },
    {
     "name": "stderr",
     "output_type": "stream",
     "text": [
      "ERROR:tensorflow:Can add more nodes!\n",
      "INFO:root:Total MIS length found = 0\n",
      "DEBUG:root:\n",
      "INFO:root:Processing graph 13...\n",
      "DEBUG:root:Calculating G with nodes = 100 edges = 489\n",
      "DEBUG:root:Build network on graph G:Graph with 100 nodes and 489 edges.\n",
      "DEBUG:root:Solver stuck\n",
      "DEBUG:root:dNN solution is not correct\n",
      "DEBUG:root:Can add more nodes to IS\n",
      "DEBUG:root:Total epochs = 138\n",
      "DEBUG:root:dNN solution lenghth = 0\n",
      "DEBUG:root:MIS length = 0\n"
     ]
    },
    {
     "name": "stdout",
     "output_type": "stream",
     "text": [
      "ERROR:tensorflow:Calculated mis is not correct!\n"
     ]
    },
    {
     "name": "stderr",
     "output_type": "stream",
     "text": [
      "ERROR:tensorflow:Calculated mis is not correct!\n"
     ]
    },
    {
     "name": "stdout",
     "output_type": "stream",
     "text": [
      "ERROR:tensorflow:Can add more nodes!\n"
     ]
    },
    {
     "name": "stderr",
     "output_type": "stream",
     "text": [
      "ERROR:tensorflow:Can add more nodes!\n",
      "DEBUG:root:Checking community result is correct...\n"
     ]
    },
    {
     "name": "stdout",
     "output_type": "stream",
     "text": [
      "ERROR:tensorflow:Calculated mis is not correct!\n"
     ]
    },
    {
     "name": "stderr",
     "output_type": "stream",
     "text": [
      "ERROR:tensorflow:Calculated mis is not correct!\n"
     ]
    },
    {
     "name": "stdout",
     "output_type": "stream",
     "text": [
      "ERROR:tensorflow:Can add more nodes!\n"
     ]
    },
    {
     "name": "stderr",
     "output_type": "stream",
     "text": [
      "ERROR:tensorflow:Can add more nodes!\n",
      "DEBUG:root:Total nodes in MIS=set()\n"
     ]
    },
    {
     "name": "stdout",
     "output_type": "stream",
     "text": [
      "ERROR:tensorflow:Calculated mis is not correct!\n"
     ]
    },
    {
     "name": "stderr",
     "output_type": "stream",
     "text": [
      "ERROR:tensorflow:Calculated mis is not correct!\n"
     ]
    },
    {
     "name": "stdout",
     "output_type": "stream",
     "text": [
      "ERROR:tensorflow:Can add more nodes!\n"
     ]
    },
    {
     "name": "stderr",
     "output_type": "stream",
     "text": [
      "ERROR:tensorflow:Can add more nodes!\n",
      "INFO:root:Total MIS length found = 0\n",
      "DEBUG:root:\n",
      "INFO:root:Processing graph 14...\n",
      "DEBUG:root:Calculating G with nodes = 100 edges = 498\n",
      "DEBUG:root:Build network on graph G:Graph with 100 nodes and 498 edges.\n",
      "DEBUG:root:Solver stuck\n",
      "DEBUG:root:dNN solution is not correct\n",
      "DEBUG:root:Can add more nodes to IS\n",
      "DEBUG:root:Total epochs = 129\n",
      "DEBUG:root:dNN solution lenghth = 0\n",
      "DEBUG:root:MIS length = 0\n"
     ]
    },
    {
     "name": "stdout",
     "output_type": "stream",
     "text": [
      "ERROR:tensorflow:Calculated mis is not correct!\n"
     ]
    },
    {
     "name": "stderr",
     "output_type": "stream",
     "text": [
      "ERROR:tensorflow:Calculated mis is not correct!\n"
     ]
    },
    {
     "name": "stdout",
     "output_type": "stream",
     "text": [
      "ERROR:tensorflow:Can add more nodes!\n"
     ]
    },
    {
     "name": "stderr",
     "output_type": "stream",
     "text": [
      "ERROR:tensorflow:Can add more nodes!\n",
      "DEBUG:root:Checking community result is correct...\n"
     ]
    },
    {
     "name": "stdout",
     "output_type": "stream",
     "text": [
      "ERROR:tensorflow:Calculated mis is not correct!\n"
     ]
    },
    {
     "name": "stderr",
     "output_type": "stream",
     "text": [
      "ERROR:tensorflow:Calculated mis is not correct!\n"
     ]
    },
    {
     "name": "stdout",
     "output_type": "stream",
     "text": [
      "ERROR:tensorflow:Can add more nodes!\n"
     ]
    },
    {
     "name": "stderr",
     "output_type": "stream",
     "text": [
      "ERROR:tensorflow:Can add more nodes!\n",
      "DEBUG:root:Total nodes in MIS=set()\n"
     ]
    },
    {
     "name": "stdout",
     "output_type": "stream",
     "text": [
      "ERROR:tensorflow:Calculated mis is not correct!\n"
     ]
    },
    {
     "name": "stderr",
     "output_type": "stream",
     "text": [
      "ERROR:tensorflow:Calculated mis is not correct!\n"
     ]
    },
    {
     "name": "stdout",
     "output_type": "stream",
     "text": [
      "ERROR:tensorflow:Can add more nodes!\n"
     ]
    },
    {
     "name": "stderr",
     "output_type": "stream",
     "text": [
      "ERROR:tensorflow:Can add more nodes!\n",
      "INFO:root:Total MIS length found = 0\n",
      "DEBUG:root:\n",
      "INFO:root:Processing graph 15...\n",
      "DEBUG:root:Calculating G with nodes = 100 edges = 479\n",
      "DEBUG:root:Build network on graph G:Graph with 100 nodes and 479 edges.\n",
      "DEBUG:root:Solver stuck\n",
      "DEBUG:root:dNN solution is not correct\n",
      "DEBUG:root:Can add more nodes to IS\n",
      "DEBUG:root:Total epochs = 138\n",
      "DEBUG:root:dNN solution lenghth = 0\n",
      "DEBUG:root:MIS length = 0\n"
     ]
    },
    {
     "name": "stdout",
     "output_type": "stream",
     "text": [
      "ERROR:tensorflow:Calculated mis is not correct!\n"
     ]
    },
    {
     "name": "stderr",
     "output_type": "stream",
     "text": [
      "ERROR:tensorflow:Calculated mis is not correct!\n"
     ]
    },
    {
     "name": "stdout",
     "output_type": "stream",
     "text": [
      "ERROR:tensorflow:Can add more nodes!\n"
     ]
    },
    {
     "name": "stderr",
     "output_type": "stream",
     "text": [
      "ERROR:tensorflow:Can add more nodes!\n",
      "DEBUG:root:Checking community result is correct...\n"
     ]
    },
    {
     "name": "stdout",
     "output_type": "stream",
     "text": [
      "ERROR:tensorflow:Calculated mis is not correct!\n"
     ]
    },
    {
     "name": "stderr",
     "output_type": "stream",
     "text": [
      "ERROR:tensorflow:Calculated mis is not correct!\n"
     ]
    },
    {
     "name": "stdout",
     "output_type": "stream",
     "text": [
      "ERROR:tensorflow:Can add more nodes!\n"
     ]
    },
    {
     "name": "stderr",
     "output_type": "stream",
     "text": [
      "ERROR:tensorflow:Can add more nodes!\n",
      "DEBUG:root:Total nodes in MIS=set()\n"
     ]
    },
    {
     "name": "stdout",
     "output_type": "stream",
     "text": [
      "ERROR:tensorflow:Calculated mis is not correct!\n"
     ]
    },
    {
     "name": "stderr",
     "output_type": "stream",
     "text": [
      "ERROR:tensorflow:Calculated mis is not correct!\n"
     ]
    },
    {
     "name": "stdout",
     "output_type": "stream",
     "text": [
      "ERROR:tensorflow:Can add more nodes!\n"
     ]
    },
    {
     "name": "stderr",
     "output_type": "stream",
     "text": [
      "ERROR:tensorflow:Can add more nodes!\n",
      "INFO:root:Total MIS length found = 0\n",
      "DEBUG:root:\n",
      "INFO:root:Processing graph 16...\n",
      "DEBUG:root:Calculating G with nodes = 100 edges = 499\n",
      "DEBUG:root:Build network on graph G:Graph with 100 nodes and 499 edges.\n",
      "DEBUG:root:Solver stuck\n",
      "DEBUG:root:dNN solution is not correct\n",
      "DEBUG:root:Can add more nodes to IS\n",
      "DEBUG:root:Total epochs = 139\n",
      "DEBUG:root:dNN solution lenghth = 0\n",
      "DEBUG:root:MIS length = 0\n"
     ]
    },
    {
     "name": "stdout",
     "output_type": "stream",
     "text": [
      "ERROR:tensorflow:Calculated mis is not correct!\n"
     ]
    },
    {
     "name": "stderr",
     "output_type": "stream",
     "text": [
      "ERROR:tensorflow:Calculated mis is not correct!\n"
     ]
    },
    {
     "name": "stdout",
     "output_type": "stream",
     "text": [
      "ERROR:tensorflow:Can add more nodes!\n"
     ]
    },
    {
     "name": "stderr",
     "output_type": "stream",
     "text": [
      "ERROR:tensorflow:Can add more nodes!\n",
      "DEBUG:root:Checking community result is correct...\n"
     ]
    },
    {
     "name": "stdout",
     "output_type": "stream",
     "text": [
      "ERROR:tensorflow:Calculated mis is not correct!\n"
     ]
    },
    {
     "name": "stderr",
     "output_type": "stream",
     "text": [
      "ERROR:tensorflow:Calculated mis is not correct!\n"
     ]
    },
    {
     "name": "stdout",
     "output_type": "stream",
     "text": [
      "ERROR:tensorflow:Can add more nodes!\n"
     ]
    },
    {
     "name": "stderr",
     "output_type": "stream",
     "text": [
      "ERROR:tensorflow:Can add more nodes!\n",
      "DEBUG:root:Total nodes in MIS=set()\n"
     ]
    },
    {
     "name": "stdout",
     "output_type": "stream",
     "text": [
      "ERROR:tensorflow:Calculated mis is not correct!\n"
     ]
    },
    {
     "name": "stderr",
     "output_type": "stream",
     "text": [
      "ERROR:tensorflow:Calculated mis is not correct!\n"
     ]
    },
    {
     "name": "stdout",
     "output_type": "stream",
     "text": [
      "ERROR:tensorflow:Can add more nodes!\n"
     ]
    },
    {
     "name": "stderr",
     "output_type": "stream",
     "text": [
      "ERROR:tensorflow:Can add more nodes!\n",
      "INFO:root:Total MIS length found = 0\n",
      "DEBUG:root:\n",
      "INFO:root:Processing graph 17...\n",
      "DEBUG:root:Calculating G with nodes = 100 edges = 506\n",
      "DEBUG:root:Build network on graph G:Graph with 100 nodes and 506 edges.\n",
      "DEBUG:root:Solver stuck\n",
      "DEBUG:root:dNN solution is not correct\n",
      "DEBUG:root:Can add more nodes to IS\n",
      "DEBUG:root:Total epochs = 132\n",
      "DEBUG:root:dNN solution lenghth = 0\n",
      "DEBUG:root:MIS length = 0\n"
     ]
    },
    {
     "name": "stdout",
     "output_type": "stream",
     "text": [
      "ERROR:tensorflow:Calculated mis is not correct!\n"
     ]
    },
    {
     "name": "stderr",
     "output_type": "stream",
     "text": [
      "ERROR:tensorflow:Calculated mis is not correct!\n"
     ]
    },
    {
     "name": "stdout",
     "output_type": "stream",
     "text": [
      "ERROR:tensorflow:Can add more nodes!\n"
     ]
    },
    {
     "name": "stderr",
     "output_type": "stream",
     "text": [
      "ERROR:tensorflow:Can add more nodes!\n",
      "DEBUG:root:Checking community result is correct...\n"
     ]
    },
    {
     "name": "stdout",
     "output_type": "stream",
     "text": [
      "ERROR:tensorflow:Calculated mis is not correct!\n"
     ]
    },
    {
     "name": "stderr",
     "output_type": "stream",
     "text": [
      "ERROR:tensorflow:Calculated mis is not correct!\n"
     ]
    },
    {
     "name": "stdout",
     "output_type": "stream",
     "text": [
      "ERROR:tensorflow:Can add more nodes!\n"
     ]
    },
    {
     "name": "stderr",
     "output_type": "stream",
     "text": [
      "ERROR:tensorflow:Can add more nodes!\n",
      "DEBUG:root:Total nodes in MIS=set()\n"
     ]
    },
    {
     "name": "stdout",
     "output_type": "stream",
     "text": [
      "ERROR:tensorflow:Calculated mis is not correct!\n"
     ]
    },
    {
     "name": "stderr",
     "output_type": "stream",
     "text": [
      "ERROR:tensorflow:Calculated mis is not correct!\n"
     ]
    },
    {
     "name": "stdout",
     "output_type": "stream",
     "text": [
      "ERROR:tensorflow:Can add more nodes!\n"
     ]
    },
    {
     "name": "stderr",
     "output_type": "stream",
     "text": [
      "ERROR:tensorflow:Can add more nodes!\n",
      "INFO:root:Total MIS length found = 0\n",
      "DEBUG:root:\n",
      "INFO:root:Processing graph 18...\n",
      "DEBUG:root:Calculating G with nodes = 100 edges = 509\n",
      "DEBUG:root:Build network on graph G:Graph with 100 nodes and 509 edges.\n",
      "DEBUG:root:Solver stuck\n",
      "DEBUG:root:dNN solution is not correct\n",
      "DEBUG:root:Can add more nodes to IS\n",
      "DEBUG:root:Total epochs = 133\n",
      "DEBUG:root:dNN solution lenghth = 0\n",
      "DEBUG:root:MIS length = 0\n"
     ]
    },
    {
     "name": "stdout",
     "output_type": "stream",
     "text": [
      "ERROR:tensorflow:Calculated mis is not correct!\n"
     ]
    },
    {
     "name": "stderr",
     "output_type": "stream",
     "text": [
      "ERROR:tensorflow:Calculated mis is not correct!\n"
     ]
    },
    {
     "name": "stdout",
     "output_type": "stream",
     "text": [
      "ERROR:tensorflow:Can add more nodes!\n"
     ]
    },
    {
     "name": "stderr",
     "output_type": "stream",
     "text": [
      "ERROR:tensorflow:Can add more nodes!\n",
      "DEBUG:root:Checking community result is correct...\n"
     ]
    },
    {
     "name": "stdout",
     "output_type": "stream",
     "text": [
      "ERROR:tensorflow:Calculated mis is not correct!\n"
     ]
    },
    {
     "name": "stderr",
     "output_type": "stream",
     "text": [
      "ERROR:tensorflow:Calculated mis is not correct!\n"
     ]
    },
    {
     "name": "stdout",
     "output_type": "stream",
     "text": [
      "ERROR:tensorflow:Can add more nodes!\n"
     ]
    },
    {
     "name": "stderr",
     "output_type": "stream",
     "text": [
      "ERROR:tensorflow:Can add more nodes!\n",
      "DEBUG:root:Total nodes in MIS=set()\n"
     ]
    },
    {
     "name": "stdout",
     "output_type": "stream",
     "text": [
      "ERROR:tensorflow:Calculated mis is not correct!\n"
     ]
    },
    {
     "name": "stderr",
     "output_type": "stream",
     "text": [
      "ERROR:tensorflow:Calculated mis is not correct!\n"
     ]
    },
    {
     "name": "stdout",
     "output_type": "stream",
     "text": [
      "ERROR:tensorflow:Can add more nodes!\n"
     ]
    },
    {
     "name": "stderr",
     "output_type": "stream",
     "text": [
      "ERROR:tensorflow:Can add more nodes!\n",
      "INFO:root:Total MIS length found = 0\n",
      "DEBUG:root:\n",
      "INFO:root:Processing graph 19...\n",
      "DEBUG:root:Calculating G with nodes = 100 edges = 503\n",
      "DEBUG:root:Build network on graph G:Graph with 100 nodes and 503 edges.\n",
      "DEBUG:root:Solver stuck\n",
      "DEBUG:root:dNN solution is not correct\n",
      "DEBUG:root:Can add more nodes to IS\n",
      "DEBUG:root:Total epochs = 135\n",
      "DEBUG:root:dNN solution lenghth = 0\n",
      "DEBUG:root:MIS length = 0\n"
     ]
    },
    {
     "name": "stdout",
     "output_type": "stream",
     "text": [
      "ERROR:tensorflow:Calculated mis is not correct!\n"
     ]
    },
    {
     "name": "stderr",
     "output_type": "stream",
     "text": [
      "ERROR:tensorflow:Calculated mis is not correct!\n"
     ]
    },
    {
     "name": "stdout",
     "output_type": "stream",
     "text": [
      "ERROR:tensorflow:Can add more nodes!\n"
     ]
    },
    {
     "name": "stderr",
     "output_type": "stream",
     "text": [
      "ERROR:tensorflow:Can add more nodes!\n",
      "DEBUG:root:Checking community result is correct...\n"
     ]
    },
    {
     "name": "stdout",
     "output_type": "stream",
     "text": [
      "ERROR:tensorflow:Calculated mis is not correct!\n"
     ]
    },
    {
     "name": "stderr",
     "output_type": "stream",
     "text": [
      "ERROR:tensorflow:Calculated mis is not correct!\n"
     ]
    },
    {
     "name": "stdout",
     "output_type": "stream",
     "text": [
      "ERROR:tensorflow:Can add more nodes!\n"
     ]
    },
    {
     "name": "stderr",
     "output_type": "stream",
     "text": [
      "ERROR:tensorflow:Can add more nodes!\n",
      "DEBUG:root:Total nodes in MIS=set()\n"
     ]
    },
    {
     "name": "stdout",
     "output_type": "stream",
     "text": [
      "ERROR:tensorflow:Calculated mis is not correct!\n"
     ]
    },
    {
     "name": "stderr",
     "output_type": "stream",
     "text": [
      "ERROR:tensorflow:Calculated mis is not correct!\n"
     ]
    },
    {
     "name": "stdout",
     "output_type": "stream",
     "text": [
      "ERROR:tensorflow:Can add more nodes!\n"
     ]
    },
    {
     "name": "stderr",
     "output_type": "stream",
     "text": [
      "ERROR:tensorflow:Can add more nodes!\n",
      "INFO:root:Total MIS length found = 0\n",
      "DEBUG:root:\n"
     ]
    },
    {
     "name": "stdout",
     "output_type": "stream",
     "text": [
      "Average edges count = 500.3\n",
      "Average dNN result = 0.0\n"
     ]
    }
   ],
   "source": [
    "test_network_on_graphs(networks)"
   ]
  },
  {
   "cell_type": "code",
   "execution_count": 212,
   "id": "0351ffa6",
   "metadata": {},
   "outputs": [],
   "source": [
    "networks = build_n_graphs(10, lambda: nx.erdos_renyi_graph(100,0.2), )"
   ]
  },
  {
   "cell_type": "code",
   "execution_count": 213,
   "id": "de3c9a0f",
   "metadata": {},
   "outputs": [
    {
     "name": "stderr",
     "output_type": "stream",
     "text": [
      "INFO:root:Processing graph 0...\n",
      "DEBUG:root:Calculating G with nodes = 100 edges = 999\n",
      "DEBUG:root:Build network on graph G:Graph with 100 nodes and 999 edges.\n",
      "DEBUG:root:Solver stuck\n",
      "DEBUG:root:dNN solution is not correct\n",
      "DEBUG:root:Can add more nodes to IS\n",
      "DEBUG:root:Total epochs = 131\n",
      "DEBUG:root:dNN solution lenghth = 0\n",
      "DEBUG:root:MIS length = 0\n"
     ]
    },
    {
     "name": "stdout",
     "output_type": "stream",
     "text": [
      "ERROR:tensorflow:Calculated mis is not correct!\n"
     ]
    },
    {
     "name": "stderr",
     "output_type": "stream",
     "text": [
      "ERROR:tensorflow:Calculated mis is not correct!\n"
     ]
    },
    {
     "name": "stdout",
     "output_type": "stream",
     "text": [
      "ERROR:tensorflow:Can add more nodes!\n"
     ]
    },
    {
     "name": "stderr",
     "output_type": "stream",
     "text": [
      "ERROR:tensorflow:Can add more nodes!\n",
      "DEBUG:root:Checking community result is correct...\n"
     ]
    },
    {
     "name": "stdout",
     "output_type": "stream",
     "text": [
      "ERROR:tensorflow:Calculated mis is not correct!\n"
     ]
    },
    {
     "name": "stderr",
     "output_type": "stream",
     "text": [
      "ERROR:tensorflow:Calculated mis is not correct!\n"
     ]
    },
    {
     "name": "stdout",
     "output_type": "stream",
     "text": [
      "ERROR:tensorflow:Can add more nodes!\n"
     ]
    },
    {
     "name": "stderr",
     "output_type": "stream",
     "text": [
      "ERROR:tensorflow:Can add more nodes!\n",
      "DEBUG:root:Total nodes in MIS=set()\n"
     ]
    },
    {
     "name": "stdout",
     "output_type": "stream",
     "text": [
      "ERROR:tensorflow:Calculated mis is not correct!\n"
     ]
    },
    {
     "name": "stderr",
     "output_type": "stream",
     "text": [
      "ERROR:tensorflow:Calculated mis is not correct!\n"
     ]
    },
    {
     "name": "stdout",
     "output_type": "stream",
     "text": [
      "ERROR:tensorflow:Can add more nodes!\n"
     ]
    },
    {
     "name": "stderr",
     "output_type": "stream",
     "text": [
      "ERROR:tensorflow:Can add more nodes!\n",
      "INFO:root:Total MIS length found = 0\n",
      "DEBUG:root:\n",
      "INFO:root:Processing graph 1...\n",
      "DEBUG:root:Calculating G with nodes = 100 edges = 996\n",
      "DEBUG:root:Build network on graph G:Graph with 100 nodes and 996 edges.\n",
      "DEBUG:root:Solver stuck\n",
      "DEBUG:root:dNN solution is not correct\n",
      "DEBUG:root:Can add more nodes to IS\n",
      "DEBUG:root:Total epochs = 117\n",
      "DEBUG:root:dNN solution lenghth = 0\n",
      "DEBUG:root:MIS length = 0\n"
     ]
    },
    {
     "name": "stdout",
     "output_type": "stream",
     "text": [
      "ERROR:tensorflow:Calculated mis is not correct!\n"
     ]
    },
    {
     "name": "stderr",
     "output_type": "stream",
     "text": [
      "ERROR:tensorflow:Calculated mis is not correct!\n"
     ]
    },
    {
     "name": "stdout",
     "output_type": "stream",
     "text": [
      "ERROR:tensorflow:Can add more nodes!\n"
     ]
    },
    {
     "name": "stderr",
     "output_type": "stream",
     "text": [
      "ERROR:tensorflow:Can add more nodes!\n",
      "DEBUG:root:Checking community result is correct...\n"
     ]
    },
    {
     "name": "stdout",
     "output_type": "stream",
     "text": [
      "ERROR:tensorflow:Calculated mis is not correct!\n"
     ]
    },
    {
     "name": "stderr",
     "output_type": "stream",
     "text": [
      "ERROR:tensorflow:Calculated mis is not correct!\n"
     ]
    },
    {
     "name": "stdout",
     "output_type": "stream",
     "text": [
      "ERROR:tensorflow:Can add more nodes!\n"
     ]
    },
    {
     "name": "stderr",
     "output_type": "stream",
     "text": [
      "ERROR:tensorflow:Can add more nodes!\n",
      "DEBUG:root:Total nodes in MIS=set()\n"
     ]
    },
    {
     "name": "stdout",
     "output_type": "stream",
     "text": [
      "ERROR:tensorflow:Calculated mis is not correct!\n"
     ]
    },
    {
     "name": "stderr",
     "output_type": "stream",
     "text": [
      "ERROR:tensorflow:Calculated mis is not correct!\n"
     ]
    },
    {
     "name": "stdout",
     "output_type": "stream",
     "text": [
      "ERROR:tensorflow:Can add more nodes!\n"
     ]
    },
    {
     "name": "stderr",
     "output_type": "stream",
     "text": [
      "ERROR:tensorflow:Can add more nodes!\n",
      "INFO:root:Total MIS length found = 0\n",
      "DEBUG:root:\n",
      "INFO:root:Processing graph 2...\n",
      "DEBUG:root:Calculating G with nodes = 100 edges = 968\n",
      "DEBUG:root:Build network on graph G:Graph with 100 nodes and 968 edges.\n",
      "DEBUG:root:Solver stuck\n",
      "DEBUG:root:dNN solution is not correct\n",
      "DEBUG:root:Can add more nodes to IS\n",
      "DEBUG:root:Total epochs = 122\n",
      "DEBUG:root:dNN solution lenghth = 0\n",
      "DEBUG:root:MIS length = 0\n"
     ]
    },
    {
     "name": "stdout",
     "output_type": "stream",
     "text": [
      "ERROR:tensorflow:Calculated mis is not correct!\n"
     ]
    },
    {
     "name": "stderr",
     "output_type": "stream",
     "text": [
      "ERROR:tensorflow:Calculated mis is not correct!\n"
     ]
    },
    {
     "name": "stdout",
     "output_type": "stream",
     "text": [
      "ERROR:tensorflow:Can add more nodes!\n"
     ]
    },
    {
     "name": "stderr",
     "output_type": "stream",
     "text": [
      "ERROR:tensorflow:Can add more nodes!\n",
      "DEBUG:root:Checking community result is correct...\n"
     ]
    },
    {
     "name": "stdout",
     "output_type": "stream",
     "text": [
      "ERROR:tensorflow:Calculated mis is not correct!\n"
     ]
    },
    {
     "name": "stderr",
     "output_type": "stream",
     "text": [
      "ERROR:tensorflow:Calculated mis is not correct!\n"
     ]
    },
    {
     "name": "stdout",
     "output_type": "stream",
     "text": [
      "ERROR:tensorflow:Can add more nodes!\n"
     ]
    },
    {
     "name": "stderr",
     "output_type": "stream",
     "text": [
      "ERROR:tensorflow:Can add more nodes!\n",
      "DEBUG:root:Total nodes in MIS=set()\n"
     ]
    },
    {
     "name": "stdout",
     "output_type": "stream",
     "text": [
      "ERROR:tensorflow:Calculated mis is not correct!\n"
     ]
    },
    {
     "name": "stderr",
     "output_type": "stream",
     "text": [
      "ERROR:tensorflow:Calculated mis is not correct!\n"
     ]
    },
    {
     "name": "stdout",
     "output_type": "stream",
     "text": [
      "ERROR:tensorflow:Can add more nodes!\n"
     ]
    },
    {
     "name": "stderr",
     "output_type": "stream",
     "text": [
      "ERROR:tensorflow:Can add more nodes!\n",
      "INFO:root:Total MIS length found = 0\n",
      "DEBUG:root:\n",
      "INFO:root:Processing graph 3...\n",
      "DEBUG:root:Calculating G with nodes = 100 edges = 992\n",
      "DEBUG:root:Build network on graph G:Graph with 100 nodes and 992 edges.\n",
      "DEBUG:root:Solver stuck\n",
      "DEBUG:root:dNN solution is not correct\n",
      "DEBUG:root:Can add more nodes to IS\n",
      "DEBUG:root:Total epochs = 127\n",
      "DEBUG:root:dNN solution lenghth = 0\n",
      "DEBUG:root:MIS length = 0\n"
     ]
    },
    {
     "name": "stdout",
     "output_type": "stream",
     "text": [
      "ERROR:tensorflow:Calculated mis is not correct!\n"
     ]
    },
    {
     "name": "stderr",
     "output_type": "stream",
     "text": [
      "ERROR:tensorflow:Calculated mis is not correct!\n"
     ]
    },
    {
     "name": "stdout",
     "output_type": "stream",
     "text": [
      "ERROR:tensorflow:Can add more nodes!\n"
     ]
    },
    {
     "name": "stderr",
     "output_type": "stream",
     "text": [
      "ERROR:tensorflow:Can add more nodes!\n",
      "DEBUG:root:Checking community result is correct...\n"
     ]
    },
    {
     "name": "stdout",
     "output_type": "stream",
     "text": [
      "ERROR:tensorflow:Calculated mis is not correct!\n"
     ]
    },
    {
     "name": "stderr",
     "output_type": "stream",
     "text": [
      "ERROR:tensorflow:Calculated mis is not correct!\n"
     ]
    },
    {
     "name": "stdout",
     "output_type": "stream",
     "text": [
      "ERROR:tensorflow:Can add more nodes!\n"
     ]
    },
    {
     "name": "stderr",
     "output_type": "stream",
     "text": [
      "ERROR:tensorflow:Can add more nodes!\n",
      "DEBUG:root:Total nodes in MIS=set()\n"
     ]
    },
    {
     "name": "stdout",
     "output_type": "stream",
     "text": [
      "ERROR:tensorflow:Calculated mis is not correct!\n"
     ]
    },
    {
     "name": "stderr",
     "output_type": "stream",
     "text": [
      "ERROR:tensorflow:Calculated mis is not correct!\n"
     ]
    },
    {
     "name": "stdout",
     "output_type": "stream",
     "text": [
      "ERROR:tensorflow:Can add more nodes!\n"
     ]
    },
    {
     "name": "stderr",
     "output_type": "stream",
     "text": [
      "ERROR:tensorflow:Can add more nodes!\n",
      "INFO:root:Total MIS length found = 0\n",
      "DEBUG:root:\n",
      "INFO:root:Processing graph 4...\n",
      "DEBUG:root:Calculating G with nodes = 100 edges = 988\n",
      "DEBUG:root:Build network on graph G:Graph with 100 nodes and 988 edges.\n",
      "DEBUG:root:Solver stuck\n",
      "DEBUG:root:dNN solution is not correct\n",
      "DEBUG:root:Can add more nodes to IS\n",
      "DEBUG:root:Total epochs = 149\n",
      "DEBUG:root:dNN solution lenghth = 0\n",
      "DEBUG:root:MIS length = 0\n"
     ]
    },
    {
     "name": "stdout",
     "output_type": "stream",
     "text": [
      "ERROR:tensorflow:Calculated mis is not correct!\n"
     ]
    },
    {
     "name": "stderr",
     "output_type": "stream",
     "text": [
      "ERROR:tensorflow:Calculated mis is not correct!\n"
     ]
    },
    {
     "name": "stdout",
     "output_type": "stream",
     "text": [
      "ERROR:tensorflow:Can add more nodes!\n"
     ]
    },
    {
     "name": "stderr",
     "output_type": "stream",
     "text": [
      "ERROR:tensorflow:Can add more nodes!\n",
      "DEBUG:root:Checking community result is correct...\n"
     ]
    },
    {
     "name": "stdout",
     "output_type": "stream",
     "text": [
      "ERROR:tensorflow:Calculated mis is not correct!\n"
     ]
    },
    {
     "name": "stderr",
     "output_type": "stream",
     "text": [
      "ERROR:tensorflow:Calculated mis is not correct!\n"
     ]
    },
    {
     "name": "stdout",
     "output_type": "stream",
     "text": [
      "ERROR:tensorflow:Can add more nodes!\n"
     ]
    },
    {
     "name": "stderr",
     "output_type": "stream",
     "text": [
      "ERROR:tensorflow:Can add more nodes!\n",
      "DEBUG:root:Total nodes in MIS=set()\n"
     ]
    },
    {
     "name": "stdout",
     "output_type": "stream",
     "text": [
      "ERROR:tensorflow:Calculated mis is not correct!\n"
     ]
    },
    {
     "name": "stderr",
     "output_type": "stream",
     "text": [
      "ERROR:tensorflow:Calculated mis is not correct!\n"
     ]
    },
    {
     "name": "stdout",
     "output_type": "stream",
     "text": [
      "ERROR:tensorflow:Can add more nodes!\n"
     ]
    },
    {
     "name": "stderr",
     "output_type": "stream",
     "text": [
      "ERROR:tensorflow:Can add more nodes!\n",
      "INFO:root:Total MIS length found = 0\n",
      "DEBUG:root:\n",
      "INFO:root:Processing graph 5...\n",
      "DEBUG:root:Calculating G with nodes = 100 edges = 999\n",
      "DEBUG:root:Build network on graph G:Graph with 100 nodes and 999 edges.\n",
      "DEBUG:root:Solver stuck\n",
      "DEBUG:root:dNN solution is not correct\n",
      "DEBUG:root:Can add more nodes to IS\n",
      "DEBUG:root:Total epochs = 124\n",
      "DEBUG:root:dNN solution lenghth = 0\n",
      "DEBUG:root:MIS length = 0\n"
     ]
    },
    {
     "name": "stdout",
     "output_type": "stream",
     "text": [
      "ERROR:tensorflow:Calculated mis is not correct!\n"
     ]
    },
    {
     "name": "stderr",
     "output_type": "stream",
     "text": [
      "ERROR:tensorflow:Calculated mis is not correct!\n"
     ]
    },
    {
     "name": "stdout",
     "output_type": "stream",
     "text": [
      "ERROR:tensorflow:Can add more nodes!\n"
     ]
    },
    {
     "name": "stderr",
     "output_type": "stream",
     "text": [
      "ERROR:tensorflow:Can add more nodes!\n",
      "DEBUG:root:Checking community result is correct...\n"
     ]
    },
    {
     "name": "stdout",
     "output_type": "stream",
     "text": [
      "ERROR:tensorflow:Calculated mis is not correct!\n"
     ]
    },
    {
     "name": "stderr",
     "output_type": "stream",
     "text": [
      "ERROR:tensorflow:Calculated mis is not correct!\n"
     ]
    },
    {
     "name": "stdout",
     "output_type": "stream",
     "text": [
      "ERROR:tensorflow:Can add more nodes!\n"
     ]
    },
    {
     "name": "stderr",
     "output_type": "stream",
     "text": [
      "ERROR:tensorflow:Can add more nodes!\n",
      "DEBUG:root:Total nodes in MIS=set()\n"
     ]
    },
    {
     "name": "stdout",
     "output_type": "stream",
     "text": [
      "ERROR:tensorflow:Calculated mis is not correct!\n"
     ]
    },
    {
     "name": "stderr",
     "output_type": "stream",
     "text": [
      "ERROR:tensorflow:Calculated mis is not correct!\n"
     ]
    },
    {
     "name": "stdout",
     "output_type": "stream",
     "text": [
      "ERROR:tensorflow:Can add more nodes!\n"
     ]
    },
    {
     "name": "stderr",
     "output_type": "stream",
     "text": [
      "ERROR:tensorflow:Can add more nodes!\n",
      "INFO:root:Total MIS length found = 0\n",
      "DEBUG:root:\n",
      "INFO:root:Processing graph 6...\n",
      "DEBUG:root:Calculating G with nodes = 100 edges = 939\n",
      "DEBUG:root:Build network on graph G:Graph with 100 nodes and 939 edges.\n",
      "DEBUG:root:Solver stuck\n",
      "DEBUG:root:dNN solution is not correct\n",
      "DEBUG:root:Can add more nodes to IS\n",
      "DEBUG:root:Total epochs = 127\n",
      "DEBUG:root:dNN solution lenghth = 0\n",
      "DEBUG:root:MIS length = 0\n"
     ]
    },
    {
     "name": "stdout",
     "output_type": "stream",
     "text": [
      "ERROR:tensorflow:Calculated mis is not correct!\n"
     ]
    },
    {
     "name": "stderr",
     "output_type": "stream",
     "text": [
      "ERROR:tensorflow:Calculated mis is not correct!\n"
     ]
    },
    {
     "name": "stdout",
     "output_type": "stream",
     "text": [
      "ERROR:tensorflow:Can add more nodes!\n"
     ]
    },
    {
     "name": "stderr",
     "output_type": "stream",
     "text": [
      "ERROR:tensorflow:Can add more nodes!\n",
      "DEBUG:root:Checking community result is correct...\n"
     ]
    },
    {
     "name": "stdout",
     "output_type": "stream",
     "text": [
      "ERROR:tensorflow:Calculated mis is not correct!\n"
     ]
    },
    {
     "name": "stderr",
     "output_type": "stream",
     "text": [
      "ERROR:tensorflow:Calculated mis is not correct!\n"
     ]
    },
    {
     "name": "stdout",
     "output_type": "stream",
     "text": [
      "ERROR:tensorflow:Can add more nodes!\n"
     ]
    },
    {
     "name": "stderr",
     "output_type": "stream",
     "text": [
      "ERROR:tensorflow:Can add more nodes!\n",
      "DEBUG:root:Total nodes in MIS=set()\n"
     ]
    },
    {
     "name": "stdout",
     "output_type": "stream",
     "text": [
      "ERROR:tensorflow:Calculated mis is not correct!\n"
     ]
    },
    {
     "name": "stderr",
     "output_type": "stream",
     "text": [
      "ERROR:tensorflow:Calculated mis is not correct!\n"
     ]
    },
    {
     "name": "stdout",
     "output_type": "stream",
     "text": [
      "ERROR:tensorflow:Can add more nodes!\n"
     ]
    },
    {
     "name": "stderr",
     "output_type": "stream",
     "text": [
      "ERROR:tensorflow:Can add more nodes!\n",
      "INFO:root:Total MIS length found = 0\n",
      "DEBUG:root:\n",
      "INFO:root:Processing graph 7...\n",
      "DEBUG:root:Calculating G with nodes = 100 edges = 964\n",
      "DEBUG:root:Build network on graph G:Graph with 100 nodes and 964 edges.\n",
      "DEBUG:root:Solver stuck\n",
      "DEBUG:root:dNN solution is not correct\n",
      "DEBUG:root:Can add more nodes to IS\n",
      "DEBUG:root:Total epochs = 125\n",
      "DEBUG:root:dNN solution lenghth = 0\n",
      "DEBUG:root:MIS length = 0\n"
     ]
    },
    {
     "name": "stdout",
     "output_type": "stream",
     "text": [
      "ERROR:tensorflow:Calculated mis is not correct!\n"
     ]
    },
    {
     "name": "stderr",
     "output_type": "stream",
     "text": [
      "ERROR:tensorflow:Calculated mis is not correct!\n"
     ]
    },
    {
     "name": "stdout",
     "output_type": "stream",
     "text": [
      "ERROR:tensorflow:Can add more nodes!\n"
     ]
    },
    {
     "name": "stderr",
     "output_type": "stream",
     "text": [
      "ERROR:tensorflow:Can add more nodes!\n",
      "DEBUG:root:Checking community result is correct...\n"
     ]
    },
    {
     "name": "stdout",
     "output_type": "stream",
     "text": [
      "ERROR:tensorflow:Calculated mis is not correct!\n"
     ]
    },
    {
     "name": "stderr",
     "output_type": "stream",
     "text": [
      "ERROR:tensorflow:Calculated mis is not correct!\n"
     ]
    },
    {
     "name": "stdout",
     "output_type": "stream",
     "text": [
      "ERROR:tensorflow:Can add more nodes!\n"
     ]
    },
    {
     "name": "stderr",
     "output_type": "stream",
     "text": [
      "ERROR:tensorflow:Can add more nodes!\n",
      "DEBUG:root:Total nodes in MIS=set()\n"
     ]
    },
    {
     "name": "stdout",
     "output_type": "stream",
     "text": [
      "ERROR:tensorflow:Calculated mis is not correct!\n"
     ]
    },
    {
     "name": "stderr",
     "output_type": "stream",
     "text": [
      "ERROR:tensorflow:Calculated mis is not correct!\n"
     ]
    },
    {
     "name": "stdout",
     "output_type": "stream",
     "text": [
      "ERROR:tensorflow:Can add more nodes!\n"
     ]
    },
    {
     "name": "stderr",
     "output_type": "stream",
     "text": [
      "ERROR:tensorflow:Can add more nodes!\n",
      "INFO:root:Total MIS length found = 0\n",
      "DEBUG:root:\n",
      "INFO:root:Processing graph 8...\n",
      "DEBUG:root:Calculating G with nodes = 100 edges = 1008\n",
      "DEBUG:root:Build network on graph G:Graph with 100 nodes and 1008 edges.\n",
      "DEBUG:root:Solver stuck\n",
      "DEBUG:root:dNN solution is not correct\n",
      "DEBUG:root:Can add more nodes to IS\n",
      "DEBUG:root:Total epochs = 122\n",
      "DEBUG:root:dNN solution lenghth = 0\n",
      "DEBUG:root:MIS length = 0\n"
     ]
    },
    {
     "name": "stdout",
     "output_type": "stream",
     "text": [
      "ERROR:tensorflow:Calculated mis is not correct!\n"
     ]
    },
    {
     "name": "stderr",
     "output_type": "stream",
     "text": [
      "ERROR:tensorflow:Calculated mis is not correct!\n"
     ]
    },
    {
     "name": "stdout",
     "output_type": "stream",
     "text": [
      "ERROR:tensorflow:Can add more nodes!\n"
     ]
    },
    {
     "name": "stderr",
     "output_type": "stream",
     "text": [
      "ERROR:tensorflow:Can add more nodes!\n",
      "DEBUG:root:Checking community result is correct...\n"
     ]
    },
    {
     "name": "stdout",
     "output_type": "stream",
     "text": [
      "ERROR:tensorflow:Calculated mis is not correct!\n"
     ]
    },
    {
     "name": "stderr",
     "output_type": "stream",
     "text": [
      "ERROR:tensorflow:Calculated mis is not correct!\n"
     ]
    },
    {
     "name": "stdout",
     "output_type": "stream",
     "text": [
      "ERROR:tensorflow:Can add more nodes!\n"
     ]
    },
    {
     "name": "stderr",
     "output_type": "stream",
     "text": [
      "ERROR:tensorflow:Can add more nodes!\n",
      "DEBUG:root:Total nodes in MIS=set()\n"
     ]
    },
    {
     "name": "stdout",
     "output_type": "stream",
     "text": [
      "ERROR:tensorflow:Calculated mis is not correct!\n"
     ]
    },
    {
     "name": "stderr",
     "output_type": "stream",
     "text": [
      "ERROR:tensorflow:Calculated mis is not correct!\n"
     ]
    },
    {
     "name": "stdout",
     "output_type": "stream",
     "text": [
      "ERROR:tensorflow:Can add more nodes!\n"
     ]
    },
    {
     "name": "stderr",
     "output_type": "stream",
     "text": [
      "ERROR:tensorflow:Can add more nodes!\n",
      "INFO:root:Total MIS length found = 0\n",
      "DEBUG:root:\n",
      "INFO:root:Processing graph 9...\n",
      "DEBUG:root:Calculating G with nodes = 100 edges = 985\n",
      "DEBUG:root:Build network on graph G:Graph with 100 nodes and 985 edges.\n",
      "DEBUG:root:Solver stuck\n",
      "DEBUG:root:dNN solution is not correct\n",
      "DEBUG:root:Can add more nodes to IS\n",
      "DEBUG:root:Total epochs = 133\n",
      "DEBUG:root:dNN solution lenghth = 0\n",
      "DEBUG:root:MIS length = 0\n"
     ]
    },
    {
     "name": "stdout",
     "output_type": "stream",
     "text": [
      "ERROR:tensorflow:Calculated mis is not correct!\n"
     ]
    },
    {
     "name": "stderr",
     "output_type": "stream",
     "text": [
      "ERROR:tensorflow:Calculated mis is not correct!\n"
     ]
    },
    {
     "name": "stdout",
     "output_type": "stream",
     "text": [
      "ERROR:tensorflow:Can add more nodes!\n"
     ]
    },
    {
     "name": "stderr",
     "output_type": "stream",
     "text": [
      "ERROR:tensorflow:Can add more nodes!\n",
      "DEBUG:root:Checking community result is correct...\n"
     ]
    },
    {
     "name": "stdout",
     "output_type": "stream",
     "text": [
      "ERROR:tensorflow:Calculated mis is not correct!\n"
     ]
    },
    {
     "name": "stderr",
     "output_type": "stream",
     "text": [
      "ERROR:tensorflow:Calculated mis is not correct!\n"
     ]
    },
    {
     "name": "stdout",
     "output_type": "stream",
     "text": [
      "ERROR:tensorflow:Can add more nodes!\n"
     ]
    },
    {
     "name": "stderr",
     "output_type": "stream",
     "text": [
      "ERROR:tensorflow:Can add more nodes!\n",
      "DEBUG:root:Total nodes in MIS=set()\n"
     ]
    },
    {
     "name": "stdout",
     "output_type": "stream",
     "text": [
      "ERROR:tensorflow:Calculated mis is not correct!\n"
     ]
    },
    {
     "name": "stderr",
     "output_type": "stream",
     "text": [
      "ERROR:tensorflow:Calculated mis is not correct!\n"
     ]
    },
    {
     "name": "stdout",
     "output_type": "stream",
     "text": [
      "ERROR:tensorflow:Can add more nodes!\n"
     ]
    },
    {
     "name": "stderr",
     "output_type": "stream",
     "text": [
      "ERROR:tensorflow:Can add more nodes!\n",
      "INFO:root:Total MIS length found = 0\n",
      "DEBUG:root:\n"
     ]
    },
    {
     "name": "stdout",
     "output_type": "stream",
     "text": [
      "Average edges count = 983.8\n",
      "Average dNN result = 0.0\n"
     ]
    }
   ],
   "source": [
    "test_network_on_graphs(networks)"
   ]
  },
  {
   "cell_type": "code",
   "execution_count": 214,
   "id": "b7a739de",
   "metadata": {},
   "outputs": [],
   "source": [
    "networks = build_n_graphs(10, lambda: nx.erdos_renyi_graph(200,0.1))"
   ]
  },
  {
   "cell_type": "code",
   "execution_count": 215,
   "id": "6003f814",
   "metadata": {},
   "outputs": [
    {
     "name": "stderr",
     "output_type": "stream",
     "text": [
      "INFO:root:Processing graph 0...\n",
      "DEBUG:root:Calculating G with nodes = 200 edges = 1956\n",
      "DEBUG:root:Build network on graph G:Graph with 200 nodes and 1956 edges.\n",
      "DEBUG:root:Solver stuck\n",
      "DEBUG:root:dNN solution is not correct\n",
      "DEBUG:root:Can add more nodes to IS\n",
      "DEBUG:root:Total epochs = 140\n",
      "DEBUG:root:dNN solution lenghth = 0\n",
      "DEBUG:root:MIS length = 0\n"
     ]
    },
    {
     "name": "stdout",
     "output_type": "stream",
     "text": [
      "ERROR:tensorflow:Calculated mis is not correct!\n"
     ]
    },
    {
     "name": "stderr",
     "output_type": "stream",
     "text": [
      "ERROR:tensorflow:Calculated mis is not correct!\n"
     ]
    },
    {
     "name": "stdout",
     "output_type": "stream",
     "text": [
      "ERROR:tensorflow:Can add more nodes!\n"
     ]
    },
    {
     "name": "stderr",
     "output_type": "stream",
     "text": [
      "ERROR:tensorflow:Can add more nodes!\n",
      "DEBUG:root:Checking community result is correct...\n"
     ]
    },
    {
     "name": "stdout",
     "output_type": "stream",
     "text": [
      "ERROR:tensorflow:Calculated mis is not correct!\n"
     ]
    },
    {
     "name": "stderr",
     "output_type": "stream",
     "text": [
      "ERROR:tensorflow:Calculated mis is not correct!\n"
     ]
    },
    {
     "name": "stdout",
     "output_type": "stream",
     "text": [
      "ERROR:tensorflow:Can add more nodes!\n"
     ]
    },
    {
     "name": "stderr",
     "output_type": "stream",
     "text": [
      "ERROR:tensorflow:Can add more nodes!\n",
      "DEBUG:root:Total nodes in MIS=set()\n"
     ]
    },
    {
     "name": "stdout",
     "output_type": "stream",
     "text": [
      "ERROR:tensorflow:Calculated mis is not correct!\n"
     ]
    },
    {
     "name": "stderr",
     "output_type": "stream",
     "text": [
      "ERROR:tensorflow:Calculated mis is not correct!\n"
     ]
    },
    {
     "name": "stdout",
     "output_type": "stream",
     "text": [
      "ERROR:tensorflow:Can add more nodes!\n"
     ]
    },
    {
     "name": "stderr",
     "output_type": "stream",
     "text": [
      "ERROR:tensorflow:Can add more nodes!\n",
      "INFO:root:Total MIS length found = 0\n",
      "DEBUG:root:\n",
      "INFO:root:Processing graph 1...\n",
      "DEBUG:root:Calculating G with nodes = 200 edges = 1973\n",
      "DEBUG:root:Build network on graph G:Graph with 200 nodes and 1973 edges.\n",
      "DEBUG:root:Solver stuck\n",
      "DEBUG:root:dNN solution is not correct\n",
      "DEBUG:root:Can add more nodes to IS\n",
      "DEBUG:root:Total epochs = 125\n",
      "DEBUG:root:dNN solution lenghth = 0\n",
      "DEBUG:root:MIS length = 0\n"
     ]
    },
    {
     "name": "stdout",
     "output_type": "stream",
     "text": [
      "ERROR:tensorflow:Calculated mis is not correct!\n"
     ]
    },
    {
     "name": "stderr",
     "output_type": "stream",
     "text": [
      "ERROR:tensorflow:Calculated mis is not correct!\n"
     ]
    },
    {
     "name": "stdout",
     "output_type": "stream",
     "text": [
      "ERROR:tensorflow:Can add more nodes!\n"
     ]
    },
    {
     "name": "stderr",
     "output_type": "stream",
     "text": [
      "ERROR:tensorflow:Can add more nodes!\n",
      "DEBUG:root:Checking community result is correct...\n"
     ]
    },
    {
     "name": "stdout",
     "output_type": "stream",
     "text": [
      "ERROR:tensorflow:Calculated mis is not correct!\n"
     ]
    },
    {
     "name": "stderr",
     "output_type": "stream",
     "text": [
      "ERROR:tensorflow:Calculated mis is not correct!\n"
     ]
    },
    {
     "name": "stdout",
     "output_type": "stream",
     "text": [
      "ERROR:tensorflow:Can add more nodes!\n"
     ]
    },
    {
     "name": "stderr",
     "output_type": "stream",
     "text": [
      "ERROR:tensorflow:Can add more nodes!\n",
      "DEBUG:root:Total nodes in MIS=set()\n"
     ]
    },
    {
     "name": "stdout",
     "output_type": "stream",
     "text": [
      "ERROR:tensorflow:Calculated mis is not correct!\n"
     ]
    },
    {
     "name": "stderr",
     "output_type": "stream",
     "text": [
      "ERROR:tensorflow:Calculated mis is not correct!\n"
     ]
    },
    {
     "name": "stdout",
     "output_type": "stream",
     "text": [
      "ERROR:tensorflow:Can add more nodes!\n"
     ]
    },
    {
     "name": "stderr",
     "output_type": "stream",
     "text": [
      "ERROR:tensorflow:Can add more nodes!\n",
      "INFO:root:Total MIS length found = 0\n",
      "DEBUG:root:\n",
      "INFO:root:Processing graph 2...\n",
      "DEBUG:root:Calculating G with nodes = 200 edges = 1989\n",
      "DEBUG:root:Build network on graph G:Graph with 200 nodes and 1989 edges.\n",
      "DEBUG:root:Solver stuck\n",
      "DEBUG:root:dNN solution is not correct\n",
      "DEBUG:root:Can add more nodes to IS\n",
      "DEBUG:root:Total epochs = 142\n",
      "DEBUG:root:dNN solution lenghth = 0\n",
      "DEBUG:root:MIS length = 0\n"
     ]
    },
    {
     "name": "stdout",
     "output_type": "stream",
     "text": [
      "ERROR:tensorflow:Calculated mis is not correct!\n"
     ]
    },
    {
     "name": "stderr",
     "output_type": "stream",
     "text": [
      "ERROR:tensorflow:Calculated mis is not correct!\n"
     ]
    },
    {
     "name": "stdout",
     "output_type": "stream",
     "text": [
      "ERROR:tensorflow:Can add more nodes!\n"
     ]
    },
    {
     "name": "stderr",
     "output_type": "stream",
     "text": [
      "ERROR:tensorflow:Can add more nodes!\n",
      "DEBUG:root:Checking community result is correct...\n"
     ]
    },
    {
     "name": "stdout",
     "output_type": "stream",
     "text": [
      "ERROR:tensorflow:Calculated mis is not correct!\n"
     ]
    },
    {
     "name": "stderr",
     "output_type": "stream",
     "text": [
      "ERROR:tensorflow:Calculated mis is not correct!\n"
     ]
    },
    {
     "name": "stdout",
     "output_type": "stream",
     "text": [
      "ERROR:tensorflow:Can add more nodes!\n"
     ]
    },
    {
     "name": "stderr",
     "output_type": "stream",
     "text": [
      "ERROR:tensorflow:Can add more nodes!\n",
      "DEBUG:root:Total nodes in MIS=set()\n"
     ]
    },
    {
     "name": "stdout",
     "output_type": "stream",
     "text": [
      "ERROR:tensorflow:Calculated mis is not correct!\n"
     ]
    },
    {
     "name": "stderr",
     "output_type": "stream",
     "text": [
      "ERROR:tensorflow:Calculated mis is not correct!\n"
     ]
    },
    {
     "name": "stdout",
     "output_type": "stream",
     "text": [
      "ERROR:tensorflow:Can add more nodes!\n"
     ]
    },
    {
     "name": "stderr",
     "output_type": "stream",
     "text": [
      "ERROR:tensorflow:Can add more nodes!\n",
      "INFO:root:Total MIS length found = 0\n",
      "DEBUG:root:\n",
      "INFO:root:Processing graph 3...\n",
      "DEBUG:root:Calculating G with nodes = 200 edges = 2063\n",
      "DEBUG:root:Build network on graph G:Graph with 200 nodes and 2063 edges.\n",
      "DEBUG:root:Solver stuck\n",
      "DEBUG:root:dNN solution is not correct\n",
      "DEBUG:root:Can add more nodes to IS\n",
      "DEBUG:root:Total epochs = 125\n",
      "DEBUG:root:dNN solution lenghth = 0\n",
      "DEBUG:root:MIS length = 0\n"
     ]
    },
    {
     "name": "stdout",
     "output_type": "stream",
     "text": [
      "ERROR:tensorflow:Calculated mis is not correct!\n"
     ]
    },
    {
     "name": "stderr",
     "output_type": "stream",
     "text": [
      "ERROR:tensorflow:Calculated mis is not correct!\n"
     ]
    },
    {
     "name": "stdout",
     "output_type": "stream",
     "text": [
      "ERROR:tensorflow:Can add more nodes!\n"
     ]
    },
    {
     "name": "stderr",
     "output_type": "stream",
     "text": [
      "ERROR:tensorflow:Can add more nodes!\n",
      "DEBUG:root:Checking community result is correct...\n"
     ]
    },
    {
     "name": "stdout",
     "output_type": "stream",
     "text": [
      "ERROR:tensorflow:Calculated mis is not correct!\n"
     ]
    },
    {
     "name": "stderr",
     "output_type": "stream",
     "text": [
      "ERROR:tensorflow:Calculated mis is not correct!\n"
     ]
    },
    {
     "name": "stdout",
     "output_type": "stream",
     "text": [
      "ERROR:tensorflow:Can add more nodes!\n"
     ]
    },
    {
     "name": "stderr",
     "output_type": "stream",
     "text": [
      "ERROR:tensorflow:Can add more nodes!\n",
      "DEBUG:root:Total nodes in MIS=set()\n"
     ]
    },
    {
     "name": "stdout",
     "output_type": "stream",
     "text": [
      "ERROR:tensorflow:Calculated mis is not correct!\n"
     ]
    },
    {
     "name": "stderr",
     "output_type": "stream",
     "text": [
      "ERROR:tensorflow:Calculated mis is not correct!\n"
     ]
    },
    {
     "name": "stdout",
     "output_type": "stream",
     "text": [
      "ERROR:tensorflow:Can add more nodes!\n"
     ]
    },
    {
     "name": "stderr",
     "output_type": "stream",
     "text": [
      "ERROR:tensorflow:Can add more nodes!\n",
      "INFO:root:Total MIS length found = 0\n",
      "DEBUG:root:\n",
      "INFO:root:Processing graph 4...\n",
      "DEBUG:root:Calculating G with nodes = 200 edges = 1992\n",
      "DEBUG:root:Build network on graph G:Graph with 200 nodes and 1992 edges.\n",
      "DEBUG:root:Solver stuck\n",
      "DEBUG:root:dNN solution is not correct\n",
      "DEBUG:root:Can add more nodes to IS\n",
      "DEBUG:root:Total epochs = 138\n",
      "DEBUG:root:dNN solution lenghth = 0\n",
      "DEBUG:root:MIS length = 0\n"
     ]
    },
    {
     "name": "stdout",
     "output_type": "stream",
     "text": [
      "ERROR:tensorflow:Calculated mis is not correct!\n"
     ]
    },
    {
     "name": "stderr",
     "output_type": "stream",
     "text": [
      "ERROR:tensorflow:Calculated mis is not correct!\n"
     ]
    },
    {
     "name": "stdout",
     "output_type": "stream",
     "text": [
      "ERROR:tensorflow:Can add more nodes!\n"
     ]
    },
    {
     "name": "stderr",
     "output_type": "stream",
     "text": [
      "ERROR:tensorflow:Can add more nodes!\n",
      "DEBUG:root:Checking community result is correct...\n"
     ]
    },
    {
     "name": "stdout",
     "output_type": "stream",
     "text": [
      "ERROR:tensorflow:Calculated mis is not correct!\n"
     ]
    },
    {
     "name": "stderr",
     "output_type": "stream",
     "text": [
      "ERROR:tensorflow:Calculated mis is not correct!\n"
     ]
    },
    {
     "name": "stdout",
     "output_type": "stream",
     "text": [
      "ERROR:tensorflow:Can add more nodes!\n"
     ]
    },
    {
     "name": "stderr",
     "output_type": "stream",
     "text": [
      "ERROR:tensorflow:Can add more nodes!\n",
      "DEBUG:root:Total nodes in MIS=set()\n"
     ]
    },
    {
     "name": "stdout",
     "output_type": "stream",
     "text": [
      "ERROR:tensorflow:Calculated mis is not correct!\n"
     ]
    },
    {
     "name": "stderr",
     "output_type": "stream",
     "text": [
      "ERROR:tensorflow:Calculated mis is not correct!\n"
     ]
    },
    {
     "name": "stdout",
     "output_type": "stream",
     "text": [
      "ERROR:tensorflow:Can add more nodes!\n"
     ]
    },
    {
     "name": "stderr",
     "output_type": "stream",
     "text": [
      "ERROR:tensorflow:Can add more nodes!\n",
      "INFO:root:Total MIS length found = 0\n",
      "DEBUG:root:\n",
      "INFO:root:Processing graph 5...\n",
      "DEBUG:root:Calculating G with nodes = 200 edges = 2005\n",
      "DEBUG:root:Build network on graph G:Graph with 200 nodes and 2005 edges.\n",
      "DEBUG:root:Solver stuck\n",
      "DEBUG:root:dNN solution is not correct\n",
      "DEBUG:root:Can add more nodes to IS\n",
      "DEBUG:root:Total epochs = 131\n",
      "DEBUG:root:dNN solution lenghth = 0\n",
      "DEBUG:root:MIS length = 0\n"
     ]
    },
    {
     "name": "stdout",
     "output_type": "stream",
     "text": [
      "ERROR:tensorflow:Calculated mis is not correct!\n"
     ]
    },
    {
     "name": "stderr",
     "output_type": "stream",
     "text": [
      "ERROR:tensorflow:Calculated mis is not correct!\n"
     ]
    },
    {
     "name": "stdout",
     "output_type": "stream",
     "text": [
      "ERROR:tensorflow:Can add more nodes!\n"
     ]
    },
    {
     "name": "stderr",
     "output_type": "stream",
     "text": [
      "ERROR:tensorflow:Can add more nodes!\n",
      "DEBUG:root:Checking community result is correct...\n"
     ]
    },
    {
     "name": "stdout",
     "output_type": "stream",
     "text": [
      "ERROR:tensorflow:Calculated mis is not correct!\n"
     ]
    },
    {
     "name": "stderr",
     "output_type": "stream",
     "text": [
      "ERROR:tensorflow:Calculated mis is not correct!\n"
     ]
    },
    {
     "name": "stdout",
     "output_type": "stream",
     "text": [
      "ERROR:tensorflow:Can add more nodes!\n"
     ]
    },
    {
     "name": "stderr",
     "output_type": "stream",
     "text": [
      "ERROR:tensorflow:Can add more nodes!\n",
      "DEBUG:root:Total nodes in MIS=set()\n"
     ]
    },
    {
     "name": "stdout",
     "output_type": "stream",
     "text": [
      "ERROR:tensorflow:Calculated mis is not correct!\n"
     ]
    },
    {
     "name": "stderr",
     "output_type": "stream",
     "text": [
      "ERROR:tensorflow:Calculated mis is not correct!\n"
     ]
    },
    {
     "name": "stdout",
     "output_type": "stream",
     "text": [
      "ERROR:tensorflow:Can add more nodes!\n"
     ]
    },
    {
     "name": "stderr",
     "output_type": "stream",
     "text": [
      "ERROR:tensorflow:Can add more nodes!\n",
      "INFO:root:Total MIS length found = 0\n",
      "DEBUG:root:\n",
      "INFO:root:Processing graph 6...\n",
      "DEBUG:root:Calculating G with nodes = 200 edges = 1943\n",
      "DEBUG:root:Build network on graph G:Graph with 200 nodes and 1943 edges.\n",
      "DEBUG:root:Solver stuck\n",
      "DEBUG:root:dNN solution is not correct\n",
      "DEBUG:root:Can add more nodes to IS\n",
      "DEBUG:root:Total epochs = 131\n",
      "DEBUG:root:dNN solution lenghth = 0\n",
      "DEBUG:root:MIS length = 0\n"
     ]
    },
    {
     "name": "stdout",
     "output_type": "stream",
     "text": [
      "ERROR:tensorflow:Calculated mis is not correct!\n"
     ]
    },
    {
     "name": "stderr",
     "output_type": "stream",
     "text": [
      "ERROR:tensorflow:Calculated mis is not correct!\n"
     ]
    },
    {
     "name": "stdout",
     "output_type": "stream",
     "text": [
      "ERROR:tensorflow:Can add more nodes!\n"
     ]
    },
    {
     "name": "stderr",
     "output_type": "stream",
     "text": [
      "ERROR:tensorflow:Can add more nodes!\n",
      "DEBUG:root:Checking community result is correct...\n"
     ]
    },
    {
     "name": "stdout",
     "output_type": "stream",
     "text": [
      "ERROR:tensorflow:Calculated mis is not correct!\n"
     ]
    },
    {
     "name": "stderr",
     "output_type": "stream",
     "text": [
      "ERROR:tensorflow:Calculated mis is not correct!\n"
     ]
    },
    {
     "name": "stdout",
     "output_type": "stream",
     "text": [
      "ERROR:tensorflow:Can add more nodes!\n"
     ]
    },
    {
     "name": "stderr",
     "output_type": "stream",
     "text": [
      "ERROR:tensorflow:Can add more nodes!\n",
      "DEBUG:root:Total nodes in MIS=set()\n"
     ]
    },
    {
     "name": "stdout",
     "output_type": "stream",
     "text": [
      "ERROR:tensorflow:Calculated mis is not correct!\n"
     ]
    },
    {
     "name": "stderr",
     "output_type": "stream",
     "text": [
      "ERROR:tensorflow:Calculated mis is not correct!\n"
     ]
    },
    {
     "name": "stdout",
     "output_type": "stream",
     "text": [
      "ERROR:tensorflow:Can add more nodes!\n"
     ]
    },
    {
     "name": "stderr",
     "output_type": "stream",
     "text": [
      "ERROR:tensorflow:Can add more nodes!\n",
      "INFO:root:Total MIS length found = 0\n",
      "DEBUG:root:\n",
      "INFO:root:Processing graph 7...\n",
      "DEBUG:root:Calculating G with nodes = 200 edges = 2080\n",
      "DEBUG:root:Build network on graph G:Graph with 200 nodes and 2080 edges.\n",
      "DEBUG:root:Solver stuck\n",
      "DEBUG:root:dNN solution is not correct\n",
      "DEBUG:root:Can add more nodes to IS\n",
      "DEBUG:root:Total epochs = 148\n",
      "DEBUG:root:dNN solution lenghth = 0\n",
      "DEBUG:root:MIS length = 0\n"
     ]
    },
    {
     "name": "stdout",
     "output_type": "stream",
     "text": [
      "ERROR:tensorflow:Calculated mis is not correct!\n"
     ]
    },
    {
     "name": "stderr",
     "output_type": "stream",
     "text": [
      "ERROR:tensorflow:Calculated mis is not correct!\n"
     ]
    },
    {
     "name": "stdout",
     "output_type": "stream",
     "text": [
      "ERROR:tensorflow:Can add more nodes!\n"
     ]
    },
    {
     "name": "stderr",
     "output_type": "stream",
     "text": [
      "ERROR:tensorflow:Can add more nodes!\n",
      "DEBUG:root:Checking community result is correct...\n"
     ]
    },
    {
     "name": "stdout",
     "output_type": "stream",
     "text": [
      "ERROR:tensorflow:Calculated mis is not correct!\n"
     ]
    },
    {
     "name": "stderr",
     "output_type": "stream",
     "text": [
      "ERROR:tensorflow:Calculated mis is not correct!\n"
     ]
    },
    {
     "name": "stdout",
     "output_type": "stream",
     "text": [
      "ERROR:tensorflow:Can add more nodes!\n"
     ]
    },
    {
     "name": "stderr",
     "output_type": "stream",
     "text": [
      "ERROR:tensorflow:Can add more nodes!\n",
      "DEBUG:root:Total nodes in MIS=set()\n"
     ]
    },
    {
     "name": "stdout",
     "output_type": "stream",
     "text": [
      "ERROR:tensorflow:Calculated mis is not correct!\n"
     ]
    },
    {
     "name": "stderr",
     "output_type": "stream",
     "text": [
      "ERROR:tensorflow:Calculated mis is not correct!\n"
     ]
    },
    {
     "name": "stdout",
     "output_type": "stream",
     "text": [
      "ERROR:tensorflow:Can add more nodes!\n"
     ]
    },
    {
     "name": "stderr",
     "output_type": "stream",
     "text": [
      "ERROR:tensorflow:Can add more nodes!\n",
      "INFO:root:Total MIS length found = 0\n",
      "DEBUG:root:\n",
      "INFO:root:Processing graph 8...\n",
      "DEBUG:root:Calculating G with nodes = 200 edges = 2021\n",
      "DEBUG:root:Build network on graph G:Graph with 200 nodes and 2021 edges.\n",
      "DEBUG:root:Solver stuck\n",
      "DEBUG:root:dNN solution is not correct\n",
      "DEBUG:root:Can add more nodes to IS\n",
      "DEBUG:root:Total epochs = 125\n",
      "DEBUG:root:dNN solution lenghth = 0\n",
      "DEBUG:root:MIS length = 0\n"
     ]
    },
    {
     "name": "stdout",
     "output_type": "stream",
     "text": [
      "ERROR:tensorflow:Calculated mis is not correct!\n"
     ]
    },
    {
     "name": "stderr",
     "output_type": "stream",
     "text": [
      "ERROR:tensorflow:Calculated mis is not correct!\n"
     ]
    },
    {
     "name": "stdout",
     "output_type": "stream",
     "text": [
      "ERROR:tensorflow:Can add more nodes!\n"
     ]
    },
    {
     "name": "stderr",
     "output_type": "stream",
     "text": [
      "ERROR:tensorflow:Can add more nodes!\n",
      "DEBUG:root:Checking community result is correct...\n"
     ]
    },
    {
     "name": "stdout",
     "output_type": "stream",
     "text": [
      "ERROR:tensorflow:Calculated mis is not correct!\n"
     ]
    },
    {
     "name": "stderr",
     "output_type": "stream",
     "text": [
      "ERROR:tensorflow:Calculated mis is not correct!\n"
     ]
    },
    {
     "name": "stdout",
     "output_type": "stream",
     "text": [
      "ERROR:tensorflow:Can add more nodes!\n"
     ]
    },
    {
     "name": "stderr",
     "output_type": "stream",
     "text": [
      "ERROR:tensorflow:Can add more nodes!\n",
      "DEBUG:root:Total nodes in MIS=set()\n"
     ]
    },
    {
     "name": "stdout",
     "output_type": "stream",
     "text": [
      "ERROR:tensorflow:Calculated mis is not correct!\n"
     ]
    },
    {
     "name": "stderr",
     "output_type": "stream",
     "text": [
      "ERROR:tensorflow:Calculated mis is not correct!\n"
     ]
    },
    {
     "name": "stdout",
     "output_type": "stream",
     "text": [
      "ERROR:tensorflow:Can add more nodes!\n"
     ]
    },
    {
     "name": "stderr",
     "output_type": "stream",
     "text": [
      "ERROR:tensorflow:Can add more nodes!\n",
      "INFO:root:Total MIS length found = 0\n",
      "DEBUG:root:\n",
      "INFO:root:Processing graph 9...\n",
      "DEBUG:root:Calculating G with nodes = 200 edges = 2021\n",
      "DEBUG:root:Build network on graph G:Graph with 200 nodes and 2021 edges.\n",
      "DEBUG:root:Solver stuck\n",
      "DEBUG:root:dNN solution is not correct\n",
      "DEBUG:root:Can add more nodes to IS\n",
      "DEBUG:root:Total epochs = 125\n",
      "DEBUG:root:dNN solution lenghth = 0\n",
      "DEBUG:root:MIS length = 0\n"
     ]
    },
    {
     "name": "stdout",
     "output_type": "stream",
     "text": [
      "ERROR:tensorflow:Calculated mis is not correct!\n"
     ]
    },
    {
     "name": "stderr",
     "output_type": "stream",
     "text": [
      "ERROR:tensorflow:Calculated mis is not correct!\n"
     ]
    },
    {
     "name": "stdout",
     "output_type": "stream",
     "text": [
      "ERROR:tensorflow:Can add more nodes!\n"
     ]
    },
    {
     "name": "stderr",
     "output_type": "stream",
     "text": [
      "ERROR:tensorflow:Can add more nodes!\n",
      "DEBUG:root:Checking community result is correct...\n"
     ]
    },
    {
     "name": "stdout",
     "output_type": "stream",
     "text": [
      "ERROR:tensorflow:Calculated mis is not correct!\n"
     ]
    },
    {
     "name": "stderr",
     "output_type": "stream",
     "text": [
      "ERROR:tensorflow:Calculated mis is not correct!\n"
     ]
    },
    {
     "name": "stdout",
     "output_type": "stream",
     "text": [
      "ERROR:tensorflow:Can add more nodes!\n"
     ]
    },
    {
     "name": "stderr",
     "output_type": "stream",
     "text": [
      "ERROR:tensorflow:Can add more nodes!\n",
      "DEBUG:root:Total nodes in MIS=set()\n"
     ]
    },
    {
     "name": "stdout",
     "output_type": "stream",
     "text": [
      "ERROR:tensorflow:Calculated mis is not correct!\n"
     ]
    },
    {
     "name": "stderr",
     "output_type": "stream",
     "text": [
      "ERROR:tensorflow:Calculated mis is not correct!\n"
     ]
    },
    {
     "name": "stdout",
     "output_type": "stream",
     "text": [
      "ERROR:tensorflow:Can add more nodes!\n"
     ]
    },
    {
     "name": "stderr",
     "output_type": "stream",
     "text": [
      "ERROR:tensorflow:Can add more nodes!\n",
      "INFO:root:Total MIS length found = 0\n",
      "DEBUG:root:\n"
     ]
    },
    {
     "name": "stdout",
     "output_type": "stream",
     "text": [
      "Average edges count = 2004.3\n",
      "Average dNN result = 0.0\n"
     ]
    }
   ],
   "source": [
    "test_network_on_graphs(networks)"
   ]
  },
  {
   "cell_type": "code",
   "execution_count": 216,
   "id": "e535f7fd",
   "metadata": {},
   "outputs": [],
   "source": [
    "networks = build_n_graphs(10, lambda: nx.erdos_renyi_graph(200,0.2))"
   ]
  },
  {
   "cell_type": "code",
   "execution_count": 217,
   "id": "7ada9d76",
   "metadata": {},
   "outputs": [
    {
     "name": "stderr",
     "output_type": "stream",
     "text": [
      "INFO:root:Processing graph 0...\n",
      "DEBUG:root:Calculating G with nodes = 200 edges = 4060\n",
      "DEBUG:root:Build network on graph G:Graph with 200 nodes and 4060 edges.\n",
      "DEBUG:root:Solver stuck\n",
      "DEBUG:root:dNN solution is not correct\n",
      "DEBUG:root:Can add more nodes to IS\n",
      "DEBUG:root:Total epochs = 119\n",
      "DEBUG:root:dNN solution lenghth = 0\n",
      "DEBUG:root:MIS length = 0\n"
     ]
    },
    {
     "name": "stdout",
     "output_type": "stream",
     "text": [
      "ERROR:tensorflow:Calculated mis is not correct!\n"
     ]
    },
    {
     "name": "stderr",
     "output_type": "stream",
     "text": [
      "ERROR:tensorflow:Calculated mis is not correct!\n"
     ]
    },
    {
     "name": "stdout",
     "output_type": "stream",
     "text": [
      "ERROR:tensorflow:Can add more nodes!\n"
     ]
    },
    {
     "name": "stderr",
     "output_type": "stream",
     "text": [
      "ERROR:tensorflow:Can add more nodes!\n",
      "DEBUG:root:Checking community result is correct...\n"
     ]
    },
    {
     "name": "stdout",
     "output_type": "stream",
     "text": [
      "ERROR:tensorflow:Calculated mis is not correct!\n"
     ]
    },
    {
     "name": "stderr",
     "output_type": "stream",
     "text": [
      "ERROR:tensorflow:Calculated mis is not correct!\n"
     ]
    },
    {
     "name": "stdout",
     "output_type": "stream",
     "text": [
      "ERROR:tensorflow:Can add more nodes!\n"
     ]
    },
    {
     "name": "stderr",
     "output_type": "stream",
     "text": [
      "ERROR:tensorflow:Can add more nodes!\n",
      "DEBUG:root:Total nodes in MIS=set()\n"
     ]
    },
    {
     "name": "stdout",
     "output_type": "stream",
     "text": [
      "ERROR:tensorflow:Calculated mis is not correct!\n"
     ]
    },
    {
     "name": "stderr",
     "output_type": "stream",
     "text": [
      "ERROR:tensorflow:Calculated mis is not correct!\n"
     ]
    },
    {
     "name": "stdout",
     "output_type": "stream",
     "text": [
      "ERROR:tensorflow:Can add more nodes!\n"
     ]
    },
    {
     "name": "stderr",
     "output_type": "stream",
     "text": [
      "ERROR:tensorflow:Can add more nodes!\n",
      "INFO:root:Total MIS length found = 0\n",
      "DEBUG:root:\n",
      "INFO:root:Processing graph 1...\n",
      "DEBUG:root:Calculating G with nodes = 200 edges = 3955\n",
      "DEBUG:root:Build network on graph G:Graph with 200 nodes and 3955 edges.\n",
      "DEBUG:root:Solver stuck\n",
      "DEBUG:root:dNN solution is not correct\n",
      "DEBUG:root:Can add more nodes to IS\n",
      "DEBUG:root:Total epochs = 136\n",
      "DEBUG:root:dNN solution lenghth = 0\n",
      "DEBUG:root:MIS length = 0\n"
     ]
    },
    {
     "name": "stdout",
     "output_type": "stream",
     "text": [
      "ERROR:tensorflow:Calculated mis is not correct!\n"
     ]
    },
    {
     "name": "stderr",
     "output_type": "stream",
     "text": [
      "ERROR:tensorflow:Calculated mis is not correct!\n"
     ]
    },
    {
     "name": "stdout",
     "output_type": "stream",
     "text": [
      "ERROR:tensorflow:Can add more nodes!\n"
     ]
    },
    {
     "name": "stderr",
     "output_type": "stream",
     "text": [
      "ERROR:tensorflow:Can add more nodes!\n",
      "DEBUG:root:Checking community result is correct...\n"
     ]
    },
    {
     "name": "stdout",
     "output_type": "stream",
     "text": [
      "ERROR:tensorflow:Calculated mis is not correct!\n"
     ]
    },
    {
     "name": "stderr",
     "output_type": "stream",
     "text": [
      "ERROR:tensorflow:Calculated mis is not correct!\n"
     ]
    },
    {
     "name": "stdout",
     "output_type": "stream",
     "text": [
      "ERROR:tensorflow:Can add more nodes!\n"
     ]
    },
    {
     "name": "stderr",
     "output_type": "stream",
     "text": [
      "ERROR:tensorflow:Can add more nodes!\n",
      "DEBUG:root:Total nodes in MIS=set()\n"
     ]
    },
    {
     "name": "stdout",
     "output_type": "stream",
     "text": [
      "ERROR:tensorflow:Calculated mis is not correct!\n"
     ]
    },
    {
     "name": "stderr",
     "output_type": "stream",
     "text": [
      "ERROR:tensorflow:Calculated mis is not correct!\n"
     ]
    },
    {
     "name": "stdout",
     "output_type": "stream",
     "text": [
      "ERROR:tensorflow:Can add more nodes!\n"
     ]
    },
    {
     "name": "stderr",
     "output_type": "stream",
     "text": [
      "ERROR:tensorflow:Can add more nodes!\n",
      "INFO:root:Total MIS length found = 0\n",
      "DEBUG:root:\n",
      "INFO:root:Processing graph 2...\n",
      "DEBUG:root:Calculating G with nodes = 200 edges = 4106\n",
      "DEBUG:root:Build network on graph G:Graph with 200 nodes and 4106 edges.\n",
      "DEBUG:root:Solver stuck\n",
      "DEBUG:root:dNN solution is not correct\n",
      "DEBUG:root:Can add more nodes to IS\n",
      "DEBUG:root:Total epochs = 118\n",
      "DEBUG:root:dNN solution lenghth = 0\n",
      "DEBUG:root:MIS length = 0\n"
     ]
    },
    {
     "name": "stdout",
     "output_type": "stream",
     "text": [
      "ERROR:tensorflow:Calculated mis is not correct!\n"
     ]
    },
    {
     "name": "stderr",
     "output_type": "stream",
     "text": [
      "ERROR:tensorflow:Calculated mis is not correct!\n"
     ]
    },
    {
     "name": "stdout",
     "output_type": "stream",
     "text": [
      "ERROR:tensorflow:Can add more nodes!\n"
     ]
    },
    {
     "name": "stderr",
     "output_type": "stream",
     "text": [
      "ERROR:tensorflow:Can add more nodes!\n",
      "DEBUG:root:Checking community result is correct...\n"
     ]
    },
    {
     "name": "stdout",
     "output_type": "stream",
     "text": [
      "ERROR:tensorflow:Calculated mis is not correct!\n"
     ]
    },
    {
     "name": "stderr",
     "output_type": "stream",
     "text": [
      "ERROR:tensorflow:Calculated mis is not correct!\n"
     ]
    },
    {
     "name": "stdout",
     "output_type": "stream",
     "text": [
      "ERROR:tensorflow:Can add more nodes!\n"
     ]
    },
    {
     "name": "stderr",
     "output_type": "stream",
     "text": [
      "ERROR:tensorflow:Can add more nodes!\n",
      "DEBUG:root:Total nodes in MIS=set()\n"
     ]
    },
    {
     "name": "stdout",
     "output_type": "stream",
     "text": [
      "ERROR:tensorflow:Calculated mis is not correct!\n"
     ]
    },
    {
     "name": "stderr",
     "output_type": "stream",
     "text": [
      "ERROR:tensorflow:Calculated mis is not correct!\n"
     ]
    },
    {
     "name": "stdout",
     "output_type": "stream",
     "text": [
      "ERROR:tensorflow:Can add more nodes!\n"
     ]
    },
    {
     "name": "stderr",
     "output_type": "stream",
     "text": [
      "ERROR:tensorflow:Can add more nodes!\n",
      "INFO:root:Total MIS length found = 0\n",
      "DEBUG:root:\n",
      "INFO:root:Processing graph 3...\n",
      "DEBUG:root:Calculating G with nodes = 200 edges = 3949\n",
      "DEBUG:root:Build network on graph G:Graph with 200 nodes and 3949 edges.\n",
      "DEBUG:root:Solver stuck\n",
      "DEBUG:root:dNN solution is not correct\n",
      "DEBUG:root:Can add more nodes to IS\n",
      "DEBUG:root:Total epochs = 119\n",
      "DEBUG:root:dNN solution lenghth = 0\n",
      "DEBUG:root:MIS length = 0\n"
     ]
    },
    {
     "name": "stdout",
     "output_type": "stream",
     "text": [
      "ERROR:tensorflow:Calculated mis is not correct!\n"
     ]
    },
    {
     "name": "stderr",
     "output_type": "stream",
     "text": [
      "ERROR:tensorflow:Calculated mis is not correct!\n"
     ]
    },
    {
     "name": "stdout",
     "output_type": "stream",
     "text": [
      "ERROR:tensorflow:Can add more nodes!\n"
     ]
    },
    {
     "name": "stderr",
     "output_type": "stream",
     "text": [
      "ERROR:tensorflow:Can add more nodes!\n",
      "DEBUG:root:Checking community result is correct...\n"
     ]
    },
    {
     "name": "stdout",
     "output_type": "stream",
     "text": [
      "ERROR:tensorflow:Calculated mis is not correct!\n"
     ]
    },
    {
     "name": "stderr",
     "output_type": "stream",
     "text": [
      "ERROR:tensorflow:Calculated mis is not correct!\n"
     ]
    },
    {
     "name": "stdout",
     "output_type": "stream",
     "text": [
      "ERROR:tensorflow:Can add more nodes!\n"
     ]
    },
    {
     "name": "stderr",
     "output_type": "stream",
     "text": [
      "ERROR:tensorflow:Can add more nodes!\n",
      "DEBUG:root:Total nodes in MIS=set()\n"
     ]
    },
    {
     "name": "stdout",
     "output_type": "stream",
     "text": [
      "ERROR:tensorflow:Calculated mis is not correct!\n"
     ]
    },
    {
     "name": "stderr",
     "output_type": "stream",
     "text": [
      "ERROR:tensorflow:Calculated mis is not correct!\n"
     ]
    },
    {
     "name": "stdout",
     "output_type": "stream",
     "text": [
      "ERROR:tensorflow:Can add more nodes!\n"
     ]
    },
    {
     "name": "stderr",
     "output_type": "stream",
     "text": [
      "ERROR:tensorflow:Can add more nodes!\n",
      "INFO:root:Total MIS length found = 0\n",
      "DEBUG:root:\n",
      "INFO:root:Processing graph 4...\n",
      "DEBUG:root:Calculating G with nodes = 200 edges = 3962\n",
      "DEBUG:root:Build network on graph G:Graph with 200 nodes and 3962 edges.\n",
      "DEBUG:root:Solver stuck\n",
      "DEBUG:root:dNN solution is not correct\n",
      "DEBUG:root:Can add more nodes to IS\n",
      "DEBUG:root:Total epochs = 120\n",
      "DEBUG:root:dNN solution lenghth = 0\n",
      "DEBUG:root:MIS length = 0\n"
     ]
    },
    {
     "name": "stdout",
     "output_type": "stream",
     "text": [
      "ERROR:tensorflow:Calculated mis is not correct!\n"
     ]
    },
    {
     "name": "stderr",
     "output_type": "stream",
     "text": [
      "ERROR:tensorflow:Calculated mis is not correct!\n"
     ]
    },
    {
     "name": "stdout",
     "output_type": "stream",
     "text": [
      "ERROR:tensorflow:Can add more nodes!\n"
     ]
    },
    {
     "name": "stderr",
     "output_type": "stream",
     "text": [
      "ERROR:tensorflow:Can add more nodes!\n",
      "DEBUG:root:Checking community result is correct...\n"
     ]
    },
    {
     "name": "stdout",
     "output_type": "stream",
     "text": [
      "ERROR:tensorflow:Calculated mis is not correct!\n"
     ]
    },
    {
     "name": "stderr",
     "output_type": "stream",
     "text": [
      "ERROR:tensorflow:Calculated mis is not correct!\n"
     ]
    },
    {
     "name": "stdout",
     "output_type": "stream",
     "text": [
      "ERROR:tensorflow:Can add more nodes!\n"
     ]
    },
    {
     "name": "stderr",
     "output_type": "stream",
     "text": [
      "ERROR:tensorflow:Can add more nodes!\n",
      "DEBUG:root:Total nodes in MIS=set()\n"
     ]
    },
    {
     "name": "stdout",
     "output_type": "stream",
     "text": [
      "ERROR:tensorflow:Calculated mis is not correct!\n"
     ]
    },
    {
     "name": "stderr",
     "output_type": "stream",
     "text": [
      "ERROR:tensorflow:Calculated mis is not correct!\n"
     ]
    },
    {
     "name": "stdout",
     "output_type": "stream",
     "text": [
      "ERROR:tensorflow:Can add more nodes!\n"
     ]
    },
    {
     "name": "stderr",
     "output_type": "stream",
     "text": [
      "ERROR:tensorflow:Can add more nodes!\n",
      "INFO:root:Total MIS length found = 0\n",
      "DEBUG:root:\n",
      "INFO:root:Processing graph 5...\n",
      "DEBUG:root:Calculating G with nodes = 200 edges = 3963\n",
      "DEBUG:root:Build network on graph G:Graph with 200 nodes and 3963 edges.\n",
      "DEBUG:root:Solver stuck\n",
      "DEBUG:root:dNN solution is not correct\n",
      "DEBUG:root:Can add more nodes to IS\n",
      "DEBUG:root:Total epochs = 19\n",
      "DEBUG:root:dNN solution lenghth = 0\n",
      "DEBUG:root:MIS length = 0\n"
     ]
    },
    {
     "name": "stdout",
     "output_type": "stream",
     "text": [
      "ERROR:tensorflow:Calculated mis is not correct!\n"
     ]
    },
    {
     "name": "stderr",
     "output_type": "stream",
     "text": [
      "ERROR:tensorflow:Calculated mis is not correct!\n"
     ]
    },
    {
     "name": "stdout",
     "output_type": "stream",
     "text": [
      "ERROR:tensorflow:Can add more nodes!\n"
     ]
    },
    {
     "name": "stderr",
     "output_type": "stream",
     "text": [
      "ERROR:tensorflow:Can add more nodes!\n",
      "DEBUG:root:Checking community result is correct...\n"
     ]
    },
    {
     "name": "stdout",
     "output_type": "stream",
     "text": [
      "ERROR:tensorflow:Calculated mis is not correct!\n"
     ]
    },
    {
     "name": "stderr",
     "output_type": "stream",
     "text": [
      "ERROR:tensorflow:Calculated mis is not correct!\n"
     ]
    },
    {
     "name": "stdout",
     "output_type": "stream",
     "text": [
      "ERROR:tensorflow:Can add more nodes!\n"
     ]
    },
    {
     "name": "stderr",
     "output_type": "stream",
     "text": [
      "ERROR:tensorflow:Can add more nodes!\n",
      "DEBUG:root:Total nodes in MIS=set()\n"
     ]
    },
    {
     "name": "stdout",
     "output_type": "stream",
     "text": [
      "ERROR:tensorflow:Calculated mis is not correct!\n"
     ]
    },
    {
     "name": "stderr",
     "output_type": "stream",
     "text": [
      "ERROR:tensorflow:Calculated mis is not correct!\n"
     ]
    },
    {
     "name": "stdout",
     "output_type": "stream",
     "text": [
      "ERROR:tensorflow:Can add more nodes!\n"
     ]
    },
    {
     "name": "stderr",
     "output_type": "stream",
     "text": [
      "ERROR:tensorflow:Can add more nodes!\n",
      "INFO:root:Total MIS length found = 0\n",
      "DEBUG:root:\n",
      "INFO:root:Processing graph 6...\n",
      "DEBUG:root:Calculating G with nodes = 200 edges = 3987\n",
      "DEBUG:root:Build network on graph G:Graph with 200 nodes and 3987 edges.\n",
      "DEBUG:root:Solver stuck\n",
      "DEBUG:root:dNN solution is not correct\n",
      "DEBUG:root:Can add more nodes to IS\n",
      "DEBUG:root:Total epochs = 118\n",
      "DEBUG:root:dNN solution lenghth = 0\n",
      "DEBUG:root:MIS length = 0\n"
     ]
    },
    {
     "name": "stdout",
     "output_type": "stream",
     "text": [
      "ERROR:tensorflow:Calculated mis is not correct!\n"
     ]
    },
    {
     "name": "stderr",
     "output_type": "stream",
     "text": [
      "ERROR:tensorflow:Calculated mis is not correct!\n"
     ]
    },
    {
     "name": "stdout",
     "output_type": "stream",
     "text": [
      "ERROR:tensorflow:Can add more nodes!\n"
     ]
    },
    {
     "name": "stderr",
     "output_type": "stream",
     "text": [
      "ERROR:tensorflow:Can add more nodes!\n",
      "DEBUG:root:Checking community result is correct...\n"
     ]
    },
    {
     "name": "stdout",
     "output_type": "stream",
     "text": [
      "ERROR:tensorflow:Calculated mis is not correct!\n"
     ]
    },
    {
     "name": "stderr",
     "output_type": "stream",
     "text": [
      "ERROR:tensorflow:Calculated mis is not correct!\n"
     ]
    },
    {
     "name": "stdout",
     "output_type": "stream",
     "text": [
      "ERROR:tensorflow:Can add more nodes!\n"
     ]
    },
    {
     "name": "stderr",
     "output_type": "stream",
     "text": [
      "ERROR:tensorflow:Can add more nodes!\n",
      "DEBUG:root:Total nodes in MIS=set()\n"
     ]
    },
    {
     "name": "stdout",
     "output_type": "stream",
     "text": [
      "ERROR:tensorflow:Calculated mis is not correct!\n"
     ]
    },
    {
     "name": "stderr",
     "output_type": "stream",
     "text": [
      "ERROR:tensorflow:Calculated mis is not correct!\n"
     ]
    },
    {
     "name": "stdout",
     "output_type": "stream",
     "text": [
      "ERROR:tensorflow:Can add more nodes!\n"
     ]
    },
    {
     "name": "stderr",
     "output_type": "stream",
     "text": [
      "ERROR:tensorflow:Can add more nodes!\n",
      "INFO:root:Total MIS length found = 0\n",
      "DEBUG:root:\n",
      "INFO:root:Processing graph 7...\n",
      "DEBUG:root:Calculating G with nodes = 200 edges = 4051\n",
      "DEBUG:root:Build network on graph G:Graph with 200 nodes and 4051 edges.\n",
      "DEBUG:root:Solver stuck\n",
      "DEBUG:root:dNN solution is not correct\n",
      "DEBUG:root:Can add more nodes to IS\n",
      "DEBUG:root:Total epochs = 120\n",
      "DEBUG:root:dNN solution lenghth = 0\n",
      "DEBUG:root:MIS length = 0\n"
     ]
    },
    {
     "name": "stdout",
     "output_type": "stream",
     "text": [
      "ERROR:tensorflow:Calculated mis is not correct!\n"
     ]
    },
    {
     "name": "stderr",
     "output_type": "stream",
     "text": [
      "ERROR:tensorflow:Calculated mis is not correct!\n"
     ]
    },
    {
     "name": "stdout",
     "output_type": "stream",
     "text": [
      "ERROR:tensorflow:Can add more nodes!\n"
     ]
    },
    {
     "name": "stderr",
     "output_type": "stream",
     "text": [
      "ERROR:tensorflow:Can add more nodes!\n",
      "DEBUG:root:Checking community result is correct...\n"
     ]
    },
    {
     "name": "stdout",
     "output_type": "stream",
     "text": [
      "ERROR:tensorflow:Calculated mis is not correct!\n"
     ]
    },
    {
     "name": "stderr",
     "output_type": "stream",
     "text": [
      "ERROR:tensorflow:Calculated mis is not correct!\n"
     ]
    },
    {
     "name": "stdout",
     "output_type": "stream",
     "text": [
      "ERROR:tensorflow:Can add more nodes!\n"
     ]
    },
    {
     "name": "stderr",
     "output_type": "stream",
     "text": [
      "ERROR:tensorflow:Can add more nodes!\n",
      "DEBUG:root:Total nodes in MIS=set()\n"
     ]
    },
    {
     "name": "stdout",
     "output_type": "stream",
     "text": [
      "ERROR:tensorflow:Calculated mis is not correct!\n"
     ]
    },
    {
     "name": "stderr",
     "output_type": "stream",
     "text": [
      "ERROR:tensorflow:Calculated mis is not correct!\n"
     ]
    },
    {
     "name": "stdout",
     "output_type": "stream",
     "text": [
      "ERROR:tensorflow:Can add more nodes!\n"
     ]
    },
    {
     "name": "stderr",
     "output_type": "stream",
     "text": [
      "ERROR:tensorflow:Can add more nodes!\n",
      "INFO:root:Total MIS length found = 0\n",
      "DEBUG:root:\n",
      "INFO:root:Processing graph 8...\n",
      "DEBUG:root:Calculating G with nodes = 200 edges = 3977\n",
      "DEBUG:root:Build network on graph G:Graph with 200 nodes and 3977 edges.\n",
      "DEBUG:root:Solver stuck\n",
      "DEBUG:root:dNN solution is not correct\n",
      "DEBUG:root:Can add more nodes to IS\n",
      "DEBUG:root:Total epochs = 118\n",
      "DEBUG:root:dNN solution lenghth = 0\n",
      "DEBUG:root:MIS length = 0\n"
     ]
    },
    {
     "name": "stdout",
     "output_type": "stream",
     "text": [
      "ERROR:tensorflow:Calculated mis is not correct!\n"
     ]
    },
    {
     "name": "stderr",
     "output_type": "stream",
     "text": [
      "ERROR:tensorflow:Calculated mis is not correct!\n"
     ]
    },
    {
     "name": "stdout",
     "output_type": "stream",
     "text": [
      "ERROR:tensorflow:Can add more nodes!\n"
     ]
    },
    {
     "name": "stderr",
     "output_type": "stream",
     "text": [
      "ERROR:tensorflow:Can add more nodes!\n",
      "DEBUG:root:Checking community result is correct...\n"
     ]
    },
    {
     "name": "stdout",
     "output_type": "stream",
     "text": [
      "ERROR:tensorflow:Calculated mis is not correct!\n"
     ]
    },
    {
     "name": "stderr",
     "output_type": "stream",
     "text": [
      "ERROR:tensorflow:Calculated mis is not correct!\n"
     ]
    },
    {
     "name": "stdout",
     "output_type": "stream",
     "text": [
      "ERROR:tensorflow:Can add more nodes!\n"
     ]
    },
    {
     "name": "stderr",
     "output_type": "stream",
     "text": [
      "ERROR:tensorflow:Can add more nodes!\n",
      "DEBUG:root:Total nodes in MIS=set()\n"
     ]
    },
    {
     "name": "stdout",
     "output_type": "stream",
     "text": [
      "ERROR:tensorflow:Calculated mis is not correct!\n"
     ]
    },
    {
     "name": "stderr",
     "output_type": "stream",
     "text": [
      "ERROR:tensorflow:Calculated mis is not correct!\n"
     ]
    },
    {
     "name": "stdout",
     "output_type": "stream",
     "text": [
      "ERROR:tensorflow:Can add more nodes!\n"
     ]
    },
    {
     "name": "stderr",
     "output_type": "stream",
     "text": [
      "ERROR:tensorflow:Can add more nodes!\n",
      "INFO:root:Total MIS length found = 0\n",
      "DEBUG:root:\n",
      "INFO:root:Processing graph 9...\n",
      "DEBUG:root:Calculating G with nodes = 200 edges = 3994\n",
      "DEBUG:root:Build network on graph G:Graph with 200 nodes and 3994 edges.\n",
      "DEBUG:root:Solver stuck\n",
      "DEBUG:root:dNN solution is not correct\n",
      "DEBUG:root:Can add more nodes to IS\n",
      "DEBUG:root:Total epochs = 118\n",
      "DEBUG:root:dNN solution lenghth = 0\n",
      "DEBUG:root:MIS length = 0\n"
     ]
    },
    {
     "name": "stdout",
     "output_type": "stream",
     "text": [
      "ERROR:tensorflow:Calculated mis is not correct!\n"
     ]
    },
    {
     "name": "stderr",
     "output_type": "stream",
     "text": [
      "ERROR:tensorflow:Calculated mis is not correct!\n"
     ]
    },
    {
     "name": "stdout",
     "output_type": "stream",
     "text": [
      "ERROR:tensorflow:Can add more nodes!\n"
     ]
    },
    {
     "name": "stderr",
     "output_type": "stream",
     "text": [
      "ERROR:tensorflow:Can add more nodes!\n",
      "DEBUG:root:Checking community result is correct...\n"
     ]
    },
    {
     "name": "stdout",
     "output_type": "stream",
     "text": [
      "ERROR:tensorflow:Calculated mis is not correct!\n"
     ]
    },
    {
     "name": "stderr",
     "output_type": "stream",
     "text": [
      "ERROR:tensorflow:Calculated mis is not correct!\n"
     ]
    },
    {
     "name": "stdout",
     "output_type": "stream",
     "text": [
      "ERROR:tensorflow:Can add more nodes!\n"
     ]
    },
    {
     "name": "stderr",
     "output_type": "stream",
     "text": [
      "ERROR:tensorflow:Can add more nodes!\n",
      "DEBUG:root:Total nodes in MIS=set()\n"
     ]
    },
    {
     "name": "stdout",
     "output_type": "stream",
     "text": [
      "ERROR:tensorflow:Calculated mis is not correct!\n"
     ]
    },
    {
     "name": "stderr",
     "output_type": "stream",
     "text": [
      "ERROR:tensorflow:Calculated mis is not correct!\n"
     ]
    },
    {
     "name": "stdout",
     "output_type": "stream",
     "text": [
      "ERROR:tensorflow:Can add more nodes!\n"
     ]
    },
    {
     "name": "stderr",
     "output_type": "stream",
     "text": [
      "ERROR:tensorflow:Can add more nodes!\n",
      "INFO:root:Total MIS length found = 0\n",
      "DEBUG:root:\n"
     ]
    },
    {
     "name": "stdout",
     "output_type": "stream",
     "text": [
      "Average edges count = 4000.4\n",
      "Average dNN result = 0.0\n"
     ]
    }
   ],
   "source": [
    "test_network_on_graphs(networks)"
   ]
  },
  {
   "cell_type": "code",
   "execution_count": 218,
   "id": "53fe9706",
   "metadata": {},
   "outputs": [],
   "source": [
    "def build_stochastic_params(s,p,q = 0.05):\n",
    "    sizes = []\n",
    "    probs = []\n",
    "    for i in range(5):\n",
    "        sizes.append(s)\n",
    "        prob = []\n",
    "        for j in range(5):\n",
    "            if i != j:\n",
    "                prob.append(q)\n",
    "            else:\n",
    "                prob.append(p)\n",
    "        probs.append(prob)\n",
    "    return (sizes, probs)"
   ]
  },
  {
   "cell_type": "code",
   "execution_count": 219,
   "id": "0fc0a4f8",
   "metadata": {},
   "outputs": [],
   "source": [
    "(sizes, probs) = build_stochastic_params(50,0.1)"
   ]
  },
  {
   "cell_type": "code",
   "execution_count": 220,
   "id": "b68476a7",
   "metadata": {},
   "outputs": [],
   "source": [
    "networks = build_n_graphs(10, lambda: nx.stochastic_block_model(sizes,probs))"
   ]
  },
  {
   "cell_type": "code",
   "execution_count": 221,
   "id": "8095f9b6",
   "metadata": {},
   "outputs": [
    {
     "name": "stderr",
     "output_type": "stream",
     "text": [
      "INFO:root:Processing graph 0...\n",
      "DEBUG:root:Calculating G with nodes = 250 edges = 1874\n",
      "DEBUG:root:Build network on graph G:Graph named 'stochastic_block_model' with 250 nodes and 1874 edges.\n",
      "DEBUG:root:Solver stuck\n",
      "DEBUG:root:dNN solution is not correct\n",
      "DEBUG:root:Can add more nodes to IS\n",
      "DEBUG:root:Total epochs = 131\n",
      "DEBUG:root:dNN solution lenghth = 0\n",
      "DEBUG:root:MIS length = 0\n"
     ]
    },
    {
     "name": "stdout",
     "output_type": "stream",
     "text": [
      "ERROR:tensorflow:Calculated mis is not correct!\n"
     ]
    },
    {
     "name": "stderr",
     "output_type": "stream",
     "text": [
      "ERROR:tensorflow:Calculated mis is not correct!\n"
     ]
    },
    {
     "name": "stdout",
     "output_type": "stream",
     "text": [
      "ERROR:tensorflow:Can add more nodes!\n"
     ]
    },
    {
     "name": "stderr",
     "output_type": "stream",
     "text": [
      "ERROR:tensorflow:Can add more nodes!\n",
      "DEBUG:root:Checking community result is correct...\n"
     ]
    },
    {
     "name": "stdout",
     "output_type": "stream",
     "text": [
      "ERROR:tensorflow:Calculated mis is not correct!\n"
     ]
    },
    {
     "name": "stderr",
     "output_type": "stream",
     "text": [
      "ERROR:tensorflow:Calculated mis is not correct!\n"
     ]
    },
    {
     "name": "stdout",
     "output_type": "stream",
     "text": [
      "ERROR:tensorflow:Can add more nodes!\n"
     ]
    },
    {
     "name": "stderr",
     "output_type": "stream",
     "text": [
      "ERROR:tensorflow:Can add more nodes!\n",
      "DEBUG:root:Total nodes in MIS=set()\n"
     ]
    },
    {
     "name": "stdout",
     "output_type": "stream",
     "text": [
      "ERROR:tensorflow:Calculated mis is not correct!\n"
     ]
    },
    {
     "name": "stderr",
     "output_type": "stream",
     "text": [
      "ERROR:tensorflow:Calculated mis is not correct!\n"
     ]
    },
    {
     "name": "stdout",
     "output_type": "stream",
     "text": [
      "ERROR:tensorflow:Can add more nodes!\n"
     ]
    },
    {
     "name": "stderr",
     "output_type": "stream",
     "text": [
      "ERROR:tensorflow:Can add more nodes!\n",
      "INFO:root:Total MIS length found = 0\n",
      "DEBUG:root:\n",
      "INFO:root:Processing graph 1...\n",
      "DEBUG:root:Calculating G with nodes = 250 edges = 1885\n",
      "DEBUG:root:Build network on graph G:Graph named 'stochastic_block_model' with 250 nodes and 1885 edges.\n",
      "DEBUG:root:Solver stuck\n",
      "DEBUG:root:dNN solution is not correct\n",
      "DEBUG:root:Can add more nodes to IS\n",
      "DEBUG:root:Total epochs = 129\n",
      "DEBUG:root:dNN solution lenghth = 0\n",
      "DEBUG:root:MIS length = 0\n"
     ]
    },
    {
     "name": "stdout",
     "output_type": "stream",
     "text": [
      "ERROR:tensorflow:Calculated mis is not correct!\n"
     ]
    },
    {
     "name": "stderr",
     "output_type": "stream",
     "text": [
      "ERROR:tensorflow:Calculated mis is not correct!\n"
     ]
    },
    {
     "name": "stdout",
     "output_type": "stream",
     "text": [
      "ERROR:tensorflow:Can add more nodes!\n"
     ]
    },
    {
     "name": "stderr",
     "output_type": "stream",
     "text": [
      "ERROR:tensorflow:Can add more nodes!\n",
      "DEBUG:root:Checking community result is correct...\n"
     ]
    },
    {
     "name": "stdout",
     "output_type": "stream",
     "text": [
      "ERROR:tensorflow:Calculated mis is not correct!\n"
     ]
    },
    {
     "name": "stderr",
     "output_type": "stream",
     "text": [
      "ERROR:tensorflow:Calculated mis is not correct!\n"
     ]
    },
    {
     "name": "stdout",
     "output_type": "stream",
     "text": [
      "ERROR:tensorflow:Can add more nodes!\n"
     ]
    },
    {
     "name": "stderr",
     "output_type": "stream",
     "text": [
      "ERROR:tensorflow:Can add more nodes!\n",
      "DEBUG:root:Total nodes in MIS=set()\n"
     ]
    },
    {
     "name": "stdout",
     "output_type": "stream",
     "text": [
      "ERROR:tensorflow:Calculated mis is not correct!\n"
     ]
    },
    {
     "name": "stderr",
     "output_type": "stream",
     "text": [
      "ERROR:tensorflow:Calculated mis is not correct!\n"
     ]
    },
    {
     "name": "stdout",
     "output_type": "stream",
     "text": [
      "ERROR:tensorflow:Can add more nodes!\n"
     ]
    },
    {
     "name": "stderr",
     "output_type": "stream",
     "text": [
      "ERROR:tensorflow:Can add more nodes!\n",
      "INFO:root:Total MIS length found = 0\n",
      "DEBUG:root:\n",
      "INFO:root:Processing graph 2...\n",
      "DEBUG:root:Calculating G with nodes = 250 edges = 1865\n",
      "DEBUG:root:Build network on graph G:Graph named 'stochastic_block_model' with 250 nodes and 1865 edges.\n",
      "DEBUG:root:Solver stuck\n",
      "DEBUG:root:dNN solution is not correct\n",
      "DEBUG:root:Can add more nodes to IS\n",
      "DEBUG:root:Total epochs = 155\n",
      "DEBUG:root:dNN solution lenghth = 0\n",
      "DEBUG:root:MIS length = 0\n"
     ]
    },
    {
     "name": "stdout",
     "output_type": "stream",
     "text": [
      "ERROR:tensorflow:Calculated mis is not correct!\n"
     ]
    },
    {
     "name": "stderr",
     "output_type": "stream",
     "text": [
      "ERROR:tensorflow:Calculated mis is not correct!\n"
     ]
    },
    {
     "name": "stdout",
     "output_type": "stream",
     "text": [
      "ERROR:tensorflow:Can add more nodes!\n"
     ]
    },
    {
     "name": "stderr",
     "output_type": "stream",
     "text": [
      "ERROR:tensorflow:Can add more nodes!\n",
      "DEBUG:root:Checking community result is correct...\n"
     ]
    },
    {
     "name": "stdout",
     "output_type": "stream",
     "text": [
      "ERROR:tensorflow:Calculated mis is not correct!\n"
     ]
    },
    {
     "name": "stderr",
     "output_type": "stream",
     "text": [
      "ERROR:tensorflow:Calculated mis is not correct!\n"
     ]
    },
    {
     "name": "stdout",
     "output_type": "stream",
     "text": [
      "ERROR:tensorflow:Can add more nodes!\n"
     ]
    },
    {
     "name": "stderr",
     "output_type": "stream",
     "text": [
      "ERROR:tensorflow:Can add more nodes!\n",
      "DEBUG:root:Total nodes in MIS=set()\n"
     ]
    },
    {
     "name": "stdout",
     "output_type": "stream",
     "text": [
      "ERROR:tensorflow:Calculated mis is not correct!\n"
     ]
    },
    {
     "name": "stderr",
     "output_type": "stream",
     "text": [
      "ERROR:tensorflow:Calculated mis is not correct!\n"
     ]
    },
    {
     "name": "stdout",
     "output_type": "stream",
     "text": [
      "ERROR:tensorflow:Can add more nodes!\n"
     ]
    },
    {
     "name": "stderr",
     "output_type": "stream",
     "text": [
      "ERROR:tensorflow:Can add more nodes!\n",
      "INFO:root:Total MIS length found = 0\n",
      "DEBUG:root:\n",
      "INFO:root:Processing graph 3...\n",
      "DEBUG:root:Calculating G with nodes = 250 edges = 1924\n",
      "DEBUG:root:Build network on graph G:Graph named 'stochastic_block_model' with 250 nodes and 1924 edges.\n",
      "DEBUG:root:Solver stuck\n",
      "DEBUG:root:dNN solution is not correct\n",
      "DEBUG:root:Can add more nodes to IS\n",
      "DEBUG:root:Total epochs = 129\n",
      "DEBUG:root:dNN solution lenghth = 0\n",
      "DEBUG:root:MIS length = 0\n"
     ]
    },
    {
     "name": "stdout",
     "output_type": "stream",
     "text": [
      "ERROR:tensorflow:Calculated mis is not correct!\n"
     ]
    },
    {
     "name": "stderr",
     "output_type": "stream",
     "text": [
      "ERROR:tensorflow:Calculated mis is not correct!\n"
     ]
    },
    {
     "name": "stdout",
     "output_type": "stream",
     "text": [
      "ERROR:tensorflow:Can add more nodes!\n"
     ]
    },
    {
     "name": "stderr",
     "output_type": "stream",
     "text": [
      "ERROR:tensorflow:Can add more nodes!\n",
      "DEBUG:root:Checking community result is correct...\n"
     ]
    },
    {
     "name": "stdout",
     "output_type": "stream",
     "text": [
      "ERROR:tensorflow:Calculated mis is not correct!\n"
     ]
    },
    {
     "name": "stderr",
     "output_type": "stream",
     "text": [
      "ERROR:tensorflow:Calculated mis is not correct!\n"
     ]
    },
    {
     "name": "stdout",
     "output_type": "stream",
     "text": [
      "ERROR:tensorflow:Can add more nodes!\n"
     ]
    },
    {
     "name": "stderr",
     "output_type": "stream",
     "text": [
      "ERROR:tensorflow:Can add more nodes!\n",
      "DEBUG:root:Total nodes in MIS=set()\n"
     ]
    },
    {
     "name": "stdout",
     "output_type": "stream",
     "text": [
      "ERROR:tensorflow:Calculated mis is not correct!\n"
     ]
    },
    {
     "name": "stderr",
     "output_type": "stream",
     "text": [
      "ERROR:tensorflow:Calculated mis is not correct!\n"
     ]
    },
    {
     "name": "stdout",
     "output_type": "stream",
     "text": [
      "ERROR:tensorflow:Can add more nodes!\n"
     ]
    },
    {
     "name": "stderr",
     "output_type": "stream",
     "text": [
      "ERROR:tensorflow:Can add more nodes!\n",
      "INFO:root:Total MIS length found = 0\n",
      "DEBUG:root:\n",
      "INFO:root:Processing graph 4...\n",
      "DEBUG:root:Calculating G with nodes = 250 edges = 1852\n",
      "DEBUG:root:Build network on graph G:Graph named 'stochastic_block_model' with 250 nodes and 1852 edges.\n",
      "DEBUG:root:Solver stuck\n",
      "DEBUG:root:dNN solution is not correct\n",
      "DEBUG:root:Can add more nodes to IS\n",
      "DEBUG:root:Total epochs = 129\n",
      "DEBUG:root:dNN solution lenghth = 0\n",
      "DEBUG:root:MIS length = 0\n"
     ]
    },
    {
     "name": "stdout",
     "output_type": "stream",
     "text": [
      "ERROR:tensorflow:Calculated mis is not correct!\n"
     ]
    },
    {
     "name": "stderr",
     "output_type": "stream",
     "text": [
      "ERROR:tensorflow:Calculated mis is not correct!\n"
     ]
    },
    {
     "name": "stdout",
     "output_type": "stream",
     "text": [
      "ERROR:tensorflow:Can add more nodes!\n"
     ]
    },
    {
     "name": "stderr",
     "output_type": "stream",
     "text": [
      "ERROR:tensorflow:Can add more nodes!\n",
      "DEBUG:root:Checking community result is correct...\n"
     ]
    },
    {
     "name": "stdout",
     "output_type": "stream",
     "text": [
      "ERROR:tensorflow:Calculated mis is not correct!\n"
     ]
    },
    {
     "name": "stderr",
     "output_type": "stream",
     "text": [
      "ERROR:tensorflow:Calculated mis is not correct!\n"
     ]
    },
    {
     "name": "stdout",
     "output_type": "stream",
     "text": [
      "ERROR:tensorflow:Can add more nodes!\n"
     ]
    },
    {
     "name": "stderr",
     "output_type": "stream",
     "text": [
      "ERROR:tensorflow:Can add more nodes!\n",
      "DEBUG:root:Total nodes in MIS=set()\n"
     ]
    },
    {
     "name": "stdout",
     "output_type": "stream",
     "text": [
      "ERROR:tensorflow:Calculated mis is not correct!\n"
     ]
    },
    {
     "name": "stderr",
     "output_type": "stream",
     "text": [
      "ERROR:tensorflow:Calculated mis is not correct!\n"
     ]
    },
    {
     "name": "stdout",
     "output_type": "stream",
     "text": [
      "ERROR:tensorflow:Can add more nodes!\n"
     ]
    },
    {
     "name": "stderr",
     "output_type": "stream",
     "text": [
      "ERROR:tensorflow:Can add more nodes!\n",
      "INFO:root:Total MIS length found = 0\n",
      "DEBUG:root:\n",
      "INFO:root:Processing graph 5...\n",
      "DEBUG:root:Calculating G with nodes = 250 edges = 1909\n",
      "DEBUG:root:Build network on graph G:Graph named 'stochastic_block_model' with 250 nodes and 1909 edges.\n",
      "DEBUG:root:Solver stuck\n",
      "DEBUG:root:dNN solution is not correct\n",
      "DEBUG:root:Can add more nodes to IS\n",
      "DEBUG:root:Total epochs = 151\n",
      "DEBUG:root:dNN solution lenghth = 0\n",
      "DEBUG:root:MIS length = 0\n"
     ]
    },
    {
     "name": "stdout",
     "output_type": "stream",
     "text": [
      "ERROR:tensorflow:Calculated mis is not correct!\n"
     ]
    },
    {
     "name": "stderr",
     "output_type": "stream",
     "text": [
      "ERROR:tensorflow:Calculated mis is not correct!\n"
     ]
    },
    {
     "name": "stdout",
     "output_type": "stream",
     "text": [
      "ERROR:tensorflow:Can add more nodes!\n"
     ]
    },
    {
     "name": "stderr",
     "output_type": "stream",
     "text": [
      "ERROR:tensorflow:Can add more nodes!\n",
      "DEBUG:root:Checking community result is correct...\n"
     ]
    },
    {
     "name": "stdout",
     "output_type": "stream",
     "text": [
      "ERROR:tensorflow:Calculated mis is not correct!\n"
     ]
    },
    {
     "name": "stderr",
     "output_type": "stream",
     "text": [
      "ERROR:tensorflow:Calculated mis is not correct!\n"
     ]
    },
    {
     "name": "stdout",
     "output_type": "stream",
     "text": [
      "ERROR:tensorflow:Can add more nodes!\n"
     ]
    },
    {
     "name": "stderr",
     "output_type": "stream",
     "text": [
      "ERROR:tensorflow:Can add more nodes!\n",
      "DEBUG:root:Total nodes in MIS=set()\n"
     ]
    },
    {
     "name": "stdout",
     "output_type": "stream",
     "text": [
      "ERROR:tensorflow:Calculated mis is not correct!\n"
     ]
    },
    {
     "name": "stderr",
     "output_type": "stream",
     "text": [
      "ERROR:tensorflow:Calculated mis is not correct!\n"
     ]
    },
    {
     "name": "stdout",
     "output_type": "stream",
     "text": [
      "ERROR:tensorflow:Can add more nodes!\n"
     ]
    },
    {
     "name": "stderr",
     "output_type": "stream",
     "text": [
      "ERROR:tensorflow:Can add more nodes!\n",
      "INFO:root:Total MIS length found = 0\n",
      "DEBUG:root:\n",
      "INFO:root:Processing graph 6...\n",
      "DEBUG:root:Calculating G with nodes = 250 edges = 1827\n",
      "DEBUG:root:Build network on graph G:Graph named 'stochastic_block_model' with 250 nodes and 1827 edges.\n",
      "DEBUG:root:Solver stuck\n",
      "DEBUG:root:dNN solution is not correct\n",
      "DEBUG:root:Can add more nodes to IS\n",
      "DEBUG:root:Total epochs = 155\n",
      "DEBUG:root:dNN solution lenghth = 0\n",
      "DEBUG:root:MIS length = 0\n"
     ]
    },
    {
     "name": "stdout",
     "output_type": "stream",
     "text": [
      "ERROR:tensorflow:Calculated mis is not correct!\n"
     ]
    },
    {
     "name": "stderr",
     "output_type": "stream",
     "text": [
      "ERROR:tensorflow:Calculated mis is not correct!\n"
     ]
    },
    {
     "name": "stdout",
     "output_type": "stream",
     "text": [
      "ERROR:tensorflow:Can add more nodes!\n"
     ]
    },
    {
     "name": "stderr",
     "output_type": "stream",
     "text": [
      "ERROR:tensorflow:Can add more nodes!\n",
      "DEBUG:root:Checking community result is correct...\n"
     ]
    },
    {
     "name": "stdout",
     "output_type": "stream",
     "text": [
      "ERROR:tensorflow:Calculated mis is not correct!\n"
     ]
    },
    {
     "name": "stderr",
     "output_type": "stream",
     "text": [
      "ERROR:tensorflow:Calculated mis is not correct!\n"
     ]
    },
    {
     "name": "stdout",
     "output_type": "stream",
     "text": [
      "ERROR:tensorflow:Can add more nodes!\n"
     ]
    },
    {
     "name": "stderr",
     "output_type": "stream",
     "text": [
      "ERROR:tensorflow:Can add more nodes!\n",
      "DEBUG:root:Total nodes in MIS=set()\n"
     ]
    },
    {
     "name": "stdout",
     "output_type": "stream",
     "text": [
      "ERROR:tensorflow:Calculated mis is not correct!\n"
     ]
    },
    {
     "name": "stderr",
     "output_type": "stream",
     "text": [
      "ERROR:tensorflow:Calculated mis is not correct!\n"
     ]
    },
    {
     "name": "stdout",
     "output_type": "stream",
     "text": [
      "ERROR:tensorflow:Can add more nodes!\n"
     ]
    },
    {
     "name": "stderr",
     "output_type": "stream",
     "text": [
      "ERROR:tensorflow:Can add more nodes!\n",
      "INFO:root:Total MIS length found = 0\n",
      "DEBUG:root:\n",
      "INFO:root:Processing graph 7...\n",
      "DEBUG:root:Calculating G with nodes = 250 edges = 1899\n",
      "DEBUG:root:Build network on graph G:Graph named 'stochastic_block_model' with 250 nodes and 1899 edges.\n",
      "DEBUG:root:Solver stuck\n",
      "DEBUG:root:dNN solution is not correct\n",
      "DEBUG:root:Can add more nodes to IS\n",
      "DEBUG:root:Total epochs = 126\n",
      "DEBUG:root:dNN solution lenghth = 0\n",
      "DEBUG:root:MIS length = 0\n"
     ]
    },
    {
     "name": "stdout",
     "output_type": "stream",
     "text": [
      "ERROR:tensorflow:Calculated mis is not correct!\n"
     ]
    },
    {
     "name": "stderr",
     "output_type": "stream",
     "text": [
      "ERROR:tensorflow:Calculated mis is not correct!\n"
     ]
    },
    {
     "name": "stdout",
     "output_type": "stream",
     "text": [
      "ERROR:tensorflow:Can add more nodes!\n"
     ]
    },
    {
     "name": "stderr",
     "output_type": "stream",
     "text": [
      "ERROR:tensorflow:Can add more nodes!\n",
      "DEBUG:root:Checking community result is correct...\n"
     ]
    },
    {
     "name": "stdout",
     "output_type": "stream",
     "text": [
      "ERROR:tensorflow:Calculated mis is not correct!\n"
     ]
    },
    {
     "name": "stderr",
     "output_type": "stream",
     "text": [
      "ERROR:tensorflow:Calculated mis is not correct!\n"
     ]
    },
    {
     "name": "stdout",
     "output_type": "stream",
     "text": [
      "ERROR:tensorflow:Can add more nodes!\n"
     ]
    },
    {
     "name": "stderr",
     "output_type": "stream",
     "text": [
      "ERROR:tensorflow:Can add more nodes!\n",
      "DEBUG:root:Total nodes in MIS=set()\n"
     ]
    },
    {
     "name": "stdout",
     "output_type": "stream",
     "text": [
      "ERROR:tensorflow:Calculated mis is not correct!\n"
     ]
    },
    {
     "name": "stderr",
     "output_type": "stream",
     "text": [
      "ERROR:tensorflow:Calculated mis is not correct!\n"
     ]
    },
    {
     "name": "stdout",
     "output_type": "stream",
     "text": [
      "ERROR:tensorflow:Can add more nodes!\n"
     ]
    },
    {
     "name": "stderr",
     "output_type": "stream",
     "text": [
      "ERROR:tensorflow:Can add more nodes!\n",
      "INFO:root:Total MIS length found = 0\n",
      "DEBUG:root:\n",
      "INFO:root:Processing graph 8...\n",
      "DEBUG:root:Calculating G with nodes = 250 edges = 1894\n",
      "DEBUG:root:Build network on graph G:Graph named 'stochastic_block_model' with 250 nodes and 1894 edges.\n",
      "DEBUG:root:Solver stuck\n",
      "DEBUG:root:dNN solution is not correct\n",
      "DEBUG:root:Can add more nodes to IS\n",
      "DEBUG:root:Total epochs = 129\n",
      "DEBUG:root:dNN solution lenghth = 0\n",
      "DEBUG:root:MIS length = 0\n"
     ]
    },
    {
     "name": "stdout",
     "output_type": "stream",
     "text": [
      "ERROR:tensorflow:Calculated mis is not correct!\n"
     ]
    },
    {
     "name": "stderr",
     "output_type": "stream",
     "text": [
      "ERROR:tensorflow:Calculated mis is not correct!\n"
     ]
    },
    {
     "name": "stdout",
     "output_type": "stream",
     "text": [
      "ERROR:tensorflow:Can add more nodes!\n"
     ]
    },
    {
     "name": "stderr",
     "output_type": "stream",
     "text": [
      "ERROR:tensorflow:Can add more nodes!\n",
      "DEBUG:root:Checking community result is correct...\n"
     ]
    },
    {
     "name": "stdout",
     "output_type": "stream",
     "text": [
      "ERROR:tensorflow:Calculated mis is not correct!\n"
     ]
    },
    {
     "name": "stderr",
     "output_type": "stream",
     "text": [
      "ERROR:tensorflow:Calculated mis is not correct!\n"
     ]
    },
    {
     "name": "stdout",
     "output_type": "stream",
     "text": [
      "ERROR:tensorflow:Can add more nodes!\n"
     ]
    },
    {
     "name": "stderr",
     "output_type": "stream",
     "text": [
      "ERROR:tensorflow:Can add more nodes!\n",
      "DEBUG:root:Total nodes in MIS=set()\n"
     ]
    },
    {
     "name": "stdout",
     "output_type": "stream",
     "text": [
      "ERROR:tensorflow:Calculated mis is not correct!\n"
     ]
    },
    {
     "name": "stderr",
     "output_type": "stream",
     "text": [
      "ERROR:tensorflow:Calculated mis is not correct!\n"
     ]
    },
    {
     "name": "stdout",
     "output_type": "stream",
     "text": [
      "ERROR:tensorflow:Can add more nodes!\n"
     ]
    },
    {
     "name": "stderr",
     "output_type": "stream",
     "text": [
      "ERROR:tensorflow:Can add more nodes!\n",
      "INFO:root:Total MIS length found = 0\n",
      "DEBUG:root:\n",
      "INFO:root:Processing graph 9...\n",
      "DEBUG:root:Calculating G with nodes = 250 edges = 1820\n",
      "DEBUG:root:Build network on graph G:Graph named 'stochastic_block_model' with 250 nodes and 1820 edges.\n",
      "DEBUG:root:Solver stuck\n",
      "DEBUG:root:dNN solution is not correct\n",
      "DEBUG:root:Can add more nodes to IS\n",
      "DEBUG:root:Total epochs = 135\n",
      "DEBUG:root:dNN solution lenghth = 0\n",
      "DEBUG:root:MIS length = 0\n"
     ]
    },
    {
     "name": "stdout",
     "output_type": "stream",
     "text": [
      "ERROR:tensorflow:Calculated mis is not correct!\n"
     ]
    },
    {
     "name": "stderr",
     "output_type": "stream",
     "text": [
      "ERROR:tensorflow:Calculated mis is not correct!\n"
     ]
    },
    {
     "name": "stdout",
     "output_type": "stream",
     "text": [
      "ERROR:tensorflow:Can add more nodes!\n"
     ]
    },
    {
     "name": "stderr",
     "output_type": "stream",
     "text": [
      "ERROR:tensorflow:Can add more nodes!\n",
      "DEBUG:root:Checking community result is correct...\n"
     ]
    },
    {
     "name": "stdout",
     "output_type": "stream",
     "text": [
      "ERROR:tensorflow:Calculated mis is not correct!\n"
     ]
    },
    {
     "name": "stderr",
     "output_type": "stream",
     "text": [
      "ERROR:tensorflow:Calculated mis is not correct!\n"
     ]
    },
    {
     "name": "stdout",
     "output_type": "stream",
     "text": [
      "ERROR:tensorflow:Can add more nodes!\n"
     ]
    },
    {
     "name": "stderr",
     "output_type": "stream",
     "text": [
      "ERROR:tensorflow:Can add more nodes!\n",
      "DEBUG:root:Total nodes in MIS=set()\n"
     ]
    },
    {
     "name": "stdout",
     "output_type": "stream",
     "text": [
      "ERROR:tensorflow:Calculated mis is not correct!\n"
     ]
    },
    {
     "name": "stderr",
     "output_type": "stream",
     "text": [
      "ERROR:tensorflow:Calculated mis is not correct!\n"
     ]
    },
    {
     "name": "stdout",
     "output_type": "stream",
     "text": [
      "ERROR:tensorflow:Can add more nodes!\n"
     ]
    },
    {
     "name": "stderr",
     "output_type": "stream",
     "text": [
      "ERROR:tensorflow:Can add more nodes!\n",
      "INFO:root:Total MIS length found = 0\n",
      "DEBUG:root:\n"
     ]
    },
    {
     "name": "stdout",
     "output_type": "stream",
     "text": [
      "Average edges count = 1874.9\n",
      "Average dNN result = 0.0\n"
     ]
    }
   ],
   "source": [
    "test_network_on_graphs(networks)"
   ]
  },
  {
   "cell_type": "code",
   "execution_count": 222,
   "id": "2635f899",
   "metadata": {},
   "outputs": [
    {
     "name": "stderr",
     "output_type": "stream",
     "text": [
      "INFO:root:Processing graph 0...\n",
      "DEBUG:root:Calculating G with nodes = 250 edges = 2448\n",
      "DEBUG:root:Build network on graph G:Graph named 'stochastic_block_model' with 250 nodes and 2448 edges.\n",
      "DEBUG:root:Solver stuck\n",
      "DEBUG:root:dNN solution is not correct\n",
      "DEBUG:root:Can add more nodes to IS\n",
      "DEBUG:root:Total epochs = 128\n",
      "DEBUG:root:dNN solution lenghth = 0\n",
      "DEBUG:root:MIS length = 0\n"
     ]
    },
    {
     "name": "stdout",
     "output_type": "stream",
     "text": [
      "ERROR:tensorflow:Calculated mis is not correct!\n"
     ]
    },
    {
     "name": "stderr",
     "output_type": "stream",
     "text": [
      "ERROR:tensorflow:Calculated mis is not correct!\n"
     ]
    },
    {
     "name": "stdout",
     "output_type": "stream",
     "text": [
      "ERROR:tensorflow:Can add more nodes!\n"
     ]
    },
    {
     "name": "stderr",
     "output_type": "stream",
     "text": [
      "ERROR:tensorflow:Can add more nodes!\n",
      "DEBUG:root:Checking community result is correct...\n"
     ]
    },
    {
     "name": "stdout",
     "output_type": "stream",
     "text": [
      "ERROR:tensorflow:Calculated mis is not correct!\n"
     ]
    },
    {
     "name": "stderr",
     "output_type": "stream",
     "text": [
      "ERROR:tensorflow:Calculated mis is not correct!\n"
     ]
    },
    {
     "name": "stdout",
     "output_type": "stream",
     "text": [
      "ERROR:tensorflow:Can add more nodes!\n"
     ]
    },
    {
     "name": "stderr",
     "output_type": "stream",
     "text": [
      "ERROR:tensorflow:Can add more nodes!\n",
      "DEBUG:root:Total nodes in MIS=set()\n"
     ]
    },
    {
     "name": "stdout",
     "output_type": "stream",
     "text": [
      "ERROR:tensorflow:Calculated mis is not correct!\n"
     ]
    },
    {
     "name": "stderr",
     "output_type": "stream",
     "text": [
      "ERROR:tensorflow:Calculated mis is not correct!\n"
     ]
    },
    {
     "name": "stdout",
     "output_type": "stream",
     "text": [
      "ERROR:tensorflow:Can add more nodes!\n"
     ]
    },
    {
     "name": "stderr",
     "output_type": "stream",
     "text": [
      "ERROR:tensorflow:Can add more nodes!\n",
      "INFO:root:Total MIS length found = 0\n",
      "DEBUG:root:\n",
      "INFO:root:Processing graph 1...\n",
      "DEBUG:root:Calculating G with nodes = 250 edges = 2463\n",
      "DEBUG:root:Build network on graph G:Graph named 'stochastic_block_model' with 250 nodes and 2463 edges.\n",
      "DEBUG:root:Solver stuck\n",
      "DEBUG:root:dNN solution is not correct\n",
      "DEBUG:root:Can add more nodes to IS\n",
      "DEBUG:root:Total epochs = 148\n",
      "DEBUG:root:dNN solution lenghth = 0\n",
      "DEBUG:root:MIS length = 0\n"
     ]
    },
    {
     "name": "stdout",
     "output_type": "stream",
     "text": [
      "ERROR:tensorflow:Calculated mis is not correct!\n"
     ]
    },
    {
     "name": "stderr",
     "output_type": "stream",
     "text": [
      "ERROR:tensorflow:Calculated mis is not correct!\n"
     ]
    },
    {
     "name": "stdout",
     "output_type": "stream",
     "text": [
      "ERROR:tensorflow:Can add more nodes!\n"
     ]
    },
    {
     "name": "stderr",
     "output_type": "stream",
     "text": [
      "ERROR:tensorflow:Can add more nodes!\n",
      "DEBUG:root:Checking community result is correct...\n"
     ]
    },
    {
     "name": "stdout",
     "output_type": "stream",
     "text": [
      "ERROR:tensorflow:Calculated mis is not correct!\n"
     ]
    },
    {
     "name": "stderr",
     "output_type": "stream",
     "text": [
      "ERROR:tensorflow:Calculated mis is not correct!\n"
     ]
    },
    {
     "name": "stdout",
     "output_type": "stream",
     "text": [
      "ERROR:tensorflow:Can add more nodes!\n"
     ]
    },
    {
     "name": "stderr",
     "output_type": "stream",
     "text": [
      "ERROR:tensorflow:Can add more nodes!\n",
      "DEBUG:root:Total nodes in MIS=set()\n"
     ]
    },
    {
     "name": "stdout",
     "output_type": "stream",
     "text": [
      "ERROR:tensorflow:Calculated mis is not correct!\n"
     ]
    },
    {
     "name": "stderr",
     "output_type": "stream",
     "text": [
      "ERROR:tensorflow:Calculated mis is not correct!\n"
     ]
    },
    {
     "name": "stdout",
     "output_type": "stream",
     "text": [
      "ERROR:tensorflow:Can add more nodes!\n"
     ]
    },
    {
     "name": "stderr",
     "output_type": "stream",
     "text": [
      "ERROR:tensorflow:Can add more nodes!\n",
      "INFO:root:Total MIS length found = 0\n",
      "DEBUG:root:\n",
      "INFO:root:Processing graph 2...\n",
      "DEBUG:root:Calculating G with nodes = 250 edges = 2524\n",
      "DEBUG:root:Build network on graph G:Graph named 'stochastic_block_model' with 250 nodes and 2524 edges.\n",
      "DEBUG:root:Solver stuck\n",
      "DEBUG:root:dNN solution is not correct\n",
      "DEBUG:root:Can add more nodes to IS\n",
      "DEBUG:root:Total epochs = 125\n",
      "DEBUG:root:dNN solution lenghth = 0\n",
      "DEBUG:root:MIS length = 0\n"
     ]
    },
    {
     "name": "stdout",
     "output_type": "stream",
     "text": [
      "ERROR:tensorflow:Calculated mis is not correct!\n"
     ]
    },
    {
     "name": "stderr",
     "output_type": "stream",
     "text": [
      "ERROR:tensorflow:Calculated mis is not correct!\n"
     ]
    },
    {
     "name": "stdout",
     "output_type": "stream",
     "text": [
      "ERROR:tensorflow:Can add more nodes!\n"
     ]
    },
    {
     "name": "stderr",
     "output_type": "stream",
     "text": [
      "ERROR:tensorflow:Can add more nodes!\n",
      "DEBUG:root:Checking community result is correct...\n"
     ]
    },
    {
     "name": "stdout",
     "output_type": "stream",
     "text": [
      "ERROR:tensorflow:Calculated mis is not correct!\n"
     ]
    },
    {
     "name": "stderr",
     "output_type": "stream",
     "text": [
      "ERROR:tensorflow:Calculated mis is not correct!\n"
     ]
    },
    {
     "name": "stdout",
     "output_type": "stream",
     "text": [
      "ERROR:tensorflow:Can add more nodes!\n"
     ]
    },
    {
     "name": "stderr",
     "output_type": "stream",
     "text": [
      "ERROR:tensorflow:Can add more nodes!\n",
      "DEBUG:root:Total nodes in MIS=set()\n"
     ]
    },
    {
     "name": "stdout",
     "output_type": "stream",
     "text": [
      "ERROR:tensorflow:Calculated mis is not correct!\n"
     ]
    },
    {
     "name": "stderr",
     "output_type": "stream",
     "text": [
      "ERROR:tensorflow:Calculated mis is not correct!\n"
     ]
    },
    {
     "name": "stdout",
     "output_type": "stream",
     "text": [
      "ERROR:tensorflow:Can add more nodes!\n"
     ]
    },
    {
     "name": "stderr",
     "output_type": "stream",
     "text": [
      "ERROR:tensorflow:Can add more nodes!\n",
      "INFO:root:Total MIS length found = 0\n",
      "DEBUG:root:\n",
      "INFO:root:Processing graph 3...\n",
      "DEBUG:root:Calculating G with nodes = 250 edges = 2483\n",
      "DEBUG:root:Build network on graph G:Graph named 'stochastic_block_model' with 250 nodes and 2483 edges.\n",
      "DEBUG:root:Solver stuck\n",
      "DEBUG:root:dNN solution is not correct\n",
      "DEBUG:root:Can add more nodes to IS\n",
      "DEBUG:root:Total epochs = 130\n",
      "DEBUG:root:dNN solution lenghth = 0\n",
      "DEBUG:root:MIS length = 0\n"
     ]
    },
    {
     "name": "stdout",
     "output_type": "stream",
     "text": [
      "ERROR:tensorflow:Calculated mis is not correct!\n"
     ]
    },
    {
     "name": "stderr",
     "output_type": "stream",
     "text": [
      "ERROR:tensorflow:Calculated mis is not correct!\n"
     ]
    },
    {
     "name": "stdout",
     "output_type": "stream",
     "text": [
      "ERROR:tensorflow:Can add more nodes!\n"
     ]
    },
    {
     "name": "stderr",
     "output_type": "stream",
     "text": [
      "ERROR:tensorflow:Can add more nodes!\n",
      "DEBUG:root:Checking community result is correct...\n"
     ]
    },
    {
     "name": "stdout",
     "output_type": "stream",
     "text": [
      "ERROR:tensorflow:Calculated mis is not correct!\n"
     ]
    },
    {
     "name": "stderr",
     "output_type": "stream",
     "text": [
      "ERROR:tensorflow:Calculated mis is not correct!\n"
     ]
    },
    {
     "name": "stdout",
     "output_type": "stream",
     "text": [
      "ERROR:tensorflow:Can add more nodes!\n"
     ]
    },
    {
     "name": "stderr",
     "output_type": "stream",
     "text": [
      "ERROR:tensorflow:Can add more nodes!\n",
      "DEBUG:root:Total nodes in MIS=set()\n"
     ]
    },
    {
     "name": "stdout",
     "output_type": "stream",
     "text": [
      "ERROR:tensorflow:Calculated mis is not correct!\n"
     ]
    },
    {
     "name": "stderr",
     "output_type": "stream",
     "text": [
      "ERROR:tensorflow:Calculated mis is not correct!\n"
     ]
    },
    {
     "name": "stdout",
     "output_type": "stream",
     "text": [
      "ERROR:tensorflow:Can add more nodes!\n"
     ]
    },
    {
     "name": "stderr",
     "output_type": "stream",
     "text": [
      "ERROR:tensorflow:Can add more nodes!\n",
      "INFO:root:Total MIS length found = 0\n",
      "DEBUG:root:\n",
      "INFO:root:Processing graph 4...\n",
      "DEBUG:root:Calculating G with nodes = 250 edges = 2521\n",
      "DEBUG:root:Build network on graph G:Graph named 'stochastic_block_model' with 250 nodes and 2521 edges.\n",
      "DEBUG:root:Solver stuck\n",
      "DEBUG:root:dNN solution is not correct\n",
      "DEBUG:root:Can add more nodes to IS\n",
      "DEBUG:root:Total epochs = 131\n",
      "DEBUG:root:dNN solution lenghth = 0\n",
      "DEBUG:root:MIS length = 0\n"
     ]
    },
    {
     "name": "stdout",
     "output_type": "stream",
     "text": [
      "ERROR:tensorflow:Calculated mis is not correct!\n"
     ]
    },
    {
     "name": "stderr",
     "output_type": "stream",
     "text": [
      "ERROR:tensorflow:Calculated mis is not correct!\n"
     ]
    },
    {
     "name": "stdout",
     "output_type": "stream",
     "text": [
      "ERROR:tensorflow:Can add more nodes!\n"
     ]
    },
    {
     "name": "stderr",
     "output_type": "stream",
     "text": [
      "ERROR:tensorflow:Can add more nodes!\n",
      "DEBUG:root:Checking community result is correct...\n"
     ]
    },
    {
     "name": "stdout",
     "output_type": "stream",
     "text": [
      "ERROR:tensorflow:Calculated mis is not correct!\n"
     ]
    },
    {
     "name": "stderr",
     "output_type": "stream",
     "text": [
      "ERROR:tensorflow:Calculated mis is not correct!\n"
     ]
    },
    {
     "name": "stdout",
     "output_type": "stream",
     "text": [
      "ERROR:tensorflow:Can add more nodes!\n"
     ]
    },
    {
     "name": "stderr",
     "output_type": "stream",
     "text": [
      "ERROR:tensorflow:Can add more nodes!\n",
      "DEBUG:root:Total nodes in MIS=set()\n"
     ]
    },
    {
     "name": "stdout",
     "output_type": "stream",
     "text": [
      "ERROR:tensorflow:Calculated mis is not correct!\n"
     ]
    },
    {
     "name": "stderr",
     "output_type": "stream",
     "text": [
      "ERROR:tensorflow:Calculated mis is not correct!\n"
     ]
    },
    {
     "name": "stdout",
     "output_type": "stream",
     "text": [
      "ERROR:tensorflow:Can add more nodes!\n"
     ]
    },
    {
     "name": "stderr",
     "output_type": "stream",
     "text": [
      "ERROR:tensorflow:Can add more nodes!\n",
      "INFO:root:Total MIS length found = 0\n",
      "DEBUG:root:\n",
      "INFO:root:Processing graph 5...\n",
      "DEBUG:root:Calculating G with nodes = 250 edges = 2464\n",
      "DEBUG:root:Build network on graph G:Graph named 'stochastic_block_model' with 250 nodes and 2464 edges.\n",
      "DEBUG:root:Solver stuck\n",
      "DEBUG:root:dNN solution is not correct\n",
      "DEBUG:root:Can add more nodes to IS\n",
      "DEBUG:root:Total epochs = 122\n",
      "DEBUG:root:dNN solution lenghth = 0\n",
      "DEBUG:root:MIS length = 0\n"
     ]
    },
    {
     "name": "stdout",
     "output_type": "stream",
     "text": [
      "ERROR:tensorflow:Calculated mis is not correct!\n"
     ]
    },
    {
     "name": "stderr",
     "output_type": "stream",
     "text": [
      "ERROR:tensorflow:Calculated mis is not correct!\n"
     ]
    },
    {
     "name": "stdout",
     "output_type": "stream",
     "text": [
      "ERROR:tensorflow:Can add more nodes!\n"
     ]
    },
    {
     "name": "stderr",
     "output_type": "stream",
     "text": [
      "ERROR:tensorflow:Can add more nodes!\n",
      "DEBUG:root:Checking community result is correct...\n"
     ]
    },
    {
     "name": "stdout",
     "output_type": "stream",
     "text": [
      "ERROR:tensorflow:Calculated mis is not correct!\n"
     ]
    },
    {
     "name": "stderr",
     "output_type": "stream",
     "text": [
      "ERROR:tensorflow:Calculated mis is not correct!\n"
     ]
    },
    {
     "name": "stdout",
     "output_type": "stream",
     "text": [
      "ERROR:tensorflow:Can add more nodes!\n"
     ]
    },
    {
     "name": "stderr",
     "output_type": "stream",
     "text": [
      "ERROR:tensorflow:Can add more nodes!\n",
      "DEBUG:root:Total nodes in MIS=set()\n"
     ]
    },
    {
     "name": "stdout",
     "output_type": "stream",
     "text": [
      "ERROR:tensorflow:Calculated mis is not correct!\n"
     ]
    },
    {
     "name": "stderr",
     "output_type": "stream",
     "text": [
      "ERROR:tensorflow:Calculated mis is not correct!\n"
     ]
    },
    {
     "name": "stdout",
     "output_type": "stream",
     "text": [
      "ERROR:tensorflow:Can add more nodes!\n"
     ]
    },
    {
     "name": "stderr",
     "output_type": "stream",
     "text": [
      "ERROR:tensorflow:Can add more nodes!\n",
      "INFO:root:Total MIS length found = 0\n",
      "DEBUG:root:\n",
      "INFO:root:Processing graph 6...\n",
      "DEBUG:root:Calculating G with nodes = 250 edges = 2426\n",
      "DEBUG:root:Build network on graph G:Graph named 'stochastic_block_model' with 250 nodes and 2426 edges.\n",
      "DEBUG:root:Solver stuck\n",
      "DEBUG:root:dNN solution is not correct\n",
      "DEBUG:root:Can add more nodes to IS\n",
      "DEBUG:root:Total epochs = 150\n",
      "DEBUG:root:dNN solution lenghth = 0\n",
      "DEBUG:root:MIS length = 0\n"
     ]
    },
    {
     "name": "stdout",
     "output_type": "stream",
     "text": [
      "ERROR:tensorflow:Calculated mis is not correct!\n"
     ]
    },
    {
     "name": "stderr",
     "output_type": "stream",
     "text": [
      "ERROR:tensorflow:Calculated mis is not correct!\n"
     ]
    },
    {
     "name": "stdout",
     "output_type": "stream",
     "text": [
      "ERROR:tensorflow:Can add more nodes!\n"
     ]
    },
    {
     "name": "stderr",
     "output_type": "stream",
     "text": [
      "ERROR:tensorflow:Can add more nodes!\n",
      "DEBUG:root:Checking community result is correct...\n"
     ]
    },
    {
     "name": "stdout",
     "output_type": "stream",
     "text": [
      "ERROR:tensorflow:Calculated mis is not correct!\n"
     ]
    },
    {
     "name": "stderr",
     "output_type": "stream",
     "text": [
      "ERROR:tensorflow:Calculated mis is not correct!\n"
     ]
    },
    {
     "name": "stdout",
     "output_type": "stream",
     "text": [
      "ERROR:tensorflow:Can add more nodes!\n"
     ]
    },
    {
     "name": "stderr",
     "output_type": "stream",
     "text": [
      "ERROR:tensorflow:Can add more nodes!\n",
      "DEBUG:root:Total nodes in MIS=set()\n"
     ]
    },
    {
     "name": "stdout",
     "output_type": "stream",
     "text": [
      "ERROR:tensorflow:Calculated mis is not correct!\n"
     ]
    },
    {
     "name": "stderr",
     "output_type": "stream",
     "text": [
      "ERROR:tensorflow:Calculated mis is not correct!\n"
     ]
    },
    {
     "name": "stdout",
     "output_type": "stream",
     "text": [
      "ERROR:tensorflow:Can add more nodes!\n"
     ]
    },
    {
     "name": "stderr",
     "output_type": "stream",
     "text": [
      "ERROR:tensorflow:Can add more nodes!\n",
      "INFO:root:Total MIS length found = 0\n",
      "DEBUG:root:\n",
      "INFO:root:Processing graph 7...\n",
      "DEBUG:root:Calculating G with nodes = 250 edges = 2537\n",
      "DEBUG:root:Build network on graph G:Graph named 'stochastic_block_model' with 250 nodes and 2537 edges.\n",
      "DEBUG:root:Solver stuck\n",
      "DEBUG:root:dNN solution is not correct\n",
      "DEBUG:root:Can add more nodes to IS\n",
      "DEBUG:root:Total epochs = 125\n",
      "DEBUG:root:dNN solution lenghth = 0\n",
      "DEBUG:root:MIS length = 0\n"
     ]
    },
    {
     "name": "stdout",
     "output_type": "stream",
     "text": [
      "ERROR:tensorflow:Calculated mis is not correct!\n"
     ]
    },
    {
     "name": "stderr",
     "output_type": "stream",
     "text": [
      "ERROR:tensorflow:Calculated mis is not correct!\n"
     ]
    },
    {
     "name": "stdout",
     "output_type": "stream",
     "text": [
      "ERROR:tensorflow:Can add more nodes!\n"
     ]
    },
    {
     "name": "stderr",
     "output_type": "stream",
     "text": [
      "ERROR:tensorflow:Can add more nodes!\n",
      "DEBUG:root:Checking community result is correct...\n"
     ]
    },
    {
     "name": "stdout",
     "output_type": "stream",
     "text": [
      "ERROR:tensorflow:Calculated mis is not correct!\n"
     ]
    },
    {
     "name": "stderr",
     "output_type": "stream",
     "text": [
      "ERROR:tensorflow:Calculated mis is not correct!\n"
     ]
    },
    {
     "name": "stdout",
     "output_type": "stream",
     "text": [
      "ERROR:tensorflow:Can add more nodes!\n"
     ]
    },
    {
     "name": "stderr",
     "output_type": "stream",
     "text": [
      "ERROR:tensorflow:Can add more nodes!\n",
      "DEBUG:root:Total nodes in MIS=set()\n"
     ]
    },
    {
     "name": "stdout",
     "output_type": "stream",
     "text": [
      "ERROR:tensorflow:Calculated mis is not correct!\n"
     ]
    },
    {
     "name": "stderr",
     "output_type": "stream",
     "text": [
      "ERROR:tensorflow:Calculated mis is not correct!\n"
     ]
    },
    {
     "name": "stdout",
     "output_type": "stream",
     "text": [
      "ERROR:tensorflow:Can add more nodes!\n"
     ]
    },
    {
     "name": "stderr",
     "output_type": "stream",
     "text": [
      "ERROR:tensorflow:Can add more nodes!\n",
      "INFO:root:Total MIS length found = 0\n",
      "DEBUG:root:\n",
      "INFO:root:Processing graph 8...\n",
      "DEBUG:root:Calculating G with nodes = 250 edges = 2481\n",
      "DEBUG:root:Build network on graph G:Graph named 'stochastic_block_model' with 250 nodes and 2481 edges.\n",
      "DEBUG:root:Solver stuck\n",
      "DEBUG:root:dNN solution is not correct\n",
      "DEBUG:root:Can add more nodes to IS\n",
      "DEBUG:root:Total epochs = 133\n",
      "DEBUG:root:dNN solution lenghth = 0\n",
      "DEBUG:root:MIS length = 0\n"
     ]
    },
    {
     "name": "stdout",
     "output_type": "stream",
     "text": [
      "ERROR:tensorflow:Calculated mis is not correct!\n"
     ]
    },
    {
     "name": "stderr",
     "output_type": "stream",
     "text": [
      "ERROR:tensorflow:Calculated mis is not correct!\n"
     ]
    },
    {
     "name": "stdout",
     "output_type": "stream",
     "text": [
      "ERROR:tensorflow:Can add more nodes!\n"
     ]
    },
    {
     "name": "stderr",
     "output_type": "stream",
     "text": [
      "ERROR:tensorflow:Can add more nodes!\n",
      "DEBUG:root:Checking community result is correct...\n"
     ]
    },
    {
     "name": "stdout",
     "output_type": "stream",
     "text": [
      "ERROR:tensorflow:Calculated mis is not correct!\n"
     ]
    },
    {
     "name": "stderr",
     "output_type": "stream",
     "text": [
      "ERROR:tensorflow:Calculated mis is not correct!\n"
     ]
    },
    {
     "name": "stdout",
     "output_type": "stream",
     "text": [
      "ERROR:tensorflow:Can add more nodes!\n"
     ]
    },
    {
     "name": "stderr",
     "output_type": "stream",
     "text": [
      "ERROR:tensorflow:Can add more nodes!\n",
      "DEBUG:root:Total nodes in MIS=set()\n"
     ]
    },
    {
     "name": "stdout",
     "output_type": "stream",
     "text": [
      "ERROR:tensorflow:Calculated mis is not correct!\n"
     ]
    },
    {
     "name": "stderr",
     "output_type": "stream",
     "text": [
      "ERROR:tensorflow:Calculated mis is not correct!\n"
     ]
    },
    {
     "name": "stdout",
     "output_type": "stream",
     "text": [
      "ERROR:tensorflow:Can add more nodes!\n"
     ]
    },
    {
     "name": "stderr",
     "output_type": "stream",
     "text": [
      "ERROR:tensorflow:Can add more nodes!\n",
      "INFO:root:Total MIS length found = 0\n",
      "DEBUG:root:\n",
      "INFO:root:Processing graph 9...\n",
      "DEBUG:root:Calculating G with nodes = 250 edges = 2465\n",
      "DEBUG:root:Build network on graph G:Graph named 'stochastic_block_model' with 250 nodes and 2465 edges.\n",
      "DEBUG:root:Solver stuck\n",
      "DEBUG:root:dNN solution is not correct\n",
      "DEBUG:root:Can add more nodes to IS\n",
      "DEBUG:root:Total epochs = 157\n",
      "DEBUG:root:dNN solution lenghth = 0\n",
      "DEBUG:root:MIS length = 0\n"
     ]
    },
    {
     "name": "stdout",
     "output_type": "stream",
     "text": [
      "ERROR:tensorflow:Calculated mis is not correct!\n"
     ]
    },
    {
     "name": "stderr",
     "output_type": "stream",
     "text": [
      "ERROR:tensorflow:Calculated mis is not correct!\n"
     ]
    },
    {
     "name": "stdout",
     "output_type": "stream",
     "text": [
      "ERROR:tensorflow:Can add more nodes!\n"
     ]
    },
    {
     "name": "stderr",
     "output_type": "stream",
     "text": [
      "ERROR:tensorflow:Can add more nodes!\n",
      "DEBUG:root:Checking community result is correct...\n"
     ]
    },
    {
     "name": "stdout",
     "output_type": "stream",
     "text": [
      "ERROR:tensorflow:Calculated mis is not correct!\n"
     ]
    },
    {
     "name": "stderr",
     "output_type": "stream",
     "text": [
      "ERROR:tensorflow:Calculated mis is not correct!\n"
     ]
    },
    {
     "name": "stdout",
     "output_type": "stream",
     "text": [
      "ERROR:tensorflow:Can add more nodes!\n"
     ]
    },
    {
     "name": "stderr",
     "output_type": "stream",
     "text": [
      "ERROR:tensorflow:Can add more nodes!\n",
      "DEBUG:root:Total nodes in MIS=set()\n"
     ]
    },
    {
     "name": "stdout",
     "output_type": "stream",
     "text": [
      "ERROR:tensorflow:Calculated mis is not correct!\n"
     ]
    },
    {
     "name": "stderr",
     "output_type": "stream",
     "text": [
      "ERROR:tensorflow:Calculated mis is not correct!\n"
     ]
    },
    {
     "name": "stdout",
     "output_type": "stream",
     "text": [
      "ERROR:tensorflow:Can add more nodes!\n"
     ]
    },
    {
     "name": "stderr",
     "output_type": "stream",
     "text": [
      "ERROR:tensorflow:Can add more nodes!\n",
      "INFO:root:Total MIS length found = 0\n",
      "DEBUG:root:\n"
     ]
    },
    {
     "name": "stdout",
     "output_type": "stream",
     "text": [
      "Average edges count = 2481.2\n",
      "Average dNN result = 0.0\n"
     ]
    }
   ],
   "source": [
    "(sizes, probs) = build_stochastic_params(50,0.2)\n",
    "networks = build_n_graphs(10, lambda: nx.stochastic_block_model(sizes,probs))\n",
    "test_network_on_graphs(networks)"
   ]
  },
  {
   "cell_type": "code",
   "execution_count": 223,
   "id": "8c883bad",
   "metadata": {},
   "outputs": [
    {
     "name": "stderr",
     "output_type": "stream",
     "text": [
      "INFO:root:Processing graph 0...\n",
      "DEBUG:root:Calculating G with nodes = 350 edges = 3666\n",
      "DEBUG:root:Build network on graph G:Graph named 'stochastic_block_model' with 350 nodes and 3666 edges.\n",
      "DEBUG:root:Solver stuck\n",
      "DEBUG:root:dNN solution is not correct\n",
      "DEBUG:root:Can add more nodes to IS\n",
      "DEBUG:root:Total epochs = 128\n",
      "DEBUG:root:dNN solution lenghth = 0\n",
      "DEBUG:root:MIS length = 0\n"
     ]
    },
    {
     "name": "stdout",
     "output_type": "stream",
     "text": [
      "ERROR:tensorflow:Calculated mis is not correct!\n"
     ]
    },
    {
     "name": "stderr",
     "output_type": "stream",
     "text": [
      "ERROR:tensorflow:Calculated mis is not correct!\n"
     ]
    },
    {
     "name": "stdout",
     "output_type": "stream",
     "text": [
      "ERROR:tensorflow:Can add more nodes!\n"
     ]
    },
    {
     "name": "stderr",
     "output_type": "stream",
     "text": [
      "ERROR:tensorflow:Can add more nodes!\n",
      "DEBUG:root:Checking community result is correct...\n"
     ]
    },
    {
     "name": "stdout",
     "output_type": "stream",
     "text": [
      "ERROR:tensorflow:Calculated mis is not correct!\n"
     ]
    },
    {
     "name": "stderr",
     "output_type": "stream",
     "text": [
      "ERROR:tensorflow:Calculated mis is not correct!\n"
     ]
    },
    {
     "name": "stdout",
     "output_type": "stream",
     "text": [
      "ERROR:tensorflow:Can add more nodes!\n"
     ]
    },
    {
     "name": "stderr",
     "output_type": "stream",
     "text": [
      "ERROR:tensorflow:Can add more nodes!\n",
      "DEBUG:root:Total nodes in MIS=set()\n"
     ]
    },
    {
     "name": "stdout",
     "output_type": "stream",
     "text": [
      "ERROR:tensorflow:Calculated mis is not correct!\n"
     ]
    },
    {
     "name": "stderr",
     "output_type": "stream",
     "text": [
      "ERROR:tensorflow:Calculated mis is not correct!\n"
     ]
    },
    {
     "name": "stdout",
     "output_type": "stream",
     "text": [
      "ERROR:tensorflow:Can add more nodes!\n"
     ]
    },
    {
     "name": "stderr",
     "output_type": "stream",
     "text": [
      "ERROR:tensorflow:Can add more nodes!\n",
      "INFO:root:Total MIS length found = 0\n",
      "DEBUG:root:\n",
      "INFO:root:Processing graph 1...\n",
      "DEBUG:root:Calculating G with nodes = 350 edges = 3718\n",
      "DEBUG:root:Build network on graph G:Graph named 'stochastic_block_model' with 350 nodes and 3718 edges.\n",
      "DEBUG:root:Solver stuck\n",
      "DEBUG:root:dNN solution is not correct\n",
      "DEBUG:root:Can add more nodes to IS\n",
      "DEBUG:root:Total epochs = 137\n",
      "DEBUG:root:dNN solution lenghth = 0\n",
      "DEBUG:root:MIS length = 0\n"
     ]
    },
    {
     "name": "stdout",
     "output_type": "stream",
     "text": [
      "ERROR:tensorflow:Calculated mis is not correct!\n"
     ]
    },
    {
     "name": "stderr",
     "output_type": "stream",
     "text": [
      "ERROR:tensorflow:Calculated mis is not correct!\n"
     ]
    },
    {
     "name": "stdout",
     "output_type": "stream",
     "text": [
      "ERROR:tensorflow:Can add more nodes!\n"
     ]
    },
    {
     "name": "stderr",
     "output_type": "stream",
     "text": [
      "ERROR:tensorflow:Can add more nodes!\n",
      "DEBUG:root:Checking community result is correct...\n"
     ]
    },
    {
     "name": "stdout",
     "output_type": "stream",
     "text": [
      "ERROR:tensorflow:Calculated mis is not correct!\n"
     ]
    },
    {
     "name": "stderr",
     "output_type": "stream",
     "text": [
      "ERROR:tensorflow:Calculated mis is not correct!\n"
     ]
    },
    {
     "name": "stdout",
     "output_type": "stream",
     "text": [
      "ERROR:tensorflow:Can add more nodes!\n"
     ]
    },
    {
     "name": "stderr",
     "output_type": "stream",
     "text": [
      "ERROR:tensorflow:Can add more nodes!\n",
      "DEBUG:root:Total nodes in MIS=set()\n"
     ]
    },
    {
     "name": "stdout",
     "output_type": "stream",
     "text": [
      "ERROR:tensorflow:Calculated mis is not correct!\n"
     ]
    },
    {
     "name": "stderr",
     "output_type": "stream",
     "text": [
      "ERROR:tensorflow:Calculated mis is not correct!\n"
     ]
    },
    {
     "name": "stdout",
     "output_type": "stream",
     "text": [
      "ERROR:tensorflow:Can add more nodes!\n"
     ]
    },
    {
     "name": "stderr",
     "output_type": "stream",
     "text": [
      "ERROR:tensorflow:Can add more nodes!\n",
      "INFO:root:Total MIS length found = 0\n",
      "DEBUG:root:\n",
      "INFO:root:Processing graph 2...\n",
      "DEBUG:root:Calculating G with nodes = 350 edges = 3612\n",
      "DEBUG:root:Build network on graph G:Graph named 'stochastic_block_model' with 350 nodes and 3612 edges.\n",
      "DEBUG:root:Solver stuck\n",
      "DEBUG:root:dNN solution is not correct\n",
      "DEBUG:root:Can add more nodes to IS\n",
      "DEBUG:root:Total epochs = 138\n",
      "DEBUG:root:dNN solution lenghth = 0\n",
      "DEBUG:root:MIS length = 0\n"
     ]
    },
    {
     "name": "stdout",
     "output_type": "stream",
     "text": [
      "ERROR:tensorflow:Calculated mis is not correct!\n"
     ]
    },
    {
     "name": "stderr",
     "output_type": "stream",
     "text": [
      "ERROR:tensorflow:Calculated mis is not correct!\n"
     ]
    },
    {
     "name": "stdout",
     "output_type": "stream",
     "text": [
      "ERROR:tensorflow:Can add more nodes!\n"
     ]
    },
    {
     "name": "stderr",
     "output_type": "stream",
     "text": [
      "ERROR:tensorflow:Can add more nodes!\n",
      "DEBUG:root:Checking community result is correct...\n"
     ]
    },
    {
     "name": "stdout",
     "output_type": "stream",
     "text": [
      "ERROR:tensorflow:Calculated mis is not correct!\n"
     ]
    },
    {
     "name": "stderr",
     "output_type": "stream",
     "text": [
      "ERROR:tensorflow:Calculated mis is not correct!\n"
     ]
    },
    {
     "name": "stdout",
     "output_type": "stream",
     "text": [
      "ERROR:tensorflow:Can add more nodes!\n"
     ]
    },
    {
     "name": "stderr",
     "output_type": "stream",
     "text": [
      "ERROR:tensorflow:Can add more nodes!\n",
      "DEBUG:root:Total nodes in MIS=set()\n"
     ]
    },
    {
     "name": "stdout",
     "output_type": "stream",
     "text": [
      "ERROR:tensorflow:Calculated mis is not correct!\n"
     ]
    },
    {
     "name": "stderr",
     "output_type": "stream",
     "text": [
      "ERROR:tensorflow:Calculated mis is not correct!\n"
     ]
    },
    {
     "name": "stdout",
     "output_type": "stream",
     "text": [
      "ERROR:tensorflow:Can add more nodes!\n"
     ]
    },
    {
     "name": "stderr",
     "output_type": "stream",
     "text": [
      "ERROR:tensorflow:Can add more nodes!\n",
      "INFO:root:Total MIS length found = 0\n",
      "DEBUG:root:\n",
      "INFO:root:Processing graph 3...\n",
      "DEBUG:root:Calculating G with nodes = 350 edges = 3768\n",
      "DEBUG:root:Build network on graph G:Graph named 'stochastic_block_model' with 350 nodes and 3768 edges.\n",
      "DEBUG:root:Solver stuck\n",
      "DEBUG:root:dNN solution is not correct\n",
      "DEBUG:root:Can add more nodes to IS\n",
      "DEBUG:root:Total epochs = 133\n",
      "DEBUG:root:dNN solution lenghth = 0\n",
      "DEBUG:root:MIS length = 0\n"
     ]
    },
    {
     "name": "stdout",
     "output_type": "stream",
     "text": [
      "ERROR:tensorflow:Calculated mis is not correct!\n"
     ]
    },
    {
     "name": "stderr",
     "output_type": "stream",
     "text": [
      "ERROR:tensorflow:Calculated mis is not correct!\n"
     ]
    },
    {
     "name": "stdout",
     "output_type": "stream",
     "text": [
      "ERROR:tensorflow:Can add more nodes!\n"
     ]
    },
    {
     "name": "stderr",
     "output_type": "stream",
     "text": [
      "ERROR:tensorflow:Can add more nodes!\n",
      "DEBUG:root:Checking community result is correct...\n"
     ]
    },
    {
     "name": "stdout",
     "output_type": "stream",
     "text": [
      "ERROR:tensorflow:Calculated mis is not correct!\n"
     ]
    },
    {
     "name": "stderr",
     "output_type": "stream",
     "text": [
      "ERROR:tensorflow:Calculated mis is not correct!\n"
     ]
    },
    {
     "name": "stdout",
     "output_type": "stream",
     "text": [
      "ERROR:tensorflow:Can add more nodes!\n"
     ]
    },
    {
     "name": "stderr",
     "output_type": "stream",
     "text": [
      "ERROR:tensorflow:Can add more nodes!\n",
      "DEBUG:root:Total nodes in MIS=set()\n"
     ]
    },
    {
     "name": "stdout",
     "output_type": "stream",
     "text": [
      "ERROR:tensorflow:Calculated mis is not correct!\n"
     ]
    },
    {
     "name": "stderr",
     "output_type": "stream",
     "text": [
      "ERROR:tensorflow:Calculated mis is not correct!\n"
     ]
    },
    {
     "name": "stdout",
     "output_type": "stream",
     "text": [
      "ERROR:tensorflow:Can add more nodes!\n"
     ]
    },
    {
     "name": "stderr",
     "output_type": "stream",
     "text": [
      "ERROR:tensorflow:Can add more nodes!\n",
      "INFO:root:Total MIS length found = 0\n",
      "DEBUG:root:\n",
      "INFO:root:Processing graph 4...\n",
      "DEBUG:root:Calculating G with nodes = 350 edges = 3592\n",
      "DEBUG:root:Build network on graph G:Graph named 'stochastic_block_model' with 350 nodes and 3592 edges.\n",
      "DEBUG:root:Solver stuck\n",
      "DEBUG:root:dNN solution is not correct\n",
      "DEBUG:root:Can add more nodes to IS\n",
      "DEBUG:root:Total epochs = 125\n",
      "DEBUG:root:dNN solution lenghth = 0\n",
      "DEBUG:root:MIS length = 0\n"
     ]
    },
    {
     "name": "stdout",
     "output_type": "stream",
     "text": [
      "ERROR:tensorflow:Calculated mis is not correct!\n"
     ]
    },
    {
     "name": "stderr",
     "output_type": "stream",
     "text": [
      "ERROR:tensorflow:Calculated mis is not correct!\n"
     ]
    },
    {
     "name": "stdout",
     "output_type": "stream",
     "text": [
      "ERROR:tensorflow:Can add more nodes!\n"
     ]
    },
    {
     "name": "stderr",
     "output_type": "stream",
     "text": [
      "ERROR:tensorflow:Can add more nodes!\n",
      "DEBUG:root:Checking community result is correct...\n"
     ]
    },
    {
     "name": "stdout",
     "output_type": "stream",
     "text": [
      "ERROR:tensorflow:Calculated mis is not correct!\n"
     ]
    },
    {
     "name": "stderr",
     "output_type": "stream",
     "text": [
      "ERROR:tensorflow:Calculated mis is not correct!\n"
     ]
    },
    {
     "name": "stdout",
     "output_type": "stream",
     "text": [
      "ERROR:tensorflow:Can add more nodes!\n"
     ]
    },
    {
     "name": "stderr",
     "output_type": "stream",
     "text": [
      "ERROR:tensorflow:Can add more nodes!\n",
      "DEBUG:root:Total nodes in MIS=set()\n"
     ]
    },
    {
     "name": "stdout",
     "output_type": "stream",
     "text": [
      "ERROR:tensorflow:Calculated mis is not correct!\n"
     ]
    },
    {
     "name": "stderr",
     "output_type": "stream",
     "text": [
      "ERROR:tensorflow:Calculated mis is not correct!\n"
     ]
    },
    {
     "name": "stdout",
     "output_type": "stream",
     "text": [
      "ERROR:tensorflow:Can add more nodes!\n"
     ]
    },
    {
     "name": "stderr",
     "output_type": "stream",
     "text": [
      "ERROR:tensorflow:Can add more nodes!\n",
      "INFO:root:Total MIS length found = 0\n",
      "DEBUG:root:\n",
      "INFO:root:Processing graph 5...\n",
      "DEBUG:root:Calculating G with nodes = 350 edges = 3730\n",
      "DEBUG:root:Build network on graph G:Graph named 'stochastic_block_model' with 350 nodes and 3730 edges.\n",
      "DEBUG:root:Solver stuck\n",
      "DEBUG:root:dNN solution is not correct\n",
      "DEBUG:root:Can add more nodes to IS\n",
      "DEBUG:root:Total epochs = 130\n",
      "DEBUG:root:dNN solution lenghth = 0\n",
      "DEBUG:root:MIS length = 0\n"
     ]
    },
    {
     "name": "stdout",
     "output_type": "stream",
     "text": [
      "ERROR:tensorflow:Calculated mis is not correct!\n"
     ]
    },
    {
     "name": "stderr",
     "output_type": "stream",
     "text": [
      "ERROR:tensorflow:Calculated mis is not correct!\n"
     ]
    },
    {
     "name": "stdout",
     "output_type": "stream",
     "text": [
      "ERROR:tensorflow:Can add more nodes!\n"
     ]
    },
    {
     "name": "stderr",
     "output_type": "stream",
     "text": [
      "ERROR:tensorflow:Can add more nodes!\n",
      "DEBUG:root:Checking community result is correct...\n"
     ]
    },
    {
     "name": "stdout",
     "output_type": "stream",
     "text": [
      "ERROR:tensorflow:Calculated mis is not correct!\n"
     ]
    },
    {
     "name": "stderr",
     "output_type": "stream",
     "text": [
      "ERROR:tensorflow:Calculated mis is not correct!\n"
     ]
    },
    {
     "name": "stdout",
     "output_type": "stream",
     "text": [
      "ERROR:tensorflow:Can add more nodes!\n"
     ]
    },
    {
     "name": "stderr",
     "output_type": "stream",
     "text": [
      "ERROR:tensorflow:Can add more nodes!\n",
      "DEBUG:root:Total nodes in MIS=set()\n"
     ]
    },
    {
     "name": "stdout",
     "output_type": "stream",
     "text": [
      "ERROR:tensorflow:Calculated mis is not correct!\n"
     ]
    },
    {
     "name": "stderr",
     "output_type": "stream",
     "text": [
      "ERROR:tensorflow:Calculated mis is not correct!\n"
     ]
    },
    {
     "name": "stdout",
     "output_type": "stream",
     "text": [
      "ERROR:tensorflow:Can add more nodes!\n"
     ]
    },
    {
     "name": "stderr",
     "output_type": "stream",
     "text": [
      "ERROR:tensorflow:Can add more nodes!\n",
      "INFO:root:Total MIS length found = 0\n",
      "DEBUG:root:\n",
      "INFO:root:Processing graph 6...\n",
      "DEBUG:root:Calculating G with nodes = 350 edges = 3671\n",
      "DEBUG:root:Build network on graph G:Graph named 'stochastic_block_model' with 350 nodes and 3671 edges.\n",
      "DEBUG:root:Solver stuck\n",
      "DEBUG:root:dNN solution is not correct\n",
      "DEBUG:root:Can add more nodes to IS\n",
      "DEBUG:root:Total epochs = 139\n",
      "DEBUG:root:dNN solution lenghth = 0\n",
      "DEBUG:root:MIS length = 0\n"
     ]
    },
    {
     "name": "stdout",
     "output_type": "stream",
     "text": [
      "ERROR:tensorflow:Calculated mis is not correct!\n"
     ]
    },
    {
     "name": "stderr",
     "output_type": "stream",
     "text": [
      "ERROR:tensorflow:Calculated mis is not correct!\n"
     ]
    },
    {
     "name": "stdout",
     "output_type": "stream",
     "text": [
      "ERROR:tensorflow:Can add more nodes!\n"
     ]
    },
    {
     "name": "stderr",
     "output_type": "stream",
     "text": [
      "ERROR:tensorflow:Can add more nodes!\n",
      "DEBUG:root:Checking community result is correct...\n"
     ]
    },
    {
     "name": "stdout",
     "output_type": "stream",
     "text": [
      "ERROR:tensorflow:Calculated mis is not correct!\n"
     ]
    },
    {
     "name": "stderr",
     "output_type": "stream",
     "text": [
      "ERROR:tensorflow:Calculated mis is not correct!\n"
     ]
    },
    {
     "name": "stdout",
     "output_type": "stream",
     "text": [
      "ERROR:tensorflow:Can add more nodes!\n"
     ]
    },
    {
     "name": "stderr",
     "output_type": "stream",
     "text": [
      "ERROR:tensorflow:Can add more nodes!\n",
      "DEBUG:root:Total nodes in MIS=set()\n"
     ]
    },
    {
     "name": "stdout",
     "output_type": "stream",
     "text": [
      "ERROR:tensorflow:Calculated mis is not correct!\n"
     ]
    },
    {
     "name": "stderr",
     "output_type": "stream",
     "text": [
      "ERROR:tensorflow:Calculated mis is not correct!\n"
     ]
    },
    {
     "name": "stdout",
     "output_type": "stream",
     "text": [
      "ERROR:tensorflow:Can add more nodes!\n"
     ]
    },
    {
     "name": "stderr",
     "output_type": "stream",
     "text": [
      "ERROR:tensorflow:Can add more nodes!\n",
      "INFO:root:Total MIS length found = 0\n",
      "DEBUG:root:\n",
      "INFO:root:Processing graph 7...\n",
      "DEBUG:root:Calculating G with nodes = 350 edges = 3632\n",
      "DEBUG:root:Build network on graph G:Graph named 'stochastic_block_model' with 350 nodes and 3632 edges.\n",
      "DEBUG:root:Solver stuck\n",
      "DEBUG:root:dNN solution is not correct\n",
      "DEBUG:root:Can add more nodes to IS\n",
      "DEBUG:root:Total epochs = 132\n",
      "DEBUG:root:dNN solution lenghth = 0\n",
      "DEBUG:root:MIS length = 0\n"
     ]
    },
    {
     "name": "stdout",
     "output_type": "stream",
     "text": [
      "ERROR:tensorflow:Calculated mis is not correct!\n"
     ]
    },
    {
     "name": "stderr",
     "output_type": "stream",
     "text": [
      "ERROR:tensorflow:Calculated mis is not correct!\n"
     ]
    },
    {
     "name": "stdout",
     "output_type": "stream",
     "text": [
      "ERROR:tensorflow:Can add more nodes!\n"
     ]
    },
    {
     "name": "stderr",
     "output_type": "stream",
     "text": [
      "ERROR:tensorflow:Can add more nodes!\n",
      "DEBUG:root:Checking community result is correct...\n"
     ]
    },
    {
     "name": "stdout",
     "output_type": "stream",
     "text": [
      "ERROR:tensorflow:Calculated mis is not correct!\n"
     ]
    },
    {
     "name": "stderr",
     "output_type": "stream",
     "text": [
      "ERROR:tensorflow:Calculated mis is not correct!\n"
     ]
    },
    {
     "name": "stdout",
     "output_type": "stream",
     "text": [
      "ERROR:tensorflow:Can add more nodes!\n"
     ]
    },
    {
     "name": "stderr",
     "output_type": "stream",
     "text": [
      "ERROR:tensorflow:Can add more nodes!\n",
      "DEBUG:root:Total nodes in MIS=set()\n"
     ]
    },
    {
     "name": "stdout",
     "output_type": "stream",
     "text": [
      "ERROR:tensorflow:Calculated mis is not correct!\n"
     ]
    },
    {
     "name": "stderr",
     "output_type": "stream",
     "text": [
      "ERROR:tensorflow:Calculated mis is not correct!\n"
     ]
    },
    {
     "name": "stdout",
     "output_type": "stream",
     "text": [
      "ERROR:tensorflow:Can add more nodes!\n"
     ]
    },
    {
     "name": "stderr",
     "output_type": "stream",
     "text": [
      "ERROR:tensorflow:Can add more nodes!\n",
      "INFO:root:Total MIS length found = 0\n",
      "DEBUG:root:\n",
      "INFO:root:Processing graph 8...\n",
      "DEBUG:root:Calculating G with nodes = 350 edges = 3605\n",
      "DEBUG:root:Build network on graph G:Graph named 'stochastic_block_model' with 350 nodes and 3605 edges.\n",
      "DEBUG:root:Solver stuck\n",
      "DEBUG:root:dNN solution is not correct\n",
      "DEBUG:root:Can add more nodes to IS\n",
      "DEBUG:root:Total epochs = 137\n",
      "DEBUG:root:dNN solution lenghth = 0\n",
      "DEBUG:root:MIS length = 0\n"
     ]
    },
    {
     "name": "stdout",
     "output_type": "stream",
     "text": [
      "ERROR:tensorflow:Calculated mis is not correct!\n"
     ]
    },
    {
     "name": "stderr",
     "output_type": "stream",
     "text": [
      "ERROR:tensorflow:Calculated mis is not correct!\n"
     ]
    },
    {
     "name": "stdout",
     "output_type": "stream",
     "text": [
      "ERROR:tensorflow:Can add more nodes!\n"
     ]
    },
    {
     "name": "stderr",
     "output_type": "stream",
     "text": [
      "ERROR:tensorflow:Can add more nodes!\n",
      "DEBUG:root:Checking community result is correct...\n"
     ]
    },
    {
     "name": "stdout",
     "output_type": "stream",
     "text": [
      "ERROR:tensorflow:Calculated mis is not correct!\n"
     ]
    },
    {
     "name": "stderr",
     "output_type": "stream",
     "text": [
      "ERROR:tensorflow:Calculated mis is not correct!\n"
     ]
    },
    {
     "name": "stdout",
     "output_type": "stream",
     "text": [
      "ERROR:tensorflow:Can add more nodes!\n"
     ]
    },
    {
     "name": "stderr",
     "output_type": "stream",
     "text": [
      "ERROR:tensorflow:Can add more nodes!\n",
      "DEBUG:root:Total nodes in MIS=set()\n"
     ]
    },
    {
     "name": "stdout",
     "output_type": "stream",
     "text": [
      "ERROR:tensorflow:Calculated mis is not correct!\n"
     ]
    },
    {
     "name": "stderr",
     "output_type": "stream",
     "text": [
      "ERROR:tensorflow:Calculated mis is not correct!\n"
     ]
    },
    {
     "name": "stdout",
     "output_type": "stream",
     "text": [
      "ERROR:tensorflow:Can add more nodes!\n"
     ]
    },
    {
     "name": "stderr",
     "output_type": "stream",
     "text": [
      "ERROR:tensorflow:Can add more nodes!\n",
      "INFO:root:Total MIS length found = 0\n",
      "DEBUG:root:\n",
      "INFO:root:Processing graph 9...\n",
      "DEBUG:root:Calculating G with nodes = 350 edges = 3671\n",
      "DEBUG:root:Build network on graph G:Graph named 'stochastic_block_model' with 350 nodes and 3671 edges.\n",
      "DEBUG:root:Solver stuck\n",
      "DEBUG:root:dNN solution is not correct\n",
      "DEBUG:root:Can add more nodes to IS\n",
      "DEBUG:root:Total epochs = 152\n",
      "DEBUG:root:dNN solution lenghth = 0\n",
      "DEBUG:root:MIS length = 0\n"
     ]
    },
    {
     "name": "stdout",
     "output_type": "stream",
     "text": [
      "ERROR:tensorflow:Calculated mis is not correct!\n"
     ]
    },
    {
     "name": "stderr",
     "output_type": "stream",
     "text": [
      "ERROR:tensorflow:Calculated mis is not correct!\n"
     ]
    },
    {
     "name": "stdout",
     "output_type": "stream",
     "text": [
      "ERROR:tensorflow:Can add more nodes!\n"
     ]
    },
    {
     "name": "stderr",
     "output_type": "stream",
     "text": [
      "ERROR:tensorflow:Can add more nodes!\n",
      "DEBUG:root:Checking community result is correct...\n"
     ]
    },
    {
     "name": "stdout",
     "output_type": "stream",
     "text": [
      "ERROR:tensorflow:Calculated mis is not correct!\n"
     ]
    },
    {
     "name": "stderr",
     "output_type": "stream",
     "text": [
      "ERROR:tensorflow:Calculated mis is not correct!\n"
     ]
    },
    {
     "name": "stdout",
     "output_type": "stream",
     "text": [
      "ERROR:tensorflow:Can add more nodes!\n"
     ]
    },
    {
     "name": "stderr",
     "output_type": "stream",
     "text": [
      "ERROR:tensorflow:Can add more nodes!\n",
      "DEBUG:root:Total nodes in MIS=set()\n"
     ]
    },
    {
     "name": "stdout",
     "output_type": "stream",
     "text": [
      "ERROR:tensorflow:Calculated mis is not correct!\n"
     ]
    },
    {
     "name": "stderr",
     "output_type": "stream",
     "text": [
      "ERROR:tensorflow:Calculated mis is not correct!\n"
     ]
    },
    {
     "name": "stdout",
     "output_type": "stream",
     "text": [
      "ERROR:tensorflow:Can add more nodes!\n"
     ]
    },
    {
     "name": "stderr",
     "output_type": "stream",
     "text": [
      "ERROR:tensorflow:Can add more nodes!\n",
      "INFO:root:Total MIS length found = 0\n",
      "DEBUG:root:\n"
     ]
    },
    {
     "name": "stdout",
     "output_type": "stream",
     "text": [
      "Average edges count = 3666.5\n",
      "Average dNN result = 0.0\n"
     ]
    }
   ],
   "source": [
    "(sizes, probs) = build_stochastic_params(70,0.1)\n",
    "networks = build_n_graphs(10, lambda: nx.stochastic_block_model(sizes,probs))\n",
    "test_network_on_graphs(networks)"
   ]
  },
  {
   "cell_type": "code",
   "execution_count": 224,
   "id": "785af4dd",
   "metadata": {},
   "outputs": [
    {
     "name": "stderr",
     "output_type": "stream",
     "text": [
      "INFO:root:Processing graph 0...\n",
      "DEBUG:root:Calculating G with nodes = 350 edges = 4956\n",
      "DEBUG:root:Build network on graph G:Graph named 'stochastic_block_model' with 350 nodes and 4956 edges.\n",
      "DEBUG:root:Solver stuck\n",
      "DEBUG:root:dNN solution is not correct\n",
      "DEBUG:root:Can add more nodes to IS\n",
      "DEBUG:root:Total epochs = 134\n",
      "DEBUG:root:dNN solution lenghth = 0\n",
      "DEBUG:root:MIS length = 0\n"
     ]
    },
    {
     "name": "stdout",
     "output_type": "stream",
     "text": [
      "ERROR:tensorflow:Calculated mis is not correct!\n"
     ]
    },
    {
     "name": "stderr",
     "output_type": "stream",
     "text": [
      "ERROR:tensorflow:Calculated mis is not correct!\n"
     ]
    },
    {
     "name": "stdout",
     "output_type": "stream",
     "text": [
      "ERROR:tensorflow:Can add more nodes!\n"
     ]
    },
    {
     "name": "stderr",
     "output_type": "stream",
     "text": [
      "ERROR:tensorflow:Can add more nodes!\n",
      "DEBUG:root:Checking community result is correct...\n"
     ]
    },
    {
     "name": "stdout",
     "output_type": "stream",
     "text": [
      "ERROR:tensorflow:Calculated mis is not correct!\n"
     ]
    },
    {
     "name": "stderr",
     "output_type": "stream",
     "text": [
      "ERROR:tensorflow:Calculated mis is not correct!\n"
     ]
    },
    {
     "name": "stdout",
     "output_type": "stream",
     "text": [
      "ERROR:tensorflow:Can add more nodes!\n"
     ]
    },
    {
     "name": "stderr",
     "output_type": "stream",
     "text": [
      "ERROR:tensorflow:Can add more nodes!\n",
      "DEBUG:root:Total nodes in MIS=set()\n"
     ]
    },
    {
     "name": "stdout",
     "output_type": "stream",
     "text": [
      "ERROR:tensorflow:Calculated mis is not correct!\n"
     ]
    },
    {
     "name": "stderr",
     "output_type": "stream",
     "text": [
      "ERROR:tensorflow:Calculated mis is not correct!\n"
     ]
    },
    {
     "name": "stdout",
     "output_type": "stream",
     "text": [
      "ERROR:tensorflow:Can add more nodes!\n"
     ]
    },
    {
     "name": "stderr",
     "output_type": "stream",
     "text": [
      "ERROR:tensorflow:Can add more nodes!\n",
      "INFO:root:Total MIS length found = 0\n",
      "DEBUG:root:\n",
      "INFO:root:Processing graph 1...\n",
      "DEBUG:root:Calculating G with nodes = 350 edges = 4880\n",
      "DEBUG:root:Build network on graph G:Graph named 'stochastic_block_model' with 350 nodes and 4880 edges.\n",
      "DEBUG:root:Solver stuck\n",
      "DEBUG:root:dNN solution is not correct\n",
      "DEBUG:root:Can add more nodes to IS\n",
      "DEBUG:root:Total epochs = 124\n",
      "DEBUG:root:dNN solution lenghth = 0\n",
      "DEBUG:root:MIS length = 0\n"
     ]
    },
    {
     "name": "stdout",
     "output_type": "stream",
     "text": [
      "ERROR:tensorflow:Calculated mis is not correct!\n"
     ]
    },
    {
     "name": "stderr",
     "output_type": "stream",
     "text": [
      "ERROR:tensorflow:Calculated mis is not correct!\n"
     ]
    },
    {
     "name": "stdout",
     "output_type": "stream",
     "text": [
      "ERROR:tensorflow:Can add more nodes!\n"
     ]
    },
    {
     "name": "stderr",
     "output_type": "stream",
     "text": [
      "ERROR:tensorflow:Can add more nodes!\n",
      "DEBUG:root:Checking community result is correct...\n"
     ]
    },
    {
     "name": "stdout",
     "output_type": "stream",
     "text": [
      "ERROR:tensorflow:Calculated mis is not correct!\n"
     ]
    },
    {
     "name": "stderr",
     "output_type": "stream",
     "text": [
      "ERROR:tensorflow:Calculated mis is not correct!\n"
     ]
    },
    {
     "name": "stdout",
     "output_type": "stream",
     "text": [
      "ERROR:tensorflow:Can add more nodes!\n"
     ]
    },
    {
     "name": "stderr",
     "output_type": "stream",
     "text": [
      "ERROR:tensorflow:Can add more nodes!\n",
      "DEBUG:root:Total nodes in MIS=set()\n"
     ]
    },
    {
     "name": "stdout",
     "output_type": "stream",
     "text": [
      "ERROR:tensorflow:Calculated mis is not correct!\n"
     ]
    },
    {
     "name": "stderr",
     "output_type": "stream",
     "text": [
      "ERROR:tensorflow:Calculated mis is not correct!\n"
     ]
    },
    {
     "name": "stdout",
     "output_type": "stream",
     "text": [
      "ERROR:tensorflow:Can add more nodes!\n"
     ]
    },
    {
     "name": "stderr",
     "output_type": "stream",
     "text": [
      "ERROR:tensorflow:Can add more nodes!\n",
      "INFO:root:Total MIS length found = 0\n",
      "DEBUG:root:\n",
      "INFO:root:Processing graph 2...\n",
      "DEBUG:root:Calculating G with nodes = 350 edges = 4967\n",
      "DEBUG:root:Build network on graph G:Graph named 'stochastic_block_model' with 350 nodes and 4967 edges.\n",
      "DEBUG:root:Solver stuck\n",
      "DEBUG:root:dNN solution is not correct\n",
      "DEBUG:root:Can add more nodes to IS\n",
      "DEBUG:root:Total epochs = 120\n",
      "DEBUG:root:dNN solution lenghth = 0\n",
      "DEBUG:root:MIS length = 0\n"
     ]
    },
    {
     "name": "stdout",
     "output_type": "stream",
     "text": [
      "ERROR:tensorflow:Calculated mis is not correct!\n"
     ]
    },
    {
     "name": "stderr",
     "output_type": "stream",
     "text": [
      "ERROR:tensorflow:Calculated mis is not correct!\n"
     ]
    },
    {
     "name": "stdout",
     "output_type": "stream",
     "text": [
      "ERROR:tensorflow:Can add more nodes!\n"
     ]
    },
    {
     "name": "stderr",
     "output_type": "stream",
     "text": [
      "ERROR:tensorflow:Can add more nodes!\n",
      "DEBUG:root:Checking community result is correct...\n"
     ]
    },
    {
     "name": "stdout",
     "output_type": "stream",
     "text": [
      "ERROR:tensorflow:Calculated mis is not correct!\n"
     ]
    },
    {
     "name": "stderr",
     "output_type": "stream",
     "text": [
      "ERROR:tensorflow:Calculated mis is not correct!\n"
     ]
    },
    {
     "name": "stdout",
     "output_type": "stream",
     "text": [
      "ERROR:tensorflow:Can add more nodes!\n"
     ]
    },
    {
     "name": "stderr",
     "output_type": "stream",
     "text": [
      "ERROR:tensorflow:Can add more nodes!\n",
      "DEBUG:root:Total nodes in MIS=set()\n"
     ]
    },
    {
     "name": "stdout",
     "output_type": "stream",
     "text": [
      "ERROR:tensorflow:Calculated mis is not correct!\n"
     ]
    },
    {
     "name": "stderr",
     "output_type": "stream",
     "text": [
      "ERROR:tensorflow:Calculated mis is not correct!\n"
     ]
    },
    {
     "name": "stdout",
     "output_type": "stream",
     "text": [
      "ERROR:tensorflow:Can add more nodes!\n"
     ]
    },
    {
     "name": "stderr",
     "output_type": "stream",
     "text": [
      "ERROR:tensorflow:Can add more nodes!\n",
      "INFO:root:Total MIS length found = 0\n",
      "DEBUG:root:\n",
      "INFO:root:Processing graph 3...\n",
      "DEBUG:root:Calculating G with nodes = 350 edges = 4870\n",
      "DEBUG:root:Build network on graph G:Graph named 'stochastic_block_model' with 350 nodes and 4870 edges.\n",
      "DEBUG:root:Solver stuck\n",
      "DEBUG:root:dNN solution is not correct\n",
      "DEBUG:root:Can add more nodes to IS\n",
      "DEBUG:root:Total epochs = 118\n",
      "DEBUG:root:dNN solution lenghth = 0\n",
      "DEBUG:root:MIS length = 0\n"
     ]
    },
    {
     "name": "stdout",
     "output_type": "stream",
     "text": [
      "ERROR:tensorflow:Calculated mis is not correct!\n"
     ]
    },
    {
     "name": "stderr",
     "output_type": "stream",
     "text": [
      "ERROR:tensorflow:Calculated mis is not correct!\n"
     ]
    },
    {
     "name": "stdout",
     "output_type": "stream",
     "text": [
      "ERROR:tensorflow:Can add more nodes!\n"
     ]
    },
    {
     "name": "stderr",
     "output_type": "stream",
     "text": [
      "ERROR:tensorflow:Can add more nodes!\n",
      "DEBUG:root:Checking community result is correct...\n"
     ]
    },
    {
     "name": "stdout",
     "output_type": "stream",
     "text": [
      "ERROR:tensorflow:Calculated mis is not correct!\n"
     ]
    },
    {
     "name": "stderr",
     "output_type": "stream",
     "text": [
      "ERROR:tensorflow:Calculated mis is not correct!\n"
     ]
    },
    {
     "name": "stdout",
     "output_type": "stream",
     "text": [
      "ERROR:tensorflow:Can add more nodes!\n"
     ]
    },
    {
     "name": "stderr",
     "output_type": "stream",
     "text": [
      "ERROR:tensorflow:Can add more nodes!\n",
      "DEBUG:root:Total nodes in MIS=set()\n"
     ]
    },
    {
     "name": "stdout",
     "output_type": "stream",
     "text": [
      "ERROR:tensorflow:Calculated mis is not correct!\n"
     ]
    },
    {
     "name": "stderr",
     "output_type": "stream",
     "text": [
      "ERROR:tensorflow:Calculated mis is not correct!\n"
     ]
    },
    {
     "name": "stdout",
     "output_type": "stream",
     "text": [
      "ERROR:tensorflow:Can add more nodes!\n"
     ]
    },
    {
     "name": "stderr",
     "output_type": "stream",
     "text": [
      "ERROR:tensorflow:Can add more nodes!\n",
      "INFO:root:Total MIS length found = 0\n",
      "DEBUG:root:\n",
      "INFO:root:Processing graph 4...\n",
      "DEBUG:root:Calculating G with nodes = 350 edges = 4794\n",
      "DEBUG:root:Build network on graph G:Graph named 'stochastic_block_model' with 350 nodes and 4794 edges.\n",
      "DEBUG:root:Solver stuck\n",
      "DEBUG:root:dNN solution is not correct\n",
      "DEBUG:root:Can add more nodes to IS\n",
      "DEBUG:root:Total epochs = 131\n",
      "DEBUG:root:dNN solution lenghth = 0\n",
      "DEBUG:root:MIS length = 0\n"
     ]
    },
    {
     "name": "stdout",
     "output_type": "stream",
     "text": [
      "ERROR:tensorflow:Calculated mis is not correct!\n"
     ]
    },
    {
     "name": "stderr",
     "output_type": "stream",
     "text": [
      "ERROR:tensorflow:Calculated mis is not correct!\n"
     ]
    },
    {
     "name": "stdout",
     "output_type": "stream",
     "text": [
      "ERROR:tensorflow:Can add more nodes!\n"
     ]
    },
    {
     "name": "stderr",
     "output_type": "stream",
     "text": [
      "ERROR:tensorflow:Can add more nodes!\n",
      "DEBUG:root:Checking community result is correct...\n"
     ]
    },
    {
     "name": "stdout",
     "output_type": "stream",
     "text": [
      "ERROR:tensorflow:Calculated mis is not correct!\n"
     ]
    },
    {
     "name": "stderr",
     "output_type": "stream",
     "text": [
      "ERROR:tensorflow:Calculated mis is not correct!\n"
     ]
    },
    {
     "name": "stdout",
     "output_type": "stream",
     "text": [
      "ERROR:tensorflow:Can add more nodes!\n"
     ]
    },
    {
     "name": "stderr",
     "output_type": "stream",
     "text": [
      "ERROR:tensorflow:Can add more nodes!\n",
      "DEBUG:root:Total nodes in MIS=set()\n"
     ]
    },
    {
     "name": "stdout",
     "output_type": "stream",
     "text": [
      "ERROR:tensorflow:Calculated mis is not correct!\n"
     ]
    },
    {
     "name": "stderr",
     "output_type": "stream",
     "text": [
      "ERROR:tensorflow:Calculated mis is not correct!\n"
     ]
    },
    {
     "name": "stdout",
     "output_type": "stream",
     "text": [
      "ERROR:tensorflow:Can add more nodes!\n"
     ]
    },
    {
     "name": "stderr",
     "output_type": "stream",
     "text": [
      "ERROR:tensorflow:Can add more nodes!\n",
      "INFO:root:Total MIS length found = 0\n",
      "DEBUG:root:\n",
      "INFO:root:Processing graph 5...\n",
      "DEBUG:root:Calculating G with nodes = 350 edges = 4747\n",
      "DEBUG:root:Build network on graph G:Graph named 'stochastic_block_model' with 350 nodes and 4747 edges.\n",
      "DEBUG:root:Solver stuck\n",
      "DEBUG:root:dNN solution is not correct\n",
      "DEBUG:root:Can add more nodes to IS\n",
      "DEBUG:root:Total epochs = 134\n",
      "DEBUG:root:dNN solution lenghth = 0\n",
      "DEBUG:root:MIS length = 0\n"
     ]
    },
    {
     "name": "stdout",
     "output_type": "stream",
     "text": [
      "ERROR:tensorflow:Calculated mis is not correct!\n"
     ]
    },
    {
     "name": "stderr",
     "output_type": "stream",
     "text": [
      "ERROR:tensorflow:Calculated mis is not correct!\n"
     ]
    },
    {
     "name": "stdout",
     "output_type": "stream",
     "text": [
      "ERROR:tensorflow:Can add more nodes!\n"
     ]
    },
    {
     "name": "stderr",
     "output_type": "stream",
     "text": [
      "ERROR:tensorflow:Can add more nodes!\n",
      "DEBUG:root:Checking community result is correct...\n"
     ]
    },
    {
     "name": "stdout",
     "output_type": "stream",
     "text": [
      "ERROR:tensorflow:Calculated mis is not correct!\n"
     ]
    },
    {
     "name": "stderr",
     "output_type": "stream",
     "text": [
      "ERROR:tensorflow:Calculated mis is not correct!\n"
     ]
    },
    {
     "name": "stdout",
     "output_type": "stream",
     "text": [
      "ERROR:tensorflow:Can add more nodes!\n"
     ]
    },
    {
     "name": "stderr",
     "output_type": "stream",
     "text": [
      "ERROR:tensorflow:Can add more nodes!\n",
      "DEBUG:root:Total nodes in MIS=set()\n"
     ]
    },
    {
     "name": "stdout",
     "output_type": "stream",
     "text": [
      "ERROR:tensorflow:Calculated mis is not correct!\n"
     ]
    },
    {
     "name": "stderr",
     "output_type": "stream",
     "text": [
      "ERROR:tensorflow:Calculated mis is not correct!\n"
     ]
    },
    {
     "name": "stdout",
     "output_type": "stream",
     "text": [
      "ERROR:tensorflow:Can add more nodes!\n"
     ]
    },
    {
     "name": "stderr",
     "output_type": "stream",
     "text": [
      "ERROR:tensorflow:Can add more nodes!\n",
      "INFO:root:Total MIS length found = 0\n",
      "DEBUG:root:\n",
      "INFO:root:Processing graph 6...\n",
      "DEBUG:root:Calculating G with nodes = 350 edges = 4980\n",
      "DEBUG:root:Build network on graph G:Graph named 'stochastic_block_model' with 350 nodes and 4980 edges.\n",
      "DEBUG:root:Solver stuck\n",
      "DEBUG:root:dNN solution is not correct\n",
      "DEBUG:root:Can add more nodes to IS\n",
      "DEBUG:root:Total epochs = 135\n",
      "DEBUG:root:dNN solution lenghth = 0\n",
      "DEBUG:root:MIS length = 0\n"
     ]
    },
    {
     "name": "stdout",
     "output_type": "stream",
     "text": [
      "ERROR:tensorflow:Calculated mis is not correct!\n"
     ]
    },
    {
     "name": "stderr",
     "output_type": "stream",
     "text": [
      "ERROR:tensorflow:Calculated mis is not correct!\n"
     ]
    },
    {
     "name": "stdout",
     "output_type": "stream",
     "text": [
      "ERROR:tensorflow:Can add more nodes!\n"
     ]
    },
    {
     "name": "stderr",
     "output_type": "stream",
     "text": [
      "ERROR:tensorflow:Can add more nodes!\n",
      "DEBUG:root:Checking community result is correct...\n"
     ]
    },
    {
     "name": "stdout",
     "output_type": "stream",
     "text": [
      "ERROR:tensorflow:Calculated mis is not correct!\n"
     ]
    },
    {
     "name": "stderr",
     "output_type": "stream",
     "text": [
      "ERROR:tensorflow:Calculated mis is not correct!\n"
     ]
    },
    {
     "name": "stdout",
     "output_type": "stream",
     "text": [
      "ERROR:tensorflow:Can add more nodes!\n"
     ]
    },
    {
     "name": "stderr",
     "output_type": "stream",
     "text": [
      "ERROR:tensorflow:Can add more nodes!\n",
      "DEBUG:root:Total nodes in MIS=set()\n"
     ]
    },
    {
     "name": "stdout",
     "output_type": "stream",
     "text": [
      "ERROR:tensorflow:Calculated mis is not correct!\n"
     ]
    },
    {
     "name": "stderr",
     "output_type": "stream",
     "text": [
      "ERROR:tensorflow:Calculated mis is not correct!\n"
     ]
    },
    {
     "name": "stdout",
     "output_type": "stream",
     "text": [
      "ERROR:tensorflow:Can add more nodes!\n"
     ]
    },
    {
     "name": "stderr",
     "output_type": "stream",
     "text": [
      "ERROR:tensorflow:Can add more nodes!\n",
      "INFO:root:Total MIS length found = 0\n",
      "DEBUG:root:\n",
      "INFO:root:Processing graph 7...\n",
      "DEBUG:root:Calculating G with nodes = 350 edges = 4818\n",
      "DEBUG:root:Build network on graph G:Graph named 'stochastic_block_model' with 350 nodes and 4818 edges.\n",
      "DEBUG:root:Solver stuck\n",
      "DEBUG:root:dNN solution is not correct\n",
      "DEBUG:root:Can add more nodes to IS\n",
      "DEBUG:root:Total epochs = 142\n",
      "DEBUG:root:dNN solution lenghth = 0\n",
      "DEBUG:root:MIS length = 0\n"
     ]
    },
    {
     "name": "stdout",
     "output_type": "stream",
     "text": [
      "ERROR:tensorflow:Calculated mis is not correct!\n"
     ]
    },
    {
     "name": "stderr",
     "output_type": "stream",
     "text": [
      "ERROR:tensorflow:Calculated mis is not correct!\n"
     ]
    },
    {
     "name": "stdout",
     "output_type": "stream",
     "text": [
      "ERROR:tensorflow:Can add more nodes!\n"
     ]
    },
    {
     "name": "stderr",
     "output_type": "stream",
     "text": [
      "ERROR:tensorflow:Can add more nodes!\n",
      "DEBUG:root:Checking community result is correct...\n"
     ]
    },
    {
     "name": "stdout",
     "output_type": "stream",
     "text": [
      "ERROR:tensorflow:Calculated mis is not correct!\n"
     ]
    },
    {
     "name": "stderr",
     "output_type": "stream",
     "text": [
      "ERROR:tensorflow:Calculated mis is not correct!\n"
     ]
    },
    {
     "name": "stdout",
     "output_type": "stream",
     "text": [
      "ERROR:tensorflow:Can add more nodes!\n"
     ]
    },
    {
     "name": "stderr",
     "output_type": "stream",
     "text": [
      "ERROR:tensorflow:Can add more nodes!\n",
      "DEBUG:root:Total nodes in MIS=set()\n"
     ]
    },
    {
     "name": "stdout",
     "output_type": "stream",
     "text": [
      "ERROR:tensorflow:Calculated mis is not correct!\n"
     ]
    },
    {
     "name": "stderr",
     "output_type": "stream",
     "text": [
      "ERROR:tensorflow:Calculated mis is not correct!\n"
     ]
    },
    {
     "name": "stdout",
     "output_type": "stream",
     "text": [
      "ERROR:tensorflow:Can add more nodes!\n"
     ]
    },
    {
     "name": "stderr",
     "output_type": "stream",
     "text": [
      "ERROR:tensorflow:Can add more nodes!\n",
      "INFO:root:Total MIS length found = 0\n",
      "DEBUG:root:\n",
      "INFO:root:Processing graph 8...\n",
      "DEBUG:root:Calculating G with nodes = 350 edges = 4938\n",
      "DEBUG:root:Build network on graph G:Graph named 'stochastic_block_model' with 350 nodes and 4938 edges.\n",
      "DEBUG:root:Solver stuck\n",
      "DEBUG:root:dNN solution is not correct\n",
      "DEBUG:root:Can add more nodes to IS\n",
      "DEBUG:root:Total epochs = 120\n",
      "DEBUG:root:dNN solution lenghth = 0\n",
      "DEBUG:root:MIS length = 0\n"
     ]
    },
    {
     "name": "stdout",
     "output_type": "stream",
     "text": [
      "ERROR:tensorflow:Calculated mis is not correct!\n"
     ]
    },
    {
     "name": "stderr",
     "output_type": "stream",
     "text": [
      "ERROR:tensorflow:Calculated mis is not correct!\n"
     ]
    },
    {
     "name": "stdout",
     "output_type": "stream",
     "text": [
      "ERROR:tensorflow:Can add more nodes!\n"
     ]
    },
    {
     "name": "stderr",
     "output_type": "stream",
     "text": [
      "ERROR:tensorflow:Can add more nodes!\n",
      "DEBUG:root:Checking community result is correct...\n"
     ]
    },
    {
     "name": "stdout",
     "output_type": "stream",
     "text": [
      "ERROR:tensorflow:Calculated mis is not correct!\n"
     ]
    },
    {
     "name": "stderr",
     "output_type": "stream",
     "text": [
      "ERROR:tensorflow:Calculated mis is not correct!\n"
     ]
    },
    {
     "name": "stdout",
     "output_type": "stream",
     "text": [
      "ERROR:tensorflow:Can add more nodes!\n"
     ]
    },
    {
     "name": "stderr",
     "output_type": "stream",
     "text": [
      "ERROR:tensorflow:Can add more nodes!\n",
      "DEBUG:root:Total nodes in MIS=set()\n"
     ]
    },
    {
     "name": "stdout",
     "output_type": "stream",
     "text": [
      "ERROR:tensorflow:Calculated mis is not correct!\n"
     ]
    },
    {
     "name": "stderr",
     "output_type": "stream",
     "text": [
      "ERROR:tensorflow:Calculated mis is not correct!\n"
     ]
    },
    {
     "name": "stdout",
     "output_type": "stream",
     "text": [
      "ERROR:tensorflow:Can add more nodes!\n"
     ]
    },
    {
     "name": "stderr",
     "output_type": "stream",
     "text": [
      "ERROR:tensorflow:Can add more nodes!\n",
      "INFO:root:Total MIS length found = 0\n",
      "DEBUG:root:\n",
      "INFO:root:Processing graph 9...\n",
      "DEBUG:root:Calculating G with nodes = 350 edges = 4888\n",
      "DEBUG:root:Build network on graph G:Graph named 'stochastic_block_model' with 350 nodes and 4888 edges.\n",
      "DEBUG:root:Solver stuck\n",
      "DEBUG:root:dNN solution is not correct\n",
      "DEBUG:root:Can add more nodes to IS\n",
      "DEBUG:root:Total epochs = 128\n",
      "DEBUG:root:dNN solution lenghth = 0\n",
      "DEBUG:root:MIS length = 0\n"
     ]
    },
    {
     "name": "stdout",
     "output_type": "stream",
     "text": [
      "ERROR:tensorflow:Calculated mis is not correct!\n"
     ]
    },
    {
     "name": "stderr",
     "output_type": "stream",
     "text": [
      "ERROR:tensorflow:Calculated mis is not correct!\n"
     ]
    },
    {
     "name": "stdout",
     "output_type": "stream",
     "text": [
      "ERROR:tensorflow:Can add more nodes!\n"
     ]
    },
    {
     "name": "stderr",
     "output_type": "stream",
     "text": [
      "ERROR:tensorflow:Can add more nodes!\n",
      "DEBUG:root:Checking community result is correct...\n"
     ]
    },
    {
     "name": "stdout",
     "output_type": "stream",
     "text": [
      "ERROR:tensorflow:Calculated mis is not correct!\n"
     ]
    },
    {
     "name": "stderr",
     "output_type": "stream",
     "text": [
      "ERROR:tensorflow:Calculated mis is not correct!\n"
     ]
    },
    {
     "name": "stdout",
     "output_type": "stream",
     "text": [
      "ERROR:tensorflow:Can add more nodes!\n"
     ]
    },
    {
     "name": "stderr",
     "output_type": "stream",
     "text": [
      "ERROR:tensorflow:Can add more nodes!\n",
      "DEBUG:root:Total nodes in MIS=set()\n"
     ]
    },
    {
     "name": "stdout",
     "output_type": "stream",
     "text": [
      "ERROR:tensorflow:Calculated mis is not correct!\n"
     ]
    },
    {
     "name": "stderr",
     "output_type": "stream",
     "text": [
      "ERROR:tensorflow:Calculated mis is not correct!\n"
     ]
    },
    {
     "name": "stdout",
     "output_type": "stream",
     "text": [
      "ERROR:tensorflow:Can add more nodes!\n"
     ]
    },
    {
     "name": "stderr",
     "output_type": "stream",
     "text": [
      "ERROR:tensorflow:Can add more nodes!\n",
      "INFO:root:Total MIS length found = 0\n",
      "DEBUG:root:\n"
     ]
    },
    {
     "name": "stdout",
     "output_type": "stream",
     "text": [
      "Average edges count = 4883.8\n",
      "Average dNN result = 0.0\n"
     ]
    }
   ],
   "source": [
    "(sizes, probs) = build_stochastic_params(70,0.2)\n",
    "networks = build_n_graphs(10, lambda: nx.stochastic_block_model(sizes,probs))\n",
    "test_network_on_graphs(networks)"
   ]
  },
  {
   "cell_type": "code",
   "execution_count": 225,
   "id": "92d43545",
   "metadata": {},
   "outputs": [
    {
     "name": "stderr",
     "output_type": "stream",
     "text": [
      "INFO:root:Processing graph 0...\n",
      "DEBUG:root:Calculating G with nodes = 100 edges = 2475\n",
      "DEBUG:root:Build network on graph G:Graph with 100 nodes and 2475 edges.\n",
      "DEBUG:root:Solver stuck\n",
      "DEBUG:root:dNN solution is not correct\n",
      "DEBUG:root:Can add more nodes to IS\n",
      "DEBUG:root:Total epochs = 130\n",
      "DEBUG:root:dNN solution lenghth = 0\n",
      "DEBUG:root:MIS length = 0\n"
     ]
    },
    {
     "name": "stdout",
     "output_type": "stream",
     "text": [
      "ERROR:tensorflow:Calculated mis is not correct!\n"
     ]
    },
    {
     "name": "stderr",
     "output_type": "stream",
     "text": [
      "ERROR:tensorflow:Calculated mis is not correct!\n"
     ]
    },
    {
     "name": "stdout",
     "output_type": "stream",
     "text": [
      "ERROR:tensorflow:Can add more nodes!\n"
     ]
    },
    {
     "name": "stderr",
     "output_type": "stream",
     "text": [
      "ERROR:tensorflow:Can add more nodes!\n",
      "DEBUG:root:Checking community result is correct...\n"
     ]
    },
    {
     "name": "stdout",
     "output_type": "stream",
     "text": [
      "ERROR:tensorflow:Calculated mis is not correct!\n"
     ]
    },
    {
     "name": "stderr",
     "output_type": "stream",
     "text": [
      "ERROR:tensorflow:Calculated mis is not correct!\n"
     ]
    },
    {
     "name": "stdout",
     "output_type": "stream",
     "text": [
      "ERROR:tensorflow:Can add more nodes!\n"
     ]
    },
    {
     "name": "stderr",
     "output_type": "stream",
     "text": [
      "ERROR:tensorflow:Can add more nodes!\n",
      "DEBUG:root:Total nodes in MIS=set()\n"
     ]
    },
    {
     "name": "stdout",
     "output_type": "stream",
     "text": [
      "ERROR:tensorflow:Calculated mis is not correct!\n"
     ]
    },
    {
     "name": "stderr",
     "output_type": "stream",
     "text": [
      "ERROR:tensorflow:Calculated mis is not correct!\n"
     ]
    },
    {
     "name": "stdout",
     "output_type": "stream",
     "text": [
      "ERROR:tensorflow:Can add more nodes!\n"
     ]
    },
    {
     "name": "stderr",
     "output_type": "stream",
     "text": [
      "ERROR:tensorflow:Can add more nodes!\n",
      "INFO:root:Total MIS length found = 0\n",
      "DEBUG:root:\n",
      "INFO:root:Processing graph 1...\n",
      "DEBUG:root:Calculating G with nodes = 100 edges = 2475\n",
      "DEBUG:root:Build network on graph G:Graph with 100 nodes and 2475 edges.\n",
      "DEBUG:root:Solver stuck\n",
      "DEBUG:root:dNN solution is not correct\n",
      "DEBUG:root:Can add more nodes to IS\n",
      "DEBUG:root:Total epochs = 147\n",
      "DEBUG:root:dNN solution lenghth = 0\n",
      "DEBUG:root:MIS length = 0\n"
     ]
    },
    {
     "name": "stdout",
     "output_type": "stream",
     "text": [
      "ERROR:tensorflow:Calculated mis is not correct!\n"
     ]
    },
    {
     "name": "stderr",
     "output_type": "stream",
     "text": [
      "ERROR:tensorflow:Calculated mis is not correct!\n"
     ]
    },
    {
     "name": "stdout",
     "output_type": "stream",
     "text": [
      "ERROR:tensorflow:Can add more nodes!\n"
     ]
    },
    {
     "name": "stderr",
     "output_type": "stream",
     "text": [
      "ERROR:tensorflow:Can add more nodes!\n",
      "DEBUG:root:Checking community result is correct...\n"
     ]
    },
    {
     "name": "stdout",
     "output_type": "stream",
     "text": [
      "ERROR:tensorflow:Calculated mis is not correct!\n"
     ]
    },
    {
     "name": "stderr",
     "output_type": "stream",
     "text": [
      "ERROR:tensorflow:Calculated mis is not correct!\n"
     ]
    },
    {
     "name": "stdout",
     "output_type": "stream",
     "text": [
      "ERROR:tensorflow:Can add more nodes!\n"
     ]
    },
    {
     "name": "stderr",
     "output_type": "stream",
     "text": [
      "ERROR:tensorflow:Can add more nodes!\n",
      "DEBUG:root:Total nodes in MIS=set()\n"
     ]
    },
    {
     "name": "stdout",
     "output_type": "stream",
     "text": [
      "ERROR:tensorflow:Calculated mis is not correct!\n"
     ]
    },
    {
     "name": "stderr",
     "output_type": "stream",
     "text": [
      "ERROR:tensorflow:Calculated mis is not correct!\n"
     ]
    },
    {
     "name": "stdout",
     "output_type": "stream",
     "text": [
      "ERROR:tensorflow:Can add more nodes!\n"
     ]
    },
    {
     "name": "stderr",
     "output_type": "stream",
     "text": [
      "ERROR:tensorflow:Can add more nodes!\n",
      "INFO:root:Total MIS length found = 0\n",
      "DEBUG:root:\n",
      "INFO:root:Processing graph 2...\n",
      "DEBUG:root:Calculating G with nodes = 100 edges = 2475\n",
      "DEBUG:root:Build network on graph G:Graph with 100 nodes and 2475 edges.\n",
      "DEBUG:root:Solver stuck\n",
      "DEBUG:root:dNN solution is not correct\n",
      "DEBUG:root:Can add more nodes to IS\n",
      "DEBUG:root:Total epochs = 147\n",
      "DEBUG:root:dNN solution lenghth = 0\n",
      "DEBUG:root:MIS length = 0\n"
     ]
    },
    {
     "name": "stdout",
     "output_type": "stream",
     "text": [
      "ERROR:tensorflow:Calculated mis is not correct!\n"
     ]
    },
    {
     "name": "stderr",
     "output_type": "stream",
     "text": [
      "ERROR:tensorflow:Calculated mis is not correct!\n"
     ]
    },
    {
     "name": "stdout",
     "output_type": "stream",
     "text": [
      "ERROR:tensorflow:Can add more nodes!\n"
     ]
    },
    {
     "name": "stderr",
     "output_type": "stream",
     "text": [
      "ERROR:tensorflow:Can add more nodes!\n",
      "DEBUG:root:Checking community result is correct...\n"
     ]
    },
    {
     "name": "stdout",
     "output_type": "stream",
     "text": [
      "ERROR:tensorflow:Calculated mis is not correct!\n"
     ]
    },
    {
     "name": "stderr",
     "output_type": "stream",
     "text": [
      "ERROR:tensorflow:Calculated mis is not correct!\n"
     ]
    },
    {
     "name": "stdout",
     "output_type": "stream",
     "text": [
      "ERROR:tensorflow:Can add more nodes!\n"
     ]
    },
    {
     "name": "stderr",
     "output_type": "stream",
     "text": [
      "ERROR:tensorflow:Can add more nodes!\n",
      "DEBUG:root:Total nodes in MIS=set()\n"
     ]
    },
    {
     "name": "stdout",
     "output_type": "stream",
     "text": [
      "ERROR:tensorflow:Calculated mis is not correct!\n"
     ]
    },
    {
     "name": "stderr",
     "output_type": "stream",
     "text": [
      "ERROR:tensorflow:Calculated mis is not correct!\n"
     ]
    },
    {
     "name": "stdout",
     "output_type": "stream",
     "text": [
      "ERROR:tensorflow:Can add more nodes!\n"
     ]
    },
    {
     "name": "stderr",
     "output_type": "stream",
     "text": [
      "ERROR:tensorflow:Can add more nodes!\n",
      "INFO:root:Total MIS length found = 0\n",
      "DEBUG:root:\n",
      "INFO:root:Processing graph 3...\n",
      "DEBUG:root:Calculating G with nodes = 100 edges = 2475\n",
      "DEBUG:root:Build network on graph G:Graph with 100 nodes and 2475 edges.\n",
      "DEBUG:root:Solver stuck\n",
      "DEBUG:root:dNN solution is not correct\n",
      "DEBUG:root:Can add more nodes to IS\n",
      "DEBUG:root:Total epochs = 133\n",
      "DEBUG:root:dNN solution lenghth = 0\n",
      "DEBUG:root:MIS length = 0\n"
     ]
    },
    {
     "name": "stdout",
     "output_type": "stream",
     "text": [
      "ERROR:tensorflow:Calculated mis is not correct!\n"
     ]
    },
    {
     "name": "stderr",
     "output_type": "stream",
     "text": [
      "ERROR:tensorflow:Calculated mis is not correct!\n"
     ]
    },
    {
     "name": "stdout",
     "output_type": "stream",
     "text": [
      "ERROR:tensorflow:Can add more nodes!\n"
     ]
    },
    {
     "name": "stderr",
     "output_type": "stream",
     "text": [
      "ERROR:tensorflow:Can add more nodes!\n",
      "DEBUG:root:Checking community result is correct...\n"
     ]
    },
    {
     "name": "stdout",
     "output_type": "stream",
     "text": [
      "ERROR:tensorflow:Calculated mis is not correct!\n"
     ]
    },
    {
     "name": "stderr",
     "output_type": "stream",
     "text": [
      "ERROR:tensorflow:Calculated mis is not correct!\n"
     ]
    },
    {
     "name": "stdout",
     "output_type": "stream",
     "text": [
      "ERROR:tensorflow:Can add more nodes!\n"
     ]
    },
    {
     "name": "stderr",
     "output_type": "stream",
     "text": [
      "ERROR:tensorflow:Can add more nodes!\n",
      "DEBUG:root:Total nodes in MIS=set()\n"
     ]
    },
    {
     "name": "stdout",
     "output_type": "stream",
     "text": [
      "ERROR:tensorflow:Calculated mis is not correct!\n"
     ]
    },
    {
     "name": "stderr",
     "output_type": "stream",
     "text": [
      "ERROR:tensorflow:Calculated mis is not correct!\n"
     ]
    },
    {
     "name": "stdout",
     "output_type": "stream",
     "text": [
      "ERROR:tensorflow:Can add more nodes!\n"
     ]
    },
    {
     "name": "stderr",
     "output_type": "stream",
     "text": [
      "ERROR:tensorflow:Can add more nodes!\n",
      "INFO:root:Total MIS length found = 0\n",
      "DEBUG:root:\n",
      "INFO:root:Processing graph 4...\n",
      "DEBUG:root:Calculating G with nodes = 100 edges = 2475\n",
      "DEBUG:root:Build network on graph G:Graph with 100 nodes and 2475 edges.\n",
      "DEBUG:root:Solver stuck\n",
      "DEBUG:root:dNN solution is not correct\n",
      "DEBUG:root:Can add more nodes to IS\n",
      "DEBUG:root:Total epochs = 138\n",
      "DEBUG:root:dNN solution lenghth = 0\n",
      "DEBUG:root:MIS length = 0\n"
     ]
    },
    {
     "name": "stdout",
     "output_type": "stream",
     "text": [
      "ERROR:tensorflow:Calculated mis is not correct!\n"
     ]
    },
    {
     "name": "stderr",
     "output_type": "stream",
     "text": [
      "ERROR:tensorflow:Calculated mis is not correct!\n"
     ]
    },
    {
     "name": "stdout",
     "output_type": "stream",
     "text": [
      "ERROR:tensorflow:Can add more nodes!\n"
     ]
    },
    {
     "name": "stderr",
     "output_type": "stream",
     "text": [
      "ERROR:tensorflow:Can add more nodes!\n",
      "DEBUG:root:Checking community result is correct...\n"
     ]
    },
    {
     "name": "stdout",
     "output_type": "stream",
     "text": [
      "ERROR:tensorflow:Calculated mis is not correct!\n"
     ]
    },
    {
     "name": "stderr",
     "output_type": "stream",
     "text": [
      "ERROR:tensorflow:Calculated mis is not correct!\n"
     ]
    },
    {
     "name": "stdout",
     "output_type": "stream",
     "text": [
      "ERROR:tensorflow:Can add more nodes!\n"
     ]
    },
    {
     "name": "stderr",
     "output_type": "stream",
     "text": [
      "ERROR:tensorflow:Can add more nodes!\n",
      "DEBUG:root:Total nodes in MIS=set()\n"
     ]
    },
    {
     "name": "stdout",
     "output_type": "stream",
     "text": [
      "ERROR:tensorflow:Calculated mis is not correct!\n"
     ]
    },
    {
     "name": "stderr",
     "output_type": "stream",
     "text": [
      "ERROR:tensorflow:Calculated mis is not correct!\n"
     ]
    },
    {
     "name": "stdout",
     "output_type": "stream",
     "text": [
      "ERROR:tensorflow:Can add more nodes!\n"
     ]
    },
    {
     "name": "stderr",
     "output_type": "stream",
     "text": [
      "ERROR:tensorflow:Can add more nodes!\n",
      "INFO:root:Total MIS length found = 0\n",
      "DEBUG:root:\n",
      "INFO:root:Processing graph 5...\n",
      "DEBUG:root:Calculating G with nodes = 100 edges = 2475\n",
      "DEBUG:root:Build network on graph G:Graph with 100 nodes and 2475 edges.\n",
      "DEBUG:root:Solver stuck\n",
      "DEBUG:root:dNN solution is not correct\n",
      "DEBUG:root:Can add more nodes to IS\n",
      "DEBUG:root:Total epochs = 138\n",
      "DEBUG:root:dNN solution lenghth = 0\n",
      "DEBUG:root:MIS length = 0\n"
     ]
    },
    {
     "name": "stdout",
     "output_type": "stream",
     "text": [
      "ERROR:tensorflow:Calculated mis is not correct!\n"
     ]
    },
    {
     "name": "stderr",
     "output_type": "stream",
     "text": [
      "ERROR:tensorflow:Calculated mis is not correct!\n"
     ]
    },
    {
     "name": "stdout",
     "output_type": "stream",
     "text": [
      "ERROR:tensorflow:Can add more nodes!\n"
     ]
    },
    {
     "name": "stderr",
     "output_type": "stream",
     "text": [
      "ERROR:tensorflow:Can add more nodes!\n",
      "DEBUG:root:Checking community result is correct...\n"
     ]
    },
    {
     "name": "stdout",
     "output_type": "stream",
     "text": [
      "ERROR:tensorflow:Calculated mis is not correct!\n"
     ]
    },
    {
     "name": "stderr",
     "output_type": "stream",
     "text": [
      "ERROR:tensorflow:Calculated mis is not correct!\n"
     ]
    },
    {
     "name": "stdout",
     "output_type": "stream",
     "text": [
      "ERROR:tensorflow:Can add more nodes!\n"
     ]
    },
    {
     "name": "stderr",
     "output_type": "stream",
     "text": [
      "ERROR:tensorflow:Can add more nodes!\n",
      "DEBUG:root:Total nodes in MIS=set()\n"
     ]
    },
    {
     "name": "stdout",
     "output_type": "stream",
     "text": [
      "ERROR:tensorflow:Calculated mis is not correct!\n"
     ]
    },
    {
     "name": "stderr",
     "output_type": "stream",
     "text": [
      "ERROR:tensorflow:Calculated mis is not correct!\n"
     ]
    },
    {
     "name": "stdout",
     "output_type": "stream",
     "text": [
      "ERROR:tensorflow:Can add more nodes!\n"
     ]
    },
    {
     "name": "stderr",
     "output_type": "stream",
     "text": [
      "ERROR:tensorflow:Can add more nodes!\n",
      "INFO:root:Total MIS length found = 0\n",
      "DEBUG:root:\n",
      "INFO:root:Processing graph 6...\n",
      "DEBUG:root:Calculating G with nodes = 100 edges = 2475\n",
      "DEBUG:root:Build network on graph G:Graph with 100 nodes and 2475 edges.\n",
      "DEBUG:root:Solver stuck\n",
      "DEBUG:root:dNN solution is not correct\n",
      "DEBUG:root:Can add more nodes to IS\n",
      "DEBUG:root:Total epochs = 138\n",
      "DEBUG:root:dNN solution lenghth = 0\n",
      "DEBUG:root:MIS length = 0\n"
     ]
    },
    {
     "name": "stdout",
     "output_type": "stream",
     "text": [
      "ERROR:tensorflow:Calculated mis is not correct!\n"
     ]
    },
    {
     "name": "stderr",
     "output_type": "stream",
     "text": [
      "ERROR:tensorflow:Calculated mis is not correct!\n"
     ]
    },
    {
     "name": "stdout",
     "output_type": "stream",
     "text": [
      "ERROR:tensorflow:Can add more nodes!\n"
     ]
    },
    {
     "name": "stderr",
     "output_type": "stream",
     "text": [
      "ERROR:tensorflow:Can add more nodes!\n",
      "DEBUG:root:Checking community result is correct...\n"
     ]
    },
    {
     "name": "stdout",
     "output_type": "stream",
     "text": [
      "ERROR:tensorflow:Calculated mis is not correct!\n"
     ]
    },
    {
     "name": "stderr",
     "output_type": "stream",
     "text": [
      "ERROR:tensorflow:Calculated mis is not correct!\n"
     ]
    },
    {
     "name": "stdout",
     "output_type": "stream",
     "text": [
      "ERROR:tensorflow:Can add more nodes!\n"
     ]
    },
    {
     "name": "stderr",
     "output_type": "stream",
     "text": [
      "ERROR:tensorflow:Can add more nodes!\n",
      "DEBUG:root:Total nodes in MIS=set()\n"
     ]
    },
    {
     "name": "stdout",
     "output_type": "stream",
     "text": [
      "ERROR:tensorflow:Calculated mis is not correct!\n"
     ]
    },
    {
     "name": "stderr",
     "output_type": "stream",
     "text": [
      "ERROR:tensorflow:Calculated mis is not correct!\n"
     ]
    },
    {
     "name": "stdout",
     "output_type": "stream",
     "text": [
      "ERROR:tensorflow:Can add more nodes!\n"
     ]
    },
    {
     "name": "stderr",
     "output_type": "stream",
     "text": [
      "ERROR:tensorflow:Can add more nodes!\n",
      "INFO:root:Total MIS length found = 0\n",
      "DEBUG:root:\n",
      "INFO:root:Processing graph 7...\n",
      "DEBUG:root:Calculating G with nodes = 100 edges = 2475\n",
      "DEBUG:root:Build network on graph G:Graph with 100 nodes and 2475 edges.\n",
      "DEBUG:root:Solver stuck\n",
      "DEBUG:root:dNN solution is not correct\n",
      "DEBUG:root:Can add more nodes to IS\n",
      "DEBUG:root:Total epochs = 133\n",
      "DEBUG:root:dNN solution lenghth = 0\n",
      "DEBUG:root:MIS length = 0\n"
     ]
    },
    {
     "name": "stdout",
     "output_type": "stream",
     "text": [
      "ERROR:tensorflow:Calculated mis is not correct!\n"
     ]
    },
    {
     "name": "stderr",
     "output_type": "stream",
     "text": [
      "ERROR:tensorflow:Calculated mis is not correct!\n"
     ]
    },
    {
     "name": "stdout",
     "output_type": "stream",
     "text": [
      "ERROR:tensorflow:Can add more nodes!\n"
     ]
    },
    {
     "name": "stderr",
     "output_type": "stream",
     "text": [
      "ERROR:tensorflow:Can add more nodes!\n",
      "DEBUG:root:Checking community result is correct...\n"
     ]
    },
    {
     "name": "stdout",
     "output_type": "stream",
     "text": [
      "ERROR:tensorflow:Calculated mis is not correct!\n"
     ]
    },
    {
     "name": "stderr",
     "output_type": "stream",
     "text": [
      "ERROR:tensorflow:Calculated mis is not correct!\n"
     ]
    },
    {
     "name": "stdout",
     "output_type": "stream",
     "text": [
      "ERROR:tensorflow:Can add more nodes!\n"
     ]
    },
    {
     "name": "stderr",
     "output_type": "stream",
     "text": [
      "ERROR:tensorflow:Can add more nodes!\n",
      "DEBUG:root:Total nodes in MIS=set()\n"
     ]
    },
    {
     "name": "stdout",
     "output_type": "stream",
     "text": [
      "ERROR:tensorflow:Calculated mis is not correct!\n"
     ]
    },
    {
     "name": "stderr",
     "output_type": "stream",
     "text": [
      "ERROR:tensorflow:Calculated mis is not correct!\n"
     ]
    },
    {
     "name": "stdout",
     "output_type": "stream",
     "text": [
      "ERROR:tensorflow:Can add more nodes!\n"
     ]
    },
    {
     "name": "stderr",
     "output_type": "stream",
     "text": [
      "ERROR:tensorflow:Can add more nodes!\n",
      "INFO:root:Total MIS length found = 0\n",
      "DEBUG:root:\n",
      "INFO:root:Processing graph 8...\n",
      "DEBUG:root:Calculating G with nodes = 100 edges = 2475\n",
      "DEBUG:root:Build network on graph G:Graph with 100 nodes and 2475 edges.\n",
      "DEBUG:root:Solver stuck\n",
      "DEBUG:root:dNN solution is not correct\n",
      "DEBUG:root:Can add more nodes to IS\n",
      "DEBUG:root:Total epochs = 135\n",
      "DEBUG:root:dNN solution lenghth = 0\n",
      "DEBUG:root:MIS length = 0\n"
     ]
    },
    {
     "name": "stdout",
     "output_type": "stream",
     "text": [
      "ERROR:tensorflow:Calculated mis is not correct!\n"
     ]
    },
    {
     "name": "stderr",
     "output_type": "stream",
     "text": [
      "ERROR:tensorflow:Calculated mis is not correct!\n"
     ]
    },
    {
     "name": "stdout",
     "output_type": "stream",
     "text": [
      "ERROR:tensorflow:Can add more nodes!\n"
     ]
    },
    {
     "name": "stderr",
     "output_type": "stream",
     "text": [
      "ERROR:tensorflow:Can add more nodes!\n",
      "DEBUG:root:Checking community result is correct...\n"
     ]
    },
    {
     "name": "stdout",
     "output_type": "stream",
     "text": [
      "ERROR:tensorflow:Calculated mis is not correct!\n"
     ]
    },
    {
     "name": "stderr",
     "output_type": "stream",
     "text": [
      "ERROR:tensorflow:Calculated mis is not correct!\n"
     ]
    },
    {
     "name": "stdout",
     "output_type": "stream",
     "text": [
      "ERROR:tensorflow:Can add more nodes!\n"
     ]
    },
    {
     "name": "stderr",
     "output_type": "stream",
     "text": [
      "ERROR:tensorflow:Can add more nodes!\n",
      "DEBUG:root:Total nodes in MIS=set()\n"
     ]
    },
    {
     "name": "stdout",
     "output_type": "stream",
     "text": [
      "ERROR:tensorflow:Calculated mis is not correct!\n"
     ]
    },
    {
     "name": "stderr",
     "output_type": "stream",
     "text": [
      "ERROR:tensorflow:Calculated mis is not correct!\n"
     ]
    },
    {
     "name": "stdout",
     "output_type": "stream",
     "text": [
      "ERROR:tensorflow:Can add more nodes!\n"
     ]
    },
    {
     "name": "stderr",
     "output_type": "stream",
     "text": [
      "ERROR:tensorflow:Can add more nodes!\n",
      "INFO:root:Total MIS length found = 0\n",
      "DEBUG:root:\n",
      "INFO:root:Processing graph 9...\n",
      "DEBUG:root:Calculating G with nodes = 100 edges = 2475\n",
      "DEBUG:root:Build network on graph G:Graph with 100 nodes and 2475 edges.\n",
      "DEBUG:root:Solver stuck\n",
      "DEBUG:root:dNN solution is not correct\n",
      "DEBUG:root:Can add more nodes to IS\n",
      "DEBUG:root:Total epochs = 142\n",
      "DEBUG:root:dNN solution lenghth = 0\n",
      "DEBUG:root:MIS length = 0\n"
     ]
    },
    {
     "name": "stdout",
     "output_type": "stream",
     "text": [
      "ERROR:tensorflow:Calculated mis is not correct!\n"
     ]
    },
    {
     "name": "stderr",
     "output_type": "stream",
     "text": [
      "ERROR:tensorflow:Calculated mis is not correct!\n"
     ]
    },
    {
     "name": "stdout",
     "output_type": "stream",
     "text": [
      "ERROR:tensorflow:Can add more nodes!\n"
     ]
    },
    {
     "name": "stderr",
     "output_type": "stream",
     "text": [
      "ERROR:tensorflow:Can add more nodes!\n",
      "DEBUG:root:Checking community result is correct...\n"
     ]
    },
    {
     "name": "stdout",
     "output_type": "stream",
     "text": [
      "ERROR:tensorflow:Calculated mis is not correct!\n"
     ]
    },
    {
     "name": "stderr",
     "output_type": "stream",
     "text": [
      "ERROR:tensorflow:Calculated mis is not correct!\n"
     ]
    },
    {
     "name": "stdout",
     "output_type": "stream",
     "text": [
      "ERROR:tensorflow:Can add more nodes!\n"
     ]
    },
    {
     "name": "stderr",
     "output_type": "stream",
     "text": [
      "ERROR:tensorflow:Can add more nodes!\n",
      "DEBUG:root:Total nodes in MIS=set()\n"
     ]
    },
    {
     "name": "stdout",
     "output_type": "stream",
     "text": [
      "ERROR:tensorflow:Calculated mis is not correct!\n"
     ]
    },
    {
     "name": "stderr",
     "output_type": "stream",
     "text": [
      "ERROR:tensorflow:Calculated mis is not correct!\n"
     ]
    },
    {
     "name": "stdout",
     "output_type": "stream",
     "text": [
      "ERROR:tensorflow:Can add more nodes!\n"
     ]
    },
    {
     "name": "stderr",
     "output_type": "stream",
     "text": [
      "ERROR:tensorflow:Can add more nodes!\n",
      "INFO:root:Total MIS length found = 0\n",
      "DEBUG:root:\n"
     ]
    },
    {
     "name": "stdout",
     "output_type": "stream",
     "text": [
      "Average edges count = 2475.0\n",
      "Average dNN result = 0.0\n"
     ]
    }
   ],
   "source": [
    "networks=build_n_graphs(10, lambda: nx.barabasi_albert_graph(100,45))\n",
    "test_network_on_graphs(networks)"
   ]
  },
  {
   "cell_type": "code",
   "execution_count": 226,
   "id": "55f172c2",
   "metadata": {},
   "outputs": [],
   "source": [
    "networks = build_n_graphs(10, lambda: nx.barabasi_albert_graph(200,100))\n",
    "networks += build_n_graphs(10, lambda: nx.barabasi_albert_graph(200,90))"
   ]
  },
  {
   "cell_type": "code",
   "execution_count": 227,
   "id": "f2c7de4b",
   "metadata": {},
   "outputs": [
    {
     "name": "stderr",
     "output_type": "stream",
     "text": [
      "INFO:root:Processing graph 0...\n",
      "DEBUG:root:Calculating G with nodes = 200 edges = 10000\n",
      "DEBUG:root:Build network on graph G:Graph with 200 nodes and 10000 edges.\n",
      "DEBUG:root:Optimal solution found. Cardinality = 100\n",
      "DEBUG:root:dNN solution is correct\n",
      "DEBUG:root:Total epochs = 0\n",
      "DEBUG:root:dNN solution lenghth = 100\n",
      "DEBUG:root:MIS length = 100\n",
      "DEBUG:root:Checking community result is correct...\n",
      "DEBUG:root:Total nodes in MIS={1, 2, 3, 4, 5, 6, 7, 8, 9, 10, 11, 12, 13, 14, 15, 16, 17, 18, 19, 20, 21, 22, 23, 24, 25, 26, 27, 28, 29, 30, 31, 32, 33, 34, 35, 36, 37, 38, 39, 40, 41, 42, 43, 44, 45, 46, 47, 48, 49, 50, 51, 52, 53, 54, 55, 56, 57, 58, 59, 60, 61, 62, 63, 64, 65, 66, 67, 68, 69, 70, 71, 72, 73, 74, 75, 76, 77, 78, 79, 80, 81, 82, 83, 84, 85, 86, 87, 88, 89, 90, 91, 92, 93, 94, 95, 96, 97, 98, 99, 100}\n",
      "INFO:root:Total MIS length found = 100\n",
      "DEBUG:root:\n",
      "INFO:root:Processing graph 1...\n",
      "DEBUG:root:Calculating G with nodes = 200 edges = 10000\n",
      "DEBUG:root:Build network on graph G:Graph with 200 nodes and 10000 edges.\n",
      "DEBUG:root:Optimal solution found. Cardinality = 100\n",
      "DEBUG:root:dNN solution is correct\n",
      "DEBUG:root:Total epochs = 0\n",
      "DEBUG:root:dNN solution lenghth = 100\n",
      "DEBUG:root:MIS length = 100\n",
      "DEBUG:root:Checking community result is correct...\n",
      "DEBUG:root:Total nodes in MIS={1, 2, 3, 4, 5, 6, 7, 8, 9, 10, 11, 12, 13, 14, 15, 16, 17, 18, 19, 20, 21, 22, 23, 24, 25, 26, 27, 28, 29, 30, 31, 32, 33, 34, 35, 36, 37, 38, 39, 40, 41, 42, 43, 44, 45, 46, 47, 48, 49, 50, 51, 52, 53, 54, 55, 56, 57, 58, 59, 60, 61, 62, 63, 64, 65, 66, 67, 68, 69, 70, 71, 72, 73, 74, 75, 76, 77, 78, 79, 80, 81, 82, 83, 84, 85, 86, 87, 88, 89, 90, 91, 92, 93, 94, 95, 96, 97, 98, 99, 100}\n",
      "INFO:root:Total MIS length found = 100\n",
      "DEBUG:root:\n",
      "INFO:root:Processing graph 2...\n",
      "DEBUG:root:Calculating G with nodes = 200 edges = 10000\n",
      "DEBUG:root:Build network on graph G:Graph with 200 nodes and 10000 edges.\n",
      "DEBUG:root:Optimal solution found. Cardinality = 100\n",
      "DEBUG:root:dNN solution is correct\n",
      "DEBUG:root:Total epochs = 0\n",
      "DEBUG:root:dNN solution lenghth = 100\n",
      "DEBUG:root:MIS length = 100\n",
      "DEBUG:root:Checking community result is correct...\n",
      "DEBUG:root:Total nodes in MIS={1, 2, 3, 4, 5, 6, 7, 8, 9, 10, 11, 12, 13, 14, 15, 16, 17, 18, 19, 20, 21, 22, 23, 24, 25, 26, 27, 28, 29, 30, 31, 32, 33, 34, 35, 36, 37, 38, 39, 40, 41, 42, 43, 44, 45, 46, 47, 48, 49, 50, 51, 52, 53, 54, 55, 56, 57, 58, 59, 60, 61, 62, 63, 64, 65, 66, 67, 68, 69, 70, 71, 72, 73, 74, 75, 76, 77, 78, 79, 80, 81, 82, 83, 84, 85, 86, 87, 88, 89, 90, 91, 92, 93, 94, 95, 96, 97, 98, 99, 100}\n",
      "INFO:root:Total MIS length found = 100\n",
      "DEBUG:root:\n",
      "INFO:root:Processing graph 3...\n",
      "DEBUG:root:Calculating G with nodes = 200 edges = 10000\n",
      "DEBUG:root:Build network on graph G:Graph with 200 nodes and 10000 edges.\n",
      "DEBUG:root:Optimal solution found. Cardinality = 100\n",
      "DEBUG:root:dNN solution is correct\n",
      "DEBUG:root:Total epochs = 0\n",
      "DEBUG:root:dNN solution lenghth = 100\n",
      "DEBUG:root:MIS length = 100\n",
      "DEBUG:root:Checking community result is correct...\n",
      "DEBUG:root:Total nodes in MIS={1, 2, 3, 4, 5, 6, 7, 8, 9, 10, 11, 12, 13, 14, 15, 16, 17, 18, 19, 20, 21, 22, 23, 24, 25, 26, 27, 28, 29, 30, 31, 32, 33, 34, 35, 36, 37, 38, 39, 40, 41, 42, 43, 44, 45, 46, 47, 48, 49, 50, 51, 52, 53, 54, 55, 56, 57, 58, 59, 60, 61, 62, 63, 64, 65, 66, 67, 68, 69, 70, 71, 72, 73, 74, 75, 76, 77, 78, 79, 80, 81, 82, 83, 84, 85, 86, 87, 88, 89, 90, 91, 92, 93, 94, 95, 96, 97, 98, 99, 100}\n",
      "INFO:root:Total MIS length found = 100\n",
      "DEBUG:root:\n",
      "INFO:root:Processing graph 4...\n",
      "DEBUG:root:Calculating G with nodes = 200 edges = 10000\n",
      "DEBUG:root:Build network on graph G:Graph with 200 nodes and 10000 edges.\n",
      "DEBUG:root:Optimal solution found. Cardinality = 100\n",
      "DEBUG:root:dNN solution is correct\n",
      "DEBUG:root:Total epochs = 0\n",
      "DEBUG:root:dNN solution lenghth = 100\n",
      "DEBUG:root:MIS length = 100\n",
      "DEBUG:root:Checking community result is correct...\n",
      "DEBUG:root:Total nodes in MIS={1, 2, 3, 4, 5, 6, 7, 8, 9, 10, 11, 12, 13, 14, 15, 16, 17, 18, 19, 20, 21, 22, 23, 24, 25, 26, 27, 28, 29, 30, 31, 32, 33, 34, 35, 36, 37, 38, 39, 40, 41, 42, 43, 44, 45, 46, 47, 48, 49, 50, 51, 52, 53, 54, 55, 56, 57, 58, 59, 60, 61, 62, 63, 64, 65, 66, 67, 68, 69, 70, 71, 72, 73, 74, 75, 76, 77, 78, 79, 80, 81, 82, 83, 84, 85, 86, 87, 88, 89, 90, 91, 92, 93, 94, 95, 96, 97, 98, 99, 100}\n",
      "INFO:root:Total MIS length found = 100\n",
      "DEBUG:root:\n",
      "INFO:root:Processing graph 5...\n",
      "DEBUG:root:Calculating G with nodes = 200 edges = 10000\n",
      "DEBUG:root:Build network on graph G:Graph with 200 nodes and 10000 edges.\n",
      "DEBUG:root:Optimal solution found. Cardinality = 100\n",
      "DEBUG:root:dNN solution is correct\n",
      "DEBUG:root:Total epochs = 0\n",
      "DEBUG:root:dNN solution lenghth = 100\n",
      "DEBUG:root:MIS length = 100\n",
      "DEBUG:root:Checking community result is correct...\n",
      "DEBUG:root:Total nodes in MIS={1, 2, 3, 4, 5, 6, 7, 8, 9, 10, 11, 12, 13, 14, 15, 16, 17, 18, 19, 20, 21, 22, 23, 24, 25, 26, 27, 28, 29, 30, 31, 32, 33, 34, 35, 36, 37, 38, 39, 40, 41, 42, 43, 44, 45, 46, 47, 48, 49, 50, 51, 52, 53, 54, 55, 56, 57, 58, 59, 60, 61, 62, 63, 64, 65, 66, 67, 68, 69, 70, 71, 72, 73, 74, 75, 76, 77, 78, 79, 80, 81, 82, 83, 84, 85, 86, 87, 88, 89, 90, 91, 92, 93, 94, 95, 96, 97, 98, 99, 100}\n",
      "INFO:root:Total MIS length found = 100\n",
      "DEBUG:root:\n",
      "INFO:root:Processing graph 6...\n",
      "DEBUG:root:Calculating G with nodes = 200 edges = 10000\n",
      "DEBUG:root:Build network on graph G:Graph with 200 nodes and 10000 edges.\n",
      "DEBUG:root:Optimal solution found. Cardinality = 100\n",
      "DEBUG:root:dNN solution is correct\n",
      "DEBUG:root:Total epochs = 0\n",
      "DEBUG:root:dNN solution lenghth = 100\n",
      "DEBUG:root:MIS length = 100\n",
      "DEBUG:root:Checking community result is correct...\n",
      "DEBUG:root:Total nodes in MIS={1, 2, 3, 4, 5, 6, 7, 8, 9, 10, 11, 12, 13, 14, 15, 16, 17, 18, 19, 20, 21, 22, 23, 24, 25, 26, 27, 28, 29, 30, 31, 32, 33, 34, 35, 36, 37, 38, 39, 40, 41, 42, 43, 44, 45, 46, 47, 48, 49, 50, 51, 52, 53, 54, 55, 56, 57, 58, 59, 60, 61, 62, 63, 64, 65, 66, 67, 68, 69, 70, 71, 72, 73, 74, 75, 76, 77, 78, 79, 80, 81, 82, 83, 84, 85, 86, 87, 88, 89, 90, 91, 92, 93, 94, 95, 96, 97, 98, 99, 100}\n",
      "INFO:root:Total MIS length found = 100\n",
      "DEBUG:root:\n",
      "INFO:root:Processing graph 7...\n",
      "DEBUG:root:Calculating G with nodes = 200 edges = 10000\n",
      "DEBUG:root:Build network on graph G:Graph with 200 nodes and 10000 edges.\n",
      "DEBUG:root:Optimal solution found. Cardinality = 100\n",
      "DEBUG:root:dNN solution is correct\n",
      "DEBUG:root:Total epochs = 0\n",
      "DEBUG:root:dNN solution lenghth = 100\n",
      "DEBUG:root:MIS length = 100\n",
      "DEBUG:root:Checking community result is correct...\n",
      "DEBUG:root:Total nodes in MIS={1, 2, 3, 4, 5, 6, 7, 8, 9, 10, 11, 12, 13, 14, 15, 16, 17, 18, 19, 20, 21, 22, 23, 24, 25, 26, 27, 28, 29, 30, 31, 32, 33, 34, 35, 36, 37, 38, 39, 40, 41, 42, 43, 44, 45, 46, 47, 48, 49, 50, 51, 52, 53, 54, 55, 56, 57, 58, 59, 60, 61, 62, 63, 64, 65, 66, 67, 68, 69, 70, 71, 72, 73, 74, 75, 76, 77, 78, 79, 80, 81, 82, 83, 84, 85, 86, 87, 88, 89, 90, 91, 92, 93, 94, 95, 96, 97, 98, 99, 100}\n",
      "INFO:root:Total MIS length found = 100\n",
      "DEBUG:root:\n",
      "INFO:root:Processing graph 8...\n",
      "DEBUG:root:Calculating G with nodes = 200 edges = 10000\n",
      "DEBUG:root:Build network on graph G:Graph with 200 nodes and 10000 edges.\n",
      "DEBUG:root:Optimal solution found. Cardinality = 100\n",
      "DEBUG:root:dNN solution is correct\n",
      "DEBUG:root:Total epochs = 0\n",
      "DEBUG:root:dNN solution lenghth = 100\n",
      "DEBUG:root:MIS length = 100\n",
      "DEBUG:root:Checking community result is correct...\n",
      "DEBUG:root:Total nodes in MIS={1, 2, 3, 4, 5, 6, 7, 8, 9, 10, 11, 12, 13, 14, 15, 16, 17, 18, 19, 20, 21, 22, 23, 24, 25, 26, 27, 28, 29, 30, 31, 32, 33, 34, 35, 36, 37, 38, 39, 40, 41, 42, 43, 44, 45, 46, 47, 48, 49, 50, 51, 52, 53, 54, 55, 56, 57, 58, 59, 60, 61, 62, 63, 64, 65, 66, 67, 68, 69, 70, 71, 72, 73, 74, 75, 76, 77, 78, 79, 80, 81, 82, 83, 84, 85, 86, 87, 88, 89, 90, 91, 92, 93, 94, 95, 96, 97, 98, 99, 100}\n",
      "INFO:root:Total MIS length found = 100\n",
      "DEBUG:root:\n",
      "INFO:root:Processing graph 9...\n",
      "DEBUG:root:Calculating G with nodes = 200 edges = 10000\n",
      "DEBUG:root:Build network on graph G:Graph with 200 nodes and 10000 edges.\n",
      "DEBUG:root:Optimal solution found. Cardinality = 100\n",
      "DEBUG:root:dNN solution is correct\n",
      "DEBUG:root:Total epochs = 0\n",
      "DEBUG:root:dNN solution lenghth = 100\n",
      "DEBUG:root:MIS length = 100\n",
      "DEBUG:root:Checking community result is correct...\n"
     ]
    },
    {
     "name": "stderr",
     "output_type": "stream",
     "text": [
      "DEBUG:root:Total nodes in MIS={1, 2, 3, 4, 5, 6, 7, 8, 9, 10, 11, 12, 13, 14, 15, 16, 17, 18, 19, 20, 21, 22, 23, 24, 25, 26, 27, 28, 29, 30, 31, 32, 33, 34, 35, 36, 37, 38, 39, 40, 41, 42, 43, 44, 45, 46, 47, 48, 49, 50, 51, 52, 53, 54, 55, 56, 57, 58, 59, 60, 61, 62, 63, 64, 65, 66, 67, 68, 69, 70, 71, 72, 73, 74, 75, 76, 77, 78, 79, 80, 81, 82, 83, 84, 85, 86, 87, 88, 89, 90, 91, 92, 93, 94, 95, 96, 97, 98, 99, 100}\n",
      "INFO:root:Total MIS length found = 100\n",
      "DEBUG:root:\n",
      "INFO:root:Processing graph 10...\n",
      "DEBUG:root:Calculating G with nodes = 200 edges = 9900\n",
      "DEBUG:root:Build network on graph G:Graph with 200 nodes and 9900 edges.\n",
      "DEBUG:root:Solver stuck\n",
      "DEBUG:root:dNN solution is not correct\n",
      "DEBUG:root:Can add more nodes to IS\n",
      "DEBUG:root:Total epochs = 127\n",
      "DEBUG:root:dNN solution lenghth = 0\n",
      "DEBUG:root:MIS length = 0\n"
     ]
    },
    {
     "name": "stdout",
     "output_type": "stream",
     "text": [
      "ERROR:tensorflow:Calculated mis is not correct!\n"
     ]
    },
    {
     "name": "stderr",
     "output_type": "stream",
     "text": [
      "ERROR:tensorflow:Calculated mis is not correct!\n"
     ]
    },
    {
     "name": "stdout",
     "output_type": "stream",
     "text": [
      "ERROR:tensorflow:Can add more nodes!\n"
     ]
    },
    {
     "name": "stderr",
     "output_type": "stream",
     "text": [
      "ERROR:tensorflow:Can add more nodes!\n",
      "DEBUG:root:Checking community result is correct...\n"
     ]
    },
    {
     "name": "stdout",
     "output_type": "stream",
     "text": [
      "ERROR:tensorflow:Calculated mis is not correct!\n"
     ]
    },
    {
     "name": "stderr",
     "output_type": "stream",
     "text": [
      "ERROR:tensorflow:Calculated mis is not correct!\n"
     ]
    },
    {
     "name": "stdout",
     "output_type": "stream",
     "text": [
      "ERROR:tensorflow:Can add more nodes!\n"
     ]
    },
    {
     "name": "stderr",
     "output_type": "stream",
     "text": [
      "ERROR:tensorflow:Can add more nodes!\n",
      "DEBUG:root:Total nodes in MIS=set()\n"
     ]
    },
    {
     "name": "stdout",
     "output_type": "stream",
     "text": [
      "ERROR:tensorflow:Calculated mis is not correct!\n"
     ]
    },
    {
     "name": "stderr",
     "output_type": "stream",
     "text": [
      "ERROR:tensorflow:Calculated mis is not correct!\n"
     ]
    },
    {
     "name": "stdout",
     "output_type": "stream",
     "text": [
      "ERROR:tensorflow:Can add more nodes!\n"
     ]
    },
    {
     "name": "stderr",
     "output_type": "stream",
     "text": [
      "ERROR:tensorflow:Can add more nodes!\n",
      "INFO:root:Total MIS length found = 0\n",
      "DEBUG:root:\n",
      "INFO:root:Processing graph 11...\n",
      "DEBUG:root:Calculating G with nodes = 200 edges = 9900\n",
      "DEBUG:root:Build network on graph G:Graph with 200 nodes and 9900 edges.\n",
      "DEBUG:root:Solver stuck\n",
      "DEBUG:root:dNN solution is not correct\n",
      "DEBUG:root:Can add more nodes to IS\n",
      "DEBUG:root:Total epochs = 135\n",
      "DEBUG:root:dNN solution lenghth = 0\n",
      "DEBUG:root:MIS length = 0\n"
     ]
    },
    {
     "name": "stdout",
     "output_type": "stream",
     "text": [
      "ERROR:tensorflow:Calculated mis is not correct!\n"
     ]
    },
    {
     "name": "stderr",
     "output_type": "stream",
     "text": [
      "ERROR:tensorflow:Calculated mis is not correct!\n"
     ]
    },
    {
     "name": "stdout",
     "output_type": "stream",
     "text": [
      "ERROR:tensorflow:Can add more nodes!\n"
     ]
    },
    {
     "name": "stderr",
     "output_type": "stream",
     "text": [
      "ERROR:tensorflow:Can add more nodes!\n",
      "DEBUG:root:Checking community result is correct...\n"
     ]
    },
    {
     "name": "stdout",
     "output_type": "stream",
     "text": [
      "ERROR:tensorflow:Calculated mis is not correct!\n"
     ]
    },
    {
     "name": "stderr",
     "output_type": "stream",
     "text": [
      "ERROR:tensorflow:Calculated mis is not correct!\n"
     ]
    },
    {
     "name": "stdout",
     "output_type": "stream",
     "text": [
      "ERROR:tensorflow:Can add more nodes!\n"
     ]
    },
    {
     "name": "stderr",
     "output_type": "stream",
     "text": [
      "ERROR:tensorflow:Can add more nodes!\n",
      "DEBUG:root:Total nodes in MIS=set()\n"
     ]
    },
    {
     "name": "stdout",
     "output_type": "stream",
     "text": [
      "ERROR:tensorflow:Calculated mis is not correct!\n"
     ]
    },
    {
     "name": "stderr",
     "output_type": "stream",
     "text": [
      "ERROR:tensorflow:Calculated mis is not correct!\n"
     ]
    },
    {
     "name": "stdout",
     "output_type": "stream",
     "text": [
      "ERROR:tensorflow:Can add more nodes!\n"
     ]
    },
    {
     "name": "stderr",
     "output_type": "stream",
     "text": [
      "ERROR:tensorflow:Can add more nodes!\n",
      "INFO:root:Total MIS length found = 0\n",
      "DEBUG:root:\n",
      "INFO:root:Processing graph 12...\n",
      "DEBUG:root:Calculating G with nodes = 200 edges = 9900\n",
      "DEBUG:root:Build network on graph G:Graph with 200 nodes and 9900 edges.\n",
      "DEBUG:root:Solver stuck\n",
      "DEBUG:root:dNN solution is not correct\n",
      "DEBUG:root:Can add more nodes to IS\n",
      "DEBUG:root:Total epochs = 131\n",
      "DEBUG:root:dNN solution lenghth = 0\n",
      "DEBUG:root:MIS length = 0\n"
     ]
    },
    {
     "name": "stdout",
     "output_type": "stream",
     "text": [
      "ERROR:tensorflow:Calculated mis is not correct!\n"
     ]
    },
    {
     "name": "stderr",
     "output_type": "stream",
     "text": [
      "ERROR:tensorflow:Calculated mis is not correct!\n"
     ]
    },
    {
     "name": "stdout",
     "output_type": "stream",
     "text": [
      "ERROR:tensorflow:Can add more nodes!\n"
     ]
    },
    {
     "name": "stderr",
     "output_type": "stream",
     "text": [
      "ERROR:tensorflow:Can add more nodes!\n",
      "DEBUG:root:Checking community result is correct...\n"
     ]
    },
    {
     "name": "stdout",
     "output_type": "stream",
     "text": [
      "ERROR:tensorflow:Calculated mis is not correct!\n"
     ]
    },
    {
     "name": "stderr",
     "output_type": "stream",
     "text": [
      "ERROR:tensorflow:Calculated mis is not correct!\n"
     ]
    },
    {
     "name": "stdout",
     "output_type": "stream",
     "text": [
      "ERROR:tensorflow:Can add more nodes!\n"
     ]
    },
    {
     "name": "stderr",
     "output_type": "stream",
     "text": [
      "ERROR:tensorflow:Can add more nodes!\n",
      "DEBUG:root:Total nodes in MIS=set()\n"
     ]
    },
    {
     "name": "stdout",
     "output_type": "stream",
     "text": [
      "ERROR:tensorflow:Calculated mis is not correct!\n"
     ]
    },
    {
     "name": "stderr",
     "output_type": "stream",
     "text": [
      "ERROR:tensorflow:Calculated mis is not correct!\n"
     ]
    },
    {
     "name": "stdout",
     "output_type": "stream",
     "text": [
      "ERROR:tensorflow:Can add more nodes!\n"
     ]
    },
    {
     "name": "stderr",
     "output_type": "stream",
     "text": [
      "ERROR:tensorflow:Can add more nodes!\n",
      "INFO:root:Total MIS length found = 0\n",
      "DEBUG:root:\n",
      "INFO:root:Processing graph 13...\n",
      "DEBUG:root:Calculating G with nodes = 200 edges = 9900\n",
      "DEBUG:root:Build network on graph G:Graph with 200 nodes and 9900 edges.\n",
      "DEBUG:root:Solver stuck\n",
      "DEBUG:root:dNN solution is not correct\n",
      "DEBUG:root:Can add more nodes to IS\n",
      "DEBUG:root:Total epochs = 135\n",
      "DEBUG:root:dNN solution lenghth = 0\n",
      "DEBUG:root:MIS length = 0\n"
     ]
    },
    {
     "name": "stdout",
     "output_type": "stream",
     "text": [
      "ERROR:tensorflow:Calculated mis is not correct!\n"
     ]
    },
    {
     "name": "stderr",
     "output_type": "stream",
     "text": [
      "ERROR:tensorflow:Calculated mis is not correct!\n"
     ]
    },
    {
     "name": "stdout",
     "output_type": "stream",
     "text": [
      "ERROR:tensorflow:Can add more nodes!\n"
     ]
    },
    {
     "name": "stderr",
     "output_type": "stream",
     "text": [
      "ERROR:tensorflow:Can add more nodes!\n",
      "DEBUG:root:Checking community result is correct...\n"
     ]
    },
    {
     "name": "stdout",
     "output_type": "stream",
     "text": [
      "ERROR:tensorflow:Calculated mis is not correct!\n"
     ]
    },
    {
     "name": "stderr",
     "output_type": "stream",
     "text": [
      "ERROR:tensorflow:Calculated mis is not correct!\n"
     ]
    },
    {
     "name": "stdout",
     "output_type": "stream",
     "text": [
      "ERROR:tensorflow:Can add more nodes!\n"
     ]
    },
    {
     "name": "stderr",
     "output_type": "stream",
     "text": [
      "ERROR:tensorflow:Can add more nodes!\n",
      "DEBUG:root:Total nodes in MIS=set()\n"
     ]
    },
    {
     "name": "stdout",
     "output_type": "stream",
     "text": [
      "ERROR:tensorflow:Calculated mis is not correct!\n"
     ]
    },
    {
     "name": "stderr",
     "output_type": "stream",
     "text": [
      "ERROR:tensorflow:Calculated mis is not correct!\n"
     ]
    },
    {
     "name": "stdout",
     "output_type": "stream",
     "text": [
      "ERROR:tensorflow:Can add more nodes!\n"
     ]
    },
    {
     "name": "stderr",
     "output_type": "stream",
     "text": [
      "ERROR:tensorflow:Can add more nodes!\n",
      "INFO:root:Total MIS length found = 0\n",
      "DEBUG:root:\n",
      "INFO:root:Processing graph 14...\n",
      "DEBUG:root:Calculating G with nodes = 200 edges = 9900\n",
      "DEBUG:root:Build network on graph G:Graph with 200 nodes and 9900 edges.\n",
      "DEBUG:root:Solver stuck\n",
      "DEBUG:root:dNN solution is not correct\n",
      "DEBUG:root:Can add more nodes to IS\n",
      "DEBUG:root:Total epochs = 148\n",
      "DEBUG:root:dNN solution lenghth = 0\n",
      "DEBUG:root:MIS length = 0\n"
     ]
    },
    {
     "name": "stdout",
     "output_type": "stream",
     "text": [
      "ERROR:tensorflow:Calculated mis is not correct!\n"
     ]
    },
    {
     "name": "stderr",
     "output_type": "stream",
     "text": [
      "ERROR:tensorflow:Calculated mis is not correct!\n"
     ]
    },
    {
     "name": "stdout",
     "output_type": "stream",
     "text": [
      "ERROR:tensorflow:Can add more nodes!\n"
     ]
    },
    {
     "name": "stderr",
     "output_type": "stream",
     "text": [
      "ERROR:tensorflow:Can add more nodes!\n",
      "DEBUG:root:Checking community result is correct...\n"
     ]
    },
    {
     "name": "stdout",
     "output_type": "stream",
     "text": [
      "ERROR:tensorflow:Calculated mis is not correct!\n"
     ]
    },
    {
     "name": "stderr",
     "output_type": "stream",
     "text": [
      "ERROR:tensorflow:Calculated mis is not correct!\n"
     ]
    },
    {
     "name": "stdout",
     "output_type": "stream",
     "text": [
      "ERROR:tensorflow:Can add more nodes!\n"
     ]
    },
    {
     "name": "stderr",
     "output_type": "stream",
     "text": [
      "ERROR:tensorflow:Can add more nodes!\n",
      "DEBUG:root:Total nodes in MIS=set()\n"
     ]
    },
    {
     "name": "stdout",
     "output_type": "stream",
     "text": [
      "ERROR:tensorflow:Calculated mis is not correct!\n"
     ]
    },
    {
     "name": "stderr",
     "output_type": "stream",
     "text": [
      "ERROR:tensorflow:Calculated mis is not correct!\n"
     ]
    },
    {
     "name": "stdout",
     "output_type": "stream",
     "text": [
      "ERROR:tensorflow:Can add more nodes!\n"
     ]
    },
    {
     "name": "stderr",
     "output_type": "stream",
     "text": [
      "ERROR:tensorflow:Can add more nodes!\n",
      "INFO:root:Total MIS length found = 0\n",
      "DEBUG:root:\n",
      "INFO:root:Processing graph 15...\n",
      "DEBUG:root:Calculating G with nodes = 200 edges = 9900\n",
      "DEBUG:root:Build network on graph G:Graph with 200 nodes and 9900 edges.\n",
      "DEBUG:root:Solver stuck\n",
      "DEBUG:root:dNN solution is not correct\n",
      "DEBUG:root:Can add more nodes to IS\n",
      "DEBUG:root:Total epochs = 134\n",
      "DEBUG:root:dNN solution lenghth = 0\n",
      "DEBUG:root:MIS length = 0\n"
     ]
    },
    {
     "name": "stdout",
     "output_type": "stream",
     "text": [
      "ERROR:tensorflow:Calculated mis is not correct!\n"
     ]
    },
    {
     "name": "stderr",
     "output_type": "stream",
     "text": [
      "ERROR:tensorflow:Calculated mis is not correct!\n"
     ]
    },
    {
     "name": "stdout",
     "output_type": "stream",
     "text": [
      "ERROR:tensorflow:Can add more nodes!\n"
     ]
    },
    {
     "name": "stderr",
     "output_type": "stream",
     "text": [
      "ERROR:tensorflow:Can add more nodes!\n",
      "DEBUG:root:Checking community result is correct...\n"
     ]
    },
    {
     "name": "stdout",
     "output_type": "stream",
     "text": [
      "ERROR:tensorflow:Calculated mis is not correct!\n"
     ]
    },
    {
     "name": "stderr",
     "output_type": "stream",
     "text": [
      "ERROR:tensorflow:Calculated mis is not correct!\n"
     ]
    },
    {
     "name": "stdout",
     "output_type": "stream",
     "text": [
      "ERROR:tensorflow:Can add more nodes!\n"
     ]
    },
    {
     "name": "stderr",
     "output_type": "stream",
     "text": [
      "ERROR:tensorflow:Can add more nodes!\n",
      "DEBUG:root:Total nodes in MIS=set()\n"
     ]
    },
    {
     "name": "stdout",
     "output_type": "stream",
     "text": [
      "ERROR:tensorflow:Calculated mis is not correct!\n"
     ]
    },
    {
     "name": "stderr",
     "output_type": "stream",
     "text": [
      "ERROR:tensorflow:Calculated mis is not correct!\n"
     ]
    },
    {
     "name": "stdout",
     "output_type": "stream",
     "text": [
      "ERROR:tensorflow:Can add more nodes!\n"
     ]
    },
    {
     "name": "stderr",
     "output_type": "stream",
     "text": [
      "ERROR:tensorflow:Can add more nodes!\n",
      "INFO:root:Total MIS length found = 0\n",
      "DEBUG:root:\n",
      "INFO:root:Processing graph 16...\n",
      "DEBUG:root:Calculating G with nodes = 200 edges = 9900\n",
      "DEBUG:root:Build network on graph G:Graph with 200 nodes and 9900 edges.\n",
      "DEBUG:root:Solver stuck\n",
      "DEBUG:root:dNN solution is not correct\n",
      "DEBUG:root:Can add more nodes to IS\n",
      "DEBUG:root:Total epochs = 140\n",
      "DEBUG:root:dNN solution lenghth = 0\n",
      "DEBUG:root:MIS length = 0\n"
     ]
    },
    {
     "name": "stdout",
     "output_type": "stream",
     "text": [
      "ERROR:tensorflow:Calculated mis is not correct!\n"
     ]
    },
    {
     "name": "stderr",
     "output_type": "stream",
     "text": [
      "ERROR:tensorflow:Calculated mis is not correct!\n"
     ]
    },
    {
     "name": "stdout",
     "output_type": "stream",
     "text": [
      "ERROR:tensorflow:Can add more nodes!\n"
     ]
    },
    {
     "name": "stderr",
     "output_type": "stream",
     "text": [
      "ERROR:tensorflow:Can add more nodes!\n",
      "DEBUG:root:Checking community result is correct...\n"
     ]
    },
    {
     "name": "stdout",
     "output_type": "stream",
     "text": [
      "ERROR:tensorflow:Calculated mis is not correct!\n"
     ]
    },
    {
     "name": "stderr",
     "output_type": "stream",
     "text": [
      "ERROR:tensorflow:Calculated mis is not correct!\n"
     ]
    },
    {
     "name": "stdout",
     "output_type": "stream",
     "text": [
      "ERROR:tensorflow:Can add more nodes!\n"
     ]
    },
    {
     "name": "stderr",
     "output_type": "stream",
     "text": [
      "ERROR:tensorflow:Can add more nodes!\n",
      "DEBUG:root:Total nodes in MIS=set()\n"
     ]
    },
    {
     "name": "stdout",
     "output_type": "stream",
     "text": [
      "ERROR:tensorflow:Calculated mis is not correct!\n"
     ]
    },
    {
     "name": "stderr",
     "output_type": "stream",
     "text": [
      "ERROR:tensorflow:Calculated mis is not correct!\n"
     ]
    },
    {
     "name": "stdout",
     "output_type": "stream",
     "text": [
      "ERROR:tensorflow:Can add more nodes!\n"
     ]
    },
    {
     "name": "stderr",
     "output_type": "stream",
     "text": [
      "ERROR:tensorflow:Can add more nodes!\n",
      "INFO:root:Total MIS length found = 0\n",
      "DEBUG:root:\n",
      "INFO:root:Processing graph 17...\n",
      "DEBUG:root:Calculating G with nodes = 200 edges = 9900\n",
      "DEBUG:root:Build network on graph G:Graph with 200 nodes and 9900 edges.\n",
      "DEBUG:root:Optimal solution found. Cardinality = 90\n",
      "DEBUG:root:dNN solution is correct\n",
      "DEBUG:root:Total epochs = 1\n",
      "DEBUG:root:dNN solution lenghth = 90\n",
      "DEBUG:root:MIS length = 90\n",
      "DEBUG:root:Checking community result is correct...\n",
      "DEBUG:root:Total nodes in MIS={1, 2, 3, 4, 5, 6, 7, 8, 9, 10, 11, 12, 13, 14, 15, 16, 17, 18, 19, 20, 21, 22, 23, 24, 25, 26, 27, 28, 29, 30, 31, 32, 33, 34, 35, 36, 37, 38, 39, 40, 41, 42, 43, 44, 45, 46, 47, 48, 49, 50, 51, 52, 53, 54, 55, 56, 57, 58, 59, 60, 61, 62, 63, 64, 65, 66, 67, 68, 69, 70, 71, 72, 73, 74, 75, 76, 77, 78, 79, 80, 81, 82, 83, 84, 85, 86, 87, 88, 89, 90}\n",
      "INFO:root:Total MIS length found = 90\n",
      "DEBUG:root:\n",
      "INFO:root:Processing graph 18...\n",
      "DEBUG:root:Calculating G with nodes = 200 edges = 9900\n",
      "DEBUG:root:Build network on graph G:Graph with 200 nodes and 9900 edges.\n",
      "DEBUG:root:Solver stuck\n",
      "DEBUG:root:dNN solution is not correct\n",
      "DEBUG:root:Can add more nodes to IS\n",
      "DEBUG:root:Total epochs = 142\n",
      "DEBUG:root:dNN solution lenghth = 0\n",
      "DEBUG:root:MIS length = 0\n"
     ]
    },
    {
     "name": "stdout",
     "output_type": "stream",
     "text": [
      "ERROR:tensorflow:Calculated mis is not correct!\n"
     ]
    },
    {
     "name": "stderr",
     "output_type": "stream",
     "text": [
      "ERROR:tensorflow:Calculated mis is not correct!\n"
     ]
    },
    {
     "name": "stdout",
     "output_type": "stream",
     "text": [
      "ERROR:tensorflow:Can add more nodes!\n"
     ]
    },
    {
     "name": "stderr",
     "output_type": "stream",
     "text": [
      "ERROR:tensorflow:Can add more nodes!\n",
      "DEBUG:root:Checking community result is correct...\n"
     ]
    },
    {
     "name": "stdout",
     "output_type": "stream",
     "text": [
      "ERROR:tensorflow:Calculated mis is not correct!\n"
     ]
    },
    {
     "name": "stderr",
     "output_type": "stream",
     "text": [
      "ERROR:tensorflow:Calculated mis is not correct!\n"
     ]
    },
    {
     "name": "stdout",
     "output_type": "stream",
     "text": [
      "ERROR:tensorflow:Can add more nodes!\n"
     ]
    },
    {
     "name": "stderr",
     "output_type": "stream",
     "text": [
      "ERROR:tensorflow:Can add more nodes!\n",
      "DEBUG:root:Total nodes in MIS=set()\n"
     ]
    },
    {
     "name": "stdout",
     "output_type": "stream",
     "text": [
      "ERROR:tensorflow:Calculated mis is not correct!\n"
     ]
    },
    {
     "name": "stderr",
     "output_type": "stream",
     "text": [
      "ERROR:tensorflow:Calculated mis is not correct!\n"
     ]
    },
    {
     "name": "stdout",
     "output_type": "stream",
     "text": [
      "ERROR:tensorflow:Can add more nodes!\n"
     ]
    },
    {
     "name": "stderr",
     "output_type": "stream",
     "text": [
      "ERROR:tensorflow:Can add more nodes!\n",
      "INFO:root:Total MIS length found = 0\n",
      "DEBUG:root:\n",
      "INFO:root:Processing graph 19...\n",
      "DEBUG:root:Calculating G with nodes = 200 edges = 9900\n",
      "DEBUG:root:Build network on graph G:Graph with 200 nodes and 9900 edges.\n",
      "DEBUG:root:Optimal solution found. Cardinality = 90\n",
      "DEBUG:root:dNN solution is correct\n",
      "DEBUG:root:Total epochs = 1\n",
      "DEBUG:root:dNN solution lenghth = 90\n",
      "DEBUG:root:MIS length = 90\n",
      "DEBUG:root:Checking community result is correct...\n",
      "DEBUG:root:Total nodes in MIS={1, 2, 3, 4, 5, 6, 7, 8, 9, 10, 11, 12, 13, 14, 15, 16, 17, 18, 19, 20, 21, 22, 23, 24, 25, 26, 27, 28, 29, 30, 31, 32, 33, 34, 35, 36, 37, 38, 39, 40, 41, 42, 43, 44, 45, 46, 47, 48, 49, 50, 51, 52, 53, 54, 55, 56, 57, 58, 59, 60, 61, 62, 63, 64, 65, 66, 67, 68, 69, 70, 71, 72, 73, 74, 75, 76, 77, 78, 79, 80, 81, 82, 83, 84, 85, 86, 87, 88, 89, 90}\n",
      "INFO:root:Total MIS length found = 90\n",
      "DEBUG:root:\n"
     ]
    },
    {
     "name": "stdout",
     "output_type": "stream",
     "text": [
      "Average edges count = 9950.0\n",
      "Average dNN result = 59.0\n"
     ]
    }
   ],
   "source": [
    "test_network_on_graphs(networks)"
   ]
  },
  {
   "cell_type": "code",
   "execution_count": 228,
   "id": "08d74ee1",
   "metadata": {},
   "outputs": [],
   "source": [
    "networks = build_n_graphs(10, lambda: nx.powerlaw_cluster_graph(100,30,0.5))"
   ]
  },
  {
   "cell_type": "code",
   "execution_count": 229,
   "id": "03d44be4",
   "metadata": {},
   "outputs": [
    {
     "name": "stderr",
     "output_type": "stream",
     "text": [
      "INFO:root:Processing graph 0...\n",
      "DEBUG:root:Calculating G with nodes = 100 edges = 2019\n",
      "DEBUG:root:Build network on graph G:Graph with 100 nodes and 2019 edges.\n",
      "DEBUG:root:Solver stuck\n",
      "DEBUG:root:dNN solution is not correct\n",
      "DEBUG:root:Can add more nodes to IS\n",
      "DEBUG:root:Total epochs = 149\n",
      "DEBUG:root:dNN solution lenghth = 0\n",
      "DEBUG:root:MIS length = 0\n"
     ]
    },
    {
     "name": "stdout",
     "output_type": "stream",
     "text": [
      "ERROR:tensorflow:Calculated mis is not correct!\n"
     ]
    },
    {
     "name": "stderr",
     "output_type": "stream",
     "text": [
      "ERROR:tensorflow:Calculated mis is not correct!\n"
     ]
    },
    {
     "name": "stdout",
     "output_type": "stream",
     "text": [
      "ERROR:tensorflow:Can add more nodes!\n"
     ]
    },
    {
     "name": "stderr",
     "output_type": "stream",
     "text": [
      "ERROR:tensorflow:Can add more nodes!\n",
      "DEBUG:root:Checking community result is correct...\n"
     ]
    },
    {
     "name": "stdout",
     "output_type": "stream",
     "text": [
      "ERROR:tensorflow:Calculated mis is not correct!\n"
     ]
    },
    {
     "name": "stderr",
     "output_type": "stream",
     "text": [
      "ERROR:tensorflow:Calculated mis is not correct!\n"
     ]
    },
    {
     "name": "stdout",
     "output_type": "stream",
     "text": [
      "ERROR:tensorflow:Can add more nodes!\n"
     ]
    },
    {
     "name": "stderr",
     "output_type": "stream",
     "text": [
      "ERROR:tensorflow:Can add more nodes!\n",
      "DEBUG:root:Total nodes in MIS=set()\n"
     ]
    },
    {
     "name": "stdout",
     "output_type": "stream",
     "text": [
      "ERROR:tensorflow:Calculated mis is not correct!\n"
     ]
    },
    {
     "name": "stderr",
     "output_type": "stream",
     "text": [
      "ERROR:tensorflow:Calculated mis is not correct!\n"
     ]
    },
    {
     "name": "stdout",
     "output_type": "stream",
     "text": [
      "ERROR:tensorflow:Can add more nodes!\n"
     ]
    },
    {
     "name": "stderr",
     "output_type": "stream",
     "text": [
      "ERROR:tensorflow:Can add more nodes!\n",
      "INFO:root:Total MIS length found = 0\n",
      "DEBUG:root:\n",
      "INFO:root:Processing graph 1...\n",
      "DEBUG:root:Calculating G with nodes = 100 edges = 1993\n",
      "DEBUG:root:Build network on graph G:Graph with 100 nodes and 1993 edges.\n",
      "DEBUG:root:Solver stuck\n",
      "DEBUG:root:dNN solution is not correct\n",
      "DEBUG:root:Can add more nodes to IS\n",
      "DEBUG:root:Total epochs = 155\n",
      "DEBUG:root:dNN solution lenghth = 0\n",
      "DEBUG:root:MIS length = 0\n"
     ]
    },
    {
     "name": "stdout",
     "output_type": "stream",
     "text": [
      "ERROR:tensorflow:Calculated mis is not correct!\n"
     ]
    },
    {
     "name": "stderr",
     "output_type": "stream",
     "text": [
      "ERROR:tensorflow:Calculated mis is not correct!\n"
     ]
    },
    {
     "name": "stdout",
     "output_type": "stream",
     "text": [
      "ERROR:tensorflow:Can add more nodes!\n"
     ]
    },
    {
     "name": "stderr",
     "output_type": "stream",
     "text": [
      "ERROR:tensorflow:Can add more nodes!\n",
      "DEBUG:root:Checking community result is correct...\n"
     ]
    },
    {
     "name": "stdout",
     "output_type": "stream",
     "text": [
      "ERROR:tensorflow:Calculated mis is not correct!\n"
     ]
    },
    {
     "name": "stderr",
     "output_type": "stream",
     "text": [
      "ERROR:tensorflow:Calculated mis is not correct!\n"
     ]
    },
    {
     "name": "stdout",
     "output_type": "stream",
     "text": [
      "ERROR:tensorflow:Can add more nodes!\n"
     ]
    },
    {
     "name": "stderr",
     "output_type": "stream",
     "text": [
      "ERROR:tensorflow:Can add more nodes!\n",
      "DEBUG:root:Total nodes in MIS=set()\n"
     ]
    },
    {
     "name": "stdout",
     "output_type": "stream",
     "text": [
      "ERROR:tensorflow:Calculated mis is not correct!\n"
     ]
    },
    {
     "name": "stderr",
     "output_type": "stream",
     "text": [
      "ERROR:tensorflow:Calculated mis is not correct!\n"
     ]
    },
    {
     "name": "stdout",
     "output_type": "stream",
     "text": [
      "ERROR:tensorflow:Can add more nodes!\n"
     ]
    },
    {
     "name": "stderr",
     "output_type": "stream",
     "text": [
      "ERROR:tensorflow:Can add more nodes!\n",
      "INFO:root:Total MIS length found = 0\n",
      "DEBUG:root:\n",
      "INFO:root:Processing graph 2...\n",
      "DEBUG:root:Calculating G with nodes = 100 edges = 2022\n",
      "DEBUG:root:Build network on graph G:Graph with 100 nodes and 2022 edges.\n",
      "DEBUG:root:Solver stuck\n",
      "DEBUG:root:dNN solution is not correct\n",
      "DEBUG:root:Can add more nodes to IS\n",
      "DEBUG:root:Total epochs = 154\n",
      "DEBUG:root:dNN solution lenghth = 0\n",
      "DEBUG:root:MIS length = 0\n"
     ]
    },
    {
     "name": "stdout",
     "output_type": "stream",
     "text": [
      "ERROR:tensorflow:Calculated mis is not correct!\n"
     ]
    },
    {
     "name": "stderr",
     "output_type": "stream",
     "text": [
      "ERROR:tensorflow:Calculated mis is not correct!\n"
     ]
    },
    {
     "name": "stdout",
     "output_type": "stream",
     "text": [
      "ERROR:tensorflow:Can add more nodes!\n"
     ]
    },
    {
     "name": "stderr",
     "output_type": "stream",
     "text": [
      "ERROR:tensorflow:Can add more nodes!\n",
      "DEBUG:root:Checking community result is correct...\n"
     ]
    },
    {
     "name": "stdout",
     "output_type": "stream",
     "text": [
      "ERROR:tensorflow:Calculated mis is not correct!\n"
     ]
    },
    {
     "name": "stderr",
     "output_type": "stream",
     "text": [
      "ERROR:tensorflow:Calculated mis is not correct!\n"
     ]
    },
    {
     "name": "stdout",
     "output_type": "stream",
     "text": [
      "ERROR:tensorflow:Can add more nodes!\n"
     ]
    },
    {
     "name": "stderr",
     "output_type": "stream",
     "text": [
      "ERROR:tensorflow:Can add more nodes!\n",
      "DEBUG:root:Total nodes in MIS=set()\n"
     ]
    },
    {
     "name": "stdout",
     "output_type": "stream",
     "text": [
      "ERROR:tensorflow:Calculated mis is not correct!\n"
     ]
    },
    {
     "name": "stderr",
     "output_type": "stream",
     "text": [
      "ERROR:tensorflow:Calculated mis is not correct!\n"
     ]
    },
    {
     "name": "stdout",
     "output_type": "stream",
     "text": [
      "ERROR:tensorflow:Can add more nodes!\n"
     ]
    },
    {
     "name": "stderr",
     "output_type": "stream",
     "text": [
      "ERROR:tensorflow:Can add more nodes!\n",
      "INFO:root:Total MIS length found = 0\n",
      "DEBUG:root:\n",
      "INFO:root:Processing graph 3...\n",
      "DEBUG:root:Calculating G with nodes = 100 edges = 2035\n",
      "DEBUG:root:Build network on graph G:Graph with 100 nodes and 2035 edges.\n",
      "DEBUG:root:Solver stuck\n",
      "DEBUG:root:dNN solution is not correct\n",
      "DEBUG:root:Can add more nodes to IS\n",
      "DEBUG:root:Total epochs = 158\n",
      "DEBUG:root:dNN solution lenghth = 0\n",
      "DEBUG:root:MIS length = 0\n"
     ]
    },
    {
     "name": "stdout",
     "output_type": "stream",
     "text": [
      "ERROR:tensorflow:Calculated mis is not correct!\n"
     ]
    },
    {
     "name": "stderr",
     "output_type": "stream",
     "text": [
      "ERROR:tensorflow:Calculated mis is not correct!\n"
     ]
    },
    {
     "name": "stdout",
     "output_type": "stream",
     "text": [
      "ERROR:tensorflow:Can add more nodes!\n"
     ]
    },
    {
     "name": "stderr",
     "output_type": "stream",
     "text": [
      "ERROR:tensorflow:Can add more nodes!\n",
      "DEBUG:root:Checking community result is correct...\n"
     ]
    },
    {
     "name": "stdout",
     "output_type": "stream",
     "text": [
      "ERROR:tensorflow:Calculated mis is not correct!\n"
     ]
    },
    {
     "name": "stderr",
     "output_type": "stream",
     "text": [
      "ERROR:tensorflow:Calculated mis is not correct!\n"
     ]
    },
    {
     "name": "stdout",
     "output_type": "stream",
     "text": [
      "ERROR:tensorflow:Can add more nodes!\n"
     ]
    },
    {
     "name": "stderr",
     "output_type": "stream",
     "text": [
      "ERROR:tensorflow:Can add more nodes!\n",
      "DEBUG:root:Total nodes in MIS=set()\n"
     ]
    },
    {
     "name": "stdout",
     "output_type": "stream",
     "text": [
      "ERROR:tensorflow:Calculated mis is not correct!\n"
     ]
    },
    {
     "name": "stderr",
     "output_type": "stream",
     "text": [
      "ERROR:tensorflow:Calculated mis is not correct!\n"
     ]
    },
    {
     "name": "stdout",
     "output_type": "stream",
     "text": [
      "ERROR:tensorflow:Can add more nodes!\n"
     ]
    },
    {
     "name": "stderr",
     "output_type": "stream",
     "text": [
      "ERROR:tensorflow:Can add more nodes!\n",
      "INFO:root:Total MIS length found = 0\n",
      "DEBUG:root:\n",
      "INFO:root:Processing graph 4...\n",
      "DEBUG:root:Calculating G with nodes = 100 edges = 2006\n",
      "DEBUG:root:Build network on graph G:Graph with 100 nodes and 2006 edges.\n",
      "DEBUG:root:Solver stuck\n",
      "DEBUG:root:dNN solution is not correct\n",
      "DEBUG:root:Can add more nodes to IS\n",
      "DEBUG:root:Total epochs = 155\n",
      "DEBUG:root:dNN solution lenghth = 0\n",
      "DEBUG:root:MIS length = 0\n"
     ]
    },
    {
     "name": "stdout",
     "output_type": "stream",
     "text": [
      "ERROR:tensorflow:Calculated mis is not correct!\n"
     ]
    },
    {
     "name": "stderr",
     "output_type": "stream",
     "text": [
      "ERROR:tensorflow:Calculated mis is not correct!\n"
     ]
    },
    {
     "name": "stdout",
     "output_type": "stream",
     "text": [
      "ERROR:tensorflow:Can add more nodes!\n"
     ]
    },
    {
     "name": "stderr",
     "output_type": "stream",
     "text": [
      "ERROR:tensorflow:Can add more nodes!\n",
      "DEBUG:root:Checking community result is correct...\n"
     ]
    },
    {
     "name": "stdout",
     "output_type": "stream",
     "text": [
      "ERROR:tensorflow:Calculated mis is not correct!\n"
     ]
    },
    {
     "name": "stderr",
     "output_type": "stream",
     "text": [
      "ERROR:tensorflow:Calculated mis is not correct!\n"
     ]
    },
    {
     "name": "stdout",
     "output_type": "stream",
     "text": [
      "ERROR:tensorflow:Can add more nodes!\n"
     ]
    },
    {
     "name": "stderr",
     "output_type": "stream",
     "text": [
      "ERROR:tensorflow:Can add more nodes!\n",
      "DEBUG:root:Total nodes in MIS=set()\n"
     ]
    },
    {
     "name": "stdout",
     "output_type": "stream",
     "text": [
      "ERROR:tensorflow:Calculated mis is not correct!\n"
     ]
    },
    {
     "name": "stderr",
     "output_type": "stream",
     "text": [
      "ERROR:tensorflow:Calculated mis is not correct!\n"
     ]
    },
    {
     "name": "stdout",
     "output_type": "stream",
     "text": [
      "ERROR:tensorflow:Can add more nodes!\n"
     ]
    },
    {
     "name": "stderr",
     "output_type": "stream",
     "text": [
      "ERROR:tensorflow:Can add more nodes!\n",
      "INFO:root:Total MIS length found = 0\n",
      "DEBUG:root:\n",
      "INFO:root:Processing graph 5...\n",
      "DEBUG:root:Calculating G with nodes = 100 edges = 2031\n",
      "DEBUG:root:Build network on graph G:Graph with 100 nodes and 2031 edges.\n",
      "DEBUG:root:Solver stuck\n",
      "DEBUG:root:dNN solution is not correct\n",
      "DEBUG:root:Can add more nodes to IS\n",
      "DEBUG:root:Total epochs = 149\n",
      "DEBUG:root:dNN solution lenghth = 0\n",
      "DEBUG:root:MIS length = 0\n"
     ]
    },
    {
     "name": "stdout",
     "output_type": "stream",
     "text": [
      "ERROR:tensorflow:Calculated mis is not correct!\n"
     ]
    },
    {
     "name": "stderr",
     "output_type": "stream",
     "text": [
      "ERROR:tensorflow:Calculated mis is not correct!\n"
     ]
    },
    {
     "name": "stdout",
     "output_type": "stream",
     "text": [
      "ERROR:tensorflow:Can add more nodes!\n"
     ]
    },
    {
     "name": "stderr",
     "output_type": "stream",
     "text": [
      "ERROR:tensorflow:Can add more nodes!\n",
      "DEBUG:root:Checking community result is correct...\n"
     ]
    },
    {
     "name": "stdout",
     "output_type": "stream",
     "text": [
      "ERROR:tensorflow:Calculated mis is not correct!\n"
     ]
    },
    {
     "name": "stderr",
     "output_type": "stream",
     "text": [
      "ERROR:tensorflow:Calculated mis is not correct!\n"
     ]
    },
    {
     "name": "stdout",
     "output_type": "stream",
     "text": [
      "ERROR:tensorflow:Can add more nodes!\n"
     ]
    },
    {
     "name": "stderr",
     "output_type": "stream",
     "text": [
      "ERROR:tensorflow:Can add more nodes!\n",
      "DEBUG:root:Total nodes in MIS=set()\n"
     ]
    },
    {
     "name": "stdout",
     "output_type": "stream",
     "text": [
      "ERROR:tensorflow:Calculated mis is not correct!\n"
     ]
    },
    {
     "name": "stderr",
     "output_type": "stream",
     "text": [
      "ERROR:tensorflow:Calculated mis is not correct!\n"
     ]
    },
    {
     "name": "stdout",
     "output_type": "stream",
     "text": [
      "ERROR:tensorflow:Can add more nodes!\n"
     ]
    },
    {
     "name": "stderr",
     "output_type": "stream",
     "text": [
      "ERROR:tensorflow:Can add more nodes!\n",
      "INFO:root:Total MIS length found = 0\n",
      "DEBUG:root:\n",
      "INFO:root:Processing graph 6...\n",
      "DEBUG:root:Calculating G with nodes = 100 edges = 2011\n",
      "DEBUG:root:Build network on graph G:Graph with 100 nodes and 2011 edges.\n",
      "DEBUG:root:Solver stuck\n",
      "DEBUG:root:dNN solution is not correct\n",
      "DEBUG:root:Can add more nodes to IS\n",
      "DEBUG:root:Total epochs = 146\n",
      "DEBUG:root:dNN solution lenghth = 0\n",
      "DEBUG:root:MIS length = 0\n"
     ]
    },
    {
     "name": "stdout",
     "output_type": "stream",
     "text": [
      "ERROR:tensorflow:Calculated mis is not correct!\n"
     ]
    },
    {
     "name": "stderr",
     "output_type": "stream",
     "text": [
      "ERROR:tensorflow:Calculated mis is not correct!\n"
     ]
    },
    {
     "name": "stdout",
     "output_type": "stream",
     "text": [
      "ERROR:tensorflow:Can add more nodes!\n"
     ]
    },
    {
     "name": "stderr",
     "output_type": "stream",
     "text": [
      "ERROR:tensorflow:Can add more nodes!\n",
      "DEBUG:root:Checking community result is correct...\n"
     ]
    },
    {
     "name": "stdout",
     "output_type": "stream",
     "text": [
      "ERROR:tensorflow:Calculated mis is not correct!\n"
     ]
    },
    {
     "name": "stderr",
     "output_type": "stream",
     "text": [
      "ERROR:tensorflow:Calculated mis is not correct!\n"
     ]
    },
    {
     "name": "stdout",
     "output_type": "stream",
     "text": [
      "ERROR:tensorflow:Can add more nodes!\n"
     ]
    },
    {
     "name": "stderr",
     "output_type": "stream",
     "text": [
      "ERROR:tensorflow:Can add more nodes!\n",
      "DEBUG:root:Total nodes in MIS=set()\n"
     ]
    },
    {
     "name": "stdout",
     "output_type": "stream",
     "text": [
      "ERROR:tensorflow:Calculated mis is not correct!\n"
     ]
    },
    {
     "name": "stderr",
     "output_type": "stream",
     "text": [
      "ERROR:tensorflow:Calculated mis is not correct!\n"
     ]
    },
    {
     "name": "stdout",
     "output_type": "stream",
     "text": [
      "ERROR:tensorflow:Can add more nodes!\n"
     ]
    },
    {
     "name": "stderr",
     "output_type": "stream",
     "text": [
      "ERROR:tensorflow:Can add more nodes!\n",
      "INFO:root:Total MIS length found = 0\n",
      "DEBUG:root:\n",
      "INFO:root:Processing graph 7...\n",
      "DEBUG:root:Calculating G with nodes = 100 edges = 2028\n",
      "DEBUG:root:Build network on graph G:Graph with 100 nodes and 2028 edges.\n",
      "DEBUG:root:Solver stuck\n",
      "DEBUG:root:dNN solution is not correct\n",
      "DEBUG:root:Can add more nodes to IS\n",
      "DEBUG:root:Total epochs = 151\n",
      "DEBUG:root:dNN solution lenghth = 0\n",
      "DEBUG:root:MIS length = 0\n"
     ]
    },
    {
     "name": "stdout",
     "output_type": "stream",
     "text": [
      "ERROR:tensorflow:Calculated mis is not correct!\n"
     ]
    },
    {
     "name": "stderr",
     "output_type": "stream",
     "text": [
      "ERROR:tensorflow:Calculated mis is not correct!\n"
     ]
    },
    {
     "name": "stdout",
     "output_type": "stream",
     "text": [
      "ERROR:tensorflow:Can add more nodes!\n"
     ]
    },
    {
     "name": "stderr",
     "output_type": "stream",
     "text": [
      "ERROR:tensorflow:Can add more nodes!\n",
      "DEBUG:root:Checking community result is correct...\n"
     ]
    },
    {
     "name": "stdout",
     "output_type": "stream",
     "text": [
      "ERROR:tensorflow:Calculated mis is not correct!\n"
     ]
    },
    {
     "name": "stderr",
     "output_type": "stream",
     "text": [
      "ERROR:tensorflow:Calculated mis is not correct!\n"
     ]
    },
    {
     "name": "stdout",
     "output_type": "stream",
     "text": [
      "ERROR:tensorflow:Can add more nodes!\n"
     ]
    },
    {
     "name": "stderr",
     "output_type": "stream",
     "text": [
      "ERROR:tensorflow:Can add more nodes!\n",
      "DEBUG:root:Total nodes in MIS=set()\n"
     ]
    },
    {
     "name": "stdout",
     "output_type": "stream",
     "text": [
      "ERROR:tensorflow:Calculated mis is not correct!\n"
     ]
    },
    {
     "name": "stderr",
     "output_type": "stream",
     "text": [
      "ERROR:tensorflow:Calculated mis is not correct!\n"
     ]
    },
    {
     "name": "stdout",
     "output_type": "stream",
     "text": [
      "ERROR:tensorflow:Can add more nodes!\n"
     ]
    },
    {
     "name": "stderr",
     "output_type": "stream",
     "text": [
      "ERROR:tensorflow:Can add more nodes!\n",
      "INFO:root:Total MIS length found = 0\n",
      "DEBUG:root:\n",
      "INFO:root:Processing graph 8...\n",
      "DEBUG:root:Calculating G with nodes = 100 edges = 2012\n",
      "DEBUG:root:Build network on graph G:Graph with 100 nodes and 2012 edges.\n",
      "DEBUG:root:Solver stuck\n",
      "DEBUG:root:dNN solution is not correct\n",
      "DEBUG:root:Can add more nodes to IS\n",
      "DEBUG:root:Total epochs = 142\n",
      "DEBUG:root:dNN solution lenghth = 0\n",
      "DEBUG:root:MIS length = 0\n"
     ]
    },
    {
     "name": "stdout",
     "output_type": "stream",
     "text": [
      "ERROR:tensorflow:Calculated mis is not correct!\n"
     ]
    },
    {
     "name": "stderr",
     "output_type": "stream",
     "text": [
      "ERROR:tensorflow:Calculated mis is not correct!\n"
     ]
    },
    {
     "name": "stdout",
     "output_type": "stream",
     "text": [
      "ERROR:tensorflow:Can add more nodes!\n"
     ]
    },
    {
     "name": "stderr",
     "output_type": "stream",
     "text": [
      "ERROR:tensorflow:Can add more nodes!\n",
      "DEBUG:root:Checking community result is correct...\n"
     ]
    },
    {
     "name": "stdout",
     "output_type": "stream",
     "text": [
      "ERROR:tensorflow:Calculated mis is not correct!\n"
     ]
    },
    {
     "name": "stderr",
     "output_type": "stream",
     "text": [
      "ERROR:tensorflow:Calculated mis is not correct!\n"
     ]
    },
    {
     "name": "stdout",
     "output_type": "stream",
     "text": [
      "ERROR:tensorflow:Can add more nodes!\n"
     ]
    },
    {
     "name": "stderr",
     "output_type": "stream",
     "text": [
      "ERROR:tensorflow:Can add more nodes!\n",
      "DEBUG:root:Total nodes in MIS=set()\n"
     ]
    },
    {
     "name": "stdout",
     "output_type": "stream",
     "text": [
      "ERROR:tensorflow:Calculated mis is not correct!\n"
     ]
    },
    {
     "name": "stderr",
     "output_type": "stream",
     "text": [
      "ERROR:tensorflow:Calculated mis is not correct!\n"
     ]
    },
    {
     "name": "stdout",
     "output_type": "stream",
     "text": [
      "ERROR:tensorflow:Can add more nodes!\n"
     ]
    },
    {
     "name": "stderr",
     "output_type": "stream",
     "text": [
      "ERROR:tensorflow:Can add more nodes!\n",
      "INFO:root:Total MIS length found = 0\n",
      "DEBUG:root:\n",
      "INFO:root:Processing graph 9...\n",
      "DEBUG:root:Calculating G with nodes = 100 edges = 2015\n",
      "DEBUG:root:Build network on graph G:Graph with 100 nodes and 2015 edges.\n",
      "DEBUG:root:Solver stuck\n",
      "DEBUG:root:dNN solution is not correct\n",
      "DEBUG:root:Can add more nodes to IS\n",
      "DEBUG:root:Total epochs = 147\n",
      "DEBUG:root:dNN solution lenghth = 0\n",
      "DEBUG:root:MIS length = 0\n"
     ]
    },
    {
     "name": "stdout",
     "output_type": "stream",
     "text": [
      "ERROR:tensorflow:Calculated mis is not correct!\n"
     ]
    },
    {
     "name": "stderr",
     "output_type": "stream",
     "text": [
      "ERROR:tensorflow:Calculated mis is not correct!\n"
     ]
    },
    {
     "name": "stdout",
     "output_type": "stream",
     "text": [
      "ERROR:tensorflow:Can add more nodes!\n"
     ]
    },
    {
     "name": "stderr",
     "output_type": "stream",
     "text": [
      "ERROR:tensorflow:Can add more nodes!\n",
      "DEBUG:root:Checking community result is correct...\n"
     ]
    },
    {
     "name": "stdout",
     "output_type": "stream",
     "text": [
      "ERROR:tensorflow:Calculated mis is not correct!\n"
     ]
    },
    {
     "name": "stderr",
     "output_type": "stream",
     "text": [
      "ERROR:tensorflow:Calculated mis is not correct!\n"
     ]
    },
    {
     "name": "stdout",
     "output_type": "stream",
     "text": [
      "ERROR:tensorflow:Can add more nodes!\n"
     ]
    },
    {
     "name": "stderr",
     "output_type": "stream",
     "text": [
      "ERROR:tensorflow:Can add more nodes!\n",
      "DEBUG:root:Total nodes in MIS=set()\n"
     ]
    },
    {
     "name": "stdout",
     "output_type": "stream",
     "text": [
      "ERROR:tensorflow:Calculated mis is not correct!\n"
     ]
    },
    {
     "name": "stderr",
     "output_type": "stream",
     "text": [
      "ERROR:tensorflow:Calculated mis is not correct!\n"
     ]
    },
    {
     "name": "stdout",
     "output_type": "stream",
     "text": [
      "ERROR:tensorflow:Can add more nodes!\n"
     ]
    },
    {
     "name": "stderr",
     "output_type": "stream",
     "text": [
      "ERROR:tensorflow:Can add more nodes!\n",
      "INFO:root:Total MIS length found = 0\n",
      "DEBUG:root:\n"
     ]
    },
    {
     "name": "stdout",
     "output_type": "stream",
     "text": [
      "Average edges count = 2017.2\n",
      "Average dNN result = 0.0\n"
     ]
    }
   ],
   "source": [
    "test_network_on_graphs(networks)"
   ]
  },
  {
   "cell_type": "code",
   "execution_count": 230,
   "id": "2bb60118",
   "metadata": {},
   "outputs": [],
   "source": [
    "networks = build_n_graphs(10, lambda: nx.powerlaw_cluster_graph(200,60,0.5))"
   ]
  },
  {
   "cell_type": "code",
   "execution_count": 231,
   "id": "d5e66cd8",
   "metadata": {},
   "outputs": [
    {
     "name": "stderr",
     "output_type": "stream",
     "text": [
      "INFO:root:Processing graph 0...\n",
      "DEBUG:root:Calculating G with nodes = 200 edges = 8137\n",
      "DEBUG:root:Build network on graph G:Graph with 200 nodes and 8137 edges.\n",
      "DEBUG:root:Solver stuck\n",
      "DEBUG:root:dNN solution is not correct\n",
      "DEBUG:root:Can add more nodes to IS\n",
      "DEBUG:root:Total epochs = 155\n",
      "DEBUG:root:dNN solution lenghth = 0\n",
      "DEBUG:root:MIS length = 0\n"
     ]
    },
    {
     "name": "stdout",
     "output_type": "stream",
     "text": [
      "ERROR:tensorflow:Calculated mis is not correct!\n"
     ]
    },
    {
     "name": "stderr",
     "output_type": "stream",
     "text": [
      "ERROR:tensorflow:Calculated mis is not correct!\n"
     ]
    },
    {
     "name": "stdout",
     "output_type": "stream",
     "text": [
      "ERROR:tensorflow:Can add more nodes!\n"
     ]
    },
    {
     "name": "stderr",
     "output_type": "stream",
     "text": [
      "ERROR:tensorflow:Can add more nodes!\n",
      "DEBUG:root:Checking community result is correct...\n"
     ]
    },
    {
     "name": "stdout",
     "output_type": "stream",
     "text": [
      "ERROR:tensorflow:Calculated mis is not correct!\n"
     ]
    },
    {
     "name": "stderr",
     "output_type": "stream",
     "text": [
      "ERROR:tensorflow:Calculated mis is not correct!\n"
     ]
    },
    {
     "name": "stdout",
     "output_type": "stream",
     "text": [
      "ERROR:tensorflow:Can add more nodes!\n"
     ]
    },
    {
     "name": "stderr",
     "output_type": "stream",
     "text": [
      "ERROR:tensorflow:Can add more nodes!\n",
      "DEBUG:root:Total nodes in MIS=set()\n"
     ]
    },
    {
     "name": "stdout",
     "output_type": "stream",
     "text": [
      "ERROR:tensorflow:Calculated mis is not correct!\n"
     ]
    },
    {
     "name": "stderr",
     "output_type": "stream",
     "text": [
      "ERROR:tensorflow:Calculated mis is not correct!\n"
     ]
    },
    {
     "name": "stdout",
     "output_type": "stream",
     "text": [
      "ERROR:tensorflow:Can add more nodes!\n"
     ]
    },
    {
     "name": "stderr",
     "output_type": "stream",
     "text": [
      "ERROR:tensorflow:Can add more nodes!\n",
      "INFO:root:Total MIS length found = 0\n",
      "DEBUG:root:\n",
      "INFO:root:Processing graph 1...\n",
      "DEBUG:root:Calculating G with nodes = 200 edges = 8096\n",
      "DEBUG:root:Build network on graph G:Graph with 200 nodes and 8096 edges.\n",
      "DEBUG:root:Solver stuck\n",
      "DEBUG:root:dNN solution is not correct\n",
      "DEBUG:root:Can add more nodes to IS\n",
      "DEBUG:root:Total epochs = 157\n",
      "DEBUG:root:dNN solution lenghth = 0\n",
      "DEBUG:root:MIS length = 0\n"
     ]
    },
    {
     "name": "stdout",
     "output_type": "stream",
     "text": [
      "ERROR:tensorflow:Calculated mis is not correct!\n"
     ]
    },
    {
     "name": "stderr",
     "output_type": "stream",
     "text": [
      "ERROR:tensorflow:Calculated mis is not correct!\n"
     ]
    },
    {
     "name": "stdout",
     "output_type": "stream",
     "text": [
      "ERROR:tensorflow:Can add more nodes!\n"
     ]
    },
    {
     "name": "stderr",
     "output_type": "stream",
     "text": [
      "ERROR:tensorflow:Can add more nodes!\n",
      "DEBUG:root:Checking community result is correct...\n"
     ]
    },
    {
     "name": "stdout",
     "output_type": "stream",
     "text": [
      "ERROR:tensorflow:Calculated mis is not correct!\n"
     ]
    },
    {
     "name": "stderr",
     "output_type": "stream",
     "text": [
      "ERROR:tensorflow:Calculated mis is not correct!\n"
     ]
    },
    {
     "name": "stdout",
     "output_type": "stream",
     "text": [
      "ERROR:tensorflow:Can add more nodes!\n"
     ]
    },
    {
     "name": "stderr",
     "output_type": "stream",
     "text": [
      "ERROR:tensorflow:Can add more nodes!\n",
      "DEBUG:root:Total nodes in MIS=set()\n"
     ]
    },
    {
     "name": "stdout",
     "output_type": "stream",
     "text": [
      "ERROR:tensorflow:Calculated mis is not correct!\n"
     ]
    },
    {
     "name": "stderr",
     "output_type": "stream",
     "text": [
      "ERROR:tensorflow:Calculated mis is not correct!\n"
     ]
    },
    {
     "name": "stdout",
     "output_type": "stream",
     "text": [
      "ERROR:tensorflow:Can add more nodes!\n"
     ]
    },
    {
     "name": "stderr",
     "output_type": "stream",
     "text": [
      "ERROR:tensorflow:Can add more nodes!\n",
      "INFO:root:Total MIS length found = 0\n",
      "DEBUG:root:\n",
      "INFO:root:Processing graph 2...\n",
      "DEBUG:root:Calculating G with nodes = 200 edges = 8096\n",
      "DEBUG:root:Build network on graph G:Graph with 200 nodes and 8096 edges.\n",
      "DEBUG:root:Solver stuck\n",
      "DEBUG:root:dNN solution is not correct\n",
      "DEBUG:root:Can add more nodes to IS\n",
      "DEBUG:root:Total epochs = 158\n",
      "DEBUG:root:dNN solution lenghth = 0\n",
      "DEBUG:root:MIS length = 0\n"
     ]
    },
    {
     "name": "stdout",
     "output_type": "stream",
     "text": [
      "ERROR:tensorflow:Calculated mis is not correct!\n"
     ]
    },
    {
     "name": "stderr",
     "output_type": "stream",
     "text": [
      "ERROR:tensorflow:Calculated mis is not correct!\n"
     ]
    },
    {
     "name": "stdout",
     "output_type": "stream",
     "text": [
      "ERROR:tensorflow:Can add more nodes!\n"
     ]
    },
    {
     "name": "stderr",
     "output_type": "stream",
     "text": [
      "ERROR:tensorflow:Can add more nodes!\n",
      "DEBUG:root:Checking community result is correct...\n"
     ]
    },
    {
     "name": "stdout",
     "output_type": "stream",
     "text": [
      "ERROR:tensorflow:Calculated mis is not correct!\n"
     ]
    },
    {
     "name": "stderr",
     "output_type": "stream",
     "text": [
      "ERROR:tensorflow:Calculated mis is not correct!\n"
     ]
    },
    {
     "name": "stdout",
     "output_type": "stream",
     "text": [
      "ERROR:tensorflow:Can add more nodes!\n"
     ]
    },
    {
     "name": "stderr",
     "output_type": "stream",
     "text": [
      "ERROR:tensorflow:Can add more nodes!\n",
      "DEBUG:root:Total nodes in MIS=set()\n"
     ]
    },
    {
     "name": "stdout",
     "output_type": "stream",
     "text": [
      "ERROR:tensorflow:Calculated mis is not correct!\n"
     ]
    },
    {
     "name": "stderr",
     "output_type": "stream",
     "text": [
      "ERROR:tensorflow:Calculated mis is not correct!\n"
     ]
    },
    {
     "name": "stdout",
     "output_type": "stream",
     "text": [
      "ERROR:tensorflow:Can add more nodes!\n"
     ]
    },
    {
     "name": "stderr",
     "output_type": "stream",
     "text": [
      "ERROR:tensorflow:Can add more nodes!\n",
      "INFO:root:Total MIS length found = 0\n",
      "DEBUG:root:\n",
      "INFO:root:Processing graph 3...\n",
      "DEBUG:root:Calculating G with nodes = 200 edges = 8088\n",
      "DEBUG:root:Build network on graph G:Graph with 200 nodes and 8088 edges.\n",
      "DEBUG:root:Solver stuck\n",
      "DEBUG:root:dNN solution is not correct\n",
      "DEBUG:root:Can add more nodes to IS\n",
      "DEBUG:root:Total epochs = 154\n",
      "DEBUG:root:dNN solution lenghth = 0\n",
      "DEBUG:root:MIS length = 0\n"
     ]
    },
    {
     "name": "stdout",
     "output_type": "stream",
     "text": [
      "ERROR:tensorflow:Calculated mis is not correct!\n"
     ]
    },
    {
     "name": "stderr",
     "output_type": "stream",
     "text": [
      "ERROR:tensorflow:Calculated mis is not correct!\n"
     ]
    },
    {
     "name": "stdout",
     "output_type": "stream",
     "text": [
      "ERROR:tensorflow:Can add more nodes!\n"
     ]
    },
    {
     "name": "stderr",
     "output_type": "stream",
     "text": [
      "ERROR:tensorflow:Can add more nodes!\n",
      "DEBUG:root:Checking community result is correct...\n"
     ]
    },
    {
     "name": "stdout",
     "output_type": "stream",
     "text": [
      "ERROR:tensorflow:Calculated mis is not correct!\n"
     ]
    },
    {
     "name": "stderr",
     "output_type": "stream",
     "text": [
      "ERROR:tensorflow:Calculated mis is not correct!\n"
     ]
    },
    {
     "name": "stdout",
     "output_type": "stream",
     "text": [
      "ERROR:tensorflow:Can add more nodes!\n"
     ]
    },
    {
     "name": "stderr",
     "output_type": "stream",
     "text": [
      "ERROR:tensorflow:Can add more nodes!\n",
      "DEBUG:root:Total nodes in MIS=set()\n"
     ]
    },
    {
     "name": "stdout",
     "output_type": "stream",
     "text": [
      "ERROR:tensorflow:Calculated mis is not correct!\n"
     ]
    },
    {
     "name": "stderr",
     "output_type": "stream",
     "text": [
      "ERROR:tensorflow:Calculated mis is not correct!\n"
     ]
    },
    {
     "name": "stdout",
     "output_type": "stream",
     "text": [
      "ERROR:tensorflow:Can add more nodes!\n"
     ]
    },
    {
     "name": "stderr",
     "output_type": "stream",
     "text": [
      "ERROR:tensorflow:Can add more nodes!\n",
      "INFO:root:Total MIS length found = 0\n",
      "DEBUG:root:\n",
      "INFO:root:Processing graph 4...\n",
      "DEBUG:root:Calculating G with nodes = 200 edges = 8076\n",
      "DEBUG:root:Build network on graph G:Graph with 200 nodes and 8076 edges.\n",
      "DEBUG:root:Solver stuck\n",
      "DEBUG:root:dNN solution is not correct\n",
      "DEBUG:root:Can add more nodes to IS\n",
      "DEBUG:root:Total epochs = 151\n",
      "DEBUG:root:dNN solution lenghth = 0\n",
      "DEBUG:root:MIS length = 0\n"
     ]
    },
    {
     "name": "stdout",
     "output_type": "stream",
     "text": [
      "ERROR:tensorflow:Calculated mis is not correct!\n"
     ]
    },
    {
     "name": "stderr",
     "output_type": "stream",
     "text": [
      "ERROR:tensorflow:Calculated mis is not correct!\n"
     ]
    },
    {
     "name": "stdout",
     "output_type": "stream",
     "text": [
      "ERROR:tensorflow:Can add more nodes!\n"
     ]
    },
    {
     "name": "stderr",
     "output_type": "stream",
     "text": [
      "ERROR:tensorflow:Can add more nodes!\n",
      "DEBUG:root:Checking community result is correct...\n"
     ]
    },
    {
     "name": "stdout",
     "output_type": "stream",
     "text": [
      "ERROR:tensorflow:Calculated mis is not correct!\n"
     ]
    },
    {
     "name": "stderr",
     "output_type": "stream",
     "text": [
      "ERROR:tensorflow:Calculated mis is not correct!\n"
     ]
    },
    {
     "name": "stdout",
     "output_type": "stream",
     "text": [
      "ERROR:tensorflow:Can add more nodes!\n"
     ]
    },
    {
     "name": "stderr",
     "output_type": "stream",
     "text": [
      "ERROR:tensorflow:Can add more nodes!\n",
      "DEBUG:root:Total nodes in MIS=set()\n"
     ]
    },
    {
     "name": "stdout",
     "output_type": "stream",
     "text": [
      "ERROR:tensorflow:Calculated mis is not correct!\n"
     ]
    },
    {
     "name": "stderr",
     "output_type": "stream",
     "text": [
      "ERROR:tensorflow:Calculated mis is not correct!\n"
     ]
    },
    {
     "name": "stdout",
     "output_type": "stream",
     "text": [
      "ERROR:tensorflow:Can add more nodes!\n"
     ]
    },
    {
     "name": "stderr",
     "output_type": "stream",
     "text": [
      "ERROR:tensorflow:Can add more nodes!\n",
      "INFO:root:Total MIS length found = 0\n",
      "DEBUG:root:\n",
      "INFO:root:Processing graph 5...\n",
      "DEBUG:root:Calculating G with nodes = 200 edges = 8071\n",
      "DEBUG:root:Build network on graph G:Graph with 200 nodes and 8071 edges.\n",
      "DEBUG:root:Solver stuck\n",
      "DEBUG:root:dNN solution is not correct\n",
      "DEBUG:root:Can add more nodes to IS\n",
      "DEBUG:root:Total epochs = 149\n",
      "DEBUG:root:dNN solution lenghth = 0\n",
      "DEBUG:root:MIS length = 0\n"
     ]
    },
    {
     "name": "stdout",
     "output_type": "stream",
     "text": [
      "ERROR:tensorflow:Calculated mis is not correct!\n"
     ]
    },
    {
     "name": "stderr",
     "output_type": "stream",
     "text": [
      "ERROR:tensorflow:Calculated mis is not correct!\n"
     ]
    },
    {
     "name": "stdout",
     "output_type": "stream",
     "text": [
      "ERROR:tensorflow:Can add more nodes!\n"
     ]
    },
    {
     "name": "stderr",
     "output_type": "stream",
     "text": [
      "ERROR:tensorflow:Can add more nodes!\n",
      "DEBUG:root:Checking community result is correct...\n"
     ]
    },
    {
     "name": "stdout",
     "output_type": "stream",
     "text": [
      "ERROR:tensorflow:Calculated mis is not correct!\n"
     ]
    },
    {
     "name": "stderr",
     "output_type": "stream",
     "text": [
      "ERROR:tensorflow:Calculated mis is not correct!\n"
     ]
    },
    {
     "name": "stdout",
     "output_type": "stream",
     "text": [
      "ERROR:tensorflow:Can add more nodes!\n"
     ]
    },
    {
     "name": "stderr",
     "output_type": "stream",
     "text": [
      "ERROR:tensorflow:Can add more nodes!\n",
      "DEBUG:root:Total nodes in MIS=set()\n"
     ]
    },
    {
     "name": "stdout",
     "output_type": "stream",
     "text": [
      "ERROR:tensorflow:Calculated mis is not correct!\n"
     ]
    },
    {
     "name": "stderr",
     "output_type": "stream",
     "text": [
      "ERROR:tensorflow:Calculated mis is not correct!\n"
     ]
    },
    {
     "name": "stdout",
     "output_type": "stream",
     "text": [
      "ERROR:tensorflow:Can add more nodes!\n"
     ]
    },
    {
     "name": "stderr",
     "output_type": "stream",
     "text": [
      "ERROR:tensorflow:Can add more nodes!\n",
      "INFO:root:Total MIS length found = 0\n",
      "DEBUG:root:\n",
      "INFO:root:Processing graph 6...\n",
      "DEBUG:root:Calculating G with nodes = 200 edges = 8107\n",
      "DEBUG:root:Build network on graph G:Graph with 200 nodes and 8107 edges.\n",
      "DEBUG:root:Solver stuck\n",
      "DEBUG:root:dNN solution is not correct\n",
      "DEBUG:root:Can add more nodes to IS\n",
      "DEBUG:root:Total epochs = 148\n",
      "DEBUG:root:dNN solution lenghth = 0\n",
      "DEBUG:root:MIS length = 0\n"
     ]
    },
    {
     "name": "stdout",
     "output_type": "stream",
     "text": [
      "ERROR:tensorflow:Calculated mis is not correct!\n"
     ]
    },
    {
     "name": "stderr",
     "output_type": "stream",
     "text": [
      "ERROR:tensorflow:Calculated mis is not correct!\n"
     ]
    },
    {
     "name": "stdout",
     "output_type": "stream",
     "text": [
      "ERROR:tensorflow:Can add more nodes!\n"
     ]
    },
    {
     "name": "stderr",
     "output_type": "stream",
     "text": [
      "ERROR:tensorflow:Can add more nodes!\n",
      "DEBUG:root:Checking community result is correct...\n"
     ]
    },
    {
     "name": "stdout",
     "output_type": "stream",
     "text": [
      "ERROR:tensorflow:Calculated mis is not correct!\n"
     ]
    },
    {
     "name": "stderr",
     "output_type": "stream",
     "text": [
      "ERROR:tensorflow:Calculated mis is not correct!\n"
     ]
    },
    {
     "name": "stdout",
     "output_type": "stream",
     "text": [
      "ERROR:tensorflow:Can add more nodes!\n"
     ]
    },
    {
     "name": "stderr",
     "output_type": "stream",
     "text": [
      "ERROR:tensorflow:Can add more nodes!\n",
      "DEBUG:root:Total nodes in MIS=set()\n"
     ]
    },
    {
     "name": "stdout",
     "output_type": "stream",
     "text": [
      "ERROR:tensorflow:Calculated mis is not correct!\n"
     ]
    },
    {
     "name": "stderr",
     "output_type": "stream",
     "text": [
      "ERROR:tensorflow:Calculated mis is not correct!\n"
     ]
    },
    {
     "name": "stdout",
     "output_type": "stream",
     "text": [
      "ERROR:tensorflow:Can add more nodes!\n"
     ]
    },
    {
     "name": "stderr",
     "output_type": "stream",
     "text": [
      "ERROR:tensorflow:Can add more nodes!\n",
      "INFO:root:Total MIS length found = 0\n",
      "DEBUG:root:\n",
      "INFO:root:Processing graph 7...\n",
      "DEBUG:root:Calculating G with nodes = 200 edges = 8082\n",
      "DEBUG:root:Build network on graph G:Graph with 200 nodes and 8082 edges.\n",
      "DEBUG:root:Solver stuck\n",
      "DEBUG:root:dNN solution is not correct\n",
      "DEBUG:root:Can add more nodes to IS\n",
      "DEBUG:root:Total epochs = 151\n",
      "DEBUG:root:dNN solution lenghth = 0\n",
      "DEBUG:root:MIS length = 0\n"
     ]
    },
    {
     "name": "stdout",
     "output_type": "stream",
     "text": [
      "ERROR:tensorflow:Calculated mis is not correct!\n"
     ]
    },
    {
     "name": "stderr",
     "output_type": "stream",
     "text": [
      "ERROR:tensorflow:Calculated mis is not correct!\n"
     ]
    },
    {
     "name": "stdout",
     "output_type": "stream",
     "text": [
      "ERROR:tensorflow:Can add more nodes!\n"
     ]
    },
    {
     "name": "stderr",
     "output_type": "stream",
     "text": [
      "ERROR:tensorflow:Can add more nodes!\n",
      "DEBUG:root:Checking community result is correct...\n"
     ]
    },
    {
     "name": "stdout",
     "output_type": "stream",
     "text": [
      "ERROR:tensorflow:Calculated mis is not correct!\n"
     ]
    },
    {
     "name": "stderr",
     "output_type": "stream",
     "text": [
      "ERROR:tensorflow:Calculated mis is not correct!\n"
     ]
    },
    {
     "name": "stdout",
     "output_type": "stream",
     "text": [
      "ERROR:tensorflow:Can add more nodes!\n"
     ]
    },
    {
     "name": "stderr",
     "output_type": "stream",
     "text": [
      "ERROR:tensorflow:Can add more nodes!\n",
      "DEBUG:root:Total nodes in MIS=set()\n"
     ]
    },
    {
     "name": "stdout",
     "output_type": "stream",
     "text": [
      "ERROR:tensorflow:Calculated mis is not correct!\n"
     ]
    },
    {
     "name": "stderr",
     "output_type": "stream",
     "text": [
      "ERROR:tensorflow:Calculated mis is not correct!\n"
     ]
    },
    {
     "name": "stdout",
     "output_type": "stream",
     "text": [
      "ERROR:tensorflow:Can add more nodes!\n"
     ]
    },
    {
     "name": "stderr",
     "output_type": "stream",
     "text": [
      "ERROR:tensorflow:Can add more nodes!\n",
      "INFO:root:Total MIS length found = 0\n",
      "DEBUG:root:\n",
      "INFO:root:Processing graph 8...\n",
      "DEBUG:root:Calculating G with nodes = 200 edges = 8088\n",
      "DEBUG:root:Build network on graph G:Graph with 200 nodes and 8088 edges.\n",
      "DEBUG:root:Solver stuck\n",
      "DEBUG:root:dNN solution is not correct\n",
      "DEBUG:root:Can add more nodes to IS\n",
      "DEBUG:root:Total epochs = 146\n",
      "DEBUG:root:dNN solution lenghth = 0\n",
      "DEBUG:root:MIS length = 0\n"
     ]
    },
    {
     "name": "stdout",
     "output_type": "stream",
     "text": [
      "ERROR:tensorflow:Calculated mis is not correct!\n"
     ]
    },
    {
     "name": "stderr",
     "output_type": "stream",
     "text": [
      "ERROR:tensorflow:Calculated mis is not correct!\n"
     ]
    },
    {
     "name": "stdout",
     "output_type": "stream",
     "text": [
      "ERROR:tensorflow:Can add more nodes!\n"
     ]
    },
    {
     "name": "stderr",
     "output_type": "stream",
     "text": [
      "ERROR:tensorflow:Can add more nodes!\n",
      "DEBUG:root:Checking community result is correct...\n"
     ]
    },
    {
     "name": "stdout",
     "output_type": "stream",
     "text": [
      "ERROR:tensorflow:Calculated mis is not correct!\n"
     ]
    },
    {
     "name": "stderr",
     "output_type": "stream",
     "text": [
      "ERROR:tensorflow:Calculated mis is not correct!\n"
     ]
    },
    {
     "name": "stdout",
     "output_type": "stream",
     "text": [
      "ERROR:tensorflow:Can add more nodes!\n"
     ]
    },
    {
     "name": "stderr",
     "output_type": "stream",
     "text": [
      "ERROR:tensorflow:Can add more nodes!\n",
      "DEBUG:root:Total nodes in MIS=set()\n"
     ]
    },
    {
     "name": "stdout",
     "output_type": "stream",
     "text": [
      "ERROR:tensorflow:Calculated mis is not correct!\n"
     ]
    },
    {
     "name": "stderr",
     "output_type": "stream",
     "text": [
      "ERROR:tensorflow:Calculated mis is not correct!\n"
     ]
    },
    {
     "name": "stdout",
     "output_type": "stream",
     "text": [
      "ERROR:tensorflow:Can add more nodes!\n"
     ]
    },
    {
     "name": "stderr",
     "output_type": "stream",
     "text": [
      "ERROR:tensorflow:Can add more nodes!\n",
      "INFO:root:Total MIS length found = 0\n",
      "DEBUG:root:\n",
      "INFO:root:Processing graph 9...\n",
      "DEBUG:root:Calculating G with nodes = 200 edges = 8084\n",
      "DEBUG:root:Build network on graph G:Graph with 200 nodes and 8084 edges.\n",
      "DEBUG:root:Solver stuck\n",
      "DEBUG:root:dNN solution is not correct\n",
      "DEBUG:root:Can add more nodes to IS\n",
      "DEBUG:root:Total epochs = 150\n",
      "DEBUG:root:dNN solution lenghth = 0\n",
      "DEBUG:root:MIS length = 0\n"
     ]
    },
    {
     "name": "stdout",
     "output_type": "stream",
     "text": [
      "ERROR:tensorflow:Calculated mis is not correct!\n"
     ]
    },
    {
     "name": "stderr",
     "output_type": "stream",
     "text": [
      "ERROR:tensorflow:Calculated mis is not correct!\n"
     ]
    },
    {
     "name": "stdout",
     "output_type": "stream",
     "text": [
      "ERROR:tensorflow:Can add more nodes!\n"
     ]
    },
    {
     "name": "stderr",
     "output_type": "stream",
     "text": [
      "ERROR:tensorflow:Can add more nodes!\n",
      "DEBUG:root:Checking community result is correct...\n"
     ]
    },
    {
     "name": "stdout",
     "output_type": "stream",
     "text": [
      "ERROR:tensorflow:Calculated mis is not correct!\n"
     ]
    },
    {
     "name": "stderr",
     "output_type": "stream",
     "text": [
      "ERROR:tensorflow:Calculated mis is not correct!\n"
     ]
    },
    {
     "name": "stdout",
     "output_type": "stream",
     "text": [
      "ERROR:tensorflow:Can add more nodes!\n"
     ]
    },
    {
     "name": "stderr",
     "output_type": "stream",
     "text": [
      "ERROR:tensorflow:Can add more nodes!\n",
      "DEBUG:root:Total nodes in MIS=set()\n"
     ]
    },
    {
     "name": "stdout",
     "output_type": "stream",
     "text": [
      "ERROR:tensorflow:Calculated mis is not correct!\n"
     ]
    },
    {
     "name": "stderr",
     "output_type": "stream",
     "text": [
      "ERROR:tensorflow:Calculated mis is not correct!\n"
     ]
    },
    {
     "name": "stdout",
     "output_type": "stream",
     "text": [
      "ERROR:tensorflow:Can add more nodes!\n"
     ]
    },
    {
     "name": "stderr",
     "output_type": "stream",
     "text": [
      "ERROR:tensorflow:Can add more nodes!\n",
      "INFO:root:Total MIS length found = 0\n",
      "DEBUG:root:\n"
     ]
    },
    {
     "name": "stdout",
     "output_type": "stream",
     "text": [
      "Average edges count = 8092.5\n",
      "Average dNN result = 0.0\n"
     ]
    }
   ],
   "source": [
    "test_network_on_graphs(networks)"
   ]
  },
  {
   "cell_type": "code",
   "execution_count": 239,
   "id": "ddeca227",
   "metadata": {},
   "outputs": [],
   "source": [
    "def reindex_graph(G):\n",
    "    correct_G = nx.Graph()\n",
    "    nodes = dict()\n",
    "    index = 0\n",
    "    for node in G.nodes():\n",
    "        nodes[node] =index\n",
    "        correct_G.add_node(index)\n",
    "        index+=1\n",
    "    for (u,v) in G.edges():\n",
    "        u_c = nodes[u]\n",
    "        v_c = nodes[v]\n",
    "        correct_G.add_edge(v_c,u_c)\n",
    "    correct_G.remove_edges_from(nx.selfloop_edges(correct_G))\n",
    "    return correct_G"
   ]
  },
  {
   "cell_type": "code",
   "execution_count": 240,
   "id": "f668a78e",
   "metadata": {},
   "outputs": [],
   "source": [
    "def return_wiki_vote_G():\n",
    "    wiki_vote_G = read_G_from_file('datasets/Wiki-Vote.txt')\n",
    "    G = wiki_vote_G\n",
    "    return reindex_graph(G)"
   ]
  },
  {
   "cell_type": "code",
   "execution_count": 250,
   "id": "79f9ff07",
   "metadata": {},
   "outputs": [
    {
     "name": "stdout",
     "output_type": "stream",
     "text": [
      "Graph with 7115 nodes and 100762 edges\n"
     ]
    }
   ],
   "source": [
    "wiki_vote = return_wiki_vote_G()\n",
    "print(wiki_vote)"
   ]
  },
  {
   "cell_type": "code",
   "execution_count": 251,
   "id": "412a9e66",
   "metadata": {},
   "outputs": [
    {
     "name": "stderr",
     "output_type": "stream",
     "text": [
      "DEBUG:root:Calculating G with nodes = 7115 edges = 100762\n",
      "DEBUG:root:Build network on graph G:Graph with 7115 nodes and 100762 edges.\n",
      "DEBUG:root:Solver stuck\n",
      "DEBUG:root:dNN solution is not correct\n",
      "DEBUG:root:Can add more nodes to IS\n",
      "DEBUG:root:Total epochs = 137\n",
      "DEBUG:root:dNN solution lenghth = 0\n",
      "DEBUG:root:MIS length = 0\n"
     ]
    },
    {
     "name": "stdout",
     "output_type": "stream",
     "text": [
      "ERROR:tensorflow:Calculated mis is not correct!\n"
     ]
    },
    {
     "name": "stderr",
     "output_type": "stream",
     "text": [
      "ERROR:tensorflow:Calculated mis is not correct!\n"
     ]
    },
    {
     "name": "stdout",
     "output_type": "stream",
     "text": [
      "ERROR:tensorflow:Can add more nodes!\n"
     ]
    },
    {
     "name": "stderr",
     "output_type": "stream",
     "text": [
      "ERROR:tensorflow:Can add more nodes!\n",
      "DEBUG:root:Checking community result is correct...\n"
     ]
    },
    {
     "name": "stdout",
     "output_type": "stream",
     "text": [
      "ERROR:tensorflow:Calculated mis is not correct!\n"
     ]
    },
    {
     "name": "stderr",
     "output_type": "stream",
     "text": [
      "ERROR:tensorflow:Calculated mis is not correct!\n"
     ]
    },
    {
     "name": "stdout",
     "output_type": "stream",
     "text": [
      "ERROR:tensorflow:Can add more nodes!\n"
     ]
    },
    {
     "name": "stderr",
     "output_type": "stream",
     "text": [
      "ERROR:tensorflow:Can add more nodes!\n",
      "DEBUG:root:Total nodes in MIS=set()\n"
     ]
    },
    {
     "name": "stdout",
     "output_type": "stream",
     "text": [
      "ERROR:tensorflow:Calculated mis is not correct!\n"
     ]
    },
    {
     "name": "stderr",
     "output_type": "stream",
     "text": [
      "ERROR:tensorflow:Calculated mis is not correct!\n"
     ]
    },
    {
     "name": "stdout",
     "output_type": "stream",
     "text": [
      "ERROR:tensorflow:Can add more nodes!\n"
     ]
    },
    {
     "name": "stderr",
     "output_type": "stream",
     "text": [
      "ERROR:tensorflow:Can add more nodes!\n"
     ]
    },
    {
     "name": "stdout",
     "output_type": "stream",
     "text": [
      "0\n"
     ]
    }
   ],
   "source": [
    "MIS = calculate_large_G(wiki_vote)\n",
    "print(len(MIS))"
   ]
  },
  {
   "cell_type": "code",
   "execution_count": 235,
   "id": "c041b7a9",
   "metadata": {},
   "outputs": [],
   "source": [
    "write_G_to_file_in_metis_format(wiki_vote, \"datasets/wiki.metis\")"
   ]
  },
  {
   "cell_type": "code",
   "execution_count": 244,
   "id": "d4fa957c",
   "metadata": {},
   "outputs": [],
   "source": [
    "G_init=read_G_from_file('datasets/c1000_9/C1000-9.mtx')\n",
    "G = reindex_graph(nx.complement(G_init))\n",
    "write_G_to_file_in_metis_format(G, \"datasets/c1000_9/C1000-9_compl.metis\")"
   ]
  },
  {
   "cell_type": "code",
   "execution_count": 245,
   "id": "d9cfcac4",
   "metadata": {},
   "outputs": [
    {
     "name": "stdout",
     "output_type": "stream",
     "text": [
      "Graph with 1000 nodes and 450079 edges\n",
      "Graph with 1000 nodes and 49421 edges\n"
     ]
    }
   ],
   "source": [
    "print(G_init)\n",
    "print(G)"
   ]
  },
  {
   "cell_type": "code",
   "execution_count": 246,
   "id": "20b6b375",
   "metadata": {},
   "outputs": [
    {
     "name": "stderr",
     "output_type": "stream",
     "text": [
      "DEBUG:root:Calculating G with nodes = 1000 edges = 49421\n",
      "DEBUG:root:Build network on graph G:Graph with 1000 nodes and 49421 edges.\n",
      "DEBUG:root:Solver stuck\n",
      "DEBUG:root:dNN solution is not correct\n",
      "DEBUG:root:Can add more nodes to IS\n",
      "DEBUG:root:Total epochs = 1\n",
      "DEBUG:root:dNN solution lenghth = 0\n",
      "DEBUG:root:MIS length = 0\n"
     ]
    },
    {
     "name": "stdout",
     "output_type": "stream",
     "text": [
      "ERROR:tensorflow:Calculated mis is not correct!\n"
     ]
    },
    {
     "name": "stderr",
     "output_type": "stream",
     "text": [
      "ERROR:tensorflow:Calculated mis is not correct!\n"
     ]
    },
    {
     "name": "stdout",
     "output_type": "stream",
     "text": [
      "ERROR:tensorflow:Can add more nodes!\n"
     ]
    },
    {
     "name": "stderr",
     "output_type": "stream",
     "text": [
      "ERROR:tensorflow:Can add more nodes!\n",
      "DEBUG:root:Checking community result is correct...\n"
     ]
    },
    {
     "name": "stdout",
     "output_type": "stream",
     "text": [
      "ERROR:tensorflow:Calculated mis is not correct!\n"
     ]
    },
    {
     "name": "stderr",
     "output_type": "stream",
     "text": [
      "ERROR:tensorflow:Calculated mis is not correct!\n"
     ]
    },
    {
     "name": "stdout",
     "output_type": "stream",
     "text": [
      "ERROR:tensorflow:Can add more nodes!\n"
     ]
    },
    {
     "name": "stderr",
     "output_type": "stream",
     "text": [
      "ERROR:tensorflow:Can add more nodes!\n",
      "DEBUG:root:Total nodes in MIS=set()\n"
     ]
    },
    {
     "name": "stdout",
     "output_type": "stream",
     "text": [
      "ERROR:tensorflow:Calculated mis is not correct!\n"
     ]
    },
    {
     "name": "stderr",
     "output_type": "stream",
     "text": [
      "ERROR:tensorflow:Calculated mis is not correct!\n"
     ]
    },
    {
     "name": "stdout",
     "output_type": "stream",
     "text": [
      "ERROR:tensorflow:Can add more nodes!\n"
     ]
    },
    {
     "name": "stderr",
     "output_type": "stream",
     "text": [
      "ERROR:tensorflow:Can add more nodes!\n"
     ]
    },
    {
     "name": "stdout",
     "output_type": "stream",
     "text": [
      "0\n"
     ]
    }
   ],
   "source": [
    "MIS = calculate_large_G(G)\n",
    "print(len(MIS))"
   ]
  },
  {
   "cell_type": "code",
   "execution_count": 247,
   "id": "93648ab5",
   "metadata": {},
   "outputs": [],
   "source": [
    "G_init=read_G_from_file('datasets/c125-9/C125-9.mtx')\n",
    "G = reindex_graph(nx.complement(G_init))"
   ]
  },
  {
   "cell_type": "code",
   "execution_count": 248,
   "id": "cddadda0",
   "metadata": {},
   "outputs": [
    {
     "name": "stdout",
     "output_type": "stream",
     "text": [
      "Graph with 125 nodes and 6963 edges\n",
      "Graph with 125 nodes and 787 edges\n"
     ]
    }
   ],
   "source": [
    "print(G_init)\n",
    "print(G)"
   ]
  },
  {
   "cell_type": "code",
   "execution_count": 249,
   "id": "955eb4d9",
   "metadata": {},
   "outputs": [
    {
     "name": "stderr",
     "output_type": "stream",
     "text": [
      "DEBUG:root:Calculating G with nodes = 125 edges = 787\n",
      "DEBUG:root:Build network on graph G:Graph with 125 nodes and 787 edges.\n",
      "DEBUG:root:Solver stuck\n",
      "DEBUG:root:dNN solution is not correct\n",
      "DEBUG:root:Can add more nodes to IS\n",
      "DEBUG:root:Total epochs = 136\n",
      "DEBUG:root:dNN solution lenghth = 0\n",
      "DEBUG:root:MIS length = 0\n"
     ]
    },
    {
     "name": "stdout",
     "output_type": "stream",
     "text": [
      "ERROR:tensorflow:Calculated mis is not correct!\n"
     ]
    },
    {
     "name": "stderr",
     "output_type": "stream",
     "text": [
      "ERROR:tensorflow:Calculated mis is not correct!\n"
     ]
    },
    {
     "name": "stdout",
     "output_type": "stream",
     "text": [
      "ERROR:tensorflow:Can add more nodes!\n"
     ]
    },
    {
     "name": "stderr",
     "output_type": "stream",
     "text": [
      "ERROR:tensorflow:Can add more nodes!\n",
      "DEBUG:root:Checking community result is correct...\n"
     ]
    },
    {
     "name": "stdout",
     "output_type": "stream",
     "text": [
      "ERROR:tensorflow:Calculated mis is not correct!\n"
     ]
    },
    {
     "name": "stderr",
     "output_type": "stream",
     "text": [
      "ERROR:tensorflow:Calculated mis is not correct!\n"
     ]
    },
    {
     "name": "stdout",
     "output_type": "stream",
     "text": [
      "ERROR:tensorflow:Can add more nodes!\n"
     ]
    },
    {
     "name": "stderr",
     "output_type": "stream",
     "text": [
      "ERROR:tensorflow:Can add more nodes!\n",
      "DEBUG:root:Total nodes in MIS=set()\n"
     ]
    },
    {
     "name": "stdout",
     "output_type": "stream",
     "text": [
      "ERROR:tensorflow:Calculated mis is not correct!\n"
     ]
    },
    {
     "name": "stderr",
     "output_type": "stream",
     "text": [
      "ERROR:tensorflow:Calculated mis is not correct!\n"
     ]
    },
    {
     "name": "stdout",
     "output_type": "stream",
     "text": [
      "ERROR:tensorflow:Can add more nodes!\n"
     ]
    },
    {
     "name": "stderr",
     "output_type": "stream",
     "text": [
      "ERROR:tensorflow:Can add more nodes!\n"
     ]
    },
    {
     "name": "stdout",
     "output_type": "stream",
     "text": [
      "0\n"
     ]
    }
   ],
   "source": [
    "MIS = calculate_large_G(G)\n",
    "print(len(MIS))"
   ]
  },
  {
   "cell_type": "code",
   "execution_count": 169,
   "id": "0361e0cd",
   "metadata": {},
   "outputs": [],
   "source": [
    "write_G_to_file_in_metis_format(G, \"datasets/c125-9/C125-9_compl.metis\")"
   ]
  },
  {
   "cell_type": "code",
   "execution_count": null,
   "id": "d13285d3",
   "metadata": {},
   "outputs": [],
   "source": []
  }
 ],
 "metadata": {
  "kernelspec": {
   "display_name": "Python 3 (ipykernel)",
   "language": "python",
   "name": "python3"
  },
  "language_info": {
   "codemirror_mode": {
    "name": "ipython",
    "version": 3
   },
   "file_extension": ".py",
   "mimetype": "text/x-python",
   "name": "python",
   "nbconvert_exporter": "python",
   "pygments_lexer": "ipython3",
   "version": "3.10.6"
  }
 },
 "nbformat": 4,
 "nbformat_minor": 5
}
